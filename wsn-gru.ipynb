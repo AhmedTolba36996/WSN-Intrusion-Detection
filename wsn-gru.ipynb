{
 "cells": [
  {
   "cell_type": "code",
   "execution_count": 1,
   "id": "beb2387d",
   "metadata": {
    "_cell_guid": "b1076dfc-b9ad-4769-8c92-a6c4dae69d19",
    "_uuid": "8f2839f25d086af736a60e9eeb907d3b93b6e0e5",
    "execution": {
     "iopub.execute_input": "2023-02-28T13:15:47.196731Z",
     "iopub.status.busy": "2023-02-28T13:15:47.196187Z",
     "iopub.status.idle": "2023-02-28T13:15:55.378946Z",
     "shell.execute_reply": "2023-02-28T13:15:55.377830Z"
    },
    "papermill": {
     "duration": 8.194202,
     "end_time": "2023-02-28T13:15:55.381834",
     "exception": false,
     "start_time": "2023-02-28T13:15:47.187632",
     "status": "completed"
    },
    "tags": []
   },
   "outputs": [],
   "source": [
    "# importing required libraries\n",
    "import numpy as np\n",
    "import pandas as pd\n",
    "import pickle # saving and loading trained model\n",
    "from os import path\n",
    "\n",
    "# importing required libraries for normalizing data\n",
    "from sklearn import preprocessing\n",
    "\n",
    "from sklearn.preprocessing import (StandardScaler, OrdinalEncoder,LabelEncoder, MinMaxScaler, OneHotEncoder)\n",
    "from sklearn.preprocessing import Normalizer, MaxAbsScaler , RobustScaler, PowerTransformer\n",
    "\n",
    "# importing library for plotting\n",
    "import matplotlib.pyplot as plt\n",
    "import seaborn as sns\n",
    "\n",
    "from sklearn import metrics\n",
    "from sklearn.metrics import accuracy_score # for calculating accuracy of model\n",
    "from sklearn.model_selection import train_test_split # for splitting the dataset for training and testing\n",
    "from sklearn.metrics import classification_report # for generating a classification report of model\n",
    "\n",
    "from sklearn.metrics import precision_score\n",
    "from sklearn.metrics import recall_score\n",
    "from sklearn.metrics import f1_score\n",
    "\n",
    "from sklearn.metrics import roc_auc_score\n",
    "from sklearn.metrics import roc_curve, auc\n",
    "\n",
    "import tensorflow as tf\n",
    "from tensorflow.keras.utils import to_categorical\n",
    "\n",
    "from keras.layers import Dense, Conv1D, MaxPool1D, Flatten, Dropout , GRU # importing dense layer\n",
    "from keras.layers import Convolution1D, Dense, Dropout, Flatten, MaxPooling1D\n",
    "from keras.models import Sequential #importing Sequential layer\n",
    "from keras.layers import Input\n",
    "from keras.models import Model\n",
    "from tensorflow.keras import layers\n",
    "# representation of model layers\n",
    "from keras.utils.vis_utils import plot_model\n",
    "\n",
    "import itertools\n",
    "from itertools import cycle"
   ]
  },
  {
   "cell_type": "code",
   "execution_count": 2,
   "id": "4dc51649",
   "metadata": {
    "execution": {
     "iopub.execute_input": "2023-02-28T13:15:55.393987Z",
     "iopub.status.busy": "2023-02-28T13:15:55.393357Z",
     "iopub.status.idle": "2023-02-28T13:15:56.167668Z",
     "shell.execute_reply": "2023-02-28T13:15:56.166618Z"
    },
    "papermill": {
     "duration": 0.783408,
     "end_time": "2023-02-28T13:15:56.170636",
     "exception": false,
     "start_time": "2023-02-28T13:15:55.387228",
     "status": "completed"
    },
    "tags": []
   },
   "outputs": [],
   "source": [
    "data = pd.read_csv(\"/kaggle/input/wsnds/WSN-DS.csv\")"
   ]
  },
  {
   "cell_type": "code",
   "execution_count": 3,
   "id": "bc947c11",
   "metadata": {
    "execution": {
     "iopub.execute_input": "2023-02-28T13:15:56.182172Z",
     "iopub.status.busy": "2023-02-28T13:15:56.181855Z",
     "iopub.status.idle": "2023-02-28T13:15:56.203898Z",
     "shell.execute_reply": "2023-02-28T13:15:56.202821Z"
    },
    "papermill": {
     "duration": 0.031205,
     "end_time": "2023-02-28T13:15:56.207076",
     "exception": false,
     "start_time": "2023-02-28T13:15:56.175871",
     "status": "completed"
    },
    "tags": []
   },
   "outputs": [
    {
     "data": {
      "text/html": [
       "<div>\n",
       "<style scoped>\n",
       "    .dataframe tbody tr th:only-of-type {\n",
       "        vertical-align: middle;\n",
       "    }\n",
       "\n",
       "    .dataframe tbody tr th {\n",
       "        vertical-align: top;\n",
       "    }\n",
       "\n",
       "    .dataframe thead th {\n",
       "        text-align: right;\n",
       "    }\n",
       "</style>\n",
       "<table border=\"1\" class=\"dataframe\">\n",
       "  <thead>\n",
       "    <tr style=\"text-align: right;\">\n",
       "      <th></th>\n",
       "      <th>id</th>\n",
       "      <th>Time</th>\n",
       "      <th>Is_CH</th>\n",
       "      <th>who CH</th>\n",
       "      <th>Dist_To_CH</th>\n",
       "      <th>ADV_S</th>\n",
       "      <th>ADV_R</th>\n",
       "      <th>JOIN_S</th>\n",
       "      <th>JOIN_R</th>\n",
       "      <th>SCH_S</th>\n",
       "      <th>SCH_R</th>\n",
       "      <th>Rank</th>\n",
       "      <th>DATA_S</th>\n",
       "      <th>DATA_R</th>\n",
       "      <th>Data_Sent_To_BS</th>\n",
       "      <th>dist_CH_To_BS</th>\n",
       "      <th>send_code</th>\n",
       "      <th>Expaned Energy</th>\n",
       "      <th>Attack type</th>\n",
       "    </tr>\n",
       "  </thead>\n",
       "  <tbody>\n",
       "    <tr>\n",
       "      <th>0</th>\n",
       "      <td>101000</td>\n",
       "      <td>50</td>\n",
       "      <td>1</td>\n",
       "      <td>101000</td>\n",
       "      <td>0.00000</td>\n",
       "      <td>1</td>\n",
       "      <td>0</td>\n",
       "      <td>0</td>\n",
       "      <td>25</td>\n",
       "      <td>1</td>\n",
       "      <td>0</td>\n",
       "      <td>0</td>\n",
       "      <td>0</td>\n",
       "      <td>1200</td>\n",
       "      <td>48</td>\n",
       "      <td>130.08535</td>\n",
       "      <td>0</td>\n",
       "      <td>2.46940</td>\n",
       "      <td>Normal</td>\n",
       "    </tr>\n",
       "    <tr>\n",
       "      <th>1</th>\n",
       "      <td>101001</td>\n",
       "      <td>50</td>\n",
       "      <td>0</td>\n",
       "      <td>101044</td>\n",
       "      <td>75.32345</td>\n",
       "      <td>0</td>\n",
       "      <td>4</td>\n",
       "      <td>1</td>\n",
       "      <td>0</td>\n",
       "      <td>0</td>\n",
       "      <td>1</td>\n",
       "      <td>2</td>\n",
       "      <td>38</td>\n",
       "      <td>0</td>\n",
       "      <td>0</td>\n",
       "      <td>0.00000</td>\n",
       "      <td>4</td>\n",
       "      <td>0.06957</td>\n",
       "      <td>Normal</td>\n",
       "    </tr>\n",
       "    <tr>\n",
       "      <th>2</th>\n",
       "      <td>101002</td>\n",
       "      <td>50</td>\n",
       "      <td>0</td>\n",
       "      <td>101010</td>\n",
       "      <td>46.95453</td>\n",
       "      <td>0</td>\n",
       "      <td>4</td>\n",
       "      <td>1</td>\n",
       "      <td>0</td>\n",
       "      <td>0</td>\n",
       "      <td>1</td>\n",
       "      <td>19</td>\n",
       "      <td>41</td>\n",
       "      <td>0</td>\n",
       "      <td>0</td>\n",
       "      <td>0.00000</td>\n",
       "      <td>3</td>\n",
       "      <td>0.06898</td>\n",
       "      <td>Normal</td>\n",
       "    </tr>\n",
       "    <tr>\n",
       "      <th>3</th>\n",
       "      <td>101003</td>\n",
       "      <td>50</td>\n",
       "      <td>0</td>\n",
       "      <td>101044</td>\n",
       "      <td>64.85231</td>\n",
       "      <td>0</td>\n",
       "      <td>4</td>\n",
       "      <td>1</td>\n",
       "      <td>0</td>\n",
       "      <td>0</td>\n",
       "      <td>1</td>\n",
       "      <td>16</td>\n",
       "      <td>38</td>\n",
       "      <td>0</td>\n",
       "      <td>0</td>\n",
       "      <td>0.00000</td>\n",
       "      <td>4</td>\n",
       "      <td>0.06673</td>\n",
       "      <td>Normal</td>\n",
       "    </tr>\n",
       "    <tr>\n",
       "      <th>4</th>\n",
       "      <td>101004</td>\n",
       "      <td>50</td>\n",
       "      <td>0</td>\n",
       "      <td>101010</td>\n",
       "      <td>4.83341</td>\n",
       "      <td>0</td>\n",
       "      <td>4</td>\n",
       "      <td>1</td>\n",
       "      <td>0</td>\n",
       "      <td>0</td>\n",
       "      <td>1</td>\n",
       "      <td>25</td>\n",
       "      <td>41</td>\n",
       "      <td>0</td>\n",
       "      <td>0</td>\n",
       "      <td>0.00000</td>\n",
       "      <td>3</td>\n",
       "      <td>0.06534</td>\n",
       "      <td>Normal</td>\n",
       "    </tr>\n",
       "  </tbody>\n",
       "</table>\n",
       "</div>"
      ],
      "text/plain": [
       "       id   Time   Is_CH   who CH   Dist_To_CH   ADV_S   ADV_R   JOIN_S  \\\n",
       "0  101000     50       1   101000      0.00000       1       0        0   \n",
       "1  101001     50       0   101044     75.32345       0       4        1   \n",
       "2  101002     50       0   101010     46.95453       0       4        1   \n",
       "3  101003     50       0   101044     64.85231       0       4        1   \n",
       "4  101004     50       0   101010      4.83341       0       4        1   \n",
       "\n",
       "    JOIN_R   SCH_S   SCH_R  Rank   DATA_S   DATA_R   Data_Sent_To_BS  \\\n",
       "0       25       1       0     0        0     1200                48   \n",
       "1        0       0       1     2       38        0                 0   \n",
       "2        0       0       1    19       41        0                 0   \n",
       "3        0       0       1    16       38        0                 0   \n",
       "4        0       0       1    25       41        0                 0   \n",
       "\n",
       "    dist_CH_To_BS   send_code   Expaned Energy Attack type  \n",
       "0       130.08535            0         2.46940      Normal  \n",
       "1         0.00000            4         0.06957      Normal  \n",
       "2         0.00000            3         0.06898      Normal  \n",
       "3         0.00000            4         0.06673      Normal  \n",
       "4         0.00000            3         0.06534      Normal  "
      ]
     },
     "execution_count": 3,
     "metadata": {},
     "output_type": "execute_result"
    }
   ],
   "source": [
    "data.head()"
   ]
  },
  {
   "cell_type": "code",
   "execution_count": 4,
   "id": "ae557584",
   "metadata": {
    "execution": {
     "iopub.execute_input": "2023-02-28T13:15:56.218727Z",
     "iopub.status.busy": "2023-02-28T13:15:56.218447Z",
     "iopub.status.idle": "2023-02-28T13:15:56.224389Z",
     "shell.execute_reply": "2023-02-28T13:15:56.223422Z"
    },
    "papermill": {
     "duration": 0.01408,
     "end_time": "2023-02-28T13:15:56.226497",
     "exception": false,
     "start_time": "2023-02-28T13:15:56.212417",
     "status": "completed"
    },
    "tags": []
   },
   "outputs": [
    {
     "data": {
      "text/plain": [
       "(374661, 19)"
      ]
     },
     "execution_count": 4,
     "metadata": {},
     "output_type": "execute_result"
    }
   ],
   "source": [
    "data.shape"
   ]
  },
  {
   "cell_type": "code",
   "execution_count": 5,
   "id": "81c93f6b",
   "metadata": {
    "execution": {
     "iopub.execute_input": "2023-02-28T13:15:56.238441Z",
     "iopub.status.busy": "2023-02-28T13:15:56.238180Z",
     "iopub.status.idle": "2023-02-28T13:15:56.282749Z",
     "shell.execute_reply": "2023-02-28T13:15:56.281314Z"
    },
    "papermill": {
     "duration": 0.053133,
     "end_time": "2023-02-28T13:15:56.285041",
     "exception": false,
     "start_time": "2023-02-28T13:15:56.231908",
     "status": "completed"
    },
    "tags": []
   },
   "outputs": [
    {
     "name": "stdout",
     "output_type": "stream",
     "text": [
      "<class 'pandas.core.frame.DataFrame'>\n",
      "RangeIndex: 374661 entries, 0 to 374660\n",
      "Data columns (total 19 columns):\n",
      " #   Column            Non-Null Count   Dtype  \n",
      "---  ------            --------------   -----  \n",
      " 0    id               374661 non-null  int64  \n",
      " 1    Time             374661 non-null  int64  \n",
      " 2    Is_CH            374661 non-null  int64  \n",
      " 3    who CH           374661 non-null  int64  \n",
      " 4    Dist_To_CH       374661 non-null  float64\n",
      " 5    ADV_S            374661 non-null  int64  \n",
      " 6    ADV_R            374661 non-null  int64  \n",
      " 7    JOIN_S           374661 non-null  int64  \n",
      " 8    JOIN_R           374661 non-null  int64  \n",
      " 9    SCH_S            374661 non-null  int64  \n",
      " 10   SCH_R            374661 non-null  int64  \n",
      " 11  Rank              374661 non-null  int64  \n",
      " 12   DATA_S           374661 non-null  int64  \n",
      " 13   DATA_R           374661 non-null  int64  \n",
      " 14   Data_Sent_To_BS  374661 non-null  int64  \n",
      " 15   dist_CH_To_BS    374661 non-null  float64\n",
      " 16   send_code        374661 non-null  int64  \n",
      " 17  Expaned Energy    374661 non-null  float64\n",
      " 18  Attack type       374661 non-null  object \n",
      "dtypes: float64(3), int64(15), object(1)\n",
      "memory usage: 54.3+ MB\n"
     ]
    }
   ],
   "source": [
    "data.info()"
   ]
  },
  {
   "cell_type": "code",
   "execution_count": 6,
   "id": "5462d98d",
   "metadata": {
    "execution": {
     "iopub.execute_input": "2023-02-28T13:15:56.298791Z",
     "iopub.status.busy": "2023-02-28T13:15:56.297098Z",
     "iopub.status.idle": "2023-02-28T13:15:56.329536Z",
     "shell.execute_reply": "2023-02-28T13:15:56.328687Z"
    },
    "papermill": {
     "duration": 0.041051,
     "end_time": "2023-02-28T13:15:56.331752",
     "exception": false,
     "start_time": "2023-02-28T13:15:56.290701",
     "status": "completed"
    },
    "tags": []
   },
   "outputs": [
    {
     "data": {
      "text/plain": [
       "Normal       340066\n",
       "Grayhole      14596\n",
       "Blackhole     10049\n",
       "TDMA           6638\n",
       "Flooding       3312\n",
       "Name: Attack type, dtype: int64"
      ]
     },
     "execution_count": 6,
     "metadata": {},
     "output_type": "execute_result"
    }
   ],
   "source": [
    "data['Attack type'].value_counts()"
   ]
  },
  {
   "cell_type": "code",
   "execution_count": 7,
   "id": "cc14bc8b",
   "metadata": {
    "execution": {
     "iopub.execute_input": "2023-02-28T13:15:56.345672Z",
     "iopub.status.busy": "2023-02-28T13:15:56.344073Z",
     "iopub.status.idle": "2023-02-28T13:15:56.526439Z",
     "shell.execute_reply": "2023-02-28T13:15:56.525411Z"
    },
    "papermill": {
     "duration": 0.191255,
     "end_time": "2023-02-28T13:15:56.528645",
     "exception": false,
     "start_time": "2023-02-28T13:15:56.337390",
     "status": "completed"
    },
    "tags": []
   },
   "outputs": [
    {
     "data": {
      "text/html": [
       "<div>\n",
       "<style scoped>\n",
       "    .dataframe tbody tr th:only-of-type {\n",
       "        vertical-align: middle;\n",
       "    }\n",
       "\n",
       "    .dataframe tbody tr th {\n",
       "        vertical-align: top;\n",
       "    }\n",
       "\n",
       "    .dataframe thead th {\n",
       "        text-align: right;\n",
       "    }\n",
       "</style>\n",
       "<table border=\"1\" class=\"dataframe\">\n",
       "  <thead>\n",
       "    <tr style=\"text-align: right;\">\n",
       "      <th></th>\n",
       "      <th>count</th>\n",
       "      <th>mean</th>\n",
       "      <th>std</th>\n",
       "      <th>min</th>\n",
       "      <th>25%</th>\n",
       "      <th>50%</th>\n",
       "      <th>75%</th>\n",
       "      <th>max</th>\n",
       "    </tr>\n",
       "  </thead>\n",
       "  <tbody>\n",
       "    <tr>\n",
       "      <th>id</th>\n",
       "      <td>374661.0</td>\n",
       "      <td>274969.325879</td>\n",
       "      <td>389898.554898</td>\n",
       "      <td>101000.0</td>\n",
       "      <td>107093.00000</td>\n",
       "      <td>116071.00000</td>\n",
       "      <td>215072.00000</td>\n",
       "      <td>3.402096e+06</td>\n",
       "    </tr>\n",
       "    <tr>\n",
       "      <th>Time</th>\n",
       "      <td>374661.0</td>\n",
       "      <td>1064.748712</td>\n",
       "      <td>899.646164</td>\n",
       "      <td>50.0</td>\n",
       "      <td>353.00000</td>\n",
       "      <td>803.00000</td>\n",
       "      <td>1503.00000</td>\n",
       "      <td>3.600000e+03</td>\n",
       "    </tr>\n",
       "    <tr>\n",
       "      <th>Is_CH</th>\n",
       "      <td>374661.0</td>\n",
       "      <td>0.115766</td>\n",
       "      <td>0.319945</td>\n",
       "      <td>0.0</td>\n",
       "      <td>0.00000</td>\n",
       "      <td>0.00000</td>\n",
       "      <td>0.00000</td>\n",
       "      <td>1.000000e+00</td>\n",
       "    </tr>\n",
       "    <tr>\n",
       "      <th>who CH</th>\n",
       "      <td>374661.0</td>\n",
       "      <td>274980.411108</td>\n",
       "      <td>389911.221735</td>\n",
       "      <td>101000.0</td>\n",
       "      <td>107096.00000</td>\n",
       "      <td>116072.00000</td>\n",
       "      <td>215073.00000</td>\n",
       "      <td>3.402100e+06</td>\n",
       "    </tr>\n",
       "    <tr>\n",
       "      <th>Dist_To_CH</th>\n",
       "      <td>374661.0</td>\n",
       "      <td>22.599380</td>\n",
       "      <td>21.955794</td>\n",
       "      <td>0.0</td>\n",
       "      <td>4.73544</td>\n",
       "      <td>18.37261</td>\n",
       "      <td>33.77600</td>\n",
       "      <td>2.142746e+02</td>\n",
       "    </tr>\n",
       "    <tr>\n",
       "      <th>ADV_S</th>\n",
       "      <td>374661.0</td>\n",
       "      <td>0.267698</td>\n",
       "      <td>2.061148</td>\n",
       "      <td>0.0</td>\n",
       "      <td>0.00000</td>\n",
       "      <td>0.00000</td>\n",
       "      <td>0.00000</td>\n",
       "      <td>9.700000e+01</td>\n",
       "    </tr>\n",
       "    <tr>\n",
       "      <th>ADV_R</th>\n",
       "      <td>374661.0</td>\n",
       "      <td>6.940562</td>\n",
       "      <td>7.044319</td>\n",
       "      <td>0.0</td>\n",
       "      <td>3.00000</td>\n",
       "      <td>5.00000</td>\n",
       "      <td>7.00000</td>\n",
       "      <td>1.170000e+02</td>\n",
       "    </tr>\n",
       "    <tr>\n",
       "      <th>JOIN_S</th>\n",
       "      <td>374661.0</td>\n",
       "      <td>0.779905</td>\n",
       "      <td>0.414311</td>\n",
       "      <td>0.0</td>\n",
       "      <td>1.00000</td>\n",
       "      <td>1.00000</td>\n",
       "      <td>1.00000</td>\n",
       "      <td>1.000000e+00</td>\n",
       "    </tr>\n",
       "    <tr>\n",
       "      <th>JOIN_R</th>\n",
       "      <td>374661.0</td>\n",
       "      <td>0.737493</td>\n",
       "      <td>4.691498</td>\n",
       "      <td>0.0</td>\n",
       "      <td>0.00000</td>\n",
       "      <td>0.00000</td>\n",
       "      <td>0.00000</td>\n",
       "      <td>1.240000e+02</td>\n",
       "    </tr>\n",
       "    <tr>\n",
       "      <th>SCH_S</th>\n",
       "      <td>374661.0</td>\n",
       "      <td>0.288984</td>\n",
       "      <td>2.754746</td>\n",
       "      <td>0.0</td>\n",
       "      <td>0.00000</td>\n",
       "      <td>0.00000</td>\n",
       "      <td>0.00000</td>\n",
       "      <td>9.900000e+01</td>\n",
       "    </tr>\n",
       "    <tr>\n",
       "      <th>SCH_R</th>\n",
       "      <td>374661.0</td>\n",
       "      <td>0.747452</td>\n",
       "      <td>0.434475</td>\n",
       "      <td>0.0</td>\n",
       "      <td>0.00000</td>\n",
       "      <td>1.00000</td>\n",
       "      <td>1.00000</td>\n",
       "      <td>1.000000e+00</td>\n",
       "    </tr>\n",
       "    <tr>\n",
       "      <th>Rank</th>\n",
       "      <td>374661.0</td>\n",
       "      <td>9.687104</td>\n",
       "      <td>14.681901</td>\n",
       "      <td>0.0</td>\n",
       "      <td>1.00000</td>\n",
       "      <td>3.00000</td>\n",
       "      <td>13.00000</td>\n",
       "      <td>9.900000e+01</td>\n",
       "    </tr>\n",
       "    <tr>\n",
       "      <th>DATA_S</th>\n",
       "      <td>374661.0</td>\n",
       "      <td>44.857925</td>\n",
       "      <td>42.574464</td>\n",
       "      <td>0.0</td>\n",
       "      <td>13.00000</td>\n",
       "      <td>35.00000</td>\n",
       "      <td>62.00000</td>\n",
       "      <td>2.410000e+02</td>\n",
       "    </tr>\n",
       "    <tr>\n",
       "      <th>DATA_R</th>\n",
       "      <td>374661.0</td>\n",
       "      <td>73.890045</td>\n",
       "      <td>230.246335</td>\n",
       "      <td>0.0</td>\n",
       "      <td>0.00000</td>\n",
       "      <td>0.00000</td>\n",
       "      <td>0.00000</td>\n",
       "      <td>1.496000e+03</td>\n",
       "    </tr>\n",
       "    <tr>\n",
       "      <th>Data_Sent_To_BS</th>\n",
       "      <td>374661.0</td>\n",
       "      <td>4.569448</td>\n",
       "      <td>19.679155</td>\n",
       "      <td>0.0</td>\n",
       "      <td>0.00000</td>\n",
       "      <td>0.00000</td>\n",
       "      <td>0.00000</td>\n",
       "      <td>2.410000e+02</td>\n",
       "    </tr>\n",
       "    <tr>\n",
       "      <th>dist_CH_To_BS</th>\n",
       "      <td>374661.0</td>\n",
       "      <td>22.562735</td>\n",
       "      <td>50.261604</td>\n",
       "      <td>0.0</td>\n",
       "      <td>0.00000</td>\n",
       "      <td>0.00000</td>\n",
       "      <td>0.00000</td>\n",
       "      <td>2.019349e+02</td>\n",
       "    </tr>\n",
       "    <tr>\n",
       "      <th>send_code</th>\n",
       "      <td>374661.0</td>\n",
       "      <td>2.497957</td>\n",
       "      <td>2.407337</td>\n",
       "      <td>0.0</td>\n",
       "      <td>1.00000</td>\n",
       "      <td>2.00000</td>\n",
       "      <td>4.00000</td>\n",
       "      <td>1.500000e+01</td>\n",
       "    </tr>\n",
       "    <tr>\n",
       "      <th>Expaned Energy</th>\n",
       "      <td>374661.0</td>\n",
       "      <td>0.305661</td>\n",
       "      <td>0.669462</td>\n",
       "      <td>0.0</td>\n",
       "      <td>0.05615</td>\n",
       "      <td>0.09797</td>\n",
       "      <td>0.21776</td>\n",
       "      <td>4.509394e+01</td>\n",
       "    </tr>\n",
       "  </tbody>\n",
       "</table>\n",
       "</div>"
      ],
      "text/plain": [
       "                     count           mean            std       min  \\\n",
       " id               374661.0  274969.325879  389898.554898  101000.0   \n",
       " Time             374661.0    1064.748712     899.646164      50.0   \n",
       " Is_CH            374661.0       0.115766       0.319945       0.0   \n",
       " who CH           374661.0  274980.411108  389911.221735  101000.0   \n",
       " Dist_To_CH       374661.0      22.599380      21.955794       0.0   \n",
       " ADV_S            374661.0       0.267698       2.061148       0.0   \n",
       " ADV_R            374661.0       6.940562       7.044319       0.0   \n",
       " JOIN_S           374661.0       0.779905       0.414311       0.0   \n",
       " JOIN_R           374661.0       0.737493       4.691498       0.0   \n",
       " SCH_S            374661.0       0.288984       2.754746       0.0   \n",
       " SCH_R            374661.0       0.747452       0.434475       0.0   \n",
       "Rank              374661.0       9.687104      14.681901       0.0   \n",
       " DATA_S           374661.0      44.857925      42.574464       0.0   \n",
       " DATA_R           374661.0      73.890045     230.246335       0.0   \n",
       " Data_Sent_To_BS  374661.0       4.569448      19.679155       0.0   \n",
       " dist_CH_To_BS    374661.0      22.562735      50.261604       0.0   \n",
       " send_code        374661.0       2.497957       2.407337       0.0   \n",
       "Expaned Energy    374661.0       0.305661       0.669462       0.0   \n",
       "\n",
       "                           25%           50%           75%           max  \n",
       " id               107093.00000  116071.00000  215072.00000  3.402096e+06  \n",
       " Time                353.00000     803.00000    1503.00000  3.600000e+03  \n",
       " Is_CH                 0.00000       0.00000       0.00000  1.000000e+00  \n",
       " who CH           107096.00000  116072.00000  215073.00000  3.402100e+06  \n",
       " Dist_To_CH            4.73544      18.37261      33.77600  2.142746e+02  \n",
       " ADV_S                 0.00000       0.00000       0.00000  9.700000e+01  \n",
       " ADV_R                 3.00000       5.00000       7.00000  1.170000e+02  \n",
       " JOIN_S                1.00000       1.00000       1.00000  1.000000e+00  \n",
       " JOIN_R                0.00000       0.00000       0.00000  1.240000e+02  \n",
       " SCH_S                 0.00000       0.00000       0.00000  9.900000e+01  \n",
       " SCH_R                 0.00000       1.00000       1.00000  1.000000e+00  \n",
       "Rank                   1.00000       3.00000      13.00000  9.900000e+01  \n",
       " DATA_S               13.00000      35.00000      62.00000  2.410000e+02  \n",
       " DATA_R                0.00000       0.00000       0.00000  1.496000e+03  \n",
       " Data_Sent_To_BS       0.00000       0.00000       0.00000  2.410000e+02  \n",
       " dist_CH_To_BS         0.00000       0.00000       0.00000  2.019349e+02  \n",
       " send_code             1.00000       2.00000       4.00000  1.500000e+01  \n",
       "Expaned Energy         0.05615       0.09797       0.21776  4.509394e+01  "
      ]
     },
     "execution_count": 7,
     "metadata": {},
     "output_type": "execute_result"
    }
   ],
   "source": [
    "data.describe().T"
   ]
  },
  {
   "cell_type": "code",
   "execution_count": 8,
   "id": "31ddef15",
   "metadata": {
    "execution": {
     "iopub.execute_input": "2023-02-28T13:15:56.543134Z",
     "iopub.status.busy": "2023-02-28T13:15:56.542492Z",
     "iopub.status.idle": "2023-02-28T13:15:56.718900Z",
     "shell.execute_reply": "2023-02-28T13:15:56.717453Z"
    },
    "papermill": {
     "duration": 0.186826,
     "end_time": "2023-02-28T13:15:56.721999",
     "exception": false,
     "start_time": "2023-02-28T13:15:56.535173",
     "status": "completed"
    },
    "tags": []
   },
   "outputs": [],
   "source": [
    "# using standard scaler for normalizing\n",
    "std_scaler = StandardScaler()\n",
    "def standardization(df,col):\n",
    "  for i in col:\n",
    "    arr = df[i]\n",
    "    arr = np.array(arr)\n",
    "    df[i] = std_scaler.fit_transform(arr.reshape(len(arr),1))\n",
    "  return df\n",
    "\n",
    "numeric_col = data.select_dtypes(include='number').columns\n",
    "data = standardization(data,numeric_col)"
   ]
  },
  {
   "cell_type": "code",
   "execution_count": 9,
   "id": "14d50ddf",
   "metadata": {
    "execution": {
     "iopub.execute_input": "2023-02-28T13:15:56.736107Z",
     "iopub.status.busy": "2023-02-28T13:15:56.735526Z",
     "iopub.status.idle": "2023-02-28T13:15:56.760299Z",
     "shell.execute_reply": "2023-02-28T13:15:56.759321Z"
    },
    "papermill": {
     "duration": 0.033926,
     "end_time": "2023-02-28T13:15:56.762417",
     "exception": false,
     "start_time": "2023-02-28T13:15:56.728491",
     "status": "completed"
    },
    "tags": []
   },
   "outputs": [],
   "source": [
    "# label encoding (0,1,2,3,4) m.applylti-class labels (Normal,Grayhole,Blackhole,TDMA,Flooding)\n",
    "    \n",
    "classes = {'Normal':0 ,'Grayhole':1,'Blackhole':2,'TDMA':3,'Flooding':4}\n",
    "\n",
    "data['Attack type'] = data['Attack type'].map( classes ).astype(int)\n"
   ]
  },
  {
   "cell_type": "code",
   "execution_count": 10,
   "id": "26d57ff1",
   "metadata": {
    "execution": {
     "iopub.execute_input": "2023-02-28T13:15:56.775770Z",
     "iopub.status.busy": "2023-02-28T13:15:56.775327Z",
     "iopub.status.idle": "2023-02-28T13:15:56.831920Z",
     "shell.execute_reply": "2023-02-28T13:15:56.830848Z"
    },
    "papermill": {
     "duration": 0.066367,
     "end_time": "2023-02-28T13:15:56.834802",
     "exception": false,
     "start_time": "2023-02-28T13:15:56.768435",
     "status": "completed"
    },
    "tags": []
   },
   "outputs": [],
   "source": [
    "X = data.drop(['Attack type'] , axis=1)\n",
    "y = data['Attack type']"
   ]
  },
  {
   "cell_type": "code",
   "execution_count": 11,
   "id": "b4db9ed3",
   "metadata": {
    "execution": {
     "iopub.execute_input": "2023-02-28T13:15:56.849104Z",
     "iopub.status.busy": "2023-02-28T13:15:56.848786Z",
     "iopub.status.idle": "2023-02-28T13:15:56.886404Z",
     "shell.execute_reply": "2023-02-28T13:15:56.885442Z"
    },
    "papermill": {
     "duration": 0.047543,
     "end_time": "2023-02-28T13:15:56.888719",
     "exception": false,
     "start_time": "2023-02-28T13:15:56.841176",
     "status": "completed"
    },
    "tags": []
   },
   "outputs": [],
   "source": [
    "from sklearn.preprocessing import LabelBinarizer\n",
    "\n",
    "y = LabelBinarizer().fit_transform(y)"
   ]
  },
  {
   "cell_type": "code",
   "execution_count": 12,
   "id": "2194fa88",
   "metadata": {
    "execution": {
     "iopub.execute_input": "2023-02-28T13:15:56.902652Z",
     "iopub.status.busy": "2023-02-28T13:15:56.902314Z",
     "iopub.status.idle": "2023-02-28T13:15:56.931305Z",
     "shell.execute_reply": "2023-02-28T13:15:56.930321Z"
    },
    "papermill": {
     "duration": 0.038748,
     "end_time": "2023-02-28T13:15:56.933892",
     "exception": false,
     "start_time": "2023-02-28T13:15:56.895144",
     "status": "completed"
    },
    "tags": []
   },
   "outputs": [],
   "source": [
    "X=np.array(X)\n",
    "y=np.array(y)"
   ]
  },
  {
   "cell_type": "code",
   "execution_count": 13,
   "id": "6f7afc9e",
   "metadata": {
    "execution": {
     "iopub.execute_input": "2023-02-28T13:15:56.948057Z",
     "iopub.status.busy": "2023-02-28T13:15:56.947755Z",
     "iopub.status.idle": "2023-02-28T13:15:57.066559Z",
     "shell.execute_reply": "2023-02-28T13:15:57.065471Z"
    },
    "papermill": {
     "duration": 0.128663,
     "end_time": "2023-02-28T13:15:57.069258",
     "exception": false,
     "start_time": "2023-02-28T13:15:56.940595",
     "status": "completed"
    },
    "tags": []
   },
   "outputs": [],
   "source": [
    "# splitting the dataset 67% for training and 33% testing and evaluating\n",
    "X_train, X_temp, y_train, y_temp = train_test_split(X,y, test_size=0.33, random_state=42)\n",
    "\n",
    "X_test, X_val, y_test, y_val = train_test_split(X_temp,y_temp, test_size=0.5, random_state=42)"
   ]
  },
  {
   "cell_type": "code",
   "execution_count": 14,
   "id": "36e5a67f",
   "metadata": {
    "execution": {
     "iopub.execute_input": "2023-02-28T13:15:57.084180Z",
     "iopub.status.busy": "2023-02-28T13:15:57.083865Z",
     "iopub.status.idle": "2023-02-28T13:15:57.089380Z",
     "shell.execute_reply": "2023-02-28T13:15:57.088331Z"
    },
    "papermill": {
     "duration": 0.015054,
     "end_time": "2023-02-28T13:15:57.091535",
     "exception": false,
     "start_time": "2023-02-28T13:15:57.076481",
     "status": "completed"
    },
    "tags": []
   },
   "outputs": [],
   "source": [
    "X_train = np.reshape(X_train, (X_train.shape[0], X_train.shape[1], 1))\n",
    "X_test = np.reshape(X_test, (X_test.shape[0], X_test.shape[1], 1))\n",
    "X_val = np.reshape(X_val, (X_val.shape[0], X_val.shape[1], 1))"
   ]
  },
  {
   "cell_type": "code",
   "execution_count": 15,
   "id": "aa4bb93d",
   "metadata": {
    "execution": {
     "iopub.execute_input": "2023-02-28T13:15:57.104994Z",
     "iopub.status.busy": "2023-02-28T13:15:57.104731Z",
     "iopub.status.idle": "2023-02-28T13:16:00.316708Z",
     "shell.execute_reply": "2023-02-28T13:16:00.315625Z"
    },
    "papermill": {
     "duration": 3.22165,
     "end_time": "2023-02-28T13:16:00.319330",
     "exception": false,
     "start_time": "2023-02-28T13:15:57.097680",
     "status": "completed"
    },
    "tags": []
   },
   "outputs": [],
   "source": [
    "model = Sequential()\n",
    "model.add(GRU(100, return_sequences=True, input_shape=(X_train.shape[1], X_train.shape[2])))\n",
    "model.add(Flatten())\n",
    "model.add(Dense(256,activation='relu'))\n",
    "model.add(Dropout(.4))\n",
    "model.add(Dense(5,activation='softmax'))"
   ]
  },
  {
   "cell_type": "code",
   "execution_count": 16,
   "id": "424bf27b",
   "metadata": {
    "execution": {
     "iopub.execute_input": "2023-02-28T13:16:00.333970Z",
     "iopub.status.busy": "2023-02-28T13:16:00.333670Z",
     "iopub.status.idle": "2023-02-28T13:16:00.357798Z",
     "shell.execute_reply": "2023-02-28T13:16:00.356604Z"
    },
    "papermill": {
     "duration": 0.044779,
     "end_time": "2023-02-28T13:16:00.370817",
     "exception": false,
     "start_time": "2023-02-28T13:16:00.326038",
     "status": "completed"
    },
    "tags": []
   },
   "outputs": [
    {
     "name": "stdout",
     "output_type": "stream",
     "text": [
      "Model: \"sequential\"\n",
      "_________________________________________________________________\n",
      " Layer (type)                Output Shape              Param #   \n",
      "=================================================================\n",
      " gru (GRU)                   (None, 18, 100)           30900     \n",
      "                                                                 \n",
      " flatten (Flatten)           (None, 1800)              0         \n",
      "                                                                 \n",
      " dense (Dense)               (None, 256)               461056    \n",
      "                                                                 \n",
      " dropout (Dropout)           (None, 256)               0         \n",
      "                                                                 \n",
      " dense_1 (Dense)             (None, 5)                 1285      \n",
      "                                                                 \n",
      "=================================================================\n",
      "Total params: 493,241\n",
      "Trainable params: 493,241\n",
      "Non-trainable params: 0\n",
      "_________________________________________________________________\n"
     ]
    }
   ],
   "source": [
    "model.summary()"
   ]
  },
  {
   "cell_type": "code",
   "execution_count": 17,
   "id": "36c734af",
   "metadata": {
    "execution": {
     "iopub.execute_input": "2023-02-28T13:16:00.386707Z",
     "iopub.status.busy": "2023-02-28T13:16:00.386411Z",
     "iopub.status.idle": "2023-02-28T13:16:00.401288Z",
     "shell.execute_reply": "2023-02-28T13:16:00.400394Z"
    },
    "papermill": {
     "duration": 0.025197,
     "end_time": "2023-02-28T13:16:00.403390",
     "exception": false,
     "start_time": "2023-02-28T13:16:00.378193",
     "status": "completed"
    },
    "tags": []
   },
   "outputs": [],
   "source": [
    "model.compile(loss=\"categorical_crossentropy\", optimizer=\"adam\",metrics=['accuracy'])"
   ]
  },
  {
   "cell_type": "code",
   "execution_count": 18,
   "id": "7a49585b",
   "metadata": {
    "execution": {
     "iopub.execute_input": "2023-02-28T13:16:00.420338Z",
     "iopub.status.busy": "2023-02-28T13:16:00.420070Z",
     "iopub.status.idle": "2023-02-28T13:17:48.841628Z",
     "shell.execute_reply": "2023-02-28T13:17:48.840406Z"
    },
    "papermill": {
     "duration": 108.433019,
     "end_time": "2023-02-28T13:17:48.844661",
     "exception": false,
     "start_time": "2023-02-28T13:16:00.411642",
     "status": "completed"
    },
    "tags": []
   },
   "outputs": [
    {
     "name": "stdout",
     "output_type": "stream",
     "text": [
      "Epoch 1/30\n",
      "503/503 [==============================] - 11s 8ms/step - loss: 0.0849 - accuracy: 0.9702 - val_loss: 0.0445 - val_accuracy: 0.9798\n",
      "Epoch 2/30\n",
      "503/503 [==============================] - 3s 6ms/step - loss: 0.0448 - accuracy: 0.9796 - val_loss: 0.0409 - val_accuracy: 0.9806\n",
      "Epoch 3/30\n",
      "503/503 [==============================] - 3s 6ms/step - loss: 0.0407 - accuracy: 0.9808 - val_loss: 0.0382 - val_accuracy: 0.9801\n",
      "Epoch 4/30\n",
      "503/503 [==============================] - 3s 7ms/step - loss: 0.0395 - accuracy: 0.9816 - val_loss: 0.0379 - val_accuracy: 0.9806\n",
      "Epoch 5/30\n",
      "503/503 [==============================] - 3s 6ms/step - loss: 0.0386 - accuracy: 0.9815 - val_loss: 0.0370 - val_accuracy: 0.9822\n",
      "Epoch 6/30\n",
      "503/503 [==============================] - 3s 7ms/step - loss: 0.0386 - accuracy: 0.9817 - val_loss: 0.0360 - val_accuracy: 0.9822\n",
      "Epoch 7/30\n",
      "503/503 [==============================] - 3s 7ms/step - loss: 0.0379 - accuracy: 0.9819 - val_loss: 0.0359 - val_accuracy: 0.9827\n",
      "Epoch 8/30\n",
      "503/503 [==============================] - 3s 7ms/step - loss: 0.0375 - accuracy: 0.9821 - val_loss: 0.0359 - val_accuracy: 0.9821\n",
      "Epoch 9/30\n",
      "503/503 [==============================] - 4s 7ms/step - loss: 0.0373 - accuracy: 0.9825 - val_loss: 0.0349 - val_accuracy: 0.9839\n",
      "Epoch 10/30\n",
      "503/503 [==============================] - 3s 7ms/step - loss: 0.0369 - accuracy: 0.9831 - val_loss: 0.0350 - val_accuracy: 0.9842\n",
      "Epoch 11/30\n",
      "503/503 [==============================] - 3s 7ms/step - loss: 0.0367 - accuracy: 0.9832 - val_loss: 0.0351 - val_accuracy: 0.9818\n",
      "Epoch 12/30\n",
      "503/503 [==============================] - 3s 7ms/step - loss: 0.0363 - accuracy: 0.9833 - val_loss: 0.0352 - val_accuracy: 0.9835\n",
      "Epoch 13/30\n",
      "503/503 [==============================] - 3s 6ms/step - loss: 0.0360 - accuracy: 0.9839 - val_loss: 0.0377 - val_accuracy: 0.9836\n",
      "Epoch 14/30\n",
      "503/503 [==============================] - 4s 7ms/step - loss: 0.0355 - accuracy: 0.9844 - val_loss: 0.0333 - val_accuracy: 0.9859\n",
      "Epoch 15/30\n",
      "503/503 [==============================] - 3s 6ms/step - loss: 0.0351 - accuracy: 0.9851 - val_loss: 0.0341 - val_accuracy: 0.9865\n",
      "Epoch 16/30\n",
      "503/503 [==============================] - 3s 7ms/step - loss: 0.0353 - accuracy: 0.9846 - val_loss: 0.0337 - val_accuracy: 0.9862\n",
      "Epoch 17/30\n",
      "503/503 [==============================] - 3s 7ms/step - loss: 0.0339 - accuracy: 0.9857 - val_loss: 0.0336 - val_accuracy: 0.9847\n",
      "Epoch 18/30\n",
      "503/503 [==============================] - 3s 7ms/step - loss: 0.0338 - accuracy: 0.9861 - val_loss: 0.0304 - val_accuracy: 0.9876\n",
      "Epoch 19/30\n",
      "503/503 [==============================] - 4s 7ms/step - loss: 0.0326 - accuracy: 0.9867 - val_loss: 0.0313 - val_accuracy: 0.9872\n",
      "Epoch 20/30\n",
      "503/503 [==============================] - 3s 7ms/step - loss: 0.0325 - accuracy: 0.9868 - val_loss: 0.0310 - val_accuracy: 0.9875\n",
      "Epoch 21/30\n",
      "503/503 [==============================] - 3s 6ms/step - loss: 0.0319 - accuracy: 0.9871 - val_loss: 0.0297 - val_accuracy: 0.9877\n",
      "Epoch 22/30\n",
      "503/503 [==============================] - 3s 7ms/step - loss: 0.0317 - accuracy: 0.9878 - val_loss: 0.0305 - val_accuracy: 0.9871\n",
      "Epoch 23/30\n",
      "503/503 [==============================] - 3s 7ms/step - loss: 0.0314 - accuracy: 0.9879 - val_loss: 0.0304 - val_accuracy: 0.9880\n",
      "Epoch 24/30\n",
      "503/503 [==============================] - 3s 6ms/step - loss: 0.0303 - accuracy: 0.9883 - val_loss: 0.0287 - val_accuracy: 0.9888\n",
      "Epoch 25/30\n",
      "503/503 [==============================] - 3s 7ms/step - loss: 0.0300 - accuracy: 0.9887 - val_loss: 0.0307 - val_accuracy: 0.9884\n",
      "Epoch 26/30\n",
      "503/503 [==============================] - 3s 6ms/step - loss: 0.0295 - accuracy: 0.9890 - val_loss: 0.0285 - val_accuracy: 0.9894\n",
      "Epoch 27/30\n",
      "503/503 [==============================] - 3s 6ms/step - loss: 0.0292 - accuracy: 0.9888 - val_loss: 0.0270 - val_accuracy: 0.9897\n",
      "Epoch 28/30\n",
      "503/503 [==============================] - 3s 7ms/step - loss: 0.0290 - accuracy: 0.9890 - val_loss: 0.0284 - val_accuracy: 0.9885\n",
      "Epoch 29/30\n",
      "503/503 [==============================] - 3s 7ms/step - loss: 0.0287 - accuracy: 0.9893 - val_loss: 0.0279 - val_accuracy: 0.9893\n",
      "Epoch 30/30\n",
      "503/503 [==============================] - 4s 7ms/step - loss: 0.0285 - accuracy: 0.9895 - val_loss: 0.0290 - val_accuracy: 0.9892\n"
     ]
    }
   ],
   "source": [
    "history=model.fit(X_train, y_train, epochs=30,verbose=1,batch_size=500,validation_data=(X_val, y_val))"
   ]
  },
  {
   "cell_type": "code",
   "execution_count": 19,
   "id": "675d16d7",
   "metadata": {
    "execution": {
     "iopub.execute_input": "2023-02-28T13:17:49.048306Z",
     "iopub.status.busy": "2023-02-28T13:17:49.047946Z",
     "iopub.status.idle": "2023-02-28T13:17:49.776203Z",
     "shell.execute_reply": "2023-02-28T13:17:49.775093Z"
    },
    "papermill": {
     "duration": 0.835629,
     "end_time": "2023-02-28T13:17:49.778994",
     "exception": false,
     "start_time": "2023-02-28T13:17:48.943365",
     "status": "completed"
    },
    "tags": []
   },
   "outputs": [
    {
     "name": "stdout",
     "output_type": "stream",
     "text": [
      "124/124 [==============================] - 1s 2ms/step\n"
     ]
    }
   ],
   "source": [
    "y_pred_test = model.predict(X_test, batch_size=500)\n",
    "\n",
    "# For Plot curve\n",
    "y_pred_evaluation_test = to_categorical(np.argmax(y_pred_test, axis=1), 5)\n",
    "\n",
    "# For evaluation\n",
    "y_pred_argmax_test=(np.argmax(y_pred_test, axis=1))\n",
    "\n",
    "y_test_argmax=(np.argmax(y_test, axis=1))"
   ]
  },
  {
   "cell_type": "code",
   "execution_count": 20,
   "id": "dedffcc4",
   "metadata": {
    "execution": {
     "iopub.execute_input": "2023-02-28T13:17:49.965930Z",
     "iopub.status.busy": "2023-02-28T13:17:49.965599Z",
     "iopub.status.idle": "2023-02-28T13:17:49.972215Z",
     "shell.execute_reply": "2023-02-28T13:17:49.971159Z"
    },
    "papermill": {
     "duration": 0.102012,
     "end_time": "2023-02-28T13:17:49.974400",
     "exception": false,
     "start_time": "2023-02-28T13:17:49.872388",
     "status": "completed"
    },
    "tags": []
   },
   "outputs": [],
   "source": [
    "# Calculating Area under the curve\n",
    "def AUC(actual_class, pred_class, average = \"micro\"):\n",
    "    \n",
    "    #Making a set of all the unique classes \n",
    "    unique_class = set(actual_class)\n",
    "    roc_auc_dict = {}\n",
    "    for per_class in unique_class:\n",
    "        \n",
    "        #Making a list of all the classes except the current class \n",
    "        other_class = [x for x in unique_class if x != per_class]\n",
    "\n",
    "        #Making the current class with label 1 and all other classes as a label 0\n",
    "        new_actual_class = [0 if x in other_class else 1 for x in actual_class]\n",
    "        new_pred_class = [0 if x in other_class else 1 for x in pred_class]\n",
    "\n",
    "        # Calculating the roc_auc_score\n",
    "        roc_auc = roc_auc_score(new_actual_class, new_pred_class, average = average)\n",
    "        roc_auc_dict[per_class] = roc_auc\n",
    "\n",
    "    return roc_auc_dict"
   ]
  },
  {
   "cell_type": "code",
   "execution_count": 21,
   "id": "b5c37957",
   "metadata": {
    "execution": {
     "iopub.execute_input": "2023-02-28T13:17:50.164129Z",
     "iopub.status.busy": "2023-02-28T13:17:50.163821Z",
     "iopub.status.idle": "2023-02-28T13:17:50.178673Z",
     "shell.execute_reply": "2023-02-28T13:17:50.177775Z"
    },
    "papermill": {
     "duration": 0.110564,
     "end_time": "2023-02-28T13:17:50.180866",
     "exception": false,
     "start_time": "2023-02-28T13:17:50.070302",
     "status": "completed"
    },
    "tags": []
   },
   "outputs": [],
   "source": [
    "def plot_roc_curve(y_test,y_pred):\n",
    "    n_classes=5\n",
    "    fpr = dict()\n",
    "    tpr = dict()\n",
    "    roc_auc = dict()\n",
    "    for i in range(n_classes):\n",
    "        fpr[i], tpr[i], _ = roc_curve(y_test[:, i], y_pred[:, i])\n",
    "        roc_auc[i] = auc(fpr[i], tpr[i])\n",
    "    fpr[\"micro\"], tpr[\"micro\"], _ = roc_curve(y_test.ravel(), y_pred.ravel())\n",
    "    roc_auc[\"micro\"] = auc(fpr[\"micro\"], tpr[\"micro\"])\n",
    "    lw=2\n",
    "    all_fpr = np.unique(np.concatenate([fpr[i] for i in range(n_classes)]))\n",
    "\n",
    "    mean_tpr = np.zeros_like(all_fpr)\n",
    "    for i in range(n_classes):\n",
    "        mean_tpr += np.interp(all_fpr, fpr[i], tpr[i])\n",
    "\n",
    "    mean_tpr /= n_classes\n",
    "\n",
    "    fpr[\"macro\"] = all_fpr\n",
    "    tpr[\"macro\"] = mean_tpr\n",
    "    roc_auc[\"macro\"] = auc(fpr[\"macro\"], tpr[\"macro\"])\n",
    "\n",
    "# Plot all ROC curves\n",
    "    plt.figure(figsize=(10, 10))\n",
    "    plt.plot(fpr[\"micro\"],\n",
    "    tpr[\"micro\"],\n",
    "    label=\"micro-average ROC curve (area = {0:0.2f})\".format(roc_auc[\"micro\"]),\n",
    "    color=\"deeppink\",\n",
    "    linestyle=\":\",\n",
    "    linewidth=4,)\n",
    "\n",
    "    plt.plot(fpr[\"macro\"],\n",
    "    tpr[\"macro\"],\n",
    "    label=\"macro-average ROC curve (area = {0:0.2f})\".format(roc_auc[\"macro\"]),\n",
    "    color=\"navy\",\n",
    "    linestyle=\":\",\n",
    "    linewidth=4,\n",
    ")\n",
    "\n",
    "    colors = cycle([\"aqua\", \"darkorange\", \"cornflowerblue\"])\n",
    "    for i, color in zip(range(n_classes), colors):\n",
    "        plt.plot(\n",
    "           fpr[i],\n",
    "           tpr[i],\n",
    "           color=color,\n",
    "           lw=lw,\n",
    "        label=\"ROC curve of class {0} (area = {1:0.2f})\".format(i, roc_auc[i]),\n",
    "    )\n",
    "\n",
    "    plt.plot([0, 1], [0, 1], \"k--\", lw=lw)\n",
    "    plt.xlim([0.0, 1.0])\n",
    "    plt.ylim([0.0, 1.05])\n",
    "    plt.xlabel(\"False Positive Rate\")\n",
    "    plt.ylabel(\"True Positive Rate\")\n",
    "    plt.title(\"AUC GRU\")\n",
    "    plt.legend(loc=\"lower right\")\n",
    "    plt.show()"
   ]
  },
  {
   "cell_type": "code",
   "execution_count": 22,
   "id": "cae9284e",
   "metadata": {
    "execution": {
     "iopub.execute_input": "2023-02-28T13:17:50.364541Z",
     "iopub.status.busy": "2023-02-28T13:17:50.364231Z",
     "iopub.status.idle": "2023-02-28T13:17:50.372823Z",
     "shell.execute_reply": "2023-02-28T13:17:50.371735Z"
    },
    "papermill": {
     "duration": 0.103486,
     "end_time": "2023-02-28T13:17:50.375342",
     "exception": false,
     "start_time": "2023-02-28T13:17:50.271856",
     "status": "completed"
    },
    "tags": []
   },
   "outputs": [],
   "source": [
    "def plot_confusion_matrix(cm, classes,\n",
    "                          normalize=False,\n",
    "                          title='Confusion matrix',\n",
    "                          cmap=plt.cm.Blues):\n",
    "    \"\"\"\n",
    "    Prints and plots the confusion matrix.\n",
    "    \"\"\"\n",
    "    if normalize:\n",
    "        cm = cm.astype('float') / cm.sum(axis=1)[:, np.newaxis]\n",
    "        print(\"Normalized confusion matrix\")\n",
    "    else:\n",
    "        print('Confusion matrix, without normalization')\n",
    "\n",
    "    plt.imshow(cm, interpolation='nearest', cmap=cmap)\n",
    "    plt.title(title)\n",
    "    plt.colorbar()\n",
    "    tick_marks = np.arange(len(classes))\n",
    "    plt.xticks(tick_marks, classes, rotation=45)\n",
    "    plt.yticks(tick_marks, classes)\n",
    "\n",
    "    fmt = '.2f' if normalize else 'd'\n",
    "    thresh = cm.max() / 2.\n",
    "    for i, j in itertools.product(range(cm.shape[0]), range(cm.shape[1])):\n",
    "        plt.text(j, i, format(cm[i, j], fmt),\n",
    "                 horizontalalignment=\"center\",\n",
    "                 color=\"white\" if cm[i, j] > thresh else \"black\")\n",
    "\n",
    "    plt.tight_layout()\n",
    "    plt.ylabel('True label')\n",
    "    plt.xlabel('Predicted label')"
   ]
  },
  {
   "cell_type": "code",
   "execution_count": 23,
   "id": "97ced2b5",
   "metadata": {
    "execution": {
     "iopub.execute_input": "2023-02-28T13:17:50.559663Z",
     "iopub.status.busy": "2023-02-28T13:17:50.559336Z",
     "iopub.status.idle": "2023-02-28T13:17:56.544011Z",
     "shell.execute_reply": "2023-02-28T13:17:56.541642Z"
    },
    "papermill": {
     "duration": 6.080466,
     "end_time": "2023-02-28T13:17:56.546601",
     "exception": false,
     "start_time": "2023-02-28T13:17:50.466135",
     "status": "completed"
    },
    "tags": []
   },
   "outputs": [
    {
     "name": "stdout",
     "output_type": "stream",
     "text": [
      "1932/1932 [==============================] - 6s 3ms/step - loss: 0.0290 - accuracy: 0.9891\n",
      "Test results - Loss: 0.028995312750339508 - Accuracy: 98.91457557678223%\n"
     ]
    }
   ],
   "source": [
    "# predicting target attribute on testing dataset\n",
    "test_results = model.evaluate(X_test, y_test, verbose=1)\n",
    "print(f'Test results - Loss: {test_results[0]} - Accuracy: {test_results[1]*100}%')"
   ]
  },
  {
   "cell_type": "code",
   "execution_count": 24,
   "id": "5a5295a4",
   "metadata": {
    "execution": {
     "iopub.execute_input": "2023-02-28T13:17:56.811260Z",
     "iopub.status.busy": "2023-02-28T13:17:56.810902Z",
     "iopub.status.idle": "2023-02-28T13:17:57.006106Z",
     "shell.execute_reply": "2023-02-28T13:17:57.004834Z"
    },
    "papermill": {
     "duration": 0.351388,
     "end_time": "2023-02-28T13:17:57.009018",
     "exception": false,
     "start_time": "2023-02-28T13:17:56.657630",
     "status": "completed"
    },
    "tags": []
   },
   "outputs": [
    {
     "name": "stdout",
     "output_type": "stream",
     "text": [
      "AUC Score is on Test :  {0: 0.9910931332803621, 1: 0.9560813201945962, 2: 0.9013278115399446, 3: 0.9646001126371047, 4: 0.994317170768552}\n"
     ]
    }
   ],
   "source": [
    "print('AUC Score is on Test : ' , AUC(y_test_argmax, y_pred_argmax_test))"
   ]
  },
  {
   "cell_type": "code",
   "execution_count": 25,
   "id": "fb6993f9",
   "metadata": {
    "execution": {
     "iopub.execute_input": "2023-02-28T13:17:57.211524Z",
     "iopub.status.busy": "2023-02-28T13:17:57.210863Z",
     "iopub.status.idle": "2023-02-28T13:17:57.268918Z",
     "shell.execute_reply": "2023-02-28T13:17:57.267628Z"
    },
    "papermill": {
     "duration": 0.162393,
     "end_time": "2023-02-28T13:17:57.271923",
     "exception": false,
     "start_time": "2023-02-28T13:17:57.109530",
     "status": "completed"
    },
    "tags": []
   },
   "outputs": [
    {
     "name": "stdout",
     "output_type": "stream",
     "text": [
      "Classification Report on Data Test \n",
      "               precision    recall  f1-score   support\n",
      "\n",
      "      Normal       1.00      1.00      1.00     56078\n",
      "    Grayhole       0.87      0.92      0.89      2421\n",
      "   Blackhole       0.87      0.81      0.84      1622\n",
      "        TDMA       1.00      0.93      0.96      1131\n",
      "    Flooding       0.92      0.99      0.95       567\n",
      "\n",
      "    accuracy                           0.99     61819\n",
      "   macro avg       0.93      0.93      0.93     61819\n",
      "weighted avg       0.99      0.99      0.99     61819\n",
      "\n"
     ]
    }
   ],
   "source": [
    "from sklearn.metrics import classification_report\n",
    "\n",
    "target = ['Normal','Grayhole','Blackhole','TDMA','Flooding']\n",
    "\n",
    "print(\"Classification Report on Data Test \\n\" , classification_report(y_test_argmax, y_pred_argmax_test, target_names=target))"
   ]
  },
  {
   "cell_type": "code",
   "execution_count": 26,
   "id": "36a5c2e3",
   "metadata": {
    "execution": {
     "iopub.execute_input": "2023-02-28T13:17:57.472334Z",
     "iopub.status.busy": "2023-02-28T13:17:57.471988Z",
     "iopub.status.idle": "2023-02-28T13:17:57.719534Z",
     "shell.execute_reply": "2023-02-28T13:17:57.718525Z"
    },
    "papermill": {
     "duration": 0.349059,
     "end_time": "2023-02-28T13:17:57.721700",
     "exception": false,
     "start_time": "2023-02-28T13:17:57.372641",
     "status": "completed"
    },
    "tags": []
   },
   "outputs": [
    {
     "data": {
      "image/png": "[encoded data removed]",
      "text/plain": [
       "<Figure size 640x480 with 1 Axes>"
      ]
     },
     "metadata": {},
     "output_type": "display_data"
    }
   ],
   "source": [
    "# Plot of accuracy vs epoch for train and test dataset\n",
    "plt.plot(history.history['accuracy'])\n",
    "plt.plot(history.history['val_accuracy'])\n",
    "plt.title(\"GRU Accuracy\")\n",
    "plt.ylabel('accuracy')\n",
    "plt.xlabel('epoch')\n",
    "plt.legend(['train', 'validation'], loc='upper right')\n",
    "plt.show()"
   ]
  },
  {
   "cell_type": "code",
   "execution_count": 27,
   "id": "781acaf9",
   "metadata": {
    "execution": {
     "iopub.execute_input": "2023-02-28T13:17:57.922184Z",
     "iopub.status.busy": "2023-02-28T13:17:57.921855Z",
     "iopub.status.idle": "2023-02-28T13:17:58.138621Z",
     "shell.execute_reply": "2023-02-28T13:17:58.137532Z"
    },
    "papermill": {
     "duration": 0.318851,
     "end_time": "2023-02-28T13:17:58.141193",
     "exception": false,
     "start_time": "2023-02-28T13:17:57.822342",
     "status": "completed"
    },
    "tags": []
   },
   "outputs": [
    {
     "data": {
      "image/png": "[encoded data removed]",
      "text/plain": [
       "<Figure size 640x480 with 1 Axes>"
      ]
     },
     "metadata": {},
     "output_type": "display_data"
    }
   ],
   "source": [
    "# Plot of loss vs epoch for train and test dataset\n",
    "plt.plot(history.history['loss'])\n",
    "plt.plot(history.history['val_loss'])\n",
    "plt.title(\"GRU Loss\")\n",
    "plt.ylabel('loss')\n",
    "plt.xlabel('epoch')\n",
    "plt.legend(['train', 'validation'], loc='upper right')\n",
    "plt.show()"
   ]
  },
  {
   "cell_type": "code",
   "execution_count": 28,
   "id": "07e33fd0",
   "metadata": {
    "execution": {
     "iopub.execute_input": "2023-02-28T13:17:58.361646Z",
     "iopub.status.busy": "2023-02-28T13:17:58.361042Z",
     "iopub.status.idle": "2023-02-28T13:17:58.821509Z",
     "shell.execute_reply": "2023-02-28T13:17:58.820457Z"
    },
    "papermill": {
     "duration": 0.581996,
     "end_time": "2023-02-28T13:17:58.824001",
     "exception": false,
     "start_time": "2023-02-28T13:17:58.242005",
     "status": "completed"
    },
    "tags": []
   },
   "outputs": [
    {
     "name": "stdout",
     "output_type": "stream",
     "text": [
      "Confusion matrix, without normalization\n"
     ]
    },
    {
     "data": {
      "image/png": "[encoded data removed]",
      "text/plain": [
       "<Figure size 700x700 with 2 Axes>"
      ]
     },
     "metadata": {},
     "output_type": "display_data"
    }
   ],
   "source": [
    "# Compute confusion matrix\n",
    "from sklearn.metrics import confusion_matrix\n",
    "\n",
    "cnf_matrix = confusion_matrix(y_test_argmax, y_pred_argmax_test)\n",
    "\n",
    "# Plot non-normalized confusion matrix\n",
    "plt.figure(figsize=(7, 7))\n",
    "plot_confusion_matrix(cnf_matrix, classes=target,\n",
    "                      title='Confusion matrix GRU')\n",
    "plt.show()"
   ]
  },
  {
   "cell_type": "code",
   "execution_count": 29,
   "id": "3221876c",
   "metadata": {
    "execution": {
     "iopub.execute_input": "2023-02-28T13:17:59.064271Z",
     "iopub.status.busy": "2023-02-28T13:17:59.063628Z",
     "iopub.status.idle": "2023-02-28T13:17:59.387984Z",
     "shell.execute_reply": "2023-02-28T13:17:59.386996Z"
    },
    "papermill": {
     "duration": 0.427072,
     "end_time": "2023-02-28T13:17:59.390300",
     "exception": false,
     "start_time": "2023-02-28T13:17:58.963228",
     "status": "completed"
    },
    "tags": []
   },
   "outputs": [
    {
     "data": {
      "image/png": "[encoded data removed]",
      "text/plain": [
       "<Figure size 1000x1000 with 1 Axes>"
      ]
     },
     "metadata": {},
     "output_type": "display_data"
    }
   ],
   "source": [
    "plot_roc_curve(y_test,y_pred_evaluation_test)"
   ]
  },
  {
   "cell_type": "code",
   "execution_count": 30,
   "id": "3c2e1bb7",
   "metadata": {
    "execution": {
     "iopub.execute_input": "2023-02-28T13:17:59.595764Z",
     "iopub.status.busy": "2023-02-28T13:17:59.595420Z",
     "iopub.status.idle": "2023-02-28T13:17:59.621887Z",
     "shell.execute_reply": "2023-02-28T13:17:59.620938Z"
    },
    "papermill": {
     "duration": 0.13069,
     "end_time": "2023-02-28T13:17:59.623948",
     "exception": false,
     "start_time": "2023-02-28T13:17:59.493258",
     "status": "completed"
    },
    "tags": []
   },
   "outputs": [],
   "source": [
    "model.save_weights(\"gru_weights.h5\")"
   ]
  },
  {
   "cell_type": "code",
   "execution_count": 31,
   "id": "6a209d18",
   "metadata": {
    "execution": {
     "iopub.execute_input": "2023-02-28T13:17:59.829971Z",
     "iopub.status.busy": "2023-02-28T13:17:59.828987Z",
     "iopub.status.idle": "2023-02-28T13:17:59.862119Z",
     "shell.execute_reply": "2023-02-28T13:17:59.861128Z"
    },
    "papermill": {
     "duration": 0.138422,
     "end_time": "2023-02-28T13:17:59.864115",
     "exception": false,
     "start_time": "2023-02-28T13:17:59.725693",
     "status": "completed"
    },
    "tags": []
   },
   "outputs": [],
   "source": [
    "model.save(\"gru.h5\")"
   ]
  }
 ],
 "metadata": {
  "kernelspec": {
   "display_name": "Python 3",
   "language": "python",
   "name": "python3"
  },
  "language_info": {
   "codemirror_mode": {
    "name": "ipython",
    "version": 3
   },
   "file_extension": ".py",
   "mimetype": "text/x-python",
   "name": "python",
   "nbconvert_exporter": "python",
   "pygments_lexer": "ipython3",
   "version": "3.7.12"
  },
  "papermill": {
   "default_parameters": {},
   "duration": 144.897603,
   "end_time": "2023-02-28T13:18:02.825530",
   "environment_variables": {},
   "exception": null,
   "input_path": "__notebook__.ipynb",
   "output_path": "__notebook__.ipynb",
   "parameters": {},
   "start_time": "2023-02-28T13:15:37.927927",
   "version": "2.4.0"
  }
 },
 "nbformat": 4,
 "nbformat_minor": 5
}
