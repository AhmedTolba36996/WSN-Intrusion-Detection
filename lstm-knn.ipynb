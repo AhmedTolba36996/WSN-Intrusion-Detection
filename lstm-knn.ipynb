{
 "cells": [
  {
   "cell_type": "code",
   "execution_count": 1,
   "id": "1cbe41d5",
   "metadata": {
    "_cell_guid": "b1076dfc-b9ad-4769-8c92-a6c4dae69d19",
    "_uuid": "8f2839f25d086af736a60e9eeb907d3b93b6e0e5",
    "execution": {
     "iopub.execute_input": "2024-06-24T18:20:08.610402Z",
     "iopub.status.busy": "2024-06-24T18:20:08.610024Z",
     "iopub.status.idle": "2024-06-24T18:20:23.568704Z",
     "shell.execute_reply": "2024-06-24T18:20:23.567827Z"
    },
    "papermill": {
     "duration": 14.973559,
     "end_time": "2024-06-24T18:20:23.571253",
     "exception": false,
     "start_time": "2024-06-24T18:20:08.597694",
     "status": "completed"
    },
    "tags": []
   },
   "outputs": [
    {
     "name": "stderr",
     "output_type": "stream",
     "text": [
      "2024-06-24 18:20:12.768514: E external/local_xla/xla/stream_executor/cuda/cuda_dnn.cc:9261] Unable to register cuDNN factory: Attempting to register factory for plugin cuDNN when one has already been registered\n",
      "2024-06-24 18:20:12.768620: E external/local_xla/xla/stream_executor/cuda/cuda_fft.cc:607] Unable to register cuFFT factory: Attempting to register factory for plugin cuFFT when one has already been registered\n",
      "2024-06-24 18:20:12.902352: E external/local_xla/xla/stream_executor/cuda/cuda_blas.cc:1515] Unable to register cuBLAS factory: Attempting to register factory for plugin cuBLAS when one has already been registered\n"
     ]
    }
   ],
   "source": [
    "# importing required libraries\n",
    "import numpy as np\n",
    "import pandas as pd\n",
    "import pickle # saving and loading trained model\n",
    "from os import path\n",
    "\n",
    "# importing required libraries for normalizing data\n",
    "from sklearn import preprocessing\n",
    "\n",
    "from sklearn.preprocessing import (StandardScaler, OrdinalEncoder,LabelEncoder, MinMaxScaler, OneHotEncoder)\n",
    "from sklearn.preprocessing import Normalizer, MaxAbsScaler , RobustScaler, PowerTransformer\n",
    "\n",
    "# importing library for plotting\n",
    "import matplotlib.pyplot as plt\n",
    "import seaborn as sns\n",
    "\n",
    "from sklearn import metrics\n",
    "from sklearn.metrics import accuracy_score # for calculating accuracy of model\n",
    "from sklearn.model_selection import train_test_split # for splitting the dataset for training and testing\n",
    "from sklearn.metrics import classification_report # for generating a classification report of model\n",
    "\n",
    "from sklearn.metrics import precision_score\n",
    "from sklearn.metrics import recall_score\n",
    "from sklearn.metrics import f1_score\n",
    "\n",
    "from sklearn.metrics import roc_auc_score\n",
    "from sklearn.metrics import roc_curve, auc\n",
    "\n",
    "import tensorflow as tf\n",
    "from tensorflow.keras.utils import to_categorical\n",
    "\n",
    "from keras.layers import Dense, Conv1D, MaxPool1D, Flatten, Dropout , LSTM # importing dense layer\n",
    "from keras.layers import Convolution1D, Dense, Dropout, Flatten, MaxPooling1D\n",
    "from keras.models import Sequential #importing Sequential layer\n",
    "from keras.layers import Input\n",
    "from keras.models import Model\n",
    "from tensorflow.keras import layers\n",
    "# representation of model layers\n",
    "\n",
    "import itertools\n",
    "from itertools import cycle"
   ]
  },
  {
   "cell_type": "code",
   "execution_count": 2,
   "id": "4f0332b2",
   "metadata": {
    "execution": {
     "iopub.execute_input": "2024-06-24T18:20:23.601704Z",
     "iopub.status.busy": "2024-06-24T18:20:23.600615Z",
     "iopub.status.idle": "2024-06-24T18:20:24.585706Z",
     "shell.execute_reply": "2024-06-24T18:20:24.584776Z"
    },
    "papermill": {
     "duration": 1.000563,
     "end_time": "2024-06-24T18:20:24.588262",
     "exception": false,
     "start_time": "2024-06-24T18:20:23.587699",
     "status": "completed"
    },
    "tags": []
   },
   "outputs": [],
   "source": [
    "data = pd.read_csv(\"/kaggle/input/wsnds/WSN-DS.csv\")"
   ]
  },
  {
   "cell_type": "code",
   "execution_count": 3,
   "id": "51e01ce4",
   "metadata": {
    "execution": {
     "iopub.execute_input": "2024-06-24T18:20:24.609723Z",
     "iopub.status.busy": "2024-06-24T18:20:24.609387Z",
     "iopub.status.idle": "2024-06-24T18:20:24.639405Z",
     "shell.execute_reply": "2024-06-24T18:20:24.638374Z"
    },
    "papermill": {
     "duration": 0.043632,
     "end_time": "2024-06-24T18:20:24.641924",
     "exception": false,
     "start_time": "2024-06-24T18:20:24.598292",
     "status": "completed"
    },
    "tags": []
   },
   "outputs": [
    {
     "data": {
      "text/html": [
       "<div>\n",
       "<style scoped>\n",
       "    .dataframe tbody tr th:only-of-type {\n",
       "        vertical-align: middle;\n",
       "    }\n",
       "\n",
       "    .dataframe tbody tr th {\n",
       "        vertical-align: top;\n",
       "    }\n",
       "\n",
       "    .dataframe thead th {\n",
       "        text-align: right;\n",
       "    }\n",
       "</style>\n",
       "<table border=\"1\" class=\"dataframe\">\n",
       "  <thead>\n",
       "    <tr style=\"text-align: right;\">\n",
       "      <th></th>\n",
       "      <th>id</th>\n",
       "      <th>Time</th>\n",
       "      <th>Is_CH</th>\n",
       "      <th>who CH</th>\n",
       "      <th>Dist_To_CH</th>\n",
       "      <th>ADV_S</th>\n",
       "      <th>ADV_R</th>\n",
       "      <th>JOIN_S</th>\n",
       "      <th>JOIN_R</th>\n",
       "      <th>SCH_S</th>\n",
       "      <th>SCH_R</th>\n",
       "      <th>Rank</th>\n",
       "      <th>DATA_S</th>\n",
       "      <th>DATA_R</th>\n",
       "      <th>Data_Sent_To_BS</th>\n",
       "      <th>dist_CH_To_BS</th>\n",
       "      <th>send_code</th>\n",
       "      <th>Expaned Energy</th>\n",
       "      <th>Attack type</th>\n",
       "    </tr>\n",
       "  </thead>\n",
       "  <tbody>\n",
       "    <tr>\n",
       "      <th>0</th>\n",
       "      <td>101000</td>\n",
       "      <td>50</td>\n",
       "      <td>1</td>\n",
       "      <td>101000</td>\n",
       "      <td>0.00000</td>\n",
       "      <td>1</td>\n",
       "      <td>0</td>\n",
       "      <td>0</td>\n",
       "      <td>25</td>\n",
       "      <td>1</td>\n",
       "      <td>0</td>\n",
       "      <td>0</td>\n",
       "      <td>0</td>\n",
       "      <td>1200</td>\n",
       "      <td>48</td>\n",
       "      <td>130.08535</td>\n",
       "      <td>0</td>\n",
       "      <td>2.46940</td>\n",
       "      <td>Normal</td>\n",
       "    </tr>\n",
       "    <tr>\n",
       "      <th>1</th>\n",
       "      <td>101001</td>\n",
       "      <td>50</td>\n",
       "      <td>0</td>\n",
       "      <td>101044</td>\n",
       "      <td>75.32345</td>\n",
       "      <td>0</td>\n",
       "      <td>4</td>\n",
       "      <td>1</td>\n",
       "      <td>0</td>\n",
       "      <td>0</td>\n",
       "      <td>1</td>\n",
       "      <td>2</td>\n",
       "      <td>38</td>\n",
       "      <td>0</td>\n",
       "      <td>0</td>\n",
       "      <td>0.00000</td>\n",
       "      <td>4</td>\n",
       "      <td>0.06957</td>\n",
       "      <td>Normal</td>\n",
       "    </tr>\n",
       "    <tr>\n",
       "      <th>2</th>\n",
       "      <td>101002</td>\n",
       "      <td>50</td>\n",
       "      <td>0</td>\n",
       "      <td>101010</td>\n",
       "      <td>46.95453</td>\n",
       "      <td>0</td>\n",
       "      <td>4</td>\n",
       "      <td>1</td>\n",
       "      <td>0</td>\n",
       "      <td>0</td>\n",
       "      <td>1</td>\n",
       "      <td>19</td>\n",
       "      <td>41</td>\n",
       "      <td>0</td>\n",
       "      <td>0</td>\n",
       "      <td>0.00000</td>\n",
       "      <td>3</td>\n",
       "      <td>0.06898</td>\n",
       "      <td>Normal</td>\n",
       "    </tr>\n",
       "    <tr>\n",
       "      <th>3</th>\n",
       "      <td>101003</td>\n",
       "      <td>50</td>\n",
       "      <td>0</td>\n",
       "      <td>101044</td>\n",
       "      <td>64.85231</td>\n",
       "      <td>0</td>\n",
       "      <td>4</td>\n",
       "      <td>1</td>\n",
       "      <td>0</td>\n",
       "      <td>0</td>\n",
       "      <td>1</td>\n",
       "      <td>16</td>\n",
       "      <td>38</td>\n",
       "      <td>0</td>\n",
       "      <td>0</td>\n",
       "      <td>0.00000</td>\n",
       "      <td>4</td>\n",
       "      <td>0.06673</td>\n",
       "      <td>Normal</td>\n",
       "    </tr>\n",
       "    <tr>\n",
       "      <th>4</th>\n",
       "      <td>101004</td>\n",
       "      <td>50</td>\n",
       "      <td>0</td>\n",
       "      <td>101010</td>\n",
       "      <td>4.83341</td>\n",
       "      <td>0</td>\n",
       "      <td>4</td>\n",
       "      <td>1</td>\n",
       "      <td>0</td>\n",
       "      <td>0</td>\n",
       "      <td>1</td>\n",
       "      <td>25</td>\n",
       "      <td>41</td>\n",
       "      <td>0</td>\n",
       "      <td>0</td>\n",
       "      <td>0.00000</td>\n",
       "      <td>3</td>\n",
       "      <td>0.06534</td>\n",
       "      <td>Normal</td>\n",
       "    </tr>\n",
       "  </tbody>\n",
       "</table>\n",
       "</div>"
      ],
      "text/plain": [
       "       id   Time   Is_CH   who CH   Dist_To_CH   ADV_S   ADV_R   JOIN_S  \\\n",
       "0  101000     50       1   101000      0.00000       1       0        0   \n",
       "1  101001     50       0   101044     75.32345       0       4        1   \n",
       "2  101002     50       0   101010     46.95453       0       4        1   \n",
       "3  101003     50       0   101044     64.85231       0       4        1   \n",
       "4  101004     50       0   101010      4.83341       0       4        1   \n",
       "\n",
       "    JOIN_R   SCH_S   SCH_R  Rank   DATA_S   DATA_R   Data_Sent_To_BS  \\\n",
       "0       25       1       0     0        0     1200                48   \n",
       "1        0       0       1     2       38        0                 0   \n",
       "2        0       0       1    19       41        0                 0   \n",
       "3        0       0       1    16       38        0                 0   \n",
       "4        0       0       1    25       41        0                 0   \n",
       "\n",
       "    dist_CH_To_BS   send_code   Expaned Energy Attack type  \n",
       "0       130.08535            0         2.46940      Normal  \n",
       "1         0.00000            4         0.06957      Normal  \n",
       "2         0.00000            3         0.06898      Normal  \n",
       "3         0.00000            4         0.06673      Normal  \n",
       "4         0.00000            3         0.06534      Normal  "
      ]
     },
     "execution_count": 3,
     "metadata": {},
     "output_type": "execute_result"
    }
   ],
   "source": [
    "data.head()"
   ]
  },
  {
   "cell_type": "code",
   "execution_count": 4,
   "id": "7c1fb5c2",
   "metadata": {
    "execution": {
     "iopub.execute_input": "2024-06-24T18:20:24.664551Z",
     "iopub.status.busy": "2024-06-24T18:20:24.664220Z",
     "iopub.status.idle": "2024-06-24T18:20:24.670676Z",
     "shell.execute_reply": "2024-06-24T18:20:24.669661Z"
    },
    "papermill": {
     "duration": 0.019586,
     "end_time": "2024-06-24T18:20:24.672693",
     "exception": false,
     "start_time": "2024-06-24T18:20:24.653107",
     "status": "completed"
    },
    "tags": []
   },
   "outputs": [
    {
     "data": {
      "text/plain": [
       "(374661, 19)"
      ]
     },
     "execution_count": 4,
     "metadata": {},
     "output_type": "execute_result"
    }
   ],
   "source": [
    "data.shape"
   ]
  },
  {
   "cell_type": "code",
   "execution_count": 5,
   "id": "b18fa8ab",
   "metadata": {
    "execution": {
     "iopub.execute_input": "2024-06-24T18:20:24.694605Z",
     "iopub.status.busy": "2024-06-24T18:20:24.694221Z",
     "iopub.status.idle": "2024-06-24T18:20:24.763263Z",
     "shell.execute_reply": "2024-06-24T18:20:24.761948Z"
    },
    "papermill": {
     "duration": 0.08362,
     "end_time": "2024-06-24T18:20:24.766304",
     "exception": false,
     "start_time": "2024-06-24T18:20:24.682684",
     "status": "completed"
    },
    "tags": []
   },
   "outputs": [
    {
     "name": "stdout",
     "output_type": "stream",
     "text": [
      "<class 'pandas.core.frame.DataFrame'>\n",
      "RangeIndex: 374661 entries, 0 to 374660\n",
      "Data columns (total 19 columns):\n",
      " #   Column            Non-Null Count   Dtype  \n",
      "---  ------            --------------   -----  \n",
      " 0    id               374661 non-null  int64  \n",
      " 1    Time             374661 non-null  int64  \n",
      " 2    Is_CH            374661 non-null  int64  \n",
      " 3    who CH           374661 non-null  int64  \n",
      " 4    Dist_To_CH       374661 non-null  float64\n",
      " 5    ADV_S            374661 non-null  int64  \n",
      " 6    ADV_R            374661 non-null  int64  \n",
      " 7    JOIN_S           374661 non-null  int64  \n",
      " 8    JOIN_R           374661 non-null  int64  \n",
      " 9    SCH_S            374661 non-null  int64  \n",
      " 10   SCH_R            374661 non-null  int64  \n",
      " 11  Rank              374661 non-null  int64  \n",
      " 12   DATA_S           374661 non-null  int64  \n",
      " 13   DATA_R           374661 non-null  int64  \n",
      " 14   Data_Sent_To_BS  374661 non-null  int64  \n",
      " 15   dist_CH_To_BS    374661 non-null  float64\n",
      " 16   send_code        374661 non-null  int64  \n",
      " 17  Expaned Energy    374661 non-null  float64\n",
      " 18  Attack type       374661 non-null  object \n",
      "dtypes: float64(3), int64(15), object(1)\n",
      "memory usage: 54.3+ MB\n"
     ]
    }
   ],
   "source": [
    "data.info()"
   ]
  },
  {
   "cell_type": "code",
   "execution_count": 6,
   "id": "48266fa0",
   "metadata": {
    "execution": {
     "iopub.execute_input": "2024-06-24T18:20:24.792110Z",
     "iopub.status.busy": "2024-06-24T18:20:24.791248Z",
     "iopub.status.idle": "2024-06-24T18:20:24.866899Z",
     "shell.execute_reply": "2024-06-24T18:20:24.865867Z"
    },
    "papermill": {
     "duration": 0.089232,
     "end_time": "2024-06-24T18:20:24.869220",
     "exception": false,
     "start_time": "2024-06-24T18:20:24.779988",
     "status": "completed"
    },
    "tags": []
   },
   "outputs": [
    {
     "data": {
      "text/plain": [
       "Attack type\n",
       "Normal       340066\n",
       "Grayhole      14596\n",
       "Blackhole     10049\n",
       "TDMA           6638\n",
       "Flooding       3312\n",
       "Name: count, dtype: int64"
      ]
     },
     "execution_count": 6,
     "metadata": {},
     "output_type": "execute_result"
    }
   ],
   "source": [
    "data['Attack type'].value_counts()"
   ]
  },
  {
   "cell_type": "code",
   "execution_count": 7,
   "id": "42f8b0fb",
   "metadata": {
    "execution": {
     "iopub.execute_input": "2024-06-24T18:20:24.892707Z",
     "iopub.status.busy": "2024-06-24T18:20:24.892414Z",
     "iopub.status.idle": "2024-06-24T18:20:25.090579Z",
     "shell.execute_reply": "2024-06-24T18:20:25.089369Z"
    },
    "papermill": {
     "duration": 0.211801,
     "end_time": "2024-06-24T18:20:25.093101",
     "exception": false,
     "start_time": "2024-06-24T18:20:24.881300",
     "status": "completed"
    },
    "tags": []
   },
   "outputs": [
    {
     "data": {
      "text/html": [
       "<div>\n",
       "<style scoped>\n",
       "    .dataframe tbody tr th:only-of-type {\n",
       "        vertical-align: middle;\n",
       "    }\n",
       "\n",
       "    .dataframe tbody tr th {\n",
       "        vertical-align: top;\n",
       "    }\n",
       "\n",
       "    .dataframe thead th {\n",
       "        text-align: right;\n",
       "    }\n",
       "</style>\n",
       "<table border=\"1\" class=\"dataframe\">\n",
       "  <thead>\n",
       "    <tr style=\"text-align: right;\">\n",
       "      <th></th>\n",
       "      <th>count</th>\n",
       "      <th>mean</th>\n",
       "      <th>std</th>\n",
       "      <th>min</th>\n",
       "      <th>25%</th>\n",
       "      <th>50%</th>\n",
       "      <th>75%</th>\n",
       "      <th>max</th>\n",
       "    </tr>\n",
       "  </thead>\n",
       "  <tbody>\n",
       "    <tr>\n",
       "      <th>id</th>\n",
       "      <td>374661.0</td>\n",
       "      <td>274969.325879</td>\n",
       "      <td>389898.554898</td>\n",
       "      <td>101000.0</td>\n",
       "      <td>107093.00000</td>\n",
       "      <td>116071.00000</td>\n",
       "      <td>215072.00000</td>\n",
       "      <td>3.402096e+06</td>\n",
       "    </tr>\n",
       "    <tr>\n",
       "      <th>Time</th>\n",
       "      <td>374661.0</td>\n",
       "      <td>1064.748712</td>\n",
       "      <td>899.646164</td>\n",
       "      <td>50.0</td>\n",
       "      <td>353.00000</td>\n",
       "      <td>803.00000</td>\n",
       "      <td>1503.00000</td>\n",
       "      <td>3.600000e+03</td>\n",
       "    </tr>\n",
       "    <tr>\n",
       "      <th>Is_CH</th>\n",
       "      <td>374661.0</td>\n",
       "      <td>0.115766</td>\n",
       "      <td>0.319945</td>\n",
       "      <td>0.0</td>\n",
       "      <td>0.00000</td>\n",
       "      <td>0.00000</td>\n",
       "      <td>0.00000</td>\n",
       "      <td>1.000000e+00</td>\n",
       "    </tr>\n",
       "    <tr>\n",
       "      <th>who CH</th>\n",
       "      <td>374661.0</td>\n",
       "      <td>274980.411108</td>\n",
       "      <td>389911.221735</td>\n",
       "      <td>101000.0</td>\n",
       "      <td>107096.00000</td>\n",
       "      <td>116072.00000</td>\n",
       "      <td>215073.00000</td>\n",
       "      <td>3.402100e+06</td>\n",
       "    </tr>\n",
       "    <tr>\n",
       "      <th>Dist_To_CH</th>\n",
       "      <td>374661.0</td>\n",
       "      <td>22.599380</td>\n",
       "      <td>21.955794</td>\n",
       "      <td>0.0</td>\n",
       "      <td>4.73544</td>\n",
       "      <td>18.37261</td>\n",
       "      <td>33.77600</td>\n",
       "      <td>2.142746e+02</td>\n",
       "    </tr>\n",
       "    <tr>\n",
       "      <th>ADV_S</th>\n",
       "      <td>374661.0</td>\n",
       "      <td>0.267698</td>\n",
       "      <td>2.061148</td>\n",
       "      <td>0.0</td>\n",
       "      <td>0.00000</td>\n",
       "      <td>0.00000</td>\n",
       "      <td>0.00000</td>\n",
       "      <td>9.700000e+01</td>\n",
       "    </tr>\n",
       "    <tr>\n",
       "      <th>ADV_R</th>\n",
       "      <td>374661.0</td>\n",
       "      <td>6.940562</td>\n",
       "      <td>7.044319</td>\n",
       "      <td>0.0</td>\n",
       "      <td>3.00000</td>\n",
       "      <td>5.00000</td>\n",
       "      <td>7.00000</td>\n",
       "      <td>1.170000e+02</td>\n",
       "    </tr>\n",
       "    <tr>\n",
       "      <th>JOIN_S</th>\n",
       "      <td>374661.0</td>\n",
       "      <td>0.779905</td>\n",
       "      <td>0.414311</td>\n",
       "      <td>0.0</td>\n",
       "      <td>1.00000</td>\n",
       "      <td>1.00000</td>\n",
       "      <td>1.00000</td>\n",
       "      <td>1.000000e+00</td>\n",
       "    </tr>\n",
       "    <tr>\n",
       "      <th>JOIN_R</th>\n",
       "      <td>374661.0</td>\n",
       "      <td>0.737493</td>\n",
       "      <td>4.691498</td>\n",
       "      <td>0.0</td>\n",
       "      <td>0.00000</td>\n",
       "      <td>0.00000</td>\n",
       "      <td>0.00000</td>\n",
       "      <td>1.240000e+02</td>\n",
       "    </tr>\n",
       "    <tr>\n",
       "      <th>SCH_S</th>\n",
       "      <td>374661.0</td>\n",
       "      <td>0.288984</td>\n",
       "      <td>2.754746</td>\n",
       "      <td>0.0</td>\n",
       "      <td>0.00000</td>\n",
       "      <td>0.00000</td>\n",
       "      <td>0.00000</td>\n",
       "      <td>9.900000e+01</td>\n",
       "    </tr>\n",
       "    <tr>\n",
       "      <th>SCH_R</th>\n",
       "      <td>374661.0</td>\n",
       "      <td>0.747452</td>\n",
       "      <td>0.434475</td>\n",
       "      <td>0.0</td>\n",
       "      <td>0.00000</td>\n",
       "      <td>1.00000</td>\n",
       "      <td>1.00000</td>\n",
       "      <td>1.000000e+00</td>\n",
       "    </tr>\n",
       "    <tr>\n",
       "      <th>Rank</th>\n",
       "      <td>374661.0</td>\n",
       "      <td>9.687104</td>\n",
       "      <td>14.681901</td>\n",
       "      <td>0.0</td>\n",
       "      <td>1.00000</td>\n",
       "      <td>3.00000</td>\n",
       "      <td>13.00000</td>\n",
       "      <td>9.900000e+01</td>\n",
       "    </tr>\n",
       "    <tr>\n",
       "      <th>DATA_S</th>\n",
       "      <td>374661.0</td>\n",
       "      <td>44.857925</td>\n",
       "      <td>42.574464</td>\n",
       "      <td>0.0</td>\n",
       "      <td>13.00000</td>\n",
       "      <td>35.00000</td>\n",
       "      <td>62.00000</td>\n",
       "      <td>2.410000e+02</td>\n",
       "    </tr>\n",
       "    <tr>\n",
       "      <th>DATA_R</th>\n",
       "      <td>374661.0</td>\n",
       "      <td>73.890045</td>\n",
       "      <td>230.246335</td>\n",
       "      <td>0.0</td>\n",
       "      <td>0.00000</td>\n",
       "      <td>0.00000</td>\n",
       "      <td>0.00000</td>\n",
       "      <td>1.496000e+03</td>\n",
       "    </tr>\n",
       "    <tr>\n",
       "      <th>Data_Sent_To_BS</th>\n",
       "      <td>374661.0</td>\n",
       "      <td>4.569448</td>\n",
       "      <td>19.679155</td>\n",
       "      <td>0.0</td>\n",
       "      <td>0.00000</td>\n",
       "      <td>0.00000</td>\n",
       "      <td>0.00000</td>\n",
       "      <td>2.410000e+02</td>\n",
       "    </tr>\n",
       "    <tr>\n",
       "      <th>dist_CH_To_BS</th>\n",
       "      <td>374661.0</td>\n",
       "      <td>22.562735</td>\n",
       "      <td>50.261604</td>\n",
       "      <td>0.0</td>\n",
       "      <td>0.00000</td>\n",
       "      <td>0.00000</td>\n",
       "      <td>0.00000</td>\n",
       "      <td>2.019349e+02</td>\n",
       "    </tr>\n",
       "    <tr>\n",
       "      <th>send_code</th>\n",
       "      <td>374661.0</td>\n",
       "      <td>2.497957</td>\n",
       "      <td>2.407337</td>\n",
       "      <td>0.0</td>\n",
       "      <td>1.00000</td>\n",
       "      <td>2.00000</td>\n",
       "      <td>4.00000</td>\n",
       "      <td>1.500000e+01</td>\n",
       "    </tr>\n",
       "    <tr>\n",
       "      <th>Expaned Energy</th>\n",
       "      <td>374661.0</td>\n",
       "      <td>0.305661</td>\n",
       "      <td>0.669462</td>\n",
       "      <td>0.0</td>\n",
       "      <td>0.05615</td>\n",
       "      <td>0.09797</td>\n",
       "      <td>0.21776</td>\n",
       "      <td>4.509394e+01</td>\n",
       "    </tr>\n",
       "  </tbody>\n",
       "</table>\n",
       "</div>"
      ],
      "text/plain": [
       "                     count           mean            std       min  \\\n",
       " id               374661.0  274969.325879  389898.554898  101000.0   \n",
       " Time             374661.0    1064.748712     899.646164      50.0   \n",
       " Is_CH            374661.0       0.115766       0.319945       0.0   \n",
       " who CH           374661.0  274980.411108  389911.221735  101000.0   \n",
       " Dist_To_CH       374661.0      22.599380      21.955794       0.0   \n",
       " ADV_S            374661.0       0.267698       2.061148       0.0   \n",
       " ADV_R            374661.0       6.940562       7.044319       0.0   \n",
       " JOIN_S           374661.0       0.779905       0.414311       0.0   \n",
       " JOIN_R           374661.0       0.737493       4.691498       0.0   \n",
       " SCH_S            374661.0       0.288984       2.754746       0.0   \n",
       " SCH_R            374661.0       0.747452       0.434475       0.0   \n",
       "Rank              374661.0       9.687104      14.681901       0.0   \n",
       " DATA_S           374661.0      44.857925      42.574464       0.0   \n",
       " DATA_R           374661.0      73.890045     230.246335       0.0   \n",
       " Data_Sent_To_BS  374661.0       4.569448      19.679155       0.0   \n",
       " dist_CH_To_BS    374661.0      22.562735      50.261604       0.0   \n",
       " send_code        374661.0       2.497957       2.407337       0.0   \n",
       "Expaned Energy    374661.0       0.305661       0.669462       0.0   \n",
       "\n",
       "                           25%           50%           75%           max  \n",
       " id               107093.00000  116071.00000  215072.00000  3.402096e+06  \n",
       " Time                353.00000     803.00000    1503.00000  3.600000e+03  \n",
       " Is_CH                 0.00000       0.00000       0.00000  1.000000e+00  \n",
       " who CH           107096.00000  116072.00000  215073.00000  3.402100e+06  \n",
       " Dist_To_CH            4.73544      18.37261      33.77600  2.142746e+02  \n",
       " ADV_S                 0.00000       0.00000       0.00000  9.700000e+01  \n",
       " ADV_R                 3.00000       5.00000       7.00000  1.170000e+02  \n",
       " JOIN_S                1.00000       1.00000       1.00000  1.000000e+00  \n",
       " JOIN_R                0.00000       0.00000       0.00000  1.240000e+02  \n",
       " SCH_S                 0.00000       0.00000       0.00000  9.900000e+01  \n",
       " SCH_R                 0.00000       1.00000       1.00000  1.000000e+00  \n",
       "Rank                   1.00000       3.00000      13.00000  9.900000e+01  \n",
       " DATA_S               13.00000      35.00000      62.00000  2.410000e+02  \n",
       " DATA_R                0.00000       0.00000       0.00000  1.496000e+03  \n",
       " Data_Sent_To_BS       0.00000       0.00000       0.00000  2.410000e+02  \n",
       " dist_CH_To_BS         0.00000       0.00000       0.00000  2.019349e+02  \n",
       " send_code             1.00000       2.00000       4.00000  1.500000e+01  \n",
       "Expaned Energy         0.05615       0.09797       0.21776  4.509394e+01  "
      ]
     },
     "execution_count": 7,
     "metadata": {},
     "output_type": "execute_result"
    }
   ],
   "source": [
    "data.describe().T"
   ]
  },
  {
   "cell_type": "code",
   "execution_count": 8,
   "id": "cb57f7f2",
   "metadata": {
    "execution": {
     "iopub.execute_input": "2024-06-24T18:20:25.116950Z",
     "iopub.status.busy": "2024-06-24T18:20:25.116586Z",
     "iopub.status.idle": "2024-06-24T18:20:25.232182Z",
     "shell.execute_reply": "2024-06-24T18:20:25.230973Z"
    },
    "papermill": {
     "duration": 0.130508,
     "end_time": "2024-06-24T18:20:25.235017",
     "exception": false,
     "start_time": "2024-06-24T18:20:25.104509",
     "status": "completed"
    },
    "tags": []
   },
   "outputs": [],
   "source": [
    "# using standard scaler for normalizing\n",
    "std_scaler = StandardScaler()\n",
    "def standardization(df,col):\n",
    "  for i in col:\n",
    "    arr = df[i]\n",
    "    arr = np.array(arr)\n",
    "    df[i] = std_scaler.fit_transform(arr.reshape(len(arr),1))\n",
    "  return df\n",
    "\n",
    "numeric_col = data.select_dtypes(include='number').columns\n",
    "data = standardization(data,numeric_col)"
   ]
  },
  {
   "cell_type": "code",
   "execution_count": 9,
   "id": "ebe13de5",
   "metadata": {
    "execution": {
     "iopub.execute_input": "2024-06-24T18:20:25.260345Z",
     "iopub.status.busy": "2024-06-24T18:20:25.259688Z",
     "iopub.status.idle": "2024-06-24T18:20:25.307620Z",
     "shell.execute_reply": "2024-06-24T18:20:25.306247Z"
    },
    "papermill": {
     "duration": 0.063516,
     "end_time": "2024-06-24T18:20:25.310158",
     "exception": false,
     "start_time": "2024-06-24T18:20:25.246642",
     "status": "completed"
    },
    "tags": []
   },
   "outputs": [],
   "source": [
    "# label encoding (0,1,2,3,4) m.applylti-class labels (Normal,Grayhole,Blackhole,TDMA,Flooding)\n",
    "    \n",
    "classes = {'Normal':0 ,'Grayhole':1,'Blackhole':2,'TDMA':3,'Flooding':4}\n",
    "\n",
    "data['Attack type'] = data['Attack type'].map( classes ).astype(int)\n"
   ]
  },
  {
   "cell_type": "code",
   "execution_count": 10,
   "id": "a79fee50",
   "metadata": {
    "execution": {
     "iopub.execute_input": "2024-06-24T18:20:25.335087Z",
     "iopub.status.busy": "2024-06-24T18:20:25.334703Z",
     "iopub.status.idle": "2024-06-24T18:20:25.390959Z",
     "shell.execute_reply": "2024-06-24T18:20:25.389866Z"
    },
    "papermill": {
     "duration": 0.071738,
     "end_time": "2024-06-24T18:20:25.393574",
     "exception": false,
     "start_time": "2024-06-24T18:20:25.321836",
     "status": "completed"
    },
    "tags": []
   },
   "outputs": [],
   "source": [
    "X = data.drop(['Attack type'] , axis=1)\n",
    "y = data['Attack type']"
   ]
  },
  {
   "cell_type": "code",
   "execution_count": 11,
   "id": "268e09d1",
   "metadata": {
    "execution": {
     "iopub.execute_input": "2024-06-24T18:20:25.417742Z",
     "iopub.status.busy": "2024-06-24T18:20:25.417104Z",
     "iopub.status.idle": "2024-06-24T18:20:25.521887Z",
     "shell.execute_reply": "2024-06-24T18:20:25.520727Z"
    },
    "papermill": {
     "duration": 0.119656,
     "end_time": "2024-06-24T18:20:25.524417",
     "exception": false,
     "start_time": "2024-06-24T18:20:25.404761",
     "status": "completed"
    },
    "tags": []
   },
   "outputs": [],
   "source": [
    "from sklearn.preprocessing import LabelBinarizer\n",
    "\n",
    "y = LabelBinarizer().fit_transform(y)"
   ]
  },
  {
   "cell_type": "code",
   "execution_count": 12,
   "id": "2cd7f0fe",
   "metadata": {
    "execution": {
     "iopub.execute_input": "2024-06-24T18:20:25.547140Z",
     "iopub.status.busy": "2024-06-24T18:20:25.546764Z",
     "iopub.status.idle": "2024-06-24T18:20:25.596152Z",
     "shell.execute_reply": "2024-06-24T18:20:25.595284Z"
    },
    "papermill": {
     "duration": 0.063488,
     "end_time": "2024-06-24T18:20:25.598618",
     "exception": false,
     "start_time": "2024-06-24T18:20:25.535130",
     "status": "completed"
    },
    "tags": []
   },
   "outputs": [],
   "source": [
    "X=np.array(X)\n",
    "y=np.array(y)"
   ]
  },
  {
   "cell_type": "code",
   "execution_count": 13,
   "id": "ed0da878",
   "metadata": {
    "execution": {
     "iopub.execute_input": "2024-06-24T18:20:25.621344Z",
     "iopub.status.busy": "2024-06-24T18:20:25.621038Z",
     "iopub.status.idle": "2024-06-24T18:20:25.778581Z",
     "shell.execute_reply": "2024-06-24T18:20:25.777532Z"
    },
    "papermill": {
     "duration": 0.172194,
     "end_time": "2024-06-24T18:20:25.781275",
     "exception": false,
     "start_time": "2024-06-24T18:20:25.609081",
     "status": "completed"
    },
    "tags": []
   },
   "outputs": [],
   "source": [
    "# splitting the dataset 67% for training and 33% testing and evaluating\n",
    "X_train, X_temp, y_train, y_temp = train_test_split(X,y, test_size=0.33, random_state=42)\n",
    "\n",
    "X_test, X_val, y_test, y_val = train_test_split(X_temp,y_temp, test_size=0.5, random_state=42)"
   ]
  },
  {
   "cell_type": "code",
   "execution_count": 14,
   "id": "afcf8a3f",
   "metadata": {
    "execution": {
     "iopub.execute_input": "2024-06-24T18:20:25.806716Z",
     "iopub.status.busy": "2024-06-24T18:20:25.806313Z",
     "iopub.status.idle": "2024-06-24T18:20:25.812045Z",
     "shell.execute_reply": "2024-06-24T18:20:25.811020Z"
    },
    "papermill": {
     "duration": 0.021051,
     "end_time": "2024-06-24T18:20:25.814345",
     "exception": false,
     "start_time": "2024-06-24T18:20:25.793294",
     "status": "completed"
    },
    "tags": []
   },
   "outputs": [],
   "source": [
    "X_train = np.reshape(X_train, (X_train.shape[0], X_train.shape[1], 1))\n",
    "X_val = np.reshape(X_val, (X_val.shape[0], X_val.shape[1], 1))"
   ]
  },
  {
   "cell_type": "code",
   "execution_count": 15,
   "id": "12843b03",
   "metadata": {
    "execution": {
     "iopub.execute_input": "2024-06-24T18:20:25.839142Z",
     "iopub.status.busy": "2024-06-24T18:20:25.838770Z",
     "iopub.status.idle": "2024-06-24T18:20:25.843681Z",
     "shell.execute_reply": "2024-06-24T18:20:25.842746Z"
    },
    "papermill": {
     "duration": 0.02063,
     "end_time": "2024-06-24T18:20:25.846368",
     "exception": false,
     "start_time": "2024-06-24T18:20:25.825738",
     "status": "completed"
    },
    "tags": []
   },
   "outputs": [],
   "source": [
    "X_test = np.reshape(X_test, (X_test.shape[0], X_test.shape[1]))\n"
   ]
  },
  {
   "cell_type": "code",
   "execution_count": 16,
   "id": "3747c26d",
   "metadata": {
    "execution": {
     "iopub.execute_input": "2024-06-24T18:20:25.870363Z",
     "iopub.status.busy": "2024-06-24T18:20:25.870054Z",
     "iopub.status.idle": "2024-06-24T18:20:27.125653Z",
     "shell.execute_reply": "2024-06-24T18:20:27.124845Z"
    },
    "papermill": {
     "duration": 1.269833,
     "end_time": "2024-06-24T18:20:27.128163",
     "exception": false,
     "start_time": "2024-06-24T18:20:25.858330",
     "status": "completed"
    },
    "tags": []
   },
   "outputs": [
    {
     "name": "stderr",
     "output_type": "stream",
     "text": [
      "/opt/conda/lib/python3.10/site-packages/keras/src/layers/rnn/rnn.py:204: UserWarning: Do not pass an `input_shape`/`input_dim` argument to a layer. When using Sequential models, prefer using an `Input(shape)` object as the first layer in the model instead.\n",
      "  super().__init__(**kwargs)\n"
     ]
    }
   ],
   "source": [
    "model = Sequential()\n",
    "model.add(LSTM(100, return_sequences=True, input_shape=(X_train.shape[1], X_train.shape[2])))\n",
    "model.add(Flatten())\n",
    "model.add(Dense(256,activation='relu'))\n",
    "model.add(Dropout(.4))\n",
    "model.add(Dense(5,activation='softmax'))"
   ]
  },
  {
   "cell_type": "code",
   "execution_count": 17,
   "id": "ec28bf36",
   "metadata": {
    "execution": {
     "iopub.execute_input": "2024-06-24T18:20:27.150939Z",
     "iopub.status.busy": "2024-06-24T18:20:27.150584Z",
     "iopub.status.idle": "2024-06-24T18:20:27.171064Z",
     "shell.execute_reply": "2024-06-24T18:20:27.170163Z"
    },
    "papermill": {
     "duration": 0.034022,
     "end_time": "2024-06-24T18:20:27.173113",
     "exception": false,
     "start_time": "2024-06-24T18:20:27.139091",
     "status": "completed"
    },
    "tags": []
   },
   "outputs": [
    {
     "data": {
      "text/html": [
       "<pre style=\"white-space:pre;overflow-x:auto;line-height:normal;font-family:Menlo,'DejaVu Sans Mono',consolas,'Courier New',monospace\"><span style=\"font-weight: bold\">Model: \"sequential\"</span>\n",
       "</pre>\n"
      ],
      "text/plain": [
       "\u001b[1mModel: \"sequential\"\u001b[0m\n"
      ]
     },
     "metadata": {},
     "output_type": "display_data"
    },
    {
     "data": {
      "text/html": [
       "<pre style=\"white-space:pre;overflow-x:auto;line-height:normal;font-family:Menlo,'DejaVu Sans Mono',consolas,'Courier New',monospace\">┏━━━━━━━━━━━━━━━━━━━━━━━━━━━━━━━━━┳━━━━━━━━━━━━━━━━━━━━━━━━┳━━━━━━━━━━━━━━━┓\n",
       "┃<span style=\"font-weight: bold\"> Layer (type)                    </span>┃<span style=\"font-weight: bold\"> Output Shape           </span>┃<span style=\"font-weight: bold\">       Param # </span>┃\n",
       "┡━━━━━━━━━━━━━━━━━━━━━━━━━━━━━━━━━╇━━━━━━━━━━━━━━━━━━━━━━━━╇━━━━━━━━━━━━━━━┩\n",
       "│ lstm (<span style=\"color: #0087ff; text-decoration-color: #0087ff\">LSTM</span>)                     │ (<span style=\"color: #00d7ff; text-decoration-color: #00d7ff\">None</span>, <span style=\"color: #00af00; text-decoration-color: #00af00\">18</span>, <span style=\"color: #00af00; text-decoration-color: #00af00\">100</span>)        │        <span style=\"color: #00af00; text-decoration-color: #00af00\">40,800</span> │\n",
       "├─────────────────────────────────┼────────────────────────┼───────────────┤\n",
       "│ flatten (<span style=\"color: #0087ff; text-decoration-color: #0087ff\">Flatten</span>)               │ (<span style=\"color: #00d7ff; text-decoration-color: #00d7ff\">None</span>, <span style=\"color: #00af00; text-decoration-color: #00af00\">1800</span>)           │             <span style=\"color: #00af00; text-decoration-color: #00af00\">0</span> │\n",
       "├─────────────────────────────────┼────────────────────────┼───────────────┤\n",
       "│ dense (<span style=\"color: #0087ff; text-decoration-color: #0087ff\">Dense</span>)                   │ (<span style=\"color: #00d7ff; text-decoration-color: #00d7ff\">None</span>, <span style=\"color: #00af00; text-decoration-color: #00af00\">256</span>)            │       <span style=\"color: #00af00; text-decoration-color: #00af00\">461,056</span> │\n",
       "├─────────────────────────────────┼────────────────────────┼───────────────┤\n",
       "│ dropout (<span style=\"color: #0087ff; text-decoration-color: #0087ff\">Dropout</span>)               │ (<span style=\"color: #00d7ff; text-decoration-color: #00d7ff\">None</span>, <span style=\"color: #00af00; text-decoration-color: #00af00\">256</span>)            │             <span style=\"color: #00af00; text-decoration-color: #00af00\">0</span> │\n",
       "├─────────────────────────────────┼────────────────────────┼───────────────┤\n",
       "│ dense_1 (<span style=\"color: #0087ff; text-decoration-color: #0087ff\">Dense</span>)                 │ (<span style=\"color: #00d7ff; text-decoration-color: #00d7ff\">None</span>, <span style=\"color: #00af00; text-decoration-color: #00af00\">5</span>)              │         <span style=\"color: #00af00; text-decoration-color: #00af00\">1,285</span> │\n",
       "└─────────────────────────────────┴────────────────────────┴───────────────┘\n",
       "</pre>\n"
      ],
      "text/plain": [
       "┏━━━━━━━━━━━━━━━━━━━━━━━━━━━━━━━━━┳━━━━━━━━━━━━━━━━━━━━━━━━┳━━━━━━━━━━━━━━━┓\n",
       "┃\u001b[1m \u001b[0m\u001b[1mLayer (type)                   \u001b[0m\u001b[1m \u001b[0m┃\u001b[1m \u001b[0m\u001b[1mOutput Shape          \u001b[0m\u001b[1m \u001b[0m┃\u001b[1m \u001b[0m\u001b[1m      Param #\u001b[0m\u001b[1m \u001b[0m┃\n",
       "┡━━━━━━━━━━━━━━━━━━━━━━━━━━━━━━━━━╇━━━━━━━━━━━━━━━━━━━━━━━━╇━━━━━━━━━━━━━━━┩\n",
       "│ lstm (\u001b[38;5;33mLSTM\u001b[0m)                     │ (\u001b[38;5;45mNone\u001b[0m, \u001b[38;5;34m18\u001b[0m, \u001b[38;5;34m100\u001b[0m)        │        \u001b[38;5;34m40,800\u001b[0m │\n",
       "├─────────────────────────────────┼────────────────────────┼───────────────┤\n",
       "│ flatten (\u001b[38;5;33mFlatten\u001b[0m)               │ (\u001b[38;5;45mNone\u001b[0m, \u001b[38;5;34m1800\u001b[0m)           │             \u001b[38;5;34m0\u001b[0m │\n",
       "├─────────────────────────────────┼────────────────────────┼───────────────┤\n",
       "│ dense (\u001b[38;5;33mDense\u001b[0m)                   │ (\u001b[38;5;45mNone\u001b[0m, \u001b[38;5;34m256\u001b[0m)            │       \u001b[38;5;34m461,056\u001b[0m │\n",
       "├─────────────────────────────────┼────────────────────────┼───────────────┤\n",
       "│ dropout (\u001b[38;5;33mDropout\u001b[0m)               │ (\u001b[38;5;45mNone\u001b[0m, \u001b[38;5;34m256\u001b[0m)            │             \u001b[38;5;34m0\u001b[0m │\n",
       "├─────────────────────────────────┼────────────────────────┼───────────────┤\n",
       "│ dense_1 (\u001b[38;5;33mDense\u001b[0m)                 │ (\u001b[38;5;45mNone\u001b[0m, \u001b[38;5;34m5\u001b[0m)              │         \u001b[38;5;34m1,285\u001b[0m │\n",
       "└─────────────────────────────────┴────────────────────────┴───────────────┘\n"
      ]
     },
     "metadata": {},
     "output_type": "display_data"
    },
    {
     "data": {
      "text/html": [
       "<pre style=\"white-space:pre;overflow-x:auto;line-height:normal;font-family:Menlo,'DejaVu Sans Mono',consolas,'Courier New',monospace\"><span style=\"font-weight: bold\"> Total params: </span><span style=\"color: #00af00; text-decoration-color: #00af00\">503,141</span> (1.92 MB)\n",
       "</pre>\n"
      ],
      "text/plain": [
       "\u001b[1m Total params: \u001b[0m\u001b[38;5;34m503,141\u001b[0m (1.92 MB)\n"
      ]
     },
     "metadata": {},
     "output_type": "display_data"
    },
    {
     "data": {
      "text/html": [
       "<pre style=\"white-space:pre;overflow-x:auto;line-height:normal;font-family:Menlo,'DejaVu Sans Mono',consolas,'Courier New',monospace\"><span style=\"font-weight: bold\"> Trainable params: </span><span style=\"color: #00af00; text-decoration-color: #00af00\">503,141</span> (1.92 MB)\n",
       "</pre>\n"
      ],
      "text/plain": [
       "\u001b[1m Trainable params: \u001b[0m\u001b[38;5;34m503,141\u001b[0m (1.92 MB)\n"
      ]
     },
     "metadata": {},
     "output_type": "display_data"
    },
    {
     "data": {
      "text/html": [
       "<pre style=\"white-space:pre;overflow-x:auto;line-height:normal;font-family:Menlo,'DejaVu Sans Mono',consolas,'Courier New',monospace\"><span style=\"font-weight: bold\"> Non-trainable params: </span><span style=\"color: #00af00; text-decoration-color: #00af00\">0</span> (0.00 B)\n",
       "</pre>\n"
      ],
      "text/plain": [
       "\u001b[1m Non-trainable params: \u001b[0m\u001b[38;5;34m0\u001b[0m (0.00 B)\n"
      ]
     },
     "metadata": {},
     "output_type": "display_data"
    }
   ],
   "source": [
    "model.summary()"
   ]
  },
  {
   "cell_type": "code",
   "execution_count": 18,
   "id": "d27797ba",
   "metadata": {
    "execution": {
     "iopub.execute_input": "2024-06-24T18:20:27.198241Z",
     "iopub.status.busy": "2024-06-24T18:20:27.197931Z",
     "iopub.status.idle": "2024-06-24T18:20:27.212669Z",
     "shell.execute_reply": "2024-06-24T18:20:27.211856Z"
    },
    "papermill": {
     "duration": 0.030249,
     "end_time": "2024-06-24T18:20:27.214900",
     "exception": false,
     "start_time": "2024-06-24T18:20:27.184651",
     "status": "completed"
    },
    "tags": []
   },
   "outputs": [],
   "source": [
    "model.compile(loss=\"categorical_crossentropy\", optimizer=\"adam\",metrics=['accuracy'])"
   ]
  },
  {
   "cell_type": "code",
   "execution_count": 19,
   "id": "88e4adb4",
   "metadata": {
    "execution": {
     "iopub.execute_input": "2024-06-24T18:20:27.239839Z",
     "iopub.status.busy": "2024-06-24T18:20:27.239244Z",
     "iopub.status.idle": "2024-06-24T18:22:12.613367Z",
     "shell.execute_reply": "2024-06-24T18:22:12.612436Z"
    },
    "papermill": {
     "duration": 105.38884,
     "end_time": "2024-06-24T18:22:12.615616",
     "exception": false,
     "start_time": "2024-06-24T18:20:27.226776",
     "status": "completed"
    },
    "tags": []
   },
   "outputs": [
    {
     "name": "stdout",
     "output_type": "stream",
     "text": [
      "Epoch 1/30\n",
      "\u001b[1m503/503\u001b[0m \u001b[32m━━━━━━━━━━━━━━━━━━━━\u001b[0m\u001b[37m\u001b[0m \u001b[1m8s\u001b[0m 7ms/step - accuracy: 0.9493 - loss: 0.2094 - val_accuracy: 0.9791 - val_loss: 0.0481\n",
      "Epoch 2/30\n",
      "\u001b[1m503/503\u001b[0m \u001b[32m━━━━━━━━━━━━━━━━━━━━\u001b[0m\u001b[37m\u001b[0m \u001b[1m3s\u001b[0m 7ms/step - accuracy: 0.9777 - loss: 0.0498 - val_accuracy: 0.9814 - val_loss: 0.0396\n",
      "Epoch 3/30\n",
      "\u001b[1m503/503\u001b[0m \u001b[32m━━━━━━━━━━━━━━━━━━━━\u001b[0m\u001b[37m\u001b[0m \u001b[1m3s\u001b[0m 7ms/step - accuracy: 0.9803 - loss: 0.0437 - val_accuracy: 0.9810 - val_loss: 0.0395\n",
      "Epoch 4/30\n",
      "\u001b[1m503/503\u001b[0m \u001b[32m━━━━━━━━━━━━━━━━━━━━\u001b[0m\u001b[37m\u001b[0m \u001b[1m3s\u001b[0m 7ms/step - accuracy: 0.9808 - loss: 0.0406 - val_accuracy: 0.9813 - val_loss: 0.0376\n",
      "Epoch 5/30\n",
      "\u001b[1m503/503\u001b[0m \u001b[32m━━━━━━━━━━━━━━━━━━━━\u001b[0m\u001b[37m\u001b[0m \u001b[1m3s\u001b[0m 7ms/step - accuracy: 0.9817 - loss: 0.0395 - val_accuracy: 0.9821 - val_loss: 0.0368\n",
      "Epoch 6/30\n",
      "\u001b[1m503/503\u001b[0m \u001b[32m━━━━━━━━━━━━━━━━━━━━\u001b[0m\u001b[37m\u001b[0m \u001b[1m3s\u001b[0m 7ms/step - accuracy: 0.9816 - loss: 0.0389 - val_accuracy: 0.9830 - val_loss: 0.0361\n",
      "Epoch 7/30\n",
      "\u001b[1m503/503\u001b[0m \u001b[32m━━━━━━━━━━━━━━━━━━━━\u001b[0m\u001b[37m\u001b[0m \u001b[1m3s\u001b[0m 7ms/step - accuracy: 0.9819 - loss: 0.0386 - val_accuracy: 0.9835 - val_loss: 0.0357\n",
      "Epoch 8/30\n",
      "\u001b[1m503/503\u001b[0m \u001b[32m━━━━━━━━━━━━━━━━━━━━\u001b[0m\u001b[37m\u001b[0m \u001b[1m4s\u001b[0m 7ms/step - accuracy: 0.9826 - loss: 0.0375 - val_accuracy: 0.9838 - val_loss: 0.0358\n",
      "Epoch 9/30\n",
      "\u001b[1m503/503\u001b[0m \u001b[32m━━━━━━━━━━━━━━━━━━━━\u001b[0m\u001b[37m\u001b[0m \u001b[1m3s\u001b[0m 7ms/step - accuracy: 0.9833 - loss: 0.0366 - val_accuracy: 0.9834 - val_loss: 0.0356\n",
      "Epoch 10/30\n",
      "\u001b[1m503/503\u001b[0m \u001b[32m━━━━━━━━━━━━━━━━━━━━\u001b[0m\u001b[37m\u001b[0m \u001b[1m3s\u001b[0m 7ms/step - accuracy: 0.9835 - loss: 0.0364 - val_accuracy: 0.9812 - val_loss: 0.0352\n",
      "Epoch 11/30\n",
      "\u001b[1m503/503\u001b[0m \u001b[32m━━━━━━━━━━━━━━━━━━━━\u001b[0m\u001b[37m\u001b[0m \u001b[1m3s\u001b[0m 7ms/step - accuracy: 0.9837 - loss: 0.0364 - val_accuracy: 0.9858 - val_loss: 0.0340\n",
      "Epoch 12/30\n",
      "\u001b[1m503/503\u001b[0m \u001b[32m━━━━━━━━━━━━━━━━━━━━\u001b[0m\u001b[37m\u001b[0m \u001b[1m3s\u001b[0m 7ms/step - accuracy: 0.9847 - loss: 0.0356 - val_accuracy: 0.9863 - val_loss: 0.0334\n",
      "Epoch 13/30\n",
      "\u001b[1m503/503\u001b[0m \u001b[32m━━━━━━━━━━━━━━━━━━━━\u001b[0m\u001b[37m\u001b[0m \u001b[1m3s\u001b[0m 7ms/step - accuracy: 0.9854 - loss: 0.0352 - val_accuracy: 0.9867 - val_loss: 0.0327\n",
      "Epoch 14/30\n",
      "\u001b[1m503/503\u001b[0m \u001b[32m━━━━━━━━━━━━━━━━━━━━\u001b[0m\u001b[37m\u001b[0m \u001b[1m3s\u001b[0m 7ms/step - accuracy: 0.9861 - loss: 0.0342 - val_accuracy: 0.9872 - val_loss: 0.0320\n",
      "Epoch 15/30\n",
      "\u001b[1m503/503\u001b[0m \u001b[32m━━━━━━━━━━━━━━━━━━━━\u001b[0m\u001b[37m\u001b[0m \u001b[1m3s\u001b[0m 7ms/step - accuracy: 0.9866 - loss: 0.0334 - val_accuracy: 0.9874 - val_loss: 0.0315\n",
      "Epoch 16/30\n",
      "\u001b[1m503/503\u001b[0m \u001b[32m━━━━━━━━━━━━━━━━━━━━\u001b[0m\u001b[37m\u001b[0m \u001b[1m3s\u001b[0m 7ms/step - accuracy: 0.9864 - loss: 0.0344 - val_accuracy: 0.9870 - val_loss: 0.0317\n",
      "Epoch 17/30\n",
      "\u001b[1m503/503\u001b[0m \u001b[32m━━━━━━━━━━━━━━━━━━━━\u001b[0m\u001b[37m\u001b[0m \u001b[1m3s\u001b[0m 7ms/step - accuracy: 0.9871 - loss: 0.0332 - val_accuracy: 0.9871 - val_loss: 0.0305\n",
      "Epoch 18/30\n",
      "\u001b[1m503/503\u001b[0m \u001b[32m━━━━━━━━━━━━━━━━━━━━\u001b[0m\u001b[37m\u001b[0m \u001b[1m3s\u001b[0m 7ms/step - accuracy: 0.9875 - loss: 0.0326 - val_accuracy: 0.9880 - val_loss: 0.0300\n",
      "Epoch 19/30\n",
      "\u001b[1m503/503\u001b[0m \u001b[32m━━━━━━━━━━━━━━━━━━━━\u001b[0m\u001b[37m\u001b[0m \u001b[1m3s\u001b[0m 7ms/step - accuracy: 0.9875 - loss: 0.0325 - val_accuracy: 0.9880 - val_loss: 0.0294\n",
      "Epoch 20/30\n",
      "\u001b[1m503/503\u001b[0m \u001b[32m━━━━━━━━━━━━━━━━━━━━\u001b[0m\u001b[37m\u001b[0m \u001b[1m3s\u001b[0m 7ms/step - accuracy: 0.9878 - loss: 0.0308 - val_accuracy: 0.9895 - val_loss: 0.0300\n",
      "Epoch 21/30\n",
      "\u001b[1m503/503\u001b[0m \u001b[32m━━━━━━━━━━━━━━━━━━━━\u001b[0m\u001b[37m\u001b[0m \u001b[1m3s\u001b[0m 7ms/step - accuracy: 0.9886 - loss: 0.0308 - val_accuracy: 0.9862 - val_loss: 0.0306\n",
      "Epoch 22/30\n",
      "\u001b[1m503/503\u001b[0m \u001b[32m━━━━━━━━━━━━━━━━━━━━\u001b[0m\u001b[37m\u001b[0m \u001b[1m3s\u001b[0m 7ms/step - accuracy: 0.9878 - loss: 0.0312 - val_accuracy: 0.9902 - val_loss: 0.0274\n",
      "Epoch 23/30\n",
      "\u001b[1m503/503\u001b[0m \u001b[32m━━━━━━━━━━━━━━━━━━━━\u001b[0m\u001b[37m\u001b[0m \u001b[1m3s\u001b[0m 7ms/step - accuracy: 0.9897 - loss: 0.0287 - val_accuracy: 0.9912 - val_loss: 0.0269\n",
      "Epoch 24/30\n",
      "\u001b[1m503/503\u001b[0m \u001b[32m━━━━━━━━━━━━━━━━━━━━\u001b[0m\u001b[37m\u001b[0m \u001b[1m3s\u001b[0m 7ms/step - accuracy: 0.9896 - loss: 0.0287 - val_accuracy: 0.9894 - val_loss: 0.0280\n",
      "Epoch 25/30\n",
      "\u001b[1m503/503\u001b[0m \u001b[32m━━━━━━━━━━━━━━━━━━━━\u001b[0m\u001b[37m\u001b[0m \u001b[1m3s\u001b[0m 6ms/step - accuracy: 0.9890 - loss: 0.0291 - val_accuracy: 0.9900 - val_loss: 0.0270\n",
      "Epoch 26/30\n",
      "\u001b[1m503/503\u001b[0m \u001b[32m━━━━━━━━━━━━━━━━━━━━\u001b[0m\u001b[37m\u001b[0m \u001b[1m3s\u001b[0m 7ms/step - accuracy: 0.9895 - loss: 0.0281 - val_accuracy: 0.9918 - val_loss: 0.0247\n",
      "Epoch 27/30\n",
      "\u001b[1m503/503\u001b[0m \u001b[32m━━━━━━━━━━━━━━━━━━━━\u001b[0m\u001b[37m\u001b[0m \u001b[1m3s\u001b[0m 7ms/step - accuracy: 0.9909 - loss: 0.0275 - val_accuracy: 0.9909 - val_loss: 0.0277\n",
      "Epoch 28/30\n",
      "\u001b[1m503/503\u001b[0m \u001b[32m━━━━━━━━━━━━━━━━━━━━\u001b[0m\u001b[37m\u001b[0m \u001b[1m3s\u001b[0m 6ms/step - accuracy: 0.9885 - loss: 0.0296 - val_accuracy: 0.9898 - val_loss: 0.0274\n",
      "Epoch 29/30\n",
      "\u001b[1m503/503\u001b[0m \u001b[32m━━━━━━━━━━━━━━━━━━━━\u001b[0m\u001b[37m\u001b[0m \u001b[1m3s\u001b[0m 6ms/step - accuracy: 0.9896 - loss: 0.0281 - val_accuracy: 0.9890 - val_loss: 0.0286\n",
      "Epoch 30/30\n",
      "\u001b[1m503/503\u001b[0m \u001b[32m━━━━━━━━━━━━━━━━━━━━\u001b[0m\u001b[37m\u001b[0m \u001b[1m3s\u001b[0m 7ms/step - accuracy: 0.9898 - loss: 0.0284 - val_accuracy: 0.9902 - val_loss: 0.0274\n"
     ]
    }
   ],
   "source": [
    "history=model.fit(X_train, y_train, epochs=30,verbose=1,batch_size=500,validation_data=(X_val, y_val))"
   ]
  },
  {
   "cell_type": "code",
   "execution_count": 20,
   "id": "6a2a8220",
   "metadata": {
    "execution": {
     "iopub.execute_input": "2024-06-24T18:22:13.000852Z",
     "iopub.status.busy": "2024-06-24T18:22:13.000408Z",
     "iopub.status.idle": "2024-06-24T18:22:30.462438Z",
     "shell.execute_reply": "2024-06-24T18:22:30.461383Z"
    },
    "papermill": {
     "duration": 17.629006,
     "end_time": "2024-06-24T18:22:30.465571",
     "exception": false,
     "start_time": "2024-06-24T18:22:12.836565",
     "status": "completed"
    },
    "tags": []
   },
   "outputs": [
    {
     "name": "stdout",
     "output_type": "stream",
     "text": [
      "\u001b[1m7845/7845\u001b[0m \u001b[32m━━━━━━━━━━━━━━━━━━━━\u001b[0m\u001b[37m\u001b[0m \u001b[1m12s\u001b[0m 2ms/step\n"
     ]
    }
   ],
   "source": [
    "feature_extractor = tf.keras.Model(inputs=model.inputs, outputs=model.layers[-2].output)\n",
    "\n",
    "# Extract features for the training data\n",
    "X_train_features = feature_extractor.predict(X_train)\n",
    "\n",
    "# Get the output from the Flatten layer of the CNN-LSTM model\n",
    "# try not flatten test\n",
    "\n",
    "#Import Libraries\n",
    "from sklearn.ensemble import RandomForestClassifier\n",
    "\n",
    "#Applying KNeighborsRegressor Model \n"
   ]
  },
  {
   "cell_type": "code",
   "execution_count": 21,
   "id": "3cc02451",
   "metadata": {
    "execution": {
     "iopub.execute_input": "2024-06-24T18:22:30.853975Z",
     "iopub.status.busy": "2024-06-24T18:22:30.853558Z",
     "iopub.status.idle": "2024-06-24T18:22:30.987013Z",
     "shell.execute_reply": "2024-06-24T18:22:30.985863Z"
    },
    "papermill": {
     "duration": 0.329955,
     "end_time": "2024-06-24T18:22:30.989513",
     "exception": false,
     "start_time": "2024-06-24T18:22:30.659558",
     "status": "completed"
    },
    "tags": []
   },
   "outputs": [],
   "source": [
    "X_train, X_test, y_train, y_test = train_test_split(X_train_features, y_train, test_size=0.33, random_state=42)\n"
   ]
  },
  {
   "cell_type": "code",
   "execution_count": 22,
   "id": "72659061",
   "metadata": {
    "execution": {
     "iopub.execute_input": "2024-06-24T18:22:31.372233Z",
     "iopub.status.busy": "2024-06-24T18:22:31.371861Z",
     "iopub.status.idle": "2024-06-24T18:27:55.517502Z",
     "shell.execute_reply": "2024-06-24T18:27:55.516574Z"
    },
    "papermill": {
     "duration": 324.524756,
     "end_time": "2024-06-24T18:27:55.703298",
     "exception": false,
     "start_time": "2024-06-24T18:22:31.178542",
     "status": "completed"
    },
    "tags": []
   },
   "outputs": [
    {
     "data": {
      "text/html": [
       "<style>#sk-container-id-1 {color: black;background-color: white;}#sk-container-id-1 pre{padding: 0;}#sk-container-id-1 div.sk-toggleable {background-color: white;}#sk-container-id-1 label.sk-toggleable__label {cursor: pointer;display: block;width: 100%;margin-bottom: 0;padding: 0.3em;box-sizing: border-box;text-align: center;}#sk-container-id-1 label.sk-toggleable__label-arrow:before {content: \"▸\";float: left;margin-right: 0.25em;color: #696969;}#sk-container-id-1 label.sk-toggleable__label-arrow:hover:before {color: black;}#sk-container-id-1 div.sk-estimator:hover label.sk-toggleable__label-arrow:before {color: black;}#sk-container-id-1 div.sk-toggleable__content {max-height: 0;max-width: 0;overflow: hidden;text-align: left;background-color: #f0f8ff;}#sk-container-id-1 div.sk-toggleable__content pre {margin: 0.2em;color: black;border-radius: 0.25em;background-color: #f0f8ff;}#sk-container-id-1 input.sk-toggleable__control:checked~div.sk-toggleable__content {max-height: 200px;max-width: 100%;overflow: auto;}#sk-container-id-1 input.sk-toggleable__control:checked~label.sk-toggleable__label-arrow:before {content: \"▾\";}#sk-container-id-1 div.sk-estimator input.sk-toggleable__control:checked~label.sk-toggleable__label {background-color: #d4ebff;}#sk-container-id-1 div.sk-label input.sk-toggleable__control:checked~label.sk-toggleable__label {background-color: #d4ebff;}#sk-container-id-1 input.sk-hidden--visually {border: 0;clip: rect(1px 1px 1px 1px);clip: rect(1px, 1px, 1px, 1px);height: 1px;margin: -1px;overflow: hidden;padding: 0;position: absolute;width: 1px;}#sk-container-id-1 div.sk-estimator {font-family: monospace;background-color: #f0f8ff;border: 1px dotted black;border-radius: 0.25em;box-sizing: border-box;margin-bottom: 0.5em;}#sk-container-id-1 div.sk-estimator:hover {background-color: #d4ebff;}#sk-container-id-1 div.sk-parallel-item::after {content: \"\";width: 100%;border-bottom: 1px solid gray;flex-grow: 1;}#sk-container-id-1 div.sk-label:hover label.sk-toggleable__label {background-color: #d4ebff;}#sk-container-id-1 div.sk-serial::before {content: \"\";position: absolute;border-left: 1px solid gray;box-sizing: border-box;top: 0;bottom: 0;left: 50%;z-index: 0;}#sk-container-id-1 div.sk-serial {display: flex;flex-direction: column;align-items: center;background-color: white;padding-right: 0.2em;padding-left: 0.2em;position: relative;}#sk-container-id-1 div.sk-item {position: relative;z-index: 1;}#sk-container-id-1 div.sk-parallel {display: flex;align-items: stretch;justify-content: center;background-color: white;position: relative;}#sk-container-id-1 div.sk-item::before, #sk-container-id-1 div.sk-parallel-item::before {content: \"\";position: absolute;border-left: 1px solid gray;box-sizing: border-box;top: 0;bottom: 0;left: 50%;z-index: -1;}#sk-container-id-1 div.sk-parallel-item {display: flex;flex-direction: column;z-index: 1;position: relative;background-color: white;}#sk-container-id-1 div.sk-parallel-item:first-child::after {align-self: flex-end;width: 50%;}#sk-container-id-1 div.sk-parallel-item:last-child::after {align-self: flex-start;width: 50%;}#sk-container-id-1 div.sk-parallel-item:only-child::after {width: 0;}#sk-container-id-1 div.sk-dashed-wrapped {border: 1px dashed gray;margin: 0 0.4em 0.5em 0.4em;box-sizing: border-box;padding-bottom: 0.4em;background-color: white;}#sk-container-id-1 div.sk-label label {font-family: monospace;font-weight: bold;display: inline-block;line-height: 1.2em;}#sk-container-id-1 div.sk-label-container {text-align: center;}#sk-container-id-1 div.sk-container {/* jupyter's `normalize.less` sets `[hidden] { display: none; }` but bootstrap.min.css set `[hidden] { display: none !important; }` so we also need the `!important` here to be able to override the default hidden behavior on the sphinx rendered scikit-learn.org. See: https://github.com/scikit-learn/scikit-learn/issues/21755 */display: inline-block !important;position: relative;}#sk-container-id-1 div.sk-text-repr-fallback {display: none;}</style><div id=\"sk-container-id-1\" class=\"sk-top-container\"><div class=\"sk-text-repr-fallback\"><pre>RandomForestClassifier(random_state=0)</pre><b>In a Jupyter environment, please rerun this cell to show the HTML representation or trust the notebook. <br />On GitHub, the HTML representation is unable to render, please try loading this page with nbviewer.org.</b></div><div class=\"sk-container\" hidden><div class=\"sk-item\"><div class=\"sk-estimator sk-toggleable\"><input class=\"sk-toggleable__control sk-hidden--visually\" id=\"sk-estimator-id-1\" type=\"checkbox\" checked><label for=\"sk-estimator-id-1\" class=\"sk-toggleable__label sk-toggleable__label-arrow\">RandomForestClassifier</label><div class=\"sk-toggleable__content\"><pre>RandomForestClassifier(random_state=0)</pre></div></div></div></div></div>"
      ],
      "text/plain": [
       "RandomForestClassifier(random_state=0)"
      ]
     },
     "execution_count": 22,
     "metadata": {},
     "output_type": "execute_result"
    }
   ],
   "source": [
    "proposed =  RandomForestClassifier(n_estimators=100, random_state=0)\n",
    "    \n",
    "proposed.fit(X_train, y_train)"
   ]
  },
  {
   "cell_type": "code",
   "execution_count": null,
   "id": "68d25eee",
   "metadata": {
    "papermill": {
     "duration": 0.199223,
     "end_time": "2024-06-24T18:27:56.094636",
     "exception": false,
     "start_time": "2024-06-24T18:27:55.895413",
     "status": "completed"
    },
    "tags": []
   },
   "outputs": [],
   "source": []
  },
  {
   "cell_type": "code",
   "execution_count": 23,
   "id": "eb620632",
   "metadata": {
    "execution": {
     "iopub.execute_input": "2024-06-24T18:27:56.479727Z",
     "iopub.status.busy": "2024-06-24T18:27:56.478983Z",
     "iopub.status.idle": "2024-06-24T18:28:00.418291Z",
     "shell.execute_reply": "2024-06-24T18:28:00.417322Z"
    },
    "papermill": {
     "duration": 4.127472,
     "end_time": "2024-06-24T18:28:00.420765",
     "exception": false,
     "start_time": "2024-06-24T18:27:56.293293",
     "status": "completed"
    },
    "tags": []
   },
   "outputs": [],
   "source": [
    "y_pred_test = proposed.predict(X_test)\n",
    "\n",
    "# For Plot curve\n",
    "y_pred_evaluation_test = to_categorical(np.argmax(y_pred_test, axis=1), 5)\n",
    "\n",
    "# For evaluation\n",
    "y_pred_argmax_test=(np.argmax(y_pred_test, axis=1))\n",
    "\n",
    "y_test_argmax=(np.argmax(y_test, axis=1))"
   ]
  },
  {
   "cell_type": "code",
   "execution_count": 24,
   "id": "c57dc65c",
   "metadata": {
    "execution": {
     "iopub.execute_input": "2024-06-24T18:28:00.790989Z",
     "iopub.status.busy": "2024-06-24T18:28:00.790480Z",
     "iopub.status.idle": "2024-06-24T18:28:00.799051Z",
     "shell.execute_reply": "2024-06-24T18:28:00.798053Z"
    },
    "papermill": {
     "duration": 0.19699,
     "end_time": "2024-06-24T18:28:00.801421",
     "exception": false,
     "start_time": "2024-06-24T18:28:00.604431",
     "status": "completed"
    },
    "tags": []
   },
   "outputs": [],
   "source": [
    "# Calculating Area under the curve\n",
    "def AUC(actual_class, pred_class, average = \"micro\"):\n",
    "    \n",
    "    #Making a set of all the unique classes \n",
    "    unique_class = set(actual_class)\n",
    "    roc_auc_dict = {}\n",
    "    for per_class in unique_class:\n",
    "        \n",
    "        #Making a list of all the classes except the current class \n",
    "        other_class = [x for x in unique_class if x != per_class]\n",
    "\n",
    "        #Making the current class with label 1 and all other classes as a label 0\n",
    "        new_actual_class = [0 if x in other_class else 1 for x in actual_class]\n",
    "        new_pred_class = [0 if x in other_class else 1 for x in pred_class]\n",
    "\n",
    "        # Calculating the roc_auc_score\n",
    "        roc_auc = roc_auc_score(new_actual_class, new_pred_class, average = average)\n",
    "        roc_auc_dict[per_class] = roc_auc\n",
    "\n",
    "    return roc_auc_dict"
   ]
  },
  {
   "cell_type": "code",
   "execution_count": 25,
   "id": "7f686ca9",
   "metadata": {
    "execution": {
     "iopub.execute_input": "2024-06-24T18:28:01.187094Z",
     "iopub.status.busy": "2024-06-24T18:28:01.186225Z",
     "iopub.status.idle": "2024-06-24T18:28:01.202558Z",
     "shell.execute_reply": "2024-06-24T18:28:01.201521Z"
    },
    "papermill": {
     "duration": 0.210007,
     "end_time": "2024-06-24T18:28:01.204743",
     "exception": false,
     "start_time": "2024-06-24T18:28:00.994736",
     "status": "completed"
    },
    "tags": []
   },
   "outputs": [],
   "source": [
    "def plot_roc_curve(y_test,y_pred):\n",
    "    n_classes=5\n",
    "    fpr = dict()\n",
    "    tpr = dict()\n",
    "    roc_auc = dict()\n",
    "    for i in range(n_classes):\n",
    "        fpr[i], tpr[i], _ = roc_curve(y_test[:, i], y_pred[:, i])\n",
    "        roc_auc[i] = auc(fpr[i], tpr[i])\n",
    "    fpr[\"micro\"], tpr[\"micro\"], _ = roc_curve(y_test.ravel(), y_pred.ravel())\n",
    "    roc_auc[\"micro\"] = auc(fpr[\"micro\"], tpr[\"micro\"])\n",
    "    lw=2\n",
    "    all_fpr = np.unique(np.concatenate([fpr[i] for i in range(n_classes)]))\n",
    "\n",
    "    mean_tpr = np.zeros_like(all_fpr)\n",
    "    for i in range(n_classes):\n",
    "        mean_tpr += np.interp(all_fpr, fpr[i], tpr[i])\n",
    "\n",
    "    mean_tpr /= n_classes\n",
    "\n",
    "    fpr[\"macro\"] = all_fpr\n",
    "    tpr[\"macro\"] = mean_tpr\n",
    "    roc_auc[\"macro\"] = auc(fpr[\"macro\"], tpr[\"macro\"])\n",
    "\n",
    "# Plot all ROC curves\n",
    "    plt.figure(figsize=(10, 10))\n",
    "    plt.plot(fpr[\"micro\"],\n",
    "    tpr[\"micro\"],\n",
    "    label=\"micro-average ROC curve (area = {0:0.2f})\".format(roc_auc[\"micro\"]),\n",
    "    color=\"deeppink\",\n",
    "    linestyle=\":\",\n",
    "    linewidth=4,)\n",
    "\n",
    "    plt.plot(fpr[\"macro\"],\n",
    "    tpr[\"macro\"],\n",
    "    label=\"macro-average ROC curve (area = {0:0.2f})\".format(roc_auc[\"macro\"]),\n",
    "    color=\"navy\",\n",
    "    linestyle=\":\",\n",
    "    linewidth=4,\n",
    ")\n",
    "\n",
    "    colors = cycle([\"aqua\", \"darkorange\", \"cornflowerblue\"])\n",
    "    for i, color in zip(range(n_classes), colors):\n",
    "        plt.plot(\n",
    "           fpr[i],\n",
    "           tpr[i],\n",
    "           color=color,\n",
    "           lw=lw,\n",
    "        label=\"ROC curve of class {0} (area = {1:0.2f})\".format(i, roc_auc[i]),\n",
    "    )\n",
    "\n",
    "    plt.plot([0, 1], [0, 1], \"k--\", lw=lw)\n",
    "    plt.xlim([0.0, 1.0])\n",
    "    plt.ylim([0.0, 1.05])\n",
    "    plt.xlabel(\"False Positive Rate\")\n",
    "    plt.ylabel(\"True Positive Rate\")\n",
    "    plt.title(\"LSTM RF AUC\")\n",
    "    plt.legend(loc=\"lower right\")\n",
    "    plt.show()"
   ]
  },
  {
   "cell_type": "code",
   "execution_count": 26,
   "id": "3fc491f7",
   "metadata": {
    "execution": {
     "iopub.execute_input": "2024-06-24T18:28:01.589713Z",
     "iopub.status.busy": "2024-06-24T18:28:01.589308Z",
     "iopub.status.idle": "2024-06-24T18:28:01.599364Z",
     "shell.execute_reply": "2024-06-24T18:28:01.598463Z"
    },
    "papermill": {
     "duration": 0.204879,
     "end_time": "2024-06-24T18:28:01.601502",
     "exception": false,
     "start_time": "2024-06-24T18:28:01.396623",
     "status": "completed"
    },
    "tags": []
   },
   "outputs": [],
   "source": [
    "def plot_confusion_matrix(cm, classes,\n",
    "                          normalize=False,\n",
    "                          title='Confusion matrix',\n",
    "                          cmap=plt.cm.Blues):\n",
    "    \"\"\"\n",
    "    Prints and plots the confusion matrix.\n",
    "    \"\"\"\n",
    "    if normalize:\n",
    "        cm = cm.astype('float') / cm.sum(axis=1)[:, np.newaxis]\n",
    "        print(\"Normalized confusion matrix\")\n",
    "    else:\n",
    "        print('Confusion matrix, without normalization')\n",
    "\n",
    "    plt.imshow(cm, interpolation='nearest', cmap=cmap)\n",
    "    plt.title(title)\n",
    "    plt.colorbar()\n",
    "    tick_marks = np.arange(len(classes))\n",
    "    plt.xticks(tick_marks, classes, rotation=45)\n",
    "    plt.yticks(tick_marks, classes)\n",
    "\n",
    "    fmt = '.2f' if normalize else 'd'\n",
    "    thresh = cm.max() / 2.\n",
    "    for i, j in itertools.product(range(cm.shape[0]), range(cm.shape[1])):\n",
    "        plt.text(j, i, format(cm[i, j], fmt),\n",
    "                 horizontalalignment=\"center\",\n",
    "                 color=\"white\" if cm[i, j] > thresh else \"black\")\n",
    "\n",
    "    plt.tight_layout()\n",
    "    plt.ylabel('True label')\n",
    "    plt.xlabel('Predicted label')"
   ]
  },
  {
   "cell_type": "code",
   "execution_count": 27,
   "id": "cbcef439",
   "metadata": {
    "execution": {
     "iopub.execute_input": "2024-06-24T18:28:01.979235Z",
     "iopub.status.busy": "2024-06-24T18:28:01.978783Z",
     "iopub.status.idle": "2024-06-24T18:28:02.491677Z",
     "shell.execute_reply": "2024-06-24T18:28:02.490493Z"
    },
    "papermill": {
     "duration": 0.704375,
     "end_time": "2024-06-24T18:28:02.494092",
     "exception": false,
     "start_time": "2024-06-24T18:28:01.789717",
     "status": "completed"
    },
    "tags": []
   },
   "outputs": [
    {
     "name": "stdout",
     "output_type": "stream",
     "text": [
      "AUC Score is on Test :  {0: 0.9911444186372639, 1: 0.9914550567882167, 2: 0.9952538279558558, 3: 0.9671853856562923, 4: 0.9919086416432378}\n"
     ]
    }
   ],
   "source": [
    "print('AUC Score is on Test : ' , AUC(y_test_argmax, y_pred_argmax_test))"
   ]
  },
  {
   "cell_type": "code",
   "execution_count": 28,
   "id": "f6aaa879",
   "metadata": {
    "execution": {
     "iopub.execute_input": "2024-06-24T18:28:02.911058Z",
     "iopub.status.busy": "2024-06-24T18:28:02.910130Z",
     "iopub.status.idle": "2024-06-24T18:28:03.114025Z",
     "shell.execute_reply": "2024-06-24T18:28:03.112775Z"
    },
    "papermill": {
     "duration": 0.438286,
     "end_time": "2024-06-24T18:28:03.116253",
     "exception": false,
     "start_time": "2024-06-24T18:28:02.677967",
     "status": "completed"
    },
    "tags": []
   },
   "outputs": [
    {
     "name": "stdout",
     "output_type": "stream",
     "text": [
      "Classification Report on Data Test \n",
      "               precision    recall  f1-score   support\n",
      "\n",
      "      Normal       1.00      1.00      1.00     75233\n",
      "    Grayhole       0.99      0.98      0.99      3200\n",
      "   Blackhole       0.98      0.99      0.99      2214\n",
      "        TDMA       1.00      0.93      0.97      1478\n",
      "    Flooding       0.92      0.98      0.95       713\n",
      "\n",
      "    accuracy                           1.00     82838\n",
      "   macro avg       0.98      0.98      0.98     82838\n",
      "weighted avg       1.00      1.00      1.00     82838\n",
      "\n"
     ]
    }
   ],
   "source": [
    "from sklearn.metrics import classification_report\n",
    "\n",
    "target = ['Normal','Grayhole','Blackhole','TDMA','Flooding']\n",
    "\n",
    "print(\"Classification Report on Data Test \\n\" , classification_report(y_test_argmax, y_pred_argmax_test, target_names=target))"
   ]
  },
  {
   "cell_type": "code",
   "execution_count": 29,
   "id": "2538b993",
   "metadata": {
    "execution": {
     "iopub.execute_input": "2024-06-24T18:28:03.488737Z",
     "iopub.status.busy": "2024-06-24T18:28:03.488305Z",
     "iopub.status.idle": "2024-06-24T18:28:03.759746Z",
     "shell.execute_reply": "2024-06-24T18:28:03.758838Z"
    },
    "papermill": {
     "duration": 0.461476,
     "end_time": "2024-06-24T18:28:03.762600",
     "exception": false,
     "start_time": "2024-06-24T18:28:03.301124",
     "status": "completed"
    },
    "tags": []
   },
   "outputs": [
    {
     "data": {
      "image/png": "[encoded data removed]",
      "text/plain": [
       "<Figure size 640x480 with 1 Axes>"
      ]
     },
     "metadata": {},
     "output_type": "display_data"
    }
   ],
   "source": [
    "# Plot of accuracy vs epoch for train and test dataset\n",
    "plt.plot(history.history['accuracy'])\n",
    "plt.plot(history.history['val_accuracy'])\n",
    "plt.title(\"LSTM Accuracy\")\n",
    "plt.ylabel('accuracy')\n",
    "plt.xlabel('epoch')\n",
    "plt.legend(['train', 'validation'], loc='upper right')\n",
    "plt.show()"
   ]
  },
  {
   "cell_type": "code",
   "execution_count": 30,
   "id": "34e25e14",
   "metadata": {
    "execution": {
     "iopub.execute_input": "2024-06-24T18:28:04.146545Z",
     "iopub.status.busy": "2024-06-24T18:28:04.145401Z",
     "iopub.status.idle": "2024-06-24T18:28:04.414819Z",
     "shell.execute_reply": "2024-06-24T18:28:04.413691Z"
    },
    "papermill": {
     "duration": 0.46595,
     "end_time": "2024-06-24T18:28:04.417301",
     "exception": false,
     "start_time": "2024-06-24T18:28:03.951351",
     "status": "completed"
    },
    "tags": []
   },
   "outputs": [
    {
     "data": {
      "image/png": "[encoded data removed]",
      "text/plain": [
       "<Figure size 640x480 with 1 Axes>"
      ]
     },
     "metadata": {},
     "output_type": "display_data"
    }
   ],
   "source": [
    "# Plot of loss vs epoch for train and test dataset\n",
    "plt.plot(history.history['loss'])\n",
    "plt.plot(history.history['val_loss'])\n",
    "plt.title(\"LSTM Loss\")\n",
    "plt.ylabel('loss')\n",
    "plt.xlabel('epoch')\n",
    "plt.legend(['train', 'validation'], loc='upper right')\n",
    "plt.show()"
   ]
  },
  {
   "cell_type": "code",
   "execution_count": 31,
   "id": "3e299869",
   "metadata": {
    "execution": {
     "iopub.execute_input": "2024-06-24T18:28:04.797717Z",
     "iopub.status.busy": "2024-06-24T18:28:04.797353Z",
     "iopub.status.idle": "2024-06-24T18:28:05.295606Z",
     "shell.execute_reply": "2024-06-24T18:28:05.294613Z"
    },
    "papermill": {
     "duration": 0.690784,
     "end_time": "2024-06-24T18:28:05.298524",
     "exception": false,
     "start_time": "2024-06-24T18:28:04.607740",
     "status": "completed"
    },
    "tags": []
   },
   "outputs": [
    {
     "name": "stdout",
     "output_type": "stream",
     "text": [
      "Confusion matrix, without normalization\n"
     ]
    },
    {
     "data": {
      "image/png": "[encoded data removed]",
      "text/plain": [
       "<Figure size 700x700 with 2 Axes>"
      ]
     },
     "metadata": {},
     "output_type": "display_data"
    }
   ],
   "source": [
    "# Compute confusion matrix\n",
    "from sklearn.metrics import confusion_matrix\n",
    "\n",
    "cnf_matrix = confusion_matrix(y_test_argmax, y_pred_argmax_test)\n",
    "\n",
    "# Plot non-normalized confusion matrix\n",
    "plt.figure(figsize=(7, 7))\n",
    "plot_confusion_matrix(cnf_matrix, classes=target,\n",
    "                      title='LSTM RF Confusion matrix')\n",
    "plt.show()"
   ]
  },
  {
   "cell_type": "code",
   "execution_count": 32,
   "id": "07e5024f",
   "metadata": {
    "execution": {
     "iopub.execute_input": "2024-06-24T18:28:05.678997Z",
     "iopub.status.busy": "2024-06-24T18:28:05.678226Z",
     "iopub.status.idle": "2024-06-24T18:28:06.187414Z",
     "shell.execute_reply": "2024-06-24T18:28:06.186284Z"
    },
    "papermill": {
     "duration": 0.702555,
     "end_time": "2024-06-24T18:28:06.190375",
     "exception": false,
     "start_time": "2024-06-24T18:28:05.487820",
     "status": "completed"
    },
    "tags": []
   },
   "outputs": [
    {
     "data": {
      "image/png": "[encoded data removed]",
      "text/plain": [
       "<Figure size 1000x1000 with 1 Axes>"
      ]
     },
     "metadata": {},
     "output_type": "display_data"
    }
   ],
   "source": [
    "plot_roc_curve(y_test,y_pred_evaluation_test)"
   ]
  },
  {
   "cell_type": "code",
   "execution_count": 33,
   "id": "13d8bb6a",
   "metadata": {
    "execution": {
     "iopub.execute_input": "2024-06-24T18:28:06.577769Z",
     "iopub.status.busy": "2024-06-24T18:28:06.577090Z",
     "iopub.status.idle": "2024-06-24T18:28:06.630401Z",
     "shell.execute_reply": "2024-06-24T18:28:06.629499Z"
    },
    "papermill": {
     "duration": 0.248454,
     "end_time": "2024-06-24T18:28:06.632948",
     "exception": false,
     "start_time": "2024-06-24T18:28:06.384494",
     "status": "completed"
    },
    "tags": []
   },
   "outputs": [],
   "source": [
    "model.save(\"lstm.h5\")"
   ]
  },
  {
   "cell_type": "code",
   "execution_count": 34,
   "id": "dfe3f5dd",
   "metadata": {
    "execution": {
     "iopub.execute_input": "2024-06-24T18:28:07.024306Z",
     "iopub.status.busy": "2024-06-24T18:28:07.023359Z",
     "iopub.status.idle": "2024-06-24T18:28:07.074528Z",
     "shell.execute_reply": "2024-06-24T18:28:07.073477Z"
    },
    "papermill": {
     "duration": 0.253009,
     "end_time": "2024-06-24T18:28:07.077049",
     "exception": false,
     "start_time": "2024-06-24T18:28:06.824040",
     "status": "completed"
    },
    "tags": []
   },
   "outputs": [
    {
     "name": "stdout",
     "output_type": "stream",
     "text": [
      "Accuracy: 0.9967768415461503\n"
     ]
    }
   ],
   "source": [
    "print(\"Accuracy:\", accuracy_score(y_test,y_pred_evaluation_test)) "
   ]
  }
 ],
 "metadata": {
  "kaggle": {
   "accelerator": "gpu",
   "dataSources": [
    {
     "datasetId": 1847626,
     "sourceId": 3016477,
     "sourceType": "datasetVersion"
    }
   ],
   "dockerImageVersionId": 30733,
   "isGpuEnabled": true,
   "isInternetEnabled": true,
   "language": "python",
   "sourceType": "notebook"
  },
  "kernelspec": {
   "display_name": "Python 3",
   "language": "python",
   "name": "python3"
  },
  "language_info": {
   "codemirror_mode": {
    "name": "ipython",
    "version": 3
   },
   "file_extension": ".py",
   "mimetype": "text/x-python",
   "name": "python",
   "nbconvert_exporter": "python",
   "pygments_lexer": "ipython3",
   "version": "3.10.13"
  },
  "papermill": {
   "default_parameters": {},
   "duration": 484.581029,
   "end_time": "2024-06-24T18:28:10.109876",
   "environment_variables": {},
   "exception": null,
   "input_path": "__notebook__.ipynb",
   "output_path": "__notebook__.ipynb",
   "parameters": {},
   "start_time": "2024-06-24T18:20:05.528847",
   "version": "2.4.0"
  }
 },
 "nbformat": 4,
 "nbformat_minor": 5
}
