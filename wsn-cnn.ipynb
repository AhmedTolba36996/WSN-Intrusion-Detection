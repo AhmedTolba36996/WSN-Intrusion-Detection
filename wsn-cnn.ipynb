{
 "cells": [
  {
   "cell_type": "code",
   "execution_count": 1,
   "id": "6fad2ac0",
   "metadata": {
    "_cell_guid": "b1076dfc-b9ad-4769-8c92-a6c4dae69d19",
    "_uuid": "8f2839f25d086af736a60e9eeb907d3b93b6e0e5",
    "execution": {
     "iopub.execute_input": "2023-02-28T14:11:03.076985Z",
     "iopub.status.busy": "2023-02-28T14:11:03.076595Z",
     "iopub.status.idle": "2023-02-28T14:11:11.858121Z",
     "shell.execute_reply": "2023-02-28T14:11:11.857192Z"
    },
    "papermill": {
     "duration": 8.791626,
     "end_time": "2023-02-28T14:11:11.860423",
     "exception": false,
     "start_time": "2023-02-28T14:11:03.068797",
     "status": "completed"
    },
    "tags": []
   },
   "outputs": [],
   "source": [
    "# importing required libraries\n",
    "import numpy as np\n",
    "import pandas as pd\n",
    "import pickle # saving and loading trained model\n",
    "from os import path\n",
    "\n",
    "# importing required libraries for normalizing data\n",
    "from sklearn import preprocessing\n",
    "\n",
    "from sklearn.preprocessing import (StandardScaler, OrdinalEncoder,LabelEncoder, MinMaxScaler, OneHotEncoder)\n",
    "from sklearn.preprocessing import Normalizer, MaxAbsScaler , RobustScaler, PowerTransformer\n",
    "\n",
    "# importing library for plotting\n",
    "import matplotlib.pyplot as plt\n",
    "import seaborn as sns\n",
    "\n",
    "from sklearn import metrics\n",
    "from sklearn.metrics import accuracy_score # for calculating accuracy of model\n",
    "from sklearn.model_selection import train_test_split # for splitting the dataset for training and testing\n",
    "from sklearn.metrics import classification_report # for generating a classification report of model\n",
    "\n",
    "from sklearn.metrics import precision_score\n",
    "from sklearn.metrics import recall_score\n",
    "from sklearn.metrics import f1_score\n",
    "\n",
    "from sklearn.metrics import roc_auc_score\n",
    "from sklearn.metrics import roc_curve, auc\n",
    "\n",
    "import tensorflow as tf\n",
    "from tensorflow.keras.utils import to_categorical\n",
    "\n",
    "from keras.layers import Dense, Conv1D, MaxPool1D, Flatten, Dropout , LSTM # importing dense layer\n",
    "from keras.layers import Convolution1D, Dense, Dropout, Flatten, MaxPooling1D\n",
    "from keras.models import Sequential #importing Sequential layer\n",
    "from keras.layers import Input\n",
    "from keras.models import Model\n",
    "from tensorflow.keras import layers\n",
    "# representation of model layers\n",
    "from keras.utils.vis_utils import plot_model\n",
    "\n",
    "import itertools\n",
    "from itertools import cycle"
   ]
  },
  {
   "cell_type": "code",
   "execution_count": 2,
   "id": "57ff32c4",
   "metadata": {
    "execution": {
     "iopub.execute_input": "2023-02-28T14:11:11.874244Z",
     "iopub.status.busy": "2023-02-28T14:11:11.872832Z",
     "iopub.status.idle": "2023-02-28T14:11:12.640785Z",
     "shell.execute_reply": "2023-02-28T14:11:12.639544Z"
    },
    "papermill": {
     "duration": 0.777319,
     "end_time": "2023-02-28T14:11:12.643364",
     "exception": false,
     "start_time": "2023-02-28T14:11:11.866045",
     "status": "completed"
    },
    "tags": []
   },
   "outputs": [],
   "source": [
    "data = pd.read_csv(\"/kaggle/input/wsnds/WSN-DS.csv\")"
   ]
  },
  {
   "cell_type": "code",
   "execution_count": 3,
   "id": "d82ec786",
   "metadata": {
    "execution": {
     "iopub.execute_input": "2023-02-28T14:11:12.656095Z",
     "iopub.status.busy": "2023-02-28T14:11:12.655616Z",
     "iopub.status.idle": "2023-02-28T14:11:12.686052Z",
     "shell.execute_reply": "2023-02-28T14:11:12.684828Z"
    },
    "papermill": {
     "duration": 0.03954,
     "end_time": "2023-02-28T14:11:12.688452",
     "exception": false,
     "start_time": "2023-02-28T14:11:12.648912",
     "status": "completed"
    },
    "tags": []
   },
   "outputs": [
    {
     "data": {
      "text/html": [
       "<div>\n",
       "<style scoped>\n",
       "    .dataframe tbody tr th:only-of-type {\n",
       "        vertical-align: middle;\n",
       "    }\n",
       "\n",
       "    .dataframe tbody tr th {\n",
       "        vertical-align: top;\n",
       "    }\n",
       "\n",
       "    .dataframe thead th {\n",
       "        text-align: right;\n",
       "    }\n",
       "</style>\n",
       "<table border=\"1\" class=\"dataframe\">\n",
       "  <thead>\n",
       "    <tr style=\"text-align: right;\">\n",
       "      <th></th>\n",
       "      <th>id</th>\n",
       "      <th>Time</th>\n",
       "      <th>Is_CH</th>\n",
       "      <th>who CH</th>\n",
       "      <th>Dist_To_CH</th>\n",
       "      <th>ADV_S</th>\n",
       "      <th>ADV_R</th>\n",
       "      <th>JOIN_S</th>\n",
       "      <th>JOIN_R</th>\n",
       "      <th>SCH_S</th>\n",
       "      <th>SCH_R</th>\n",
       "      <th>Rank</th>\n",
       "      <th>DATA_S</th>\n",
       "      <th>DATA_R</th>\n",
       "      <th>Data_Sent_To_BS</th>\n",
       "      <th>dist_CH_To_BS</th>\n",
       "      <th>send_code</th>\n",
       "      <th>Expaned Energy</th>\n",
       "      <th>Attack type</th>\n",
       "    </tr>\n",
       "  </thead>\n",
       "  <tbody>\n",
       "    <tr>\n",
       "      <th>0</th>\n",
       "      <td>101000</td>\n",
       "      <td>50</td>\n",
       "      <td>1</td>\n",
       "      <td>101000</td>\n",
       "      <td>0.00000</td>\n",
       "      <td>1</td>\n",
       "      <td>0</td>\n",
       "      <td>0</td>\n",
       "      <td>25</td>\n",
       "      <td>1</td>\n",
       "      <td>0</td>\n",
       "      <td>0</td>\n",
       "      <td>0</td>\n",
       "      <td>1200</td>\n",
       "      <td>48</td>\n",
       "      <td>130.08535</td>\n",
       "      <td>0</td>\n",
       "      <td>2.46940</td>\n",
       "      <td>Normal</td>\n",
       "    </tr>\n",
       "    <tr>\n",
       "      <th>1</th>\n",
       "      <td>101001</td>\n",
       "      <td>50</td>\n",
       "      <td>0</td>\n",
       "      <td>101044</td>\n",
       "      <td>75.32345</td>\n",
       "      <td>0</td>\n",
       "      <td>4</td>\n",
       "      <td>1</td>\n",
       "      <td>0</td>\n",
       "      <td>0</td>\n",
       "      <td>1</td>\n",
       "      <td>2</td>\n",
       "      <td>38</td>\n",
       "      <td>0</td>\n",
       "      <td>0</td>\n",
       "      <td>0.00000</td>\n",
       "      <td>4</td>\n",
       "      <td>0.06957</td>\n",
       "      <td>Normal</td>\n",
       "    </tr>\n",
       "    <tr>\n",
       "      <th>2</th>\n",
       "      <td>101002</td>\n",
       "      <td>50</td>\n",
       "      <td>0</td>\n",
       "      <td>101010</td>\n",
       "      <td>46.95453</td>\n",
       "      <td>0</td>\n",
       "      <td>4</td>\n",
       "      <td>1</td>\n",
       "      <td>0</td>\n",
       "      <td>0</td>\n",
       "      <td>1</td>\n",
       "      <td>19</td>\n",
       "      <td>41</td>\n",
       "      <td>0</td>\n",
       "      <td>0</td>\n",
       "      <td>0.00000</td>\n",
       "      <td>3</td>\n",
       "      <td>0.06898</td>\n",
       "      <td>Normal</td>\n",
       "    </tr>\n",
       "    <tr>\n",
       "      <th>3</th>\n",
       "      <td>101003</td>\n",
       "      <td>50</td>\n",
       "      <td>0</td>\n",
       "      <td>101044</td>\n",
       "      <td>64.85231</td>\n",
       "      <td>0</td>\n",
       "      <td>4</td>\n",
       "      <td>1</td>\n",
       "      <td>0</td>\n",
       "      <td>0</td>\n",
       "      <td>1</td>\n",
       "      <td>16</td>\n",
       "      <td>38</td>\n",
       "      <td>0</td>\n",
       "      <td>0</td>\n",
       "      <td>0.00000</td>\n",
       "      <td>4</td>\n",
       "      <td>0.06673</td>\n",
       "      <td>Normal</td>\n",
       "    </tr>\n",
       "    <tr>\n",
       "      <th>4</th>\n",
       "      <td>101004</td>\n",
       "      <td>50</td>\n",
       "      <td>0</td>\n",
       "      <td>101010</td>\n",
       "      <td>4.83341</td>\n",
       "      <td>0</td>\n",
       "      <td>4</td>\n",
       "      <td>1</td>\n",
       "      <td>0</td>\n",
       "      <td>0</td>\n",
       "      <td>1</td>\n",
       "      <td>25</td>\n",
       "      <td>41</td>\n",
       "      <td>0</td>\n",
       "      <td>0</td>\n",
       "      <td>0.00000</td>\n",
       "      <td>3</td>\n",
       "      <td>0.06534</td>\n",
       "      <td>Normal</td>\n",
       "    </tr>\n",
       "  </tbody>\n",
       "</table>\n",
       "</div>"
      ],
      "text/plain": [
       "       id   Time   Is_CH   who CH   Dist_To_CH   ADV_S   ADV_R   JOIN_S  \\\n",
       "0  101000     50       1   101000      0.00000       1       0        0   \n",
       "1  101001     50       0   101044     75.32345       0       4        1   \n",
       "2  101002     50       0   101010     46.95453       0       4        1   \n",
       "3  101003     50       0   101044     64.85231       0       4        1   \n",
       "4  101004     50       0   101010      4.83341       0       4        1   \n",
       "\n",
       "    JOIN_R   SCH_S   SCH_R  Rank   DATA_S   DATA_R   Data_Sent_To_BS  \\\n",
       "0       25       1       0     0        0     1200                48   \n",
       "1        0       0       1     2       38        0                 0   \n",
       "2        0       0       1    19       41        0                 0   \n",
       "3        0       0       1    16       38        0                 0   \n",
       "4        0       0       1    25       41        0                 0   \n",
       "\n",
       "    dist_CH_To_BS   send_code   Expaned Energy Attack type  \n",
       "0       130.08535            0         2.46940      Normal  \n",
       "1         0.00000            4         0.06957      Normal  \n",
       "2         0.00000            3         0.06898      Normal  \n",
       "3         0.00000            4         0.06673      Normal  \n",
       "4         0.00000            3         0.06534      Normal  "
      ]
     },
     "execution_count": 3,
     "metadata": {},
     "output_type": "execute_result"
    }
   ],
   "source": [
    "data.head()"
   ]
  },
  {
   "cell_type": "code",
   "execution_count": 4,
   "id": "f86ba041",
   "metadata": {
    "execution": {
     "iopub.execute_input": "2023-02-28T14:11:12.701661Z",
     "iopub.status.busy": "2023-02-28T14:11:12.701302Z",
     "iopub.status.idle": "2023-02-28T14:11:12.707737Z",
     "shell.execute_reply": "2023-02-28T14:11:12.706719Z"
    },
    "papermill": {
     "duration": 0.015473,
     "end_time": "2023-02-28T14:11:12.709855",
     "exception": false,
     "start_time": "2023-02-28T14:11:12.694382",
     "status": "completed"
    },
    "tags": []
   },
   "outputs": [
    {
     "data": {
      "text/plain": [
       "(374661, 19)"
      ]
     },
     "execution_count": 4,
     "metadata": {},
     "output_type": "execute_result"
    }
   ],
   "source": [
    "data.shape"
   ]
  },
  {
   "cell_type": "code",
   "execution_count": 5,
   "id": "59a86b80",
   "metadata": {
    "execution": {
     "iopub.execute_input": "2023-02-28T14:11:12.722943Z",
     "iopub.status.busy": "2023-02-28T14:11:12.722606Z",
     "iopub.status.idle": "2023-02-28T14:11:12.769899Z",
     "shell.execute_reply": "2023-02-28T14:11:12.768209Z"
    },
    "papermill": {
     "duration": 0.056294,
     "end_time": "2023-02-28T14:11:12.771973",
     "exception": false,
     "start_time": "2023-02-28T14:11:12.715679",
     "status": "completed"
    },
    "tags": []
   },
   "outputs": [
    {
     "name": "stdout",
     "output_type": "stream",
     "text": [
      "<class 'pandas.core.frame.DataFrame'>\n",
      "RangeIndex: 374661 entries, 0 to 374660\n",
      "Data columns (total 19 columns):\n",
      " #   Column            Non-Null Count   Dtype  \n",
      "---  ------            --------------   -----  \n",
      " 0    id               374661 non-null  int64  \n",
      " 1    Time             374661 non-null  int64  \n",
      " 2    Is_CH            374661 non-null  int64  \n",
      " 3    who CH           374661 non-null  int64  \n",
      " 4    Dist_To_CH       374661 non-null  float64\n",
      " 5    ADV_S            374661 non-null  int64  \n",
      " 6    ADV_R            374661 non-null  int64  \n",
      " 7    JOIN_S           374661 non-null  int64  \n",
      " 8    JOIN_R           374661 non-null  int64  \n",
      " 9    SCH_S            374661 non-null  int64  \n",
      " 10   SCH_R            374661 non-null  int64  \n",
      " 11  Rank              374661 non-null  int64  \n",
      " 12   DATA_S           374661 non-null  int64  \n",
      " 13   DATA_R           374661 non-null  int64  \n",
      " 14   Data_Sent_To_BS  374661 non-null  int64  \n",
      " 15   dist_CH_To_BS    374661 non-null  float64\n",
      " 16   send_code        374661 non-null  int64  \n",
      " 17  Expaned Energy    374661 non-null  float64\n",
      " 18  Attack type       374661 non-null  object \n",
      "dtypes: float64(3), int64(15), object(1)\n",
      "memory usage: 54.3+ MB\n"
     ]
    }
   ],
   "source": [
    "data.info()"
   ]
  },
  {
   "cell_type": "code",
   "execution_count": 6,
   "id": "2dad57f6",
   "metadata": {
    "execution": {
     "iopub.execute_input": "2023-02-28T14:11:12.785742Z",
     "iopub.status.busy": "2023-02-28T14:11:12.785355Z",
     "iopub.status.idle": "2023-02-28T14:11:12.813020Z",
     "shell.execute_reply": "2023-02-28T14:11:12.811602Z"
    },
    "papermill": {
     "duration": 0.03698,
     "end_time": "2023-02-28T14:11:12.814965",
     "exception": false,
     "start_time": "2023-02-28T14:11:12.777985",
     "status": "completed"
    },
    "tags": []
   },
   "outputs": [
    {
     "data": {
      "text/plain": [
       "Normal       340066\n",
       "Grayhole      14596\n",
       "Blackhole     10049\n",
       "TDMA           6638\n",
       "Flooding       3312\n",
       "Name: Attack type, dtype: int64"
      ]
     },
     "execution_count": 6,
     "metadata": {},
     "output_type": "execute_result"
    }
   ],
   "source": [
    "data['Attack type'].value_counts()"
   ]
  },
  {
   "cell_type": "code",
   "execution_count": 7,
   "id": "293b3a83",
   "metadata": {
    "execution": {
     "iopub.execute_input": "2023-02-28T14:11:12.828606Z",
     "iopub.status.busy": "2023-02-28T14:11:12.828289Z",
     "iopub.status.idle": "2023-02-28T14:11:12.996962Z",
     "shell.execute_reply": "2023-02-28T14:11:12.995696Z"
    },
    "papermill": {
     "duration": 0.17807,
     "end_time": "2023-02-28T14:11:12.999173",
     "exception": false,
     "start_time": "2023-02-28T14:11:12.821103",
     "status": "completed"
    },
    "tags": []
   },
   "outputs": [
    {
     "data": {
      "text/html": [
       "<div>\n",
       "<style scoped>\n",
       "    .dataframe tbody tr th:only-of-type {\n",
       "        vertical-align: middle;\n",
       "    }\n",
       "\n",
       "    .dataframe tbody tr th {\n",
       "        vertical-align: top;\n",
       "    }\n",
       "\n",
       "    .dataframe thead th {\n",
       "        text-align: right;\n",
       "    }\n",
       "</style>\n",
       "<table border=\"1\" class=\"dataframe\">\n",
       "  <thead>\n",
       "    <tr style=\"text-align: right;\">\n",
       "      <th></th>\n",
       "      <th>count</th>\n",
       "      <th>mean</th>\n",
       "      <th>std</th>\n",
       "      <th>min</th>\n",
       "      <th>25%</th>\n",
       "      <th>50%</th>\n",
       "      <th>75%</th>\n",
       "      <th>max</th>\n",
       "    </tr>\n",
       "  </thead>\n",
       "  <tbody>\n",
       "    <tr>\n",
       "      <th>id</th>\n",
       "      <td>374661.0</td>\n",
       "      <td>274969.325879</td>\n",
       "      <td>389898.554898</td>\n",
       "      <td>101000.0</td>\n",
       "      <td>107093.00000</td>\n",
       "      <td>116071.00000</td>\n",
       "      <td>215072.00000</td>\n",
       "      <td>3.402096e+06</td>\n",
       "    </tr>\n",
       "    <tr>\n",
       "      <th>Time</th>\n",
       "      <td>374661.0</td>\n",
       "      <td>1064.748712</td>\n",
       "      <td>899.646164</td>\n",
       "      <td>50.0</td>\n",
       "      <td>353.00000</td>\n",
       "      <td>803.00000</td>\n",
       "      <td>1503.00000</td>\n",
       "      <td>3.600000e+03</td>\n",
       "    </tr>\n",
       "    <tr>\n",
       "      <th>Is_CH</th>\n",
       "      <td>374661.0</td>\n",
       "      <td>0.115766</td>\n",
       "      <td>0.319945</td>\n",
       "      <td>0.0</td>\n",
       "      <td>0.00000</td>\n",
       "      <td>0.00000</td>\n",
       "      <td>0.00000</td>\n",
       "      <td>1.000000e+00</td>\n",
       "    </tr>\n",
       "    <tr>\n",
       "      <th>who CH</th>\n",
       "      <td>374661.0</td>\n",
       "      <td>274980.411108</td>\n",
       "      <td>389911.221735</td>\n",
       "      <td>101000.0</td>\n",
       "      <td>107096.00000</td>\n",
       "      <td>116072.00000</td>\n",
       "      <td>215073.00000</td>\n",
       "      <td>3.402100e+06</td>\n",
       "    </tr>\n",
       "    <tr>\n",
       "      <th>Dist_To_CH</th>\n",
       "      <td>374661.0</td>\n",
       "      <td>22.599380</td>\n",
       "      <td>21.955794</td>\n",
       "      <td>0.0</td>\n",
       "      <td>4.73544</td>\n",
       "      <td>18.37261</td>\n",
       "      <td>33.77600</td>\n",
       "      <td>2.142746e+02</td>\n",
       "    </tr>\n",
       "    <tr>\n",
       "      <th>ADV_S</th>\n",
       "      <td>374661.0</td>\n",
       "      <td>0.267698</td>\n",
       "      <td>2.061148</td>\n",
       "      <td>0.0</td>\n",
       "      <td>0.00000</td>\n",
       "      <td>0.00000</td>\n",
       "      <td>0.00000</td>\n",
       "      <td>9.700000e+01</td>\n",
       "    </tr>\n",
       "    <tr>\n",
       "      <th>ADV_R</th>\n",
       "      <td>374661.0</td>\n",
       "      <td>6.940562</td>\n",
       "      <td>7.044319</td>\n",
       "      <td>0.0</td>\n",
       "      <td>3.00000</td>\n",
       "      <td>5.00000</td>\n",
       "      <td>7.00000</td>\n",
       "      <td>1.170000e+02</td>\n",
       "    </tr>\n",
       "    <tr>\n",
       "      <th>JOIN_S</th>\n",
       "      <td>374661.0</td>\n",
       "      <td>0.779905</td>\n",
       "      <td>0.414311</td>\n",
       "      <td>0.0</td>\n",
       "      <td>1.00000</td>\n",
       "      <td>1.00000</td>\n",
       "      <td>1.00000</td>\n",
       "      <td>1.000000e+00</td>\n",
       "    </tr>\n",
       "    <tr>\n",
       "      <th>JOIN_R</th>\n",
       "      <td>374661.0</td>\n",
       "      <td>0.737493</td>\n",
       "      <td>4.691498</td>\n",
       "      <td>0.0</td>\n",
       "      <td>0.00000</td>\n",
       "      <td>0.00000</td>\n",
       "      <td>0.00000</td>\n",
       "      <td>1.240000e+02</td>\n",
       "    </tr>\n",
       "    <tr>\n",
       "      <th>SCH_S</th>\n",
       "      <td>374661.0</td>\n",
       "      <td>0.288984</td>\n",
       "      <td>2.754746</td>\n",
       "      <td>0.0</td>\n",
       "      <td>0.00000</td>\n",
       "      <td>0.00000</td>\n",
       "      <td>0.00000</td>\n",
       "      <td>9.900000e+01</td>\n",
       "    </tr>\n",
       "    <tr>\n",
       "      <th>SCH_R</th>\n",
       "      <td>374661.0</td>\n",
       "      <td>0.747452</td>\n",
       "      <td>0.434475</td>\n",
       "      <td>0.0</td>\n",
       "      <td>0.00000</td>\n",
       "      <td>1.00000</td>\n",
       "      <td>1.00000</td>\n",
       "      <td>1.000000e+00</td>\n",
       "    </tr>\n",
       "    <tr>\n",
       "      <th>Rank</th>\n",
       "      <td>374661.0</td>\n",
       "      <td>9.687104</td>\n",
       "      <td>14.681901</td>\n",
       "      <td>0.0</td>\n",
       "      <td>1.00000</td>\n",
       "      <td>3.00000</td>\n",
       "      <td>13.00000</td>\n",
       "      <td>9.900000e+01</td>\n",
       "    </tr>\n",
       "    <tr>\n",
       "      <th>DATA_S</th>\n",
       "      <td>374661.0</td>\n",
       "      <td>44.857925</td>\n",
       "      <td>42.574464</td>\n",
       "      <td>0.0</td>\n",
       "      <td>13.00000</td>\n",
       "      <td>35.00000</td>\n",
       "      <td>62.00000</td>\n",
       "      <td>2.410000e+02</td>\n",
       "    </tr>\n",
       "    <tr>\n",
       "      <th>DATA_R</th>\n",
       "      <td>374661.0</td>\n",
       "      <td>73.890045</td>\n",
       "      <td>230.246335</td>\n",
       "      <td>0.0</td>\n",
       "      <td>0.00000</td>\n",
       "      <td>0.00000</td>\n",
       "      <td>0.00000</td>\n",
       "      <td>1.496000e+03</td>\n",
       "    </tr>\n",
       "    <tr>\n",
       "      <th>Data_Sent_To_BS</th>\n",
       "      <td>374661.0</td>\n",
       "      <td>4.569448</td>\n",
       "      <td>19.679155</td>\n",
       "      <td>0.0</td>\n",
       "      <td>0.00000</td>\n",
       "      <td>0.00000</td>\n",
       "      <td>0.00000</td>\n",
       "      <td>2.410000e+02</td>\n",
       "    </tr>\n",
       "    <tr>\n",
       "      <th>dist_CH_To_BS</th>\n",
       "      <td>374661.0</td>\n",
       "      <td>22.562735</td>\n",
       "      <td>50.261604</td>\n",
       "      <td>0.0</td>\n",
       "      <td>0.00000</td>\n",
       "      <td>0.00000</td>\n",
       "      <td>0.00000</td>\n",
       "      <td>2.019349e+02</td>\n",
       "    </tr>\n",
       "    <tr>\n",
       "      <th>send_code</th>\n",
       "      <td>374661.0</td>\n",
       "      <td>2.497957</td>\n",
       "      <td>2.407337</td>\n",
       "      <td>0.0</td>\n",
       "      <td>1.00000</td>\n",
       "      <td>2.00000</td>\n",
       "      <td>4.00000</td>\n",
       "      <td>1.500000e+01</td>\n",
       "    </tr>\n",
       "    <tr>\n",
       "      <th>Expaned Energy</th>\n",
       "      <td>374661.0</td>\n",
       "      <td>0.305661</td>\n",
       "      <td>0.669462</td>\n",
       "      <td>0.0</td>\n",
       "      <td>0.05615</td>\n",
       "      <td>0.09797</td>\n",
       "      <td>0.21776</td>\n",
       "      <td>4.509394e+01</td>\n",
       "    </tr>\n",
       "  </tbody>\n",
       "</table>\n",
       "</div>"
      ],
      "text/plain": [
       "                     count           mean            std       min  \\\n",
       " id               374661.0  274969.325879  389898.554898  101000.0   \n",
       " Time             374661.0    1064.748712     899.646164      50.0   \n",
       " Is_CH            374661.0       0.115766       0.319945       0.0   \n",
       " who CH           374661.0  274980.411108  389911.221735  101000.0   \n",
       " Dist_To_CH       374661.0      22.599380      21.955794       0.0   \n",
       " ADV_S            374661.0       0.267698       2.061148       0.0   \n",
       " ADV_R            374661.0       6.940562       7.044319       0.0   \n",
       " JOIN_S           374661.0       0.779905       0.414311       0.0   \n",
       " JOIN_R           374661.0       0.737493       4.691498       0.0   \n",
       " SCH_S            374661.0       0.288984       2.754746       0.0   \n",
       " SCH_R            374661.0       0.747452       0.434475       0.0   \n",
       "Rank              374661.0       9.687104      14.681901       0.0   \n",
       " DATA_S           374661.0      44.857925      42.574464       0.0   \n",
       " DATA_R           374661.0      73.890045     230.246335       0.0   \n",
       " Data_Sent_To_BS  374661.0       4.569448      19.679155       0.0   \n",
       " dist_CH_To_BS    374661.0      22.562735      50.261604       0.0   \n",
       " send_code        374661.0       2.497957       2.407337       0.0   \n",
       "Expaned Energy    374661.0       0.305661       0.669462       0.0   \n",
       "\n",
       "                           25%           50%           75%           max  \n",
       " id               107093.00000  116071.00000  215072.00000  3.402096e+06  \n",
       " Time                353.00000     803.00000    1503.00000  3.600000e+03  \n",
       " Is_CH                 0.00000       0.00000       0.00000  1.000000e+00  \n",
       " who CH           107096.00000  116072.00000  215073.00000  3.402100e+06  \n",
       " Dist_To_CH            4.73544      18.37261      33.77600  2.142746e+02  \n",
       " ADV_S                 0.00000       0.00000       0.00000  9.700000e+01  \n",
       " ADV_R                 3.00000       5.00000       7.00000  1.170000e+02  \n",
       " JOIN_S                1.00000       1.00000       1.00000  1.000000e+00  \n",
       " JOIN_R                0.00000       0.00000       0.00000  1.240000e+02  \n",
       " SCH_S                 0.00000       0.00000       0.00000  9.900000e+01  \n",
       " SCH_R                 0.00000       1.00000       1.00000  1.000000e+00  \n",
       "Rank                   1.00000       3.00000      13.00000  9.900000e+01  \n",
       " DATA_S               13.00000      35.00000      62.00000  2.410000e+02  \n",
       " DATA_R                0.00000       0.00000       0.00000  1.496000e+03  \n",
       " Data_Sent_To_BS       0.00000       0.00000       0.00000  2.410000e+02  \n",
       " dist_CH_To_BS         0.00000       0.00000       0.00000  2.019349e+02  \n",
       " send_code             1.00000       2.00000       4.00000  1.500000e+01  \n",
       "Expaned Energy         0.05615       0.09797       0.21776  4.509394e+01  "
      ]
     },
     "execution_count": 7,
     "metadata": {},
     "output_type": "execute_result"
    }
   ],
   "source": [
    "data.describe().T"
   ]
  },
  {
   "cell_type": "code",
   "execution_count": 8,
   "id": "c77d36ba",
   "metadata": {
    "execution": {
     "iopub.execute_input": "2023-02-28T14:11:13.014363Z",
     "iopub.status.busy": "2023-02-28T14:11:13.013984Z",
     "iopub.status.idle": "2023-02-28T14:11:13.124462Z",
     "shell.execute_reply": "2023-02-28T14:11:13.122788Z"
    },
    "papermill": {
     "duration": 0.121313,
     "end_time": "2023-02-28T14:11:13.127183",
     "exception": false,
     "start_time": "2023-02-28T14:11:13.005870",
     "status": "completed"
    },
    "tags": []
   },
   "outputs": [],
   "source": [
    "# using standard scaler for normalizing\n",
    "std_scaler = StandardScaler()\n",
    "def standardization(df,col):\n",
    "  for i in col:\n",
    "    arr = df[i]\n",
    "    arr = np.array(arr)\n",
    "    df[i] = std_scaler.fit_transform(arr.reshape(len(arr),1))\n",
    "  return df\n",
    "\n",
    "numeric_col = data.select_dtypes(include='number').columns\n",
    "data = standardization(data,numeric_col)"
   ]
  },
  {
   "cell_type": "code",
   "execution_count": 9,
   "id": "cbdbb146",
   "metadata": {
    "execution": {
     "iopub.execute_input": "2023-02-28T14:11:13.142391Z",
     "iopub.status.busy": "2023-02-28T14:11:13.142019Z",
     "iopub.status.idle": "2023-02-28T14:11:13.168617Z",
     "shell.execute_reply": "2023-02-28T14:11:13.167350Z"
    },
    "papermill": {
     "duration": 0.03671,
     "end_time": "2023-02-28T14:11:13.170799",
     "exception": false,
     "start_time": "2023-02-28T14:11:13.134089",
     "status": "completed"
    },
    "tags": []
   },
   "outputs": [],
   "source": [
    "# label encoding (0,1,2,3,4) m.applylti-class labels (Normal,Grayhole,Blackhole,TDMA,Flooding)\n",
    "    \n",
    "classes = {'Normal':0 ,'Grayhole':1,'Blackhole':2,'TDMA':3,'Flooding':4}\n",
    "\n",
    "data['Attack type'] = data['Attack type'].map( classes ).astype(int)\n"
   ]
  },
  {
   "cell_type": "code",
   "execution_count": 10,
   "id": "60fed92f",
   "metadata": {
    "execution": {
     "iopub.execute_input": "2023-02-28T14:11:13.186432Z",
     "iopub.status.busy": "2023-02-28T14:11:13.186084Z",
     "iopub.status.idle": "2023-02-28T14:11:13.219800Z",
     "shell.execute_reply": "2023-02-28T14:11:13.218840Z"
    },
    "papermill": {
     "duration": 0.044134,
     "end_time": "2023-02-28T14:11:13.222257",
     "exception": false,
     "start_time": "2023-02-28T14:11:13.178123",
     "status": "completed"
    },
    "tags": []
   },
   "outputs": [],
   "source": [
    "X = data.drop(['Attack type'] , axis=1)\n",
    "y = data['Attack type']"
   ]
  },
  {
   "cell_type": "code",
   "execution_count": 11,
   "id": "1a04ede3",
   "metadata": {
    "execution": {
     "iopub.execute_input": "2023-02-28T14:11:13.237640Z",
     "iopub.status.busy": "2023-02-28T14:11:13.237324Z",
     "iopub.status.idle": "2023-02-28T14:11:13.272219Z",
     "shell.execute_reply": "2023-02-28T14:11:13.270705Z"
    },
    "papermill": {
     "duration": 0.045469,
     "end_time": "2023-02-28T14:11:13.274613",
     "exception": false,
     "start_time": "2023-02-28T14:11:13.229144",
     "status": "completed"
    },
    "tags": []
   },
   "outputs": [],
   "source": [
    "from sklearn.preprocessing import LabelBinarizer\n",
    "\n",
    "y = LabelBinarizer().fit_transform(y)"
   ]
  },
  {
   "cell_type": "code",
   "execution_count": 12,
   "id": "d4a8b8cb",
   "metadata": {
    "execution": {
     "iopub.execute_input": "2023-02-28T14:11:13.289551Z",
     "iopub.status.busy": "2023-02-28T14:11:13.289224Z",
     "iopub.status.idle": "2023-02-28T14:11:13.307414Z",
     "shell.execute_reply": "2023-02-28T14:11:13.305927Z"
    },
    "papermill": {
     "duration": 0.029106,
     "end_time": "2023-02-28T14:11:13.310481",
     "exception": false,
     "start_time": "2023-02-28T14:11:13.281375",
     "status": "completed"
    },
    "tags": []
   },
   "outputs": [],
   "source": [
    "X=np.array(X)\n",
    "y=np.array(y)"
   ]
  },
  {
   "cell_type": "code",
   "execution_count": 13,
   "id": "ce198fc5",
   "metadata": {
    "execution": {
     "iopub.execute_input": "2023-02-28T14:11:13.325703Z",
     "iopub.status.busy": "2023-02-28T14:11:13.325368Z",
     "iopub.status.idle": "2023-02-28T14:11:13.448990Z",
     "shell.execute_reply": "2023-02-28T14:11:13.447699Z"
    },
    "papermill": {
     "duration": 0.134366,
     "end_time": "2023-02-28T14:11:13.451739",
     "exception": false,
     "start_time": "2023-02-28T14:11:13.317373",
     "status": "completed"
    },
    "tags": []
   },
   "outputs": [],
   "source": [
    "# splitting the dataset 67% for training and 33% testing and evaluating\n",
    "X_train, X_temp, y_train, y_temp = train_test_split(X,y, test_size=0.33, random_state=42)\n",
    "\n",
    "X_test, X_val, y_test, y_val = train_test_split(X_temp,y_temp, test_size=0.5, random_state=42)"
   ]
  },
  {
   "cell_type": "code",
   "execution_count": 14,
   "id": "45ddc297",
   "metadata": {
    "execution": {
     "iopub.execute_input": "2023-02-28T14:11:13.467305Z",
     "iopub.status.busy": "2023-02-28T14:11:13.466908Z",
     "iopub.status.idle": "2023-02-28T14:11:13.473500Z",
     "shell.execute_reply": "2023-02-28T14:11:13.472069Z"
    },
    "papermill": {
     "duration": 0.017634,
     "end_time": "2023-02-28T14:11:13.476365",
     "exception": false,
     "start_time": "2023-02-28T14:11:13.458731",
     "status": "completed"
    },
    "tags": []
   },
   "outputs": [],
   "source": [
    "X_train = np.reshape(X_train, (X_train.shape[0], X_train.shape[1], 1))\n",
    "X_test = np.reshape(X_test, (X_test.shape[0], X_test.shape[1], 1))\n",
    "X_val = np.reshape(X_val, (X_val.shape[0], X_val.shape[1], 1))"
   ]
  },
  {
   "cell_type": "code",
   "execution_count": 15,
   "id": "e8109587",
   "metadata": {
    "execution": {
     "iopub.execute_input": "2023-02-28T14:11:13.492649Z",
     "iopub.status.busy": "2023-02-28T14:11:13.492264Z",
     "iopub.status.idle": "2023-02-28T14:11:13.894837Z",
     "shell.execute_reply": "2023-02-28T14:11:13.893799Z"
    },
    "papermill": {
     "duration": 0.413824,
     "end_time": "2023-02-28T14:11:13.897214",
     "exception": false,
     "start_time": "2023-02-28T14:11:13.483390",
     "status": "completed"
    },
    "tags": []
   },
   "outputs": [],
   "source": [
    "model = Sequential()\n",
    "\n",
    "model.add(Convolution1D(128,\n",
    "                 3,\n",
    "                 padding='valid',\n",
    "                 activation='relu',\n",
    "                 strides=1,\n",
    "                 input_shape=(X_train.shape[1], 1)))\n",
    "model.add(Convolution1D(64,\n",
    "                 3,\n",
    "                 padding='valid',\n",
    "                 activation='relu',\n",
    "                 strides=1,\n",
    "                 ))\n",
    "model.add(MaxPooling1D(pool_size=2))\n",
    "model.add(Dropout(0.5))\n",
    "\n",
    "model.add(Flatten())\n",
    "model.add(Dense(5, activation=\"softmax\"))\n"
   ]
  },
  {
   "cell_type": "code",
   "execution_count": 16,
   "id": "9697cee8",
   "metadata": {
    "execution": {
     "iopub.execute_input": "2023-02-28T14:11:13.912982Z",
     "iopub.status.busy": "2023-02-28T14:11:13.912629Z",
     "iopub.status.idle": "2023-02-28T14:11:13.940634Z",
     "shell.execute_reply": "2023-02-28T14:11:13.939561Z"
    },
    "papermill": {
     "duration": 0.038324,
     "end_time": "2023-02-28T14:11:13.942735",
     "exception": false,
     "start_time": "2023-02-28T14:11:13.904411",
     "status": "completed"
    },
    "tags": []
   },
   "outputs": [
    {
     "name": "stdout",
     "output_type": "stream",
     "text": [
      "Model: \"sequential\"\n",
      "_________________________________________________________________\n",
      " Layer (type)                Output Shape              Param #   \n",
      "=================================================================\n",
      " conv1d (Conv1D)             (None, 16, 128)           512       \n",
      "                                                                 \n",
      " conv1d_1 (Conv1D)           (None, 14, 64)            24640     \n",
      "                                                                 \n",
      " max_pooling1d (MaxPooling1D  (None, 7, 64)            0         \n",
      " )                                                               \n",
      "                                                                 \n",
      " dropout (Dropout)           (None, 7, 64)             0         \n",
      "                                                                 \n",
      " flatten (Flatten)           (None, 448)               0         \n",
      "                                                                 \n",
      " dense (Dense)               (None, 5)                 2245      \n",
      "                                                                 \n",
      "=================================================================\n",
      "Total params: 27,397\n",
      "Trainable params: 27,397\n",
      "Non-trainable params: 0\n",
      "_________________________________________________________________\n"
     ]
    }
   ],
   "source": [
    "model.summary()"
   ]
  },
  {
   "cell_type": "code",
   "execution_count": 17,
   "id": "14ad78a1",
   "metadata": {
    "execution": {
     "iopub.execute_input": "2023-02-28T14:11:13.960851Z",
     "iopub.status.busy": "2023-02-28T14:11:13.960463Z",
     "iopub.status.idle": "2023-02-28T14:11:13.976803Z",
     "shell.execute_reply": "2023-02-28T14:11:13.975470Z"
    },
    "papermill": {
     "duration": 0.028056,
     "end_time": "2023-02-28T14:11:13.978894",
     "exception": false,
     "start_time": "2023-02-28T14:11:13.950838",
     "status": "completed"
    },
    "tags": []
   },
   "outputs": [],
   "source": [
    "model.compile(loss=\"categorical_crossentropy\", optimizer=\"adam\",metrics=['accuracy'])"
   ]
  },
  {
   "cell_type": "code",
   "execution_count": 18,
   "id": "fa3ebd7a",
   "metadata": {
    "execution": {
     "iopub.execute_input": "2023-02-28T14:11:13.997273Z",
     "iopub.status.busy": "2023-02-28T14:11:13.996890Z",
     "iopub.status.idle": "2023-02-28T14:17:22.415275Z",
     "shell.execute_reply": "2023-02-28T14:17:22.412988Z"
    },
    "papermill": {
     "duration": 368.430513,
     "end_time": "2023-02-28T14:17:22.417858",
     "exception": false,
     "start_time": "2023-02-28T14:11:13.987345",
     "status": "completed"
    },
    "tags": []
   },
   "outputs": [
    {
     "name": "stdout",
     "output_type": "stream",
     "text": [
      "Epoch 1/30\n",
      "503/503 [==============================] - 13s 24ms/step - loss: 0.1404 - accuracy: 0.9558 - val_loss: 0.0618 - val_accuracy: 0.9724\n",
      "Epoch 2/30\n",
      "503/503 [==============================] - 11s 23ms/step - loss: 0.0635 - accuracy: 0.9722 - val_loss: 0.0500 - val_accuracy: 0.9782\n",
      "Epoch 3/30\n",
      "503/503 [==============================] - 11s 23ms/step - loss: 0.0542 - accuracy: 0.9766 - val_loss: 0.0448 - val_accuracy: 0.9796\n",
      "Epoch 4/30\n",
      "503/503 [==============================] - 11s 23ms/step - loss: 0.0495 - accuracy: 0.9783 - val_loss: 0.0422 - val_accuracy: 0.9816\n",
      "Epoch 5/30\n",
      "503/503 [==============================] - 11s 23ms/step - loss: 0.0478 - accuracy: 0.9789 - val_loss: 0.0400 - val_accuracy: 0.9821\n",
      "Epoch 6/30\n",
      "503/503 [==============================] - 12s 24ms/step - loss: 0.0453 - accuracy: 0.9800 - val_loss: 0.0393 - val_accuracy: 0.9829\n",
      "Epoch 7/30\n",
      "503/503 [==============================] - 12s 24ms/step - loss: 0.0443 - accuracy: 0.9805 - val_loss: 0.0391 - val_accuracy: 0.9807\n",
      "Epoch 8/30\n",
      "503/503 [==============================] - 12s 24ms/step - loss: 0.0434 - accuracy: 0.9806 - val_loss: 0.0389 - val_accuracy: 0.9832\n",
      "Epoch 9/30\n",
      "503/503 [==============================] - 12s 25ms/step - loss: 0.0426 - accuracy: 0.9812 - val_loss: 0.0385 - val_accuracy: 0.9811\n",
      "Epoch 10/30\n",
      "503/503 [==============================] - 12s 24ms/step - loss: 0.0417 - accuracy: 0.9815 - val_loss: 0.0378 - val_accuracy: 0.9822\n",
      "Epoch 11/30\n",
      "503/503 [==============================] - 12s 25ms/step - loss: 0.0411 - accuracy: 0.9818 - val_loss: 0.0365 - val_accuracy: 0.9840\n",
      "Epoch 12/30\n",
      "503/503 [==============================] - 12s 24ms/step - loss: 0.0410 - accuracy: 0.9817 - val_loss: 0.0363 - val_accuracy: 0.9847\n",
      "Epoch 13/30\n",
      "503/503 [==============================] - 12s 25ms/step - loss: 0.0407 - accuracy: 0.9820 - val_loss: 0.0370 - val_accuracy: 0.9844\n",
      "Epoch 14/30\n",
      "503/503 [==============================] - 13s 25ms/step - loss: 0.0401 - accuracy: 0.9824 - val_loss: 0.0359 - val_accuracy: 0.9855\n",
      "Epoch 15/30\n",
      "503/503 [==============================] - 12s 25ms/step - loss: 0.0398 - accuracy: 0.9826 - val_loss: 0.0355 - val_accuracy: 0.9859\n",
      "Epoch 16/30\n",
      "503/503 [==============================] - 13s 26ms/step - loss: 0.0396 - accuracy: 0.9826 - val_loss: 0.0354 - val_accuracy: 0.9846\n",
      "Epoch 17/30\n",
      "503/503 [==============================] - 12s 25ms/step - loss: 0.0395 - accuracy: 0.9830 - val_loss: 0.0353 - val_accuracy: 0.9866\n",
      "Epoch 18/30\n",
      "503/503 [==============================] - 13s 25ms/step - loss: 0.0392 - accuracy: 0.9830 - val_loss: 0.0350 - val_accuracy: 0.9847\n",
      "Epoch 19/30\n",
      "503/503 [==============================] - 13s 25ms/step - loss: 0.0395 - accuracy: 0.9831 - val_loss: 0.0360 - val_accuracy: 0.9817\n",
      "Epoch 20/30\n",
      "503/503 [==============================] - 13s 25ms/step - loss: 0.0389 - accuracy: 0.9833 - val_loss: 0.0344 - val_accuracy: 0.9847\n",
      "Epoch 21/30\n",
      "503/503 [==============================] - 13s 25ms/step - loss: 0.0386 - accuracy: 0.9835 - val_loss: 0.0348 - val_accuracy: 0.9875\n",
      "Epoch 22/30\n",
      "503/503 [==============================] - 12s 25ms/step - loss: 0.0379 - accuracy: 0.9844 - val_loss: 0.0344 - val_accuracy: 0.9885\n",
      "Epoch 23/30\n",
      "503/503 [==============================] - 12s 25ms/step - loss: 0.0378 - accuracy: 0.9844 - val_loss: 0.0336 - val_accuracy: 0.9883\n",
      "Epoch 24/30\n",
      "503/503 [==============================] - 13s 25ms/step - loss: 0.0379 - accuracy: 0.9845 - val_loss: 0.0328 - val_accuracy: 0.9885\n",
      "Epoch 25/30\n",
      "503/503 [==============================] - 13s 25ms/step - loss: 0.0368 - accuracy: 0.9854 - val_loss: 0.0321 - val_accuracy: 0.9889\n",
      "Epoch 26/30\n",
      "503/503 [==============================] - 13s 26ms/step - loss: 0.0369 - accuracy: 0.9854 - val_loss: 0.0334 - val_accuracy: 0.9872\n",
      "Epoch 27/30\n",
      "503/503 [==============================] - 13s 26ms/step - loss: 0.0359 - accuracy: 0.9861 - val_loss: 0.0322 - val_accuracy: 0.9899\n",
      "Epoch 28/30\n",
      "503/503 [==============================] - 12s 25ms/step - loss: 0.0355 - accuracy: 0.9866 - val_loss: 0.0305 - val_accuracy: 0.9909\n",
      "Epoch 29/30\n",
      "503/503 [==============================] - 11s 22ms/step - loss: 0.0345 - accuracy: 0.9875 - val_loss: 0.0302 - val_accuracy: 0.9886\n",
      "Epoch 30/30\n",
      "503/503 [==============================] - 11s 23ms/step - loss: 0.0335 - accuracy: 0.9883 - val_loss: 0.0284 - val_accuracy: 0.9918\n"
     ]
    }
   ],
   "source": [
    "history=model.fit(X_train, y_train, epochs=30,verbose=1,batch_size=500,validation_data=(X_val, y_val))"
   ]
  },
  {
   "cell_type": "code",
   "execution_count": 19,
   "id": "c8096aa8",
   "metadata": {
    "execution": {
     "iopub.execute_input": "2023-02-28T14:17:23.089929Z",
     "iopub.status.busy": "2023-02-28T14:17:23.088612Z",
     "iopub.status.idle": "2023-02-28T14:17:24.505167Z",
     "shell.execute_reply": "2023-02-28T14:17:24.503967Z"
    },
    "papermill": {
     "duration": 1.729793,
     "end_time": "2023-02-28T14:17:24.507529",
     "exception": false,
     "start_time": "2023-02-28T14:17:22.777736",
     "status": "completed"
    },
    "tags": []
   },
   "outputs": [
    {
     "name": "stdout",
     "output_type": "stream",
     "text": [
      "124/124 [==============================] - 1s 6ms/step\n"
     ]
    }
   ],
   "source": [
    "y_pred_test = model.predict(X_test, batch_size=500)\n",
    "\n",
    "# For Plot curve\n",
    "y_pred_evaluation_test = to_categorical(np.argmax(y_pred_test, axis=1), 5)\n",
    "\n",
    "# For evaluation\n",
    "y_pred_argmax_test=(np.argmax(y_pred_test, axis=1))\n",
    "\n",
    "y_test_argmax=(np.argmax(y_test, axis=1))"
   ]
  },
  {
   "cell_type": "code",
   "execution_count": 20,
   "id": "ea3af8b6",
   "metadata": {
    "execution": {
     "iopub.execute_input": "2023-02-28T14:17:25.134646Z",
     "iopub.status.busy": "2023-02-28T14:17:25.133248Z",
     "iopub.status.idle": "2023-02-28T14:17:25.140466Z",
     "shell.execute_reply": "2023-02-28T14:17:25.139390Z"
    },
    "papermill": {
     "duration": 0.321044,
     "end_time": "2023-02-28T14:17:25.142384",
     "exception": false,
     "start_time": "2023-02-28T14:17:24.821340",
     "status": "completed"
    },
    "tags": []
   },
   "outputs": [],
   "source": [
    "# Calculating Area under the curve\n",
    "def AUC(actual_class, pred_class, average = \"micro\"):\n",
    "    \n",
    "    #Making a set of all the unique classes \n",
    "    unique_class = set(actual_class)\n",
    "    roc_auc_dict = {}\n",
    "    for per_class in unique_class:\n",
    "        \n",
    "        #Making a list of all the classes except the current class \n",
    "        other_class = [x for x in unique_class if x != per_class]\n",
    "\n",
    "        #Making the current class with label 1 and all other classes as a label 0\n",
    "        new_actual_class = [0 if x in other_class else 1 for x in actual_class]\n",
    "        new_pred_class = [0 if x in other_class else 1 for x in pred_class]\n",
    "\n",
    "        # Calculating the roc_auc_score\n",
    "        roc_auc = roc_auc_score(new_actual_class, new_pred_class, average = average)\n",
    "        roc_auc_dict[per_class] = roc_auc\n",
    "\n",
    "    return roc_auc_dict"
   ]
  },
  {
   "cell_type": "code",
   "execution_count": 21,
   "id": "4486b79f",
   "metadata": {
    "execution": {
     "iopub.execute_input": "2023-02-28T14:17:25.817594Z",
     "iopub.status.busy": "2023-02-28T14:17:25.817236Z",
     "iopub.status.idle": "2023-02-28T14:17:25.829682Z",
     "shell.execute_reply": "2023-02-28T14:17:25.828930Z"
    },
    "papermill": {
     "duration": 0.324868,
     "end_time": "2023-02-28T14:17:25.831541",
     "exception": false,
     "start_time": "2023-02-28T14:17:25.506673",
     "status": "completed"
    },
    "tags": []
   },
   "outputs": [],
   "source": [
    "def plot_roc_curve(y_test,y_pred):\n",
    "    n_classes=5\n",
    "    fpr = dict()\n",
    "    tpr = dict()\n",
    "    roc_auc = dict()\n",
    "    for i in range(n_classes):\n",
    "        fpr[i], tpr[i], _ = roc_curve(y_test[:, i], y_pred[:, i])\n",
    "        roc_auc[i] = auc(fpr[i], tpr[i])\n",
    "    fpr[\"micro\"], tpr[\"micro\"], _ = roc_curve(y_test.ravel(), y_pred.ravel())\n",
    "    roc_auc[\"micro\"] = auc(fpr[\"micro\"], tpr[\"micro\"])\n",
    "    lw=2\n",
    "    all_fpr = np.unique(np.concatenate([fpr[i] for i in range(n_classes)]))\n",
    "\n",
    "    mean_tpr = np.zeros_like(all_fpr)\n",
    "    for i in range(n_classes):\n",
    "        mean_tpr += np.interp(all_fpr, fpr[i], tpr[i])\n",
    "\n",
    "    mean_tpr /= n_classes\n",
    "\n",
    "    fpr[\"macro\"] = all_fpr\n",
    "    tpr[\"macro\"] = mean_tpr\n",
    "    roc_auc[\"macro\"] = auc(fpr[\"macro\"], tpr[\"macro\"])\n",
    "\n",
    "# Plot all ROC curves\n",
    "    plt.figure(figsize=(10, 10))\n",
    "    plt.plot(fpr[\"micro\"],\n",
    "    tpr[\"micro\"],\n",
    "    label=\"micro-average ROC curve (area = {0:0.2f})\".format(roc_auc[\"micro\"]),\n",
    "    color=\"deeppink\",\n",
    "    linestyle=\":\",\n",
    "    linewidth=4,)\n",
    "\n",
    "    plt.plot(fpr[\"macro\"],\n",
    "    tpr[\"macro\"],\n",
    "    label=\"macro-average ROC curve (area = {0:0.2f})\".format(roc_auc[\"macro\"]),\n",
    "    color=\"navy\",\n",
    "    linestyle=\":\",\n",
    "    linewidth=4,\n",
    ")\n",
    "\n",
    "    colors = cycle([\"aqua\", \"darkorange\", \"cornflowerblue\"])\n",
    "    for i, color in zip(range(n_classes), colors):\n",
    "        plt.plot(\n",
    "           fpr[i],\n",
    "           tpr[i],\n",
    "           color=color,\n",
    "           lw=lw,\n",
    "        label=\"ROC curve of class {0} (area = {1:0.2f})\".format(i, roc_auc[i]),\n",
    "    )\n",
    "\n",
    "    plt.plot([0, 1], [0, 1], \"k--\", lw=lw)\n",
    "    plt.xlim([0.0, 1.0])\n",
    "    plt.ylim([0.0, 1.05])\n",
    "    plt.xlabel(\"False Positive Rate\")\n",
    "    plt.ylabel(\"True Positive Rate\")\n",
    "    plt.title(\"CNN AUC\")\n",
    "    plt.legend(loc=\"lower right\")\n",
    "    plt.show()"
   ]
  },
  {
   "cell_type": "code",
   "execution_count": 22,
   "id": "aeacce91",
   "metadata": {
    "execution": {
     "iopub.execute_input": "2023-02-28T14:17:26.457879Z",
     "iopub.status.busy": "2023-02-28T14:17:26.456888Z",
     "iopub.status.idle": "2023-02-28T14:17:26.466315Z",
     "shell.execute_reply": "2023-02-28T14:17:26.465376Z"
    },
    "papermill": {
     "duration": 0.326996,
     "end_time": "2023-02-28T14:17:26.469071",
     "exception": false,
     "start_time": "2023-02-28T14:17:26.142075",
     "status": "completed"
    },
    "tags": []
   },
   "outputs": [],
   "source": [
    "def plot_confusion_matrix(cm, classes,\n",
    "                          normalize=False,\n",
    "                          title='Confusion matrix',\n",
    "                          cmap=plt.cm.Blues):\n",
    "    \"\"\"\n",
    "    Prints and plots the confusion matrix.\n",
    "    \"\"\"\n",
    "    if normalize:\n",
    "        cm = cm.astype('float') / cm.sum(axis=1)[:, np.newaxis]\n",
    "        print(\"Normalized confusion matrix\")\n",
    "    else:\n",
    "        print('Confusion matrix, without normalization')\n",
    "\n",
    "    plt.imshow(cm, interpolation='nearest', cmap=cmap)\n",
    "    plt.title(title)\n",
    "    plt.colorbar()\n",
    "    tick_marks = np.arange(len(classes))\n",
    "    plt.xticks(tick_marks, classes, rotation=45)\n",
    "    plt.yticks(tick_marks, classes)\n",
    "\n",
    "    fmt = '.2f' if normalize else 'd'\n",
    "    thresh = cm.max() / 2.\n",
    "    for i, j in itertools.product(range(cm.shape[0]), range(cm.shape[1])):\n",
    "        plt.text(j, i, format(cm[i, j], fmt),\n",
    "                 horizontalalignment=\"center\",\n",
    "                 color=\"white\" if cm[i, j] > thresh else \"black\")\n",
    "\n",
    "    plt.tight_layout()\n",
    "    plt.ylabel('True label')\n",
    "    plt.xlabel('Predicted label')"
   ]
  },
  {
   "cell_type": "code",
   "execution_count": 23,
   "id": "c662f54f",
   "metadata": {
    "execution": {
     "iopub.execute_input": "2023-02-28T14:17:27.141844Z",
     "iopub.status.busy": "2023-02-28T14:17:27.141440Z",
     "iopub.status.idle": "2023-02-28T14:17:31.290691Z",
     "shell.execute_reply": "2023-02-28T14:17:31.288927Z"
    },
    "papermill": {
     "duration": 4.515131,
     "end_time": "2023-02-28T14:17:31.293194",
     "exception": false,
     "start_time": "2023-02-28T14:17:26.778063",
     "status": "completed"
    },
    "tags": []
   },
   "outputs": [
    {
     "name": "stdout",
     "output_type": "stream",
     "text": [
      "1932/1932 [==============================] - 4s 2ms/step - loss: 0.0285 - accuracy: 0.9920\n",
      "Test results - Loss: 0.02848028764128685 - Accuracy: 99.19927716255188%\n"
     ]
    }
   ],
   "source": [
    "# predicting target attribute on testing dataset\n",
    "test_results = model.evaluate(X_test, y_test, verbose=1)\n",
    "print(f'Test results - Loss: {test_results[0]} - Accuracy: {test_results[1]*100}%')"
   ]
  },
  {
   "cell_type": "code",
   "execution_count": 24,
   "id": "35a7b9c4",
   "metadata": {
    "execution": {
     "iopub.execute_input": "2023-02-28T14:17:31.920962Z",
     "iopub.status.busy": "2023-02-28T14:17:31.919995Z",
     "iopub.status.idle": "2023-02-28T14:17:32.126610Z",
     "shell.execute_reply": "2023-02-28T14:17:32.125461Z"
    },
    "papermill": {
     "duration": 0.522199,
     "end_time": "2023-02-28T14:17:32.129061",
     "exception": false,
     "start_time": "2023-02-28T14:17:31.606862",
     "status": "completed"
    },
    "tags": []
   },
   "outputs": [
    {
     "name": "stdout",
     "output_type": "stream",
     "text": [
      "AUC Score is on Test :  {0: 0.9909641697772354, 1: 0.9521420822013473, 2: 0.972636806111754, 3: 0.9654430916297716, 4: 0.9977220626478338}\n"
     ]
    }
   ],
   "source": [
    "print('AUC Score is on Test : ' , AUC(y_test_argmax, y_pred_argmax_test))"
   ]
  },
  {
   "cell_type": "code",
   "execution_count": 25,
   "id": "748e4818",
   "metadata": {
    "execution": {
     "iopub.execute_input": "2023-02-28T14:17:32.762891Z",
     "iopub.status.busy": "2023-02-28T14:17:32.762280Z",
     "iopub.status.idle": "2023-02-28T14:17:32.813604Z",
     "shell.execute_reply": "2023-02-28T14:17:32.812548Z"
    },
    "papermill": {
     "duration": 0.369778,
     "end_time": "2023-02-28T14:17:32.815447",
     "exception": false,
     "start_time": "2023-02-28T14:17:32.445669",
     "status": "completed"
    },
    "tags": []
   },
   "outputs": [
    {
     "name": "stdout",
     "output_type": "stream",
     "text": [
      "Classification Report on Data Test \n",
      "               precision    recall  f1-score   support\n",
      "\n",
      "      Normal       1.00      1.00      1.00     56078\n",
      "    Grayhole       0.95      0.91      0.93      2421\n",
      "   Blackhole       0.88      0.95      0.91      1622\n",
      "        TDMA       0.99      0.93      0.96      1131\n",
      "    Flooding       0.90      1.00      0.95       567\n",
      "\n",
      "    accuracy                           0.99     61819\n",
      "   macro avg       0.94      0.96      0.95     61819\n",
      "weighted avg       0.99      0.99      0.99     61819\n",
      "\n"
     ]
    }
   ],
   "source": [
    "from sklearn.metrics import classification_report\n",
    "\n",
    "target = ['Normal','Grayhole','Blackhole','TDMA','Flooding']\n",
    "\n",
    "print(\"Classification Report on Data Test \\n\" , classification_report(y_test_argmax, y_pred_argmax_test, target_names=target))"
   ]
  },
  {
   "cell_type": "code",
   "execution_count": 26,
   "id": "096f5aec",
   "metadata": {
    "execution": {
     "iopub.execute_input": "2023-02-28T14:17:33.501523Z",
     "iopub.status.busy": "2023-02-28T14:17:33.500971Z",
     "iopub.status.idle": "2023-02-28T14:17:33.697381Z",
     "shell.execute_reply": "2023-02-28T14:17:33.696204Z"
    },
    "papermill": {
     "duration": 0.515223,
     "end_time": "2023-02-28T14:17:33.699851",
     "exception": false,
     "start_time": "2023-02-28T14:17:33.184628",
     "status": "completed"
    },
    "tags": []
   },
   "outputs": [
    {
     "data": {
      "image/png": "[encoded data removed]",
      "text/plain": [
       "<Figure size 640x480 with 1 Axes>"
      ]
     },
     "metadata": {},
     "output_type": "display_data"
    }
   ],
   "source": [
    "# Plot of accuracy vs epoch for train and test dataset\n",
    "plt.plot(history.history['accuracy'])\n",
    "plt.plot(history.history['val_accuracy'])\n",
    "plt.title(\"CNN Accuracy\")\n",
    "plt.ylabel('accuracy')\n",
    "plt.xlabel('epoch')\n",
    "plt.legend(['train', 'validation'], loc='upper right')\n",
    "plt.show()"
   ]
  },
  {
   "cell_type": "code",
   "execution_count": 27,
   "id": "ac9209fa",
   "metadata": {
    "execution": {
     "iopub.execute_input": "2023-02-28T14:17:34.327819Z",
     "iopub.status.busy": "2023-02-28T14:17:34.327469Z",
     "iopub.status.idle": "2023-02-28T14:17:34.496543Z",
     "shell.execute_reply": "2023-02-28T14:17:34.495518Z"
    },
    "papermill": {
     "duration": 0.485748,
     "end_time": "2023-02-28T14:17:34.498588",
     "exception": false,
     "start_time": "2023-02-28T14:17:34.012840",
     "status": "completed"
    },
    "tags": []
   },
   "outputs": [
    {
     "data": {
      "image/png": "[encoded data removed]",
      "text/plain": [
       "<Figure size 640x480 with 1 Axes>"
      ]
     },
     "metadata": {},
     "output_type": "display_data"
    }
   ],
   "source": [
    "# Plot of loss vs epoch for train and test dataset\n",
    "plt.plot(history.history['loss'])\n",
    "plt.plot(history.history['val_loss'])\n",
    "plt.title(\"CNN Loss\")\n",
    "plt.ylabel('loss')\n",
    "plt.xlabel('epoch')\n",
    "plt.legend(['train', 'validation'], loc='upper right')\n",
    "plt.show()"
   ]
  },
  {
   "cell_type": "code",
   "execution_count": 28,
   "id": "1be8eff0",
   "metadata": {
    "execution": {
     "iopub.execute_input": "2023-02-28T14:17:35.181711Z",
     "iopub.status.busy": "2023-02-28T14:17:35.181369Z",
     "iopub.status.idle": "2023-02-28T14:17:35.451280Z",
     "shell.execute_reply": "2023-02-28T14:17:35.450315Z"
    },
    "papermill": {
     "duration": 0.638862,
     "end_time": "2023-02-28T14:17:35.453717",
     "exception": false,
     "start_time": "2023-02-28T14:17:34.814855",
     "status": "completed"
    },
    "tags": []
   },
   "outputs": [
    {
     "name": "stdout",
     "output_type": "stream",
     "text": [
      "Confusion matrix, without normalization\n"
     ]
    },
    {
     "data": {
      "image/png": "[encoded data removed]",
      "text/plain": [
       "<Figure size 700x700 with 2 Axes>"
      ]
     },
     "metadata": {},
     "output_type": "display_data"
    }
   ],
   "source": [
    "# Compute confusion matrix\n",
    "from sklearn.metrics import confusion_matrix\n",
    "\n",
    "cnf_matrix = confusion_matrix(y_test_argmax, y_pred_argmax_test)\n",
    "\n",
    "# Plot non-normalized confusion matrix\n",
    "plt.figure(figsize=(7, 7))\n",
    "plot_confusion_matrix(cnf_matrix, classes=target,\n",
    "                      title='CNN Confusion matrix')\n",
    "plt.show()"
   ]
  },
  {
   "cell_type": "code",
   "execution_count": 29,
   "id": "2d88ffa1",
   "metadata": {
    "execution": {
     "iopub.execute_input": "2023-02-28T14:17:36.090967Z",
     "iopub.status.busy": "2023-02-28T14:17:36.090606Z",
     "iopub.status.idle": "2023-02-28T14:17:36.355671Z",
     "shell.execute_reply": "2023-02-28T14:17:36.354890Z"
    },
    "papermill": {
     "duration": 0.588022,
     "end_time": "2023-02-28T14:17:36.357374",
     "exception": false,
     "start_time": "2023-02-28T14:17:35.769352",
     "status": "completed"
    },
    "tags": []
   },
   "outputs": [
    {
     "data": {
      "image/png": "[encoded data removed]",
      "text/plain": [
       "<Figure size 1000x1000 with 1 Axes>"
      ]
     },
     "metadata": {},
     "output_type": "display_data"
    }
   ],
   "source": [
    "plot_roc_curve(y_test,y_pred_evaluation_test)"
   ]
  },
  {
   "cell_type": "code",
   "execution_count": 30,
   "id": "99059212",
   "metadata": {
    "execution": {
     "iopub.execute_input": "2023-02-28T14:17:36.999810Z",
     "iopub.status.busy": "2023-02-28T14:17:36.998198Z",
     "iopub.status.idle": "2023-02-28T14:17:37.023464Z",
     "shell.execute_reply": "2023-02-28T14:17:37.022199Z"
    },
    "papermill": {
     "duration": 0.351048,
     "end_time": "2023-02-28T14:17:37.025881",
     "exception": false,
     "start_time": "2023-02-28T14:17:36.674833",
     "status": "completed"
    },
    "tags": []
   },
   "outputs": [],
   "source": [
    "model.save_weights(\"cnn_weights.h5\")"
   ]
  },
  {
   "cell_type": "code",
   "execution_count": 31,
   "id": "f7452dc2",
   "metadata": {
    "execution": {
     "iopub.execute_input": "2023-02-28T14:17:37.709302Z",
     "iopub.status.busy": "2023-02-28T14:17:37.708654Z",
     "iopub.status.idle": "2023-02-28T14:17:37.726405Z",
     "shell.execute_reply": "2023-02-28T14:17:37.725677Z"
    },
    "papermill": {
     "duration": 0.38604,
     "end_time": "2023-02-28T14:17:37.728606",
     "exception": false,
     "start_time": "2023-02-28T14:17:37.342566",
     "status": "completed"
    },
    "tags": []
   },
   "outputs": [],
   "source": [
    "model.save(\"cnn.h5\")"
   ]
  }
 ],
 "metadata": {
  "kernelspec": {
   "display_name": "Python 3",
   "language": "python",
   "name": "python3"
  },
  "language_info": {
   "codemirror_mode": {
    "name": "ipython",
    "version": 3
   },
   "file_extension": ".py",
   "mimetype": "text/x-python",
   "name": "python",
   "nbconvert_exporter": "python",
   "pygments_lexer": "ipython3",
   "version": "3.7.12"
  },
  "papermill": {
   "default_parameters": {},
   "duration": 406.696043,
   "end_time": "2023-02-28T14:17:41.318881",
   "environment_variables": {},
   "exception": null,
   "input_path": "__notebook__.ipynb",
   "output_path": "__notebook__.ipynb",
   "parameters": {},
   "start_time": "2023-02-28T14:10:54.622838",
   "version": "2.4.0"
  }
 },
 "nbformat": 4,
 "nbformat_minor": 5
}
