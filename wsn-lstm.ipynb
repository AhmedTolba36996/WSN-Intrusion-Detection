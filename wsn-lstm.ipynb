{
 "cells": [
  {
   "cell_type": "code",
   "execution_count": 1,
   "id": "4dfbed8e",
   "metadata": {
    "_cell_guid": "b1076dfc-b9ad-4769-8c92-a6c4dae69d19",
    "_uuid": "8f2839f25d086af736a60e9eeb907d3b93b6e0e5",
    "execution": {
     "iopub.execute_input": "2023-02-28T13:35:49.968217Z",
     "iopub.status.busy": "2023-02-28T13:35:49.967835Z",
     "iopub.status.idle": "2023-02-28T13:35:56.869902Z",
     "shell.execute_reply": "2023-02-28T13:35:56.868737Z"
    },
    "papermill": {
     "duration": 6.912492,
     "end_time": "2023-02-28T13:35:56.872837",
     "exception": false,
     "start_time": "2023-02-28T13:35:49.960345",
     "status": "completed"
    },
    "tags": []
   },
   "outputs": [],
   "source": [
    "# importing required libraries\n",
    "import numpy as np\n",
    "import pandas as pd\n",
    "import pickle # saving and loading trained model\n",
    "from os import path\n",
    "\n",
    "# importing required libraries for normalizing data\n",
    "from sklearn import preprocessing\n",
    "\n",
    "from sklearn.preprocessing import (StandardScaler, OrdinalEncoder,LabelEncoder, MinMaxScaler, OneHotEncoder)\n",
    "from sklearn.preprocessing import Normalizer, MaxAbsScaler , RobustScaler, PowerTransformer\n",
    "\n",
    "# importing library for plotting\n",
    "import matplotlib.pyplot as plt\n",
    "import seaborn as sns\n",
    "\n",
    "from sklearn import metrics\n",
    "from sklearn.metrics import accuracy_score # for calculating accuracy of model\n",
    "from sklearn.model_selection import train_test_split # for splitting the dataset for training and testing\n",
    "from sklearn.metrics import classification_report # for generating a classification report of model\n",
    "\n",
    "from sklearn.metrics import precision_score\n",
    "from sklearn.metrics import recall_score\n",
    "from sklearn.metrics import f1_score\n",
    "\n",
    "from sklearn.metrics import roc_auc_score\n",
    "from sklearn.metrics import roc_curve, auc\n",
    "\n",
    "import tensorflow as tf\n",
    "from tensorflow.keras.utils import to_categorical\n",
    "\n",
    "from keras.layers import Dense, Conv1D, MaxPool1D, Flatten, Dropout , LSTM # importing dense layer\n",
    "from keras.layers import Convolution1D, Dense, Dropout, Flatten, MaxPooling1D\n",
    "from keras.models import Sequential #importing Sequential layer\n",
    "from keras.layers import Input\n",
    "from keras.models import Model\n",
    "from tensorflow.keras import layers\n",
    "# representation of model layers\n",
    "from keras.utils.vis_utils import plot_model\n",
    "\n",
    "import itertools\n",
    "from itertools import cycle"
   ]
  },
  {
   "cell_type": "code",
   "execution_count": 2,
   "id": "023c21cc",
   "metadata": {
    "execution": {
     "iopub.execute_input": "2023-02-28T13:35:56.885840Z",
     "iopub.status.busy": "2023-02-28T13:35:56.885170Z",
     "iopub.status.idle": "2023-02-28T13:35:57.715463Z",
     "shell.execute_reply": "2023-02-28T13:35:57.714443Z"
    },
    "papermill": {
     "duration": 0.839619,
     "end_time": "2023-02-28T13:35:57.718119",
     "exception": false,
     "start_time": "2023-02-28T13:35:56.878500",
     "status": "completed"
    },
    "tags": []
   },
   "outputs": [],
   "source": [
    "data = pd.read_csv(\"/kaggle/input/wsnds/WSN-DS.csv\")"
   ]
  },
  {
   "cell_type": "code",
   "execution_count": 3,
   "id": "4e16e4a9",
   "metadata": {
    "execution": {
     "iopub.execute_input": "2023-02-28T13:35:57.729907Z",
     "iopub.status.busy": "2023-02-28T13:35:57.729613Z",
     "iopub.status.idle": "2023-02-28T13:35:57.753410Z",
     "shell.execute_reply": "2023-02-28T13:35:57.752514Z"
    },
    "papermill": {
     "duration": 0.032099,
     "end_time": "2023-02-28T13:35:57.755612",
     "exception": false,
     "start_time": "2023-02-28T13:35:57.723513",
     "status": "completed"
    },
    "tags": []
   },
   "outputs": [
    {
     "data": {
      "text/html": [
       "<div>\n",
       "<style scoped>\n",
       "    .dataframe tbody tr th:only-of-type {\n",
       "        vertical-align: middle;\n",
       "    }\n",
       "\n",
       "    .dataframe tbody tr th {\n",
       "        vertical-align: top;\n",
       "    }\n",
       "\n",
       "    .dataframe thead th {\n",
       "        text-align: right;\n",
       "    }\n",
       "</style>\n",
       "<table border=\"1\" class=\"dataframe\">\n",
       "  <thead>\n",
       "    <tr style=\"text-align: right;\">\n",
       "      <th></th>\n",
       "      <th>id</th>\n",
       "      <th>Time</th>\n",
       "      <th>Is_CH</th>\n",
       "      <th>who CH</th>\n",
       "      <th>Dist_To_CH</th>\n",
       "      <th>ADV_S</th>\n",
       "      <th>ADV_R</th>\n",
       "      <th>JOIN_S</th>\n",
       "      <th>JOIN_R</th>\n",
       "      <th>SCH_S</th>\n",
       "      <th>SCH_R</th>\n",
       "      <th>Rank</th>\n",
       "      <th>DATA_S</th>\n",
       "      <th>DATA_R</th>\n",
       "      <th>Data_Sent_To_BS</th>\n",
       "      <th>dist_CH_To_BS</th>\n",
       "      <th>send_code</th>\n",
       "      <th>Expaned Energy</th>\n",
       "      <th>Attack type</th>\n",
       "    </tr>\n",
       "  </thead>\n",
       "  <tbody>\n",
       "    <tr>\n",
       "      <th>0</th>\n",
       "      <td>101000</td>\n",
       "      <td>50</td>\n",
       "      <td>1</td>\n",
       "      <td>101000</td>\n",
       "      <td>0.00000</td>\n",
       "      <td>1</td>\n",
       "      <td>0</td>\n",
       "      <td>0</td>\n",
       "      <td>25</td>\n",
       "      <td>1</td>\n",
       "      <td>0</td>\n",
       "      <td>0</td>\n",
       "      <td>0</td>\n",
       "      <td>1200</td>\n",
       "      <td>48</td>\n",
       "      <td>130.08535</td>\n",
       "      <td>0</td>\n",
       "      <td>2.46940</td>\n",
       "      <td>Normal</td>\n",
       "    </tr>\n",
       "    <tr>\n",
       "      <th>1</th>\n",
       "      <td>101001</td>\n",
       "      <td>50</td>\n",
       "      <td>0</td>\n",
       "      <td>101044</td>\n",
       "      <td>75.32345</td>\n",
       "      <td>0</td>\n",
       "      <td>4</td>\n",
       "      <td>1</td>\n",
       "      <td>0</td>\n",
       "      <td>0</td>\n",
       "      <td>1</td>\n",
       "      <td>2</td>\n",
       "      <td>38</td>\n",
       "      <td>0</td>\n",
       "      <td>0</td>\n",
       "      <td>0.00000</td>\n",
       "      <td>4</td>\n",
       "      <td>0.06957</td>\n",
       "      <td>Normal</td>\n",
       "    </tr>\n",
       "    <tr>\n",
       "      <th>2</th>\n",
       "      <td>101002</td>\n",
       "      <td>50</td>\n",
       "      <td>0</td>\n",
       "      <td>101010</td>\n",
       "      <td>46.95453</td>\n",
       "      <td>0</td>\n",
       "      <td>4</td>\n",
       "      <td>1</td>\n",
       "      <td>0</td>\n",
       "      <td>0</td>\n",
       "      <td>1</td>\n",
       "      <td>19</td>\n",
       "      <td>41</td>\n",
       "      <td>0</td>\n",
       "      <td>0</td>\n",
       "      <td>0.00000</td>\n",
       "      <td>3</td>\n",
       "      <td>0.06898</td>\n",
       "      <td>Normal</td>\n",
       "    </tr>\n",
       "    <tr>\n",
       "      <th>3</th>\n",
       "      <td>101003</td>\n",
       "      <td>50</td>\n",
       "      <td>0</td>\n",
       "      <td>101044</td>\n",
       "      <td>64.85231</td>\n",
       "      <td>0</td>\n",
       "      <td>4</td>\n",
       "      <td>1</td>\n",
       "      <td>0</td>\n",
       "      <td>0</td>\n",
       "      <td>1</td>\n",
       "      <td>16</td>\n",
       "      <td>38</td>\n",
       "      <td>0</td>\n",
       "      <td>0</td>\n",
       "      <td>0.00000</td>\n",
       "      <td>4</td>\n",
       "      <td>0.06673</td>\n",
       "      <td>Normal</td>\n",
       "    </tr>\n",
       "    <tr>\n",
       "      <th>4</th>\n",
       "      <td>101004</td>\n",
       "      <td>50</td>\n",
       "      <td>0</td>\n",
       "      <td>101010</td>\n",
       "      <td>4.83341</td>\n",
       "      <td>0</td>\n",
       "      <td>4</td>\n",
       "      <td>1</td>\n",
       "      <td>0</td>\n",
       "      <td>0</td>\n",
       "      <td>1</td>\n",
       "      <td>25</td>\n",
       "      <td>41</td>\n",
       "      <td>0</td>\n",
       "      <td>0</td>\n",
       "      <td>0.00000</td>\n",
       "      <td>3</td>\n",
       "      <td>0.06534</td>\n",
       "      <td>Normal</td>\n",
       "    </tr>\n",
       "  </tbody>\n",
       "</table>\n",
       "</div>"
      ],
      "text/plain": [
       "       id   Time   Is_CH   who CH   Dist_To_CH   ADV_S   ADV_R   JOIN_S  \\\n",
       "0  101000     50       1   101000      0.00000       1       0        0   \n",
       "1  101001     50       0   101044     75.32345       0       4        1   \n",
       "2  101002     50       0   101010     46.95453       0       4        1   \n",
       "3  101003     50       0   101044     64.85231       0       4        1   \n",
       "4  101004     50       0   101010      4.83341       0       4        1   \n",
       "\n",
       "    JOIN_R   SCH_S   SCH_R  Rank   DATA_S   DATA_R   Data_Sent_To_BS  \\\n",
       "0       25       1       0     0        0     1200                48   \n",
       "1        0       0       1     2       38        0                 0   \n",
       "2        0       0       1    19       41        0                 0   \n",
       "3        0       0       1    16       38        0                 0   \n",
       "4        0       0       1    25       41        0                 0   \n",
       "\n",
       "    dist_CH_To_BS   send_code   Expaned Energy Attack type  \n",
       "0       130.08535            0         2.46940      Normal  \n",
       "1         0.00000            4         0.06957      Normal  \n",
       "2         0.00000            3         0.06898      Normal  \n",
       "3         0.00000            4         0.06673      Normal  \n",
       "4         0.00000            3         0.06534      Normal  "
      ]
     },
     "execution_count": 3,
     "metadata": {},
     "output_type": "execute_result"
    }
   ],
   "source": [
    "data.head()"
   ]
  },
  {
   "cell_type": "code",
   "execution_count": 4,
   "id": "1764d535",
   "metadata": {
    "execution": {
     "iopub.execute_input": "2023-02-28T13:35:57.767932Z",
     "iopub.status.busy": "2023-02-28T13:35:57.767649Z",
     "iopub.status.idle": "2023-02-28T13:35:57.775631Z",
     "shell.execute_reply": "2023-02-28T13:35:57.774698Z"
    },
    "papermill": {
     "duration": 0.016454,
     "end_time": "2023-02-28T13:35:57.777673",
     "exception": false,
     "start_time": "2023-02-28T13:35:57.761219",
     "status": "completed"
    },
    "tags": []
   },
   "outputs": [
    {
     "data": {
      "text/plain": [
       "(374661, 19)"
      ]
     },
     "execution_count": 4,
     "metadata": {},
     "output_type": "execute_result"
    }
   ],
   "source": [
    "data.shape"
   ]
  },
  {
   "cell_type": "code",
   "execution_count": 5,
   "id": "623b6e66",
   "metadata": {
    "execution": {
     "iopub.execute_input": "2023-02-28T13:35:57.790978Z",
     "iopub.status.busy": "2023-02-28T13:35:57.789357Z",
     "iopub.status.idle": "2023-02-28T13:35:57.832568Z",
     "shell.execute_reply": "2023-02-28T13:35:57.831508Z"
    },
    "papermill": {
     "duration": 0.052384,
     "end_time": "2023-02-28T13:35:57.835349",
     "exception": false,
     "start_time": "2023-02-28T13:35:57.782965",
     "status": "completed"
    },
    "tags": []
   },
   "outputs": [
    {
     "name": "stdout",
     "output_type": "stream",
     "text": [
      "<class 'pandas.core.frame.DataFrame'>\n",
      "RangeIndex: 374661 entries, 0 to 374660\n",
      "Data columns (total 19 columns):\n",
      " #   Column            Non-Null Count   Dtype  \n",
      "---  ------            --------------   -----  \n",
      " 0    id               374661 non-null  int64  \n",
      " 1    Time             374661 non-null  int64  \n",
      " 2    Is_CH            374661 non-null  int64  \n",
      " 3    who CH           374661 non-null  int64  \n",
      " 4    Dist_To_CH       374661 non-null  float64\n",
      " 5    ADV_S            374661 non-null  int64  \n",
      " 6    ADV_R            374661 non-null  int64  \n",
      " 7    JOIN_S           374661 non-null  int64  \n",
      " 8    JOIN_R           374661 non-null  int64  \n",
      " 9    SCH_S            374661 non-null  int64  \n",
      " 10   SCH_R            374661 non-null  int64  \n",
      " 11  Rank              374661 non-null  int64  \n",
      " 12   DATA_S           374661 non-null  int64  \n",
      " 13   DATA_R           374661 non-null  int64  \n",
      " 14   Data_Sent_To_BS  374661 non-null  int64  \n",
      " 15   dist_CH_To_BS    374661 non-null  float64\n",
      " 16   send_code        374661 non-null  int64  \n",
      " 17  Expaned Energy    374661 non-null  float64\n",
      " 18  Attack type       374661 non-null  object \n",
      "dtypes: float64(3), int64(15), object(1)\n",
      "memory usage: 54.3+ MB\n"
     ]
    }
   ],
   "source": [
    "data.info()"
   ]
  },
  {
   "cell_type": "code",
   "execution_count": 6,
   "id": "5e25e280",
   "metadata": {
    "execution": {
     "iopub.execute_input": "2023-02-28T13:35:57.848217Z",
     "iopub.status.busy": "2023-02-28T13:35:57.847943Z",
     "iopub.status.idle": "2023-02-28T13:35:57.874355Z",
     "shell.execute_reply": "2023-02-28T13:35:57.873422Z"
    },
    "papermill": {
     "duration": 0.034901,
     "end_time": "2023-02-28T13:35:57.876418",
     "exception": false,
     "start_time": "2023-02-28T13:35:57.841517",
     "status": "completed"
    },
    "tags": []
   },
   "outputs": [
    {
     "data": {
      "text/plain": [
       "Normal       340066\n",
       "Grayhole      14596\n",
       "Blackhole     10049\n",
       "TDMA           6638\n",
       "Flooding       3312\n",
       "Name: Attack type, dtype: int64"
      ]
     },
     "execution_count": 6,
     "metadata": {},
     "output_type": "execute_result"
    }
   ],
   "source": [
    "data['Attack type'].value_counts()"
   ]
  },
  {
   "cell_type": "code",
   "execution_count": 7,
   "id": "198afdd6",
   "metadata": {
    "execution": {
     "iopub.execute_input": "2023-02-28T13:35:57.888791Z",
     "iopub.status.busy": "2023-02-28T13:35:57.888523Z",
     "iopub.status.idle": "2023-02-28T13:35:58.060539Z",
     "shell.execute_reply": "2023-02-28T13:35:58.059464Z"
    },
    "papermill": {
     "duration": 0.180832,
     "end_time": "2023-02-28T13:35:58.062918",
     "exception": false,
     "start_time": "2023-02-28T13:35:57.882086",
     "status": "completed"
    },
    "tags": []
   },
   "outputs": [
    {
     "data": {
      "text/html": [
       "<div>\n",
       "<style scoped>\n",
       "    .dataframe tbody tr th:only-of-type {\n",
       "        vertical-align: middle;\n",
       "    }\n",
       "\n",
       "    .dataframe tbody tr th {\n",
       "        vertical-align: top;\n",
       "    }\n",
       "\n",
       "    .dataframe thead th {\n",
       "        text-align: right;\n",
       "    }\n",
       "</style>\n",
       "<table border=\"1\" class=\"dataframe\">\n",
       "  <thead>\n",
       "    <tr style=\"text-align: right;\">\n",
       "      <th></th>\n",
       "      <th>count</th>\n",
       "      <th>mean</th>\n",
       "      <th>std</th>\n",
       "      <th>min</th>\n",
       "      <th>25%</th>\n",
       "      <th>50%</th>\n",
       "      <th>75%</th>\n",
       "      <th>max</th>\n",
       "    </tr>\n",
       "  </thead>\n",
       "  <tbody>\n",
       "    <tr>\n",
       "      <th>id</th>\n",
       "      <td>374661.0</td>\n",
       "      <td>274969.325879</td>\n",
       "      <td>389898.554898</td>\n",
       "      <td>101000.0</td>\n",
       "      <td>107093.00000</td>\n",
       "      <td>116071.00000</td>\n",
       "      <td>215072.00000</td>\n",
       "      <td>3.402096e+06</td>\n",
       "    </tr>\n",
       "    <tr>\n",
       "      <th>Time</th>\n",
       "      <td>374661.0</td>\n",
       "      <td>1064.748712</td>\n",
       "      <td>899.646164</td>\n",
       "      <td>50.0</td>\n",
       "      <td>353.00000</td>\n",
       "      <td>803.00000</td>\n",
       "      <td>1503.00000</td>\n",
       "      <td>3.600000e+03</td>\n",
       "    </tr>\n",
       "    <tr>\n",
       "      <th>Is_CH</th>\n",
       "      <td>374661.0</td>\n",
       "      <td>0.115766</td>\n",
       "      <td>0.319945</td>\n",
       "      <td>0.0</td>\n",
       "      <td>0.00000</td>\n",
       "      <td>0.00000</td>\n",
       "      <td>0.00000</td>\n",
       "      <td>1.000000e+00</td>\n",
       "    </tr>\n",
       "    <tr>\n",
       "      <th>who CH</th>\n",
       "      <td>374661.0</td>\n",
       "      <td>274980.411108</td>\n",
       "      <td>389911.221735</td>\n",
       "      <td>101000.0</td>\n",
       "      <td>107096.00000</td>\n",
       "      <td>116072.00000</td>\n",
       "      <td>215073.00000</td>\n",
       "      <td>3.402100e+06</td>\n",
       "    </tr>\n",
       "    <tr>\n",
       "      <th>Dist_To_CH</th>\n",
       "      <td>374661.0</td>\n",
       "      <td>22.599380</td>\n",
       "      <td>21.955794</td>\n",
       "      <td>0.0</td>\n",
       "      <td>4.73544</td>\n",
       "      <td>18.37261</td>\n",
       "      <td>33.77600</td>\n",
       "      <td>2.142746e+02</td>\n",
       "    </tr>\n",
       "    <tr>\n",
       "      <th>ADV_S</th>\n",
       "      <td>374661.0</td>\n",
       "      <td>0.267698</td>\n",
       "      <td>2.061148</td>\n",
       "      <td>0.0</td>\n",
       "      <td>0.00000</td>\n",
       "      <td>0.00000</td>\n",
       "      <td>0.00000</td>\n",
       "      <td>9.700000e+01</td>\n",
       "    </tr>\n",
       "    <tr>\n",
       "      <th>ADV_R</th>\n",
       "      <td>374661.0</td>\n",
       "      <td>6.940562</td>\n",
       "      <td>7.044319</td>\n",
       "      <td>0.0</td>\n",
       "      <td>3.00000</td>\n",
       "      <td>5.00000</td>\n",
       "      <td>7.00000</td>\n",
       "      <td>1.170000e+02</td>\n",
       "    </tr>\n",
       "    <tr>\n",
       "      <th>JOIN_S</th>\n",
       "      <td>374661.0</td>\n",
       "      <td>0.779905</td>\n",
       "      <td>0.414311</td>\n",
       "      <td>0.0</td>\n",
       "      <td>1.00000</td>\n",
       "      <td>1.00000</td>\n",
       "      <td>1.00000</td>\n",
       "      <td>1.000000e+00</td>\n",
       "    </tr>\n",
       "    <tr>\n",
       "      <th>JOIN_R</th>\n",
       "      <td>374661.0</td>\n",
       "      <td>0.737493</td>\n",
       "      <td>4.691498</td>\n",
       "      <td>0.0</td>\n",
       "      <td>0.00000</td>\n",
       "      <td>0.00000</td>\n",
       "      <td>0.00000</td>\n",
       "      <td>1.240000e+02</td>\n",
       "    </tr>\n",
       "    <tr>\n",
       "      <th>SCH_S</th>\n",
       "      <td>374661.0</td>\n",
       "      <td>0.288984</td>\n",
       "      <td>2.754746</td>\n",
       "      <td>0.0</td>\n",
       "      <td>0.00000</td>\n",
       "      <td>0.00000</td>\n",
       "      <td>0.00000</td>\n",
       "      <td>9.900000e+01</td>\n",
       "    </tr>\n",
       "    <tr>\n",
       "      <th>SCH_R</th>\n",
       "      <td>374661.0</td>\n",
       "      <td>0.747452</td>\n",
       "      <td>0.434475</td>\n",
       "      <td>0.0</td>\n",
       "      <td>0.00000</td>\n",
       "      <td>1.00000</td>\n",
       "      <td>1.00000</td>\n",
       "      <td>1.000000e+00</td>\n",
       "    </tr>\n",
       "    <tr>\n",
       "      <th>Rank</th>\n",
       "      <td>374661.0</td>\n",
       "      <td>9.687104</td>\n",
       "      <td>14.681901</td>\n",
       "      <td>0.0</td>\n",
       "      <td>1.00000</td>\n",
       "      <td>3.00000</td>\n",
       "      <td>13.00000</td>\n",
       "      <td>9.900000e+01</td>\n",
       "    </tr>\n",
       "    <tr>\n",
       "      <th>DATA_S</th>\n",
       "      <td>374661.0</td>\n",
       "      <td>44.857925</td>\n",
       "      <td>42.574464</td>\n",
       "      <td>0.0</td>\n",
       "      <td>13.00000</td>\n",
       "      <td>35.00000</td>\n",
       "      <td>62.00000</td>\n",
       "      <td>2.410000e+02</td>\n",
       "    </tr>\n",
       "    <tr>\n",
       "      <th>DATA_R</th>\n",
       "      <td>374661.0</td>\n",
       "      <td>73.890045</td>\n",
       "      <td>230.246335</td>\n",
       "      <td>0.0</td>\n",
       "      <td>0.00000</td>\n",
       "      <td>0.00000</td>\n",
       "      <td>0.00000</td>\n",
       "      <td>1.496000e+03</td>\n",
       "    </tr>\n",
       "    <tr>\n",
       "      <th>Data_Sent_To_BS</th>\n",
       "      <td>374661.0</td>\n",
       "      <td>4.569448</td>\n",
       "      <td>19.679155</td>\n",
       "      <td>0.0</td>\n",
       "      <td>0.00000</td>\n",
       "      <td>0.00000</td>\n",
       "      <td>0.00000</td>\n",
       "      <td>2.410000e+02</td>\n",
       "    </tr>\n",
       "    <tr>\n",
       "      <th>dist_CH_To_BS</th>\n",
       "      <td>374661.0</td>\n",
       "      <td>22.562735</td>\n",
       "      <td>50.261604</td>\n",
       "      <td>0.0</td>\n",
       "      <td>0.00000</td>\n",
       "      <td>0.00000</td>\n",
       "      <td>0.00000</td>\n",
       "      <td>2.019349e+02</td>\n",
       "    </tr>\n",
       "    <tr>\n",
       "      <th>send_code</th>\n",
       "      <td>374661.0</td>\n",
       "      <td>2.497957</td>\n",
       "      <td>2.407337</td>\n",
       "      <td>0.0</td>\n",
       "      <td>1.00000</td>\n",
       "      <td>2.00000</td>\n",
       "      <td>4.00000</td>\n",
       "      <td>1.500000e+01</td>\n",
       "    </tr>\n",
       "    <tr>\n",
       "      <th>Expaned Energy</th>\n",
       "      <td>374661.0</td>\n",
       "      <td>0.305661</td>\n",
       "      <td>0.669462</td>\n",
       "      <td>0.0</td>\n",
       "      <td>0.05615</td>\n",
       "      <td>0.09797</td>\n",
       "      <td>0.21776</td>\n",
       "      <td>4.509394e+01</td>\n",
       "    </tr>\n",
       "  </tbody>\n",
       "</table>\n",
       "</div>"
      ],
      "text/plain": [
       "                     count           mean            std       min  \\\n",
       " id               374661.0  274969.325879  389898.554898  101000.0   \n",
       " Time             374661.0    1064.748712     899.646164      50.0   \n",
       " Is_CH            374661.0       0.115766       0.319945       0.0   \n",
       " who CH           374661.0  274980.411108  389911.221735  101000.0   \n",
       " Dist_To_CH       374661.0      22.599380      21.955794       0.0   \n",
       " ADV_S            374661.0       0.267698       2.061148       0.0   \n",
       " ADV_R            374661.0       6.940562       7.044319       0.0   \n",
       " JOIN_S           374661.0       0.779905       0.414311       0.0   \n",
       " JOIN_R           374661.0       0.737493       4.691498       0.0   \n",
       " SCH_S            374661.0       0.288984       2.754746       0.0   \n",
       " SCH_R            374661.0       0.747452       0.434475       0.0   \n",
       "Rank              374661.0       9.687104      14.681901       0.0   \n",
       " DATA_S           374661.0      44.857925      42.574464       0.0   \n",
       " DATA_R           374661.0      73.890045     230.246335       0.0   \n",
       " Data_Sent_To_BS  374661.0       4.569448      19.679155       0.0   \n",
       " dist_CH_To_BS    374661.0      22.562735      50.261604       0.0   \n",
       " send_code        374661.0       2.497957       2.407337       0.0   \n",
       "Expaned Energy    374661.0       0.305661       0.669462       0.0   \n",
       "\n",
       "                           25%           50%           75%           max  \n",
       " id               107093.00000  116071.00000  215072.00000  3.402096e+06  \n",
       " Time                353.00000     803.00000    1503.00000  3.600000e+03  \n",
       " Is_CH                 0.00000       0.00000       0.00000  1.000000e+00  \n",
       " who CH           107096.00000  116072.00000  215073.00000  3.402100e+06  \n",
       " Dist_To_CH            4.73544      18.37261      33.77600  2.142746e+02  \n",
       " ADV_S                 0.00000       0.00000       0.00000  9.700000e+01  \n",
       " ADV_R                 3.00000       5.00000       7.00000  1.170000e+02  \n",
       " JOIN_S                1.00000       1.00000       1.00000  1.000000e+00  \n",
       " JOIN_R                0.00000       0.00000       0.00000  1.240000e+02  \n",
       " SCH_S                 0.00000       0.00000       0.00000  9.900000e+01  \n",
       " SCH_R                 0.00000       1.00000       1.00000  1.000000e+00  \n",
       "Rank                   1.00000       3.00000      13.00000  9.900000e+01  \n",
       " DATA_S               13.00000      35.00000      62.00000  2.410000e+02  \n",
       " DATA_R                0.00000       0.00000       0.00000  1.496000e+03  \n",
       " Data_Sent_To_BS       0.00000       0.00000       0.00000  2.410000e+02  \n",
       " dist_CH_To_BS         0.00000       0.00000       0.00000  2.019349e+02  \n",
       " send_code             1.00000       2.00000       4.00000  1.500000e+01  \n",
       "Expaned Energy         0.05615       0.09797       0.21776  4.509394e+01  "
      ]
     },
     "execution_count": 7,
     "metadata": {},
     "output_type": "execute_result"
    }
   ],
   "source": [
    "data.describe().T"
   ]
  },
  {
   "cell_type": "code",
   "execution_count": 8,
   "id": "c0790dcd",
   "metadata": {
    "execution": {
     "iopub.execute_input": "2023-02-28T13:35:58.077217Z",
     "iopub.status.busy": "2023-02-28T13:35:58.076925Z",
     "iopub.status.idle": "2023-02-28T13:35:58.240536Z",
     "shell.execute_reply": "2023-02-28T13:35:58.239498Z"
    },
    "papermill": {
     "duration": 0.173635,
     "end_time": "2023-02-28T13:35:58.243297",
     "exception": false,
     "start_time": "2023-02-28T13:35:58.069662",
     "status": "completed"
    },
    "tags": []
   },
   "outputs": [],
   "source": [
    "# using standard scaler for normalizing\n",
    "std_scaler = StandardScaler()\n",
    "def standardization(df,col):\n",
    "  for i in col:\n",
    "    arr = df[i]\n",
    "    arr = np.array(arr)\n",
    "    df[i] = std_scaler.fit_transform(arr.reshape(len(arr),1))\n",
    "  return df\n",
    "\n",
    "numeric_col = data.select_dtypes(include='number').columns\n",
    "data = standardization(data,numeric_col)"
   ]
  },
  {
   "cell_type": "code",
   "execution_count": 9,
   "id": "262864da",
   "metadata": {
    "execution": {
     "iopub.execute_input": "2023-02-28T13:35:58.257341Z",
     "iopub.status.busy": "2023-02-28T13:35:58.257029Z",
     "iopub.status.idle": "2023-02-28T13:35:58.282336Z",
     "shell.execute_reply": "2023-02-28T13:35:58.281412Z"
    },
    "papermill": {
     "duration": 0.034753,
     "end_time": "2023-02-28T13:35:58.284695",
     "exception": false,
     "start_time": "2023-02-28T13:35:58.249942",
     "status": "completed"
    },
    "tags": []
   },
   "outputs": [],
   "source": [
    "# label encoding (0,1,2,3,4) m.applylti-class labels (Normal,Grayhole,Blackhole,TDMA,Flooding)\n",
    "    \n",
    "classes = {'Normal':0 ,'Grayhole':1,'Blackhole':2,'TDMA':3,'Flooding':4}\n",
    "\n",
    "data['Attack type'] = data['Attack type'].map( classes ).astype(int)\n"
   ]
  },
  {
   "cell_type": "code",
   "execution_count": 10,
   "id": "728067d0",
   "metadata": {
    "execution": {
     "iopub.execute_input": "2023-02-28T13:35:58.298279Z",
     "iopub.status.busy": "2023-02-28T13:35:58.297982Z",
     "iopub.status.idle": "2023-02-28T13:35:58.345509Z",
     "shell.execute_reply": "2023-02-28T13:35:58.344499Z"
    },
    "papermill": {
     "duration": 0.057483,
     "end_time": "2023-02-28T13:35:58.348297",
     "exception": false,
     "start_time": "2023-02-28T13:35:58.290814",
     "status": "completed"
    },
    "tags": []
   },
   "outputs": [],
   "source": [
    "X = data.drop(['Attack type'] , axis=1)\n",
    "y = data['Attack type']"
   ]
  },
  {
   "cell_type": "code",
   "execution_count": 11,
   "id": "943026bb",
   "metadata": {
    "execution": {
     "iopub.execute_input": "2023-02-28T13:35:58.362869Z",
     "iopub.status.busy": "2023-02-28T13:35:58.361941Z",
     "iopub.status.idle": "2023-02-28T13:35:58.399524Z",
     "shell.execute_reply": "2023-02-28T13:35:58.398525Z"
    },
    "papermill": {
     "duration": 0.047149,
     "end_time": "2023-02-28T13:35:58.401891",
     "exception": false,
     "start_time": "2023-02-28T13:35:58.354742",
     "status": "completed"
    },
    "tags": []
   },
   "outputs": [],
   "source": [
    "from sklearn.preprocessing import LabelBinarizer\n",
    "\n",
    "y = LabelBinarizer().fit_transform(y)"
   ]
  },
  {
   "cell_type": "code",
   "execution_count": 12,
   "id": "65b2dd06",
   "metadata": {
    "execution": {
     "iopub.execute_input": "2023-02-28T13:35:58.415882Z",
     "iopub.status.busy": "2023-02-28T13:35:58.415575Z",
     "iopub.status.idle": "2023-02-28T13:35:58.443855Z",
     "shell.execute_reply": "2023-02-28T13:35:58.442870Z"
    },
    "papermill": {
     "duration": 0.037689,
     "end_time": "2023-02-28T13:35:58.446050",
     "exception": false,
     "start_time": "2023-02-28T13:35:58.408361",
     "status": "completed"
    },
    "tags": []
   },
   "outputs": [],
   "source": [
    "X=np.array(X)\n",
    "y=np.array(y)"
   ]
  },
  {
   "cell_type": "code",
   "execution_count": 13,
   "id": "87199c84",
   "metadata": {
    "execution": {
     "iopub.execute_input": "2023-02-28T13:35:58.459835Z",
     "iopub.status.busy": "2023-02-28T13:35:58.459542Z",
     "iopub.status.idle": "2023-02-28T13:35:58.582394Z",
     "shell.execute_reply": "2023-02-28T13:35:58.581286Z"
    },
    "papermill": {
     "duration": 0.13267,
     "end_time": "2023-02-28T13:35:58.585079",
     "exception": false,
     "start_time": "2023-02-28T13:35:58.452409",
     "status": "completed"
    },
    "tags": []
   },
   "outputs": [],
   "source": [
    "# splitting the dataset 67% for training and 33% testing and evaluating\n",
    "X_train, X_temp, y_train, y_temp = train_test_split(X,y, test_size=0.33, random_state=42)\n",
    "\n",
    "X_test, X_val, y_test, y_val = train_test_split(X_temp,y_temp, test_size=0.5, random_state=42)"
   ]
  },
  {
   "cell_type": "code",
   "execution_count": 14,
   "id": "347d8e16",
   "metadata": {
    "execution": {
     "iopub.execute_input": "2023-02-28T13:35:58.600071Z",
     "iopub.status.busy": "2023-02-28T13:35:58.599695Z",
     "iopub.status.idle": "2023-02-28T13:35:58.606430Z",
     "shell.execute_reply": "2023-02-28T13:35:58.605522Z"
    },
    "papermill": {
     "duration": 0.016226,
     "end_time": "2023-02-28T13:35:58.608569",
     "exception": false,
     "start_time": "2023-02-28T13:35:58.592343",
     "status": "completed"
    },
    "tags": []
   },
   "outputs": [],
   "source": [
    "X_train = np.reshape(X_train, (X_train.shape[0], X_train.shape[1], 1))\n",
    "X_test = np.reshape(X_test, (X_test.shape[0], X_test.shape[1], 1))\n",
    "X_val = np.reshape(X_val, (X_val.shape[0], X_val.shape[1], 1))"
   ]
  },
  {
   "cell_type": "code",
   "execution_count": 15,
   "id": "efa32f6c",
   "metadata": {
    "execution": {
     "iopub.execute_input": "2023-02-28T13:35:58.622328Z",
     "iopub.status.busy": "2023-02-28T13:35:58.622048Z",
     "iopub.status.idle": "2023-02-28T13:36:01.324523Z",
     "shell.execute_reply": "2023-02-28T13:36:01.323538Z"
    },
    "papermill": {
     "duration": 2.712477,
     "end_time": "2023-02-28T13:36:01.327376",
     "exception": false,
     "start_time": "2023-02-28T13:35:58.614899",
     "status": "completed"
    },
    "tags": []
   },
   "outputs": [],
   "source": [
    "model = Sequential()\n",
    "model.add(LSTM(100, return_sequences=True, input_shape=(X_train.shape[1], X_train.shape[2])))\n",
    "model.add(Flatten())\n",
    "model.add(Dense(256,activation='relu'))\n",
    "model.add(Dropout(.4))\n",
    "model.add(Dense(5,activation='softmax'))"
   ]
  },
  {
   "cell_type": "code",
   "execution_count": 16,
   "id": "fddc7965",
   "metadata": {
    "execution": {
     "iopub.execute_input": "2023-02-28T13:36:01.348424Z",
     "iopub.status.busy": "2023-02-28T13:36:01.347770Z",
     "iopub.status.idle": "2023-02-28T13:36:01.376111Z",
     "shell.execute_reply": "2023-02-28T13:36:01.375377Z"
    },
    "papermill": {
     "duration": 0.060084,
     "end_time": "2023-02-28T13:36:01.397349",
     "exception": false,
     "start_time": "2023-02-28T13:36:01.337265",
     "status": "completed"
    },
    "tags": []
   },
   "outputs": [
    {
     "name": "stdout",
     "output_type": "stream",
     "text": [
      "Model: \"sequential\"\n",
      "_________________________________________________________________\n",
      " Layer (type)                Output Shape              Param #   \n",
      "=================================================================\n",
      " lstm (LSTM)                 (None, 18, 100)           40800     \n",
      "                                                                 \n",
      " flatten (Flatten)           (None, 1800)              0         \n",
      "                                                                 \n",
      " dense (Dense)               (None, 256)               461056    \n",
      "                                                                 \n",
      " dropout (Dropout)           (None, 256)               0         \n",
      "                                                                 \n",
      " dense_1 (Dense)             (None, 5)                 1285      \n",
      "                                                                 \n",
      "=================================================================\n",
      "Total params: 503,141\n",
      "Trainable params: 503,141\n",
      "Non-trainable params: 0\n",
      "_________________________________________________________________\n"
     ]
    }
   ],
   "source": [
    "model.summary()"
   ]
  },
  {
   "cell_type": "code",
   "execution_count": 17,
   "id": "d378f804",
   "metadata": {
    "execution": {
     "iopub.execute_input": "2023-02-28T13:36:01.413180Z",
     "iopub.status.busy": "2023-02-28T13:36:01.412911Z",
     "iopub.status.idle": "2023-02-28T13:36:01.427980Z",
     "shell.execute_reply": "2023-02-28T13:36:01.427086Z"
    },
    "papermill": {
     "duration": 0.025316,
     "end_time": "2023-02-28T13:36:01.430010",
     "exception": false,
     "start_time": "2023-02-28T13:36:01.404694",
     "status": "completed"
    },
    "tags": []
   },
   "outputs": [],
   "source": [
    "model.compile(loss=\"categorical_crossentropy\", optimizer=\"adam\",metrics=['accuracy'])"
   ]
  },
  {
   "cell_type": "code",
   "execution_count": 18,
   "id": "26f78adc",
   "metadata": {
    "execution": {
     "iopub.execute_input": "2023-02-28T13:36:01.445561Z",
     "iopub.status.busy": "2023-02-28T13:36:01.445270Z",
     "iopub.status.idle": "2023-02-28T13:38:25.404693Z",
     "shell.execute_reply": "2023-02-28T13:38:25.403535Z"
    },
    "papermill": {
     "duration": 143.970378,
     "end_time": "2023-02-28T13:38:25.407590",
     "exception": false,
     "start_time": "2023-02-28T13:36:01.437212",
     "status": "completed"
    },
    "tags": []
   },
   "outputs": [
    {
     "name": "stdout",
     "output_type": "stream",
     "text": [
      "Epoch 1/30\n",
      "503/503 [==============================] - 10s 8ms/step - loss: 0.0973 - accuracy: 0.9676 - val_loss: 0.0476 - val_accuracy: 0.9786\n",
      "Epoch 2/30\n",
      "503/503 [==============================] - 4s 7ms/step - loss: 0.0468 - accuracy: 0.9790 - val_loss: 0.0401 - val_accuracy: 0.9810\n",
      "Epoch 3/30\n",
      "503/503 [==============================] - 3s 7ms/step - loss: 0.0416 - accuracy: 0.9809 - val_loss: 0.0385 - val_accuracy: 0.9814\n",
      "Epoch 4/30\n",
      "503/503 [==============================] - 4s 7ms/step - loss: 0.0408 - accuracy: 0.9811 - val_loss: 0.0383 - val_accuracy: 0.9811\n",
      "Epoch 5/30\n",
      "503/503 [==============================] - 3s 7ms/step - loss: 0.0390 - accuracy: 0.9817 - val_loss: 0.0375 - val_accuracy: 0.9803\n",
      "Epoch 6/30\n",
      "503/503 [==============================] - 3s 7ms/step - loss: 0.0384 - accuracy: 0.9818 - val_loss: 0.0368 - val_accuracy: 0.9826\n",
      "Epoch 7/30\n",
      "503/503 [==============================] - 4s 7ms/step - loss: 0.0382 - accuracy: 0.9820 - val_loss: 0.0359 - val_accuracy: 0.9830\n",
      "Epoch 8/30\n",
      "503/503 [==============================] - 3s 7ms/step - loss: 0.0378 - accuracy: 0.9828 - val_loss: 0.0355 - val_accuracy: 0.9838\n",
      "Epoch 9/30\n",
      "503/503 [==============================] - 4s 7ms/step - loss: 0.0370 - accuracy: 0.9827 - val_loss: 0.0348 - val_accuracy: 0.9834\n",
      "Epoch 10/30\n",
      "503/503 [==============================] - 3s 7ms/step - loss: 0.0369 - accuracy: 0.9832 - val_loss: 0.0341 - val_accuracy: 0.9853\n",
      "Epoch 11/30\n",
      "503/503 [==============================] - 4s 7ms/step - loss: 0.0364 - accuracy: 0.9840 - val_loss: 0.0341 - val_accuracy: 0.9842\n",
      "Epoch 12/30\n",
      "503/503 [==============================] - 4s 7ms/step - loss: 0.0358 - accuracy: 0.9846 - val_loss: 0.0338 - val_accuracy: 0.9857\n",
      "Epoch 13/30\n",
      "503/503 [==============================] - 3s 7ms/step - loss: 0.0353 - accuracy: 0.9851 - val_loss: 0.0333 - val_accuracy: 0.9868\n",
      "Epoch 14/30\n",
      "503/503 [==============================] - 4s 7ms/step - loss: 0.0347 - accuracy: 0.9858 - val_loss: 0.0325 - val_accuracy: 0.9872\n",
      "Epoch 15/30\n",
      "503/503 [==============================] - 4s 7ms/step - loss: 0.0339 - accuracy: 0.9860 - val_loss: 0.0315 - val_accuracy: 0.9874\n",
      "Epoch 16/30\n",
      "503/503 [==============================] - 4s 7ms/step - loss: 0.0334 - accuracy: 0.9867 - val_loss: 0.0321 - val_accuracy: 0.9879\n",
      "Epoch 17/30\n",
      "503/503 [==============================] - 3s 7ms/step - loss: 0.0333 - accuracy: 0.9867 - val_loss: 0.0309 - val_accuracy: 0.9873\n",
      "Epoch 18/30\n",
      "503/503 [==============================] - 4s 8ms/step - loss: 0.0321 - accuracy: 0.9875 - val_loss: 0.0307 - val_accuracy: 0.9874\n",
      "Epoch 19/30\n",
      "503/503 [==============================] - 3s 7ms/step - loss: 0.0311 - accuracy: 0.9883 - val_loss: 0.0289 - val_accuracy: 0.9898\n",
      "Epoch 20/30\n",
      "503/503 [==============================] - 3s 7ms/step - loss: 0.0308 - accuracy: 0.9886 - val_loss: 0.0286 - val_accuracy: 0.9903\n",
      "Epoch 21/30\n",
      "503/503 [==============================] - 4s 8ms/step - loss: 0.0315 - accuracy: 0.9880 - val_loss: 0.0296 - val_accuracy: 0.9881\n",
      "Epoch 22/30\n",
      "503/503 [==============================] - 3s 7ms/step - loss: 0.0308 - accuracy: 0.9884 - val_loss: 0.0285 - val_accuracy: 0.9891\n",
      "Epoch 23/30\n",
      "503/503 [==============================] - 3s 7ms/step - loss: 0.0293 - accuracy: 0.9892 - val_loss: 0.0284 - val_accuracy: 0.9895\n",
      "Epoch 24/30\n",
      "503/503 [==============================] - 4s 8ms/step - loss: 0.0278 - accuracy: 0.9902 - val_loss: 0.0252 - val_accuracy: 0.9902\n",
      "Epoch 25/30\n",
      "503/503 [==============================] - 4s 7ms/step - loss: 0.0289 - accuracy: 0.9893 - val_loss: 0.0271 - val_accuracy: 0.9907\n",
      "Epoch 26/30\n",
      "503/503 [==============================] - 4s 7ms/step - loss: 0.0279 - accuracy: 0.9899 - val_loss: 0.0265 - val_accuracy: 0.9904\n",
      "Epoch 27/30\n",
      "503/503 [==============================] - 4s 7ms/step - loss: 0.0283 - accuracy: 0.9896 - val_loss: 0.0255 - val_accuracy: 0.9910\n",
      "Epoch 28/30\n",
      "503/503 [==============================] - 3s 7ms/step - loss: 0.0267 - accuracy: 0.9905 - val_loss: 0.0239 - val_accuracy: 0.9921\n",
      "Epoch 29/30\n",
      "503/503 [==============================] - 3s 7ms/step - loss: 0.0267 - accuracy: 0.9906 - val_loss: 0.0244 - val_accuracy: 0.9920\n",
      "Epoch 30/30\n",
      "503/503 [==============================] - 4s 7ms/step - loss: 0.0263 - accuracy: 0.9910 - val_loss: 0.0241 - val_accuracy: 0.9930\n"
     ]
    }
   ],
   "source": [
    "history=model.fit(X_train, y_train, epochs=30,verbose=1,batch_size=500,validation_data=(X_val, y_val))"
   ]
  },
  {
   "cell_type": "code",
   "execution_count": 19,
   "id": "b14f181f",
   "metadata": {
    "execution": {
     "iopub.execute_input": "2023-02-28T13:38:25.611938Z",
     "iopub.status.busy": "2023-02-28T13:38:25.610914Z",
     "iopub.status.idle": "2023-02-28T13:38:26.658160Z",
     "shell.execute_reply": "2023-02-28T13:38:26.656968Z"
    },
    "papermill": {
     "duration": 1.153581,
     "end_time": "2023-02-28T13:38:26.661531",
     "exception": false,
     "start_time": "2023-02-28T13:38:25.507950",
     "status": "completed"
    },
    "tags": []
   },
   "outputs": [
    {
     "name": "stdout",
     "output_type": "stream",
     "text": [
      "124/124 [==============================] - 1s 3ms/step\n"
     ]
    }
   ],
   "source": [
    "y_pred_test = model.predict(X_test, batch_size=500)\n",
    "\n",
    "# For Plot curve\n",
    "y_pred_evaluation_test = to_categorical(np.argmax(y_pred_test, axis=1), 5)\n",
    "\n",
    "# For evaluation\n",
    "y_pred_argmax_test=(np.argmax(y_pred_test, axis=1))\n",
    "\n",
    "y_test_argmax=(np.argmax(y_test, axis=1))"
   ]
  },
  {
   "cell_type": "code",
   "execution_count": 20,
   "id": "70de6c85",
   "metadata": {
    "execution": {
     "iopub.execute_input": "2023-02-28T13:38:26.918350Z",
     "iopub.status.busy": "2023-02-28T13:38:26.917964Z",
     "iopub.status.idle": "2023-02-28T13:38:26.925033Z",
     "shell.execute_reply": "2023-02-28T13:38:26.923874Z"
    },
    "papermill": {
     "duration": 0.116147,
     "end_time": "2023-02-28T13:38:26.927815",
     "exception": false,
     "start_time": "2023-02-28T13:38:26.811668",
     "status": "completed"
    },
    "tags": []
   },
   "outputs": [],
   "source": [
    "# Calculating Area under the curve\n",
    "def AUC(actual_class, pred_class, average = \"micro\"):\n",
    "    \n",
    "    #Making a set of all the unique classes \n",
    "    unique_class = set(actual_class)\n",
    "    roc_auc_dict = {}\n",
    "    for per_class in unique_class:\n",
    "        \n",
    "        #Making a list of all the classes except the current class \n",
    "        other_class = [x for x in unique_class if x != per_class]\n",
    "\n",
    "        #Making the current class with label 1 and all other classes as a label 0\n",
    "        new_actual_class = [0 if x in other_class else 1 for x in actual_class]\n",
    "        new_pred_class = [0 if x in other_class else 1 for x in pred_class]\n",
    "\n",
    "        # Calculating the roc_auc_score\n",
    "        roc_auc = roc_auc_score(new_actual_class, new_pred_class, average = average)\n",
    "        roc_auc_dict[per_class] = roc_auc\n",
    "\n",
    "    return roc_auc_dict"
   ]
  },
  {
   "cell_type": "code",
   "execution_count": 21,
   "id": "3baf8ffc",
   "metadata": {
    "execution": {
     "iopub.execute_input": "2023-02-28T13:38:27.143082Z",
     "iopub.status.busy": "2023-02-28T13:38:27.142698Z",
     "iopub.status.idle": "2023-02-28T13:38:27.156596Z",
     "shell.execute_reply": "2023-02-28T13:38:27.155415Z"
    },
    "papermill": {
     "duration": 0.126003,
     "end_time": "2023-02-28T13:38:27.158724",
     "exception": false,
     "start_time": "2023-02-28T13:38:27.032721",
     "status": "completed"
    },
    "tags": []
   },
   "outputs": [],
   "source": [
    "def plot_roc_curve(y_test,y_pred):\n",
    "    n_classes=5\n",
    "    fpr = dict()\n",
    "    tpr = dict()\n",
    "    roc_auc = dict()\n",
    "    for i in range(n_classes):\n",
    "        fpr[i], tpr[i], _ = roc_curve(y_test[:, i], y_pred[:, i])\n",
    "        roc_auc[i] = auc(fpr[i], tpr[i])\n",
    "    fpr[\"micro\"], tpr[\"micro\"], _ = roc_curve(y_test.ravel(), y_pred.ravel())\n",
    "    roc_auc[\"micro\"] = auc(fpr[\"micro\"], tpr[\"micro\"])\n",
    "    lw=2\n",
    "    all_fpr = np.unique(np.concatenate([fpr[i] for i in range(n_classes)]))\n",
    "\n",
    "    mean_tpr = np.zeros_like(all_fpr)\n",
    "    for i in range(n_classes):\n",
    "        mean_tpr += np.interp(all_fpr, fpr[i], tpr[i])\n",
    "\n",
    "    mean_tpr /= n_classes\n",
    "\n",
    "    fpr[\"macro\"] = all_fpr\n",
    "    tpr[\"macro\"] = mean_tpr\n",
    "    roc_auc[\"macro\"] = auc(fpr[\"macro\"], tpr[\"macro\"])\n",
    "\n",
    "# Plot all ROC curves\n",
    "    plt.figure(figsize=(10, 10))\n",
    "    plt.plot(fpr[\"micro\"],\n",
    "    tpr[\"micro\"],\n",
    "    label=\"micro-average ROC curve (area = {0:0.2f})\".format(roc_auc[\"micro\"]),\n",
    "    color=\"deeppink\",\n",
    "    linestyle=\":\",\n",
    "    linewidth=4,)\n",
    "\n",
    "    plt.plot(fpr[\"macro\"],\n",
    "    tpr[\"macro\"],\n",
    "    label=\"macro-average ROC curve (area = {0:0.2f})\".format(roc_auc[\"macro\"]),\n",
    "    color=\"navy\",\n",
    "    linestyle=\":\",\n",
    "    linewidth=4,\n",
    ")\n",
    "\n",
    "    colors = cycle([\"aqua\", \"darkorange\", \"cornflowerblue\"])\n",
    "    for i, color in zip(range(n_classes), colors):\n",
    "        plt.plot(\n",
    "           fpr[i],\n",
    "           tpr[i],\n",
    "           color=color,\n",
    "           lw=lw,\n",
    "        label=\"ROC curve of class {0} (area = {1:0.2f})\".format(i, roc_auc[i]),\n",
    "    )\n",
    "\n",
    "    plt.plot([0, 1], [0, 1], \"k--\", lw=lw)\n",
    "    plt.xlim([0.0, 1.0])\n",
    "    plt.ylim([0.0, 1.05])\n",
    "    plt.xlabel(\"False Positive Rate\")\n",
    "    plt.ylabel(\"True Positive Rate\")\n",
    "    plt.title(\"LSTM AUC\")\n",
    "    plt.legend(loc=\"lower right\")\n",
    "    plt.show()"
   ]
  },
  {
   "cell_type": "code",
   "execution_count": 22,
   "id": "4e8d7766",
   "metadata": {
    "execution": {
     "iopub.execute_input": "2023-02-28T13:38:27.368813Z",
     "iopub.status.busy": "2023-02-28T13:38:27.367761Z",
     "iopub.status.idle": "2023-02-28T13:38:27.377666Z",
     "shell.execute_reply": "2023-02-28T13:38:27.376547Z"
    },
    "papermill": {
     "duration": 0.11528,
     "end_time": "2023-02-28T13:38:27.379985",
     "exception": false,
     "start_time": "2023-02-28T13:38:27.264705",
     "status": "completed"
    },
    "tags": []
   },
   "outputs": [],
   "source": [
    "def plot_confusion_matrix(cm, classes,\n",
    "                          normalize=False,\n",
    "                          title='Confusion matrix',\n",
    "                          cmap=plt.cm.Blues):\n",
    "    \"\"\"\n",
    "    Prints and plots the confusion matrix.\n",
    "    \"\"\"\n",
    "    if normalize:\n",
    "        cm = cm.astype('float') / cm.sum(axis=1)[:, np.newaxis]\n",
    "        print(\"Normalized confusion matrix\")\n",
    "    else:\n",
    "        print('Confusion matrix, without normalization')\n",
    "\n",
    "    plt.imshow(cm, interpolation='nearest', cmap=cmap)\n",
    "    plt.title(title)\n",
    "    plt.colorbar()\n",
    "    tick_marks = np.arange(len(classes))\n",
    "    plt.xticks(tick_marks, classes, rotation=45)\n",
    "    plt.yticks(tick_marks, classes)\n",
    "\n",
    "    fmt = '.2f' if normalize else 'd'\n",
    "    thresh = cm.max() / 2.\n",
    "    for i, j in itertools.product(range(cm.shape[0]), range(cm.shape[1])):\n",
    "        plt.text(j, i, format(cm[i, j], fmt),\n",
    "                 horizontalalignment=\"center\",\n",
    "                 color=\"white\" if cm[i, j] > thresh else \"black\")\n",
    "\n",
    "    plt.tight_layout()\n",
    "    plt.ylabel('True label')\n",
    "    plt.xlabel('Predicted label')"
   ]
  },
  {
   "cell_type": "code",
   "execution_count": 23,
   "id": "7e679d53",
   "metadata": {
    "execution": {
     "iopub.execute_input": "2023-02-28T13:38:27.589394Z",
     "iopub.status.busy": "2023-02-28T13:38:27.588962Z",
     "iopub.status.idle": "2023-02-28T13:38:33.771381Z",
     "shell.execute_reply": "2023-02-28T13:38:33.770151Z"
    },
    "papermill": {
     "duration": 6.292216,
     "end_time": "2023-02-28T13:38:33.774216",
     "exception": false,
     "start_time": "2023-02-28T13:38:27.482000",
     "status": "completed"
    },
    "tags": []
   },
   "outputs": [
    {
     "name": "stdout",
     "output_type": "stream",
     "text": [
      "1932/1932 [==============================] - 6s 3ms/step - loss: 0.0246 - accuracy: 0.9928\n",
      "Test results - Loss: 0.024608762934803963 - Accuracy: 99.28015470504761%\n"
     ]
    }
   ],
   "source": [
    "# predicting target attribute on testing dataset\n",
    "test_results = model.evaluate(X_test, y_test, verbose=1)\n",
    "print(f'Test results - Loss: {test_results[0]} - Accuracy: {test_results[1]*100}%')"
   ]
  },
  {
   "cell_type": "code",
   "execution_count": 24,
   "id": "8ddee174",
   "metadata": {
    "execution": {
     "iopub.execute_input": "2023-02-28T13:38:33.992607Z",
     "iopub.status.busy": "2023-02-28T13:38:33.992228Z",
     "iopub.status.idle": "2023-02-28T13:38:34.186427Z",
     "shell.execute_reply": "2023-02-28T13:38:34.185146Z"
    },
    "papermill": {
     "duration": 0.308334,
     "end_time": "2023-02-28T13:38:34.189218",
     "exception": false,
     "start_time": "2023-02-28T13:38:33.880884",
     "status": "completed"
    },
    "tags": []
   },
   "outputs": [
    {
     "name": "stdout",
     "output_type": "stream",
     "text": [
      "AUC Score is on Test :  {0: 0.9912967775201559, 1: 0.9661735294027245, 2: 0.9639786943268288, 3: 0.966335503788798, 4: 0.9986120598617606}\n"
     ]
    }
   ],
   "source": [
    "print('AUC Score is on Test : ' , AUC(y_test_argmax, y_pred_argmax_test))"
   ]
  },
  {
   "cell_type": "code",
   "execution_count": 25,
   "id": "41a83ee0",
   "metadata": {
    "execution": {
     "iopub.execute_input": "2023-02-28T13:38:34.467220Z",
     "iopub.status.busy": "2023-02-28T13:38:34.466858Z",
     "iopub.status.idle": "2023-02-28T13:38:34.525595Z",
     "shell.execute_reply": "2023-02-28T13:38:34.524151Z"
    },
    "papermill": {
     "duration": 0.16974,
     "end_time": "2023-02-28T13:38:34.528563",
     "exception": false,
     "start_time": "2023-02-28T13:38:34.358823",
     "status": "completed"
    },
    "tags": []
   },
   "outputs": [
    {
     "name": "stdout",
     "output_type": "stream",
     "text": [
      "Classification Report on Data Test \n",
      "               precision    recall  f1-score   support\n",
      "\n",
      "      Normal       1.00      1.00      1.00     56078\n",
      "    Grayhole       0.94      0.93      0.94      2421\n",
      "   Blackhole       0.91      0.93      0.92      1622\n",
      "        TDMA       0.99      0.93      0.96      1131\n",
      "    Flooding       0.90      1.00      0.95       567\n",
      "\n",
      "    accuracy                           0.99     61819\n",
      "   macro avg       0.95      0.96      0.95     61819\n",
      "weighted avg       0.99      0.99      0.99     61819\n",
      "\n"
     ]
    }
   ],
   "source": [
    "from sklearn.metrics import classification_report\n",
    "\n",
    "target = ['Normal','Grayhole','Blackhole','TDMA','Flooding']\n",
    "\n",
    "print(\"Classification Report on Data Test \\n\" , classification_report(y_test_argmax, y_pred_argmax_test, target_names=target))"
   ]
  },
  {
   "cell_type": "code",
   "execution_count": 26,
   "id": "d3d21b92",
   "metadata": {
    "execution": {
     "iopub.execute_input": "2023-02-28T13:38:34.749688Z",
     "iopub.status.busy": "2023-02-28T13:38:34.749285Z",
     "iopub.status.idle": "2023-02-28T13:38:34.985861Z",
     "shell.execute_reply": "2023-02-28T13:38:34.984890Z"
    },
    "papermill": {
     "duration": 0.349338,
     "end_time": "2023-02-28T13:38:34.988132",
     "exception": false,
     "start_time": "2023-02-28T13:38:34.638794",
     "status": "completed"
    },
    "tags": []
   },
   "outputs": [
    {
     "data": {
      "image/png": "[encoded data removed]",
      "text/plain": [
       "<Figure size 640x480 with 1 Axes>"
      ]
     },
     "metadata": {},
     "output_type": "display_data"
    }
   ],
   "source": [
    "# Plot of accuracy vs epoch for train and test dataset\n",
    "plt.plot(history.history['accuracy'])\n",
    "plt.plot(history.history['val_accuracy'])\n",
    "plt.title(\"LSTM Accuracy\")\n",
    "plt.ylabel('accuracy')\n",
    "plt.xlabel('epoch')\n",
    "plt.legend(['train', 'validation'], loc='upper right')\n",
    "plt.show()"
   ]
  },
  {
   "cell_type": "code",
   "execution_count": 27,
   "id": "a4b7b69f",
   "metadata": {
    "execution": {
     "iopub.execute_input": "2023-02-28T13:38:35.206267Z",
     "iopub.status.busy": "2023-02-28T13:38:35.205300Z",
     "iopub.status.idle": "2023-02-28T13:38:35.425395Z",
     "shell.execute_reply": "2023-02-28T13:38:35.424417Z"
    },
    "papermill": {
     "duration": 0.331527,
     "end_time": "2023-02-28T13:38:35.427683",
     "exception": false,
     "start_time": "2023-02-28T13:38:35.096156",
     "status": "completed"
    },
    "tags": []
   },
   "outputs": [
    {
     "data": {
      "image/png": "[encoded data removed]",
      "text/plain": [
       "<Figure size 640x480 with 1 Axes>"
      ]
     },
     "metadata": {},
     "output_type": "display_data"
    }
   ],
   "source": [
    "# Plot of loss vs epoch for train and test dataset\n",
    "plt.plot(history.history['loss'])\n",
    "plt.plot(history.history['val_loss'])\n",
    "plt.title(\"LSTM Loss\")\n",
    "plt.ylabel('loss')\n",
    "plt.xlabel('epoch')\n",
    "plt.legend(['train', 'validation'], loc='upper right')\n",
    "plt.show()"
   ]
  },
  {
   "cell_type": "code",
   "execution_count": 28,
   "id": "9f00162d",
   "metadata": {
    "execution": {
     "iopub.execute_input": "2023-02-28T13:38:35.646672Z",
     "iopub.status.busy": "2023-02-28T13:38:35.646121Z",
     "iopub.status.idle": "2023-02-28T13:38:35.993693Z",
     "shell.execute_reply": "2023-02-28T13:38:35.992685Z"
    },
    "papermill": {
     "duration": 0.459216,
     "end_time": "2023-02-28T13:38:35.995928",
     "exception": false,
     "start_time": "2023-02-28T13:38:35.536712",
     "status": "completed"
    },
    "tags": []
   },
   "outputs": [
    {
     "name": "stdout",
     "output_type": "stream",
     "text": [
      "Confusion matrix, without normalization\n"
     ]
    },
    {
     "data": {
      "image/png": "[encoded data removed]",
      "text/plain": [
       "<Figure size 700x700 with 2 Axes>"
      ]
     },
     "metadata": {},
     "output_type": "display_data"
    }
   ],
   "source": [
    "# Compute confusion matrix\n",
    "from sklearn.metrics import confusion_matrix\n",
    "\n",
    "cnf_matrix = confusion_matrix(y_test_argmax, y_pred_argmax_test)\n",
    "\n",
    "# Plot non-normalized confusion matrix\n",
    "plt.figure(figsize=(7, 7))\n",
    "plot_confusion_matrix(cnf_matrix, classes=target,\n",
    "                      title='LSTM Confusion matrix')\n",
    "plt.show()"
   ]
  },
  {
   "cell_type": "code",
   "execution_count": 29,
   "id": "bd27a0ee",
   "metadata": {
    "execution": {
     "iopub.execute_input": "2023-02-28T13:38:36.223040Z",
     "iopub.status.busy": "2023-02-28T13:38:36.222579Z",
     "iopub.status.idle": "2023-02-28T13:38:36.578274Z",
     "shell.execute_reply": "2023-02-28T13:38:36.577162Z"
    },
    "papermill": {
     "duration": 0.474955,
     "end_time": "2023-02-28T13:38:36.580977",
     "exception": false,
     "start_time": "2023-02-28T13:38:36.106022",
     "status": "completed"
    },
    "tags": []
   },
   "outputs": [
    {
     "data": {
      "image/png": "[encoded data removed]",
      "text/plain": [
       "<Figure size 1000x1000 with 1 Axes>"
      ]
     },
     "metadata": {},
     "output_type": "display_data"
    }
   ],
   "source": [
    "plot_roc_curve(y_test,y_pred_evaluation_test)"
   ]
  },
  {
   "cell_type": "code",
   "execution_count": 30,
   "id": "0954ab12",
   "metadata": {
    "execution": {
     "iopub.execute_input": "2023-02-28T13:38:36.816447Z",
     "iopub.status.busy": "2023-02-28T13:38:36.816083Z",
     "iopub.status.idle": "2023-02-28T13:38:36.843497Z",
     "shell.execute_reply": "2023-02-28T13:38:36.842520Z"
    },
    "papermill": {
     "duration": 0.146485,
     "end_time": "2023-02-28T13:38:36.845743",
     "exception": false,
     "start_time": "2023-02-28T13:38:36.699258",
     "status": "completed"
    },
    "tags": []
   },
   "outputs": [],
   "source": [
    "model.save_weights(\"lstm_weights.h5\")"
   ]
  },
  {
   "cell_type": "code",
   "execution_count": 31,
   "id": "f73765a3",
   "metadata": {
    "execution": {
     "iopub.execute_input": "2023-02-28T13:38:37.075565Z",
     "iopub.status.busy": "2023-02-28T13:38:37.075178Z",
     "iopub.status.idle": "2023-02-28T13:38:37.109715Z",
     "shell.execute_reply": "2023-02-28T13:38:37.108649Z"
    },
    "papermill": {
     "duration": 0.151264,
     "end_time": "2023-02-28T13:38:37.112269",
     "exception": false,
     "start_time": "2023-02-28T13:38:36.961005",
     "status": "completed"
    },
    "tags": []
   },
   "outputs": [],
   "source": [
    "model.save(\"lstm.h5\")"
   ]
  }
 ],
 "metadata": {
  "kernelspec": {
   "display_name": "Python 3",
   "language": "python",
   "name": "python3"
  },
  "language_info": {
   "codemirror_mode": {
    "name": "ipython",
    "version": 3
   },
   "file_extension": ".py",
   "mimetype": "text/x-python",
   "name": "python",
   "nbconvert_exporter": "python",
   "pygments_lexer": "ipython3",
   "version": "3.7.12"
  },
  "papermill": {
   "default_parameters": {},
   "duration": 178.95293,
   "end_time": "2023-02-28T13:38:40.336785",
   "environment_variables": {},
   "exception": null,
   "input_path": "__notebook__.ipynb",
   "output_path": "__notebook__.ipynb",
   "parameters": {},
   "start_time": "2023-02-28T13:35:41.383855",
   "version": "2.4.0"
  }
 },
 "nbformat": 4,
 "nbformat_minor": 5
}
