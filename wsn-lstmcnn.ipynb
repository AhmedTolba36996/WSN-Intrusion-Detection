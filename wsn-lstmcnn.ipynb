{
 "cells": [
  {
   "cell_type": "code",
   "execution_count": 1,
   "id": "f886f205",
   "metadata": {
    "_cell_guid": "b1076dfc-b9ad-4769-8c92-a6c4dae69d19",
    "_uuid": "8f2839f25d086af736a60e9eeb907d3b93b6e0e5",
    "execution": {
     "iopub.execute_input": "2023-02-27T15:54:16.936513Z",
     "iopub.status.busy": "2023-02-27T15:54:16.936025Z",
     "iopub.status.idle": "2023-02-27T15:54:24.615502Z",
     "shell.execute_reply": "2023-02-27T15:54:24.614402Z"
    },
    "papermill": {
     "duration": 7.692664,
     "end_time": "2023-02-27T15:54:24.618258",
     "exception": false,
     "start_time": "2023-02-27T15:54:16.925594",
     "status": "completed"
    },
    "tags": []
   },
   "outputs": [],
   "source": [
    "# importing required libraries\n",
    "import numpy as np\n",
    "import pandas as pd\n",
    "import pickle # saving and loading trained model\n",
    "from os import path\n",
    "\n",
    "# importing required libraries for normalizing data\n",
    "from sklearn import preprocessing\n",
    "\n",
    "from sklearn.preprocessing import (StandardScaler, OrdinalEncoder,LabelEncoder, MinMaxScaler, OneHotEncoder)\n",
    "from sklearn.preprocessing import Normalizer, MaxAbsScaler , RobustScaler, PowerTransformer\n",
    "\n",
    "# importing library for plotting\n",
    "import matplotlib.pyplot as plt\n",
    "import seaborn as sns\n",
    "\n",
    "from sklearn import metrics\n",
    "from sklearn.metrics import accuracy_score # for calculating accuracy of model\n",
    "from sklearn.model_selection import train_test_split # for splitting the dataset for training and testing\n",
    "from sklearn.metrics import classification_report # for generating a classification report of model\n",
    "\n",
    "from sklearn.metrics import precision_score\n",
    "from sklearn.metrics import recall_score\n",
    "from sklearn.metrics import f1_score\n",
    "\n",
    "from sklearn.metrics import roc_auc_score\n",
    "from sklearn.metrics import roc_curve, auc\n",
    "\n",
    "import tensorflow as tf\n",
    "from tensorflow.keras.utils import to_categorical\n",
    "\n",
    "from keras.layers import Dense, Conv1D, MaxPool1D, Flatten, Dropout , LSTM # importing dense layer\n",
    "from keras.layers import Convolution1D, Dense, Dropout, Flatten, MaxPooling1D\n",
    "from keras.models import Sequential #importing Sequential layer\n",
    "from keras.layers import Input\n",
    "from keras.models import Model\n",
    "from tensorflow.keras import layers\n",
    "# representation of model layers\n",
    "from keras.utils.vis_utils import plot_model\n",
    "\n",
    "import itertools\n",
    "from itertools import cycle"
   ]
  },
  {
   "cell_type": "code",
   "execution_count": 2,
   "id": "ebb9029c",
   "metadata": {
    "execution": {
     "iopub.execute_input": "2023-02-27T15:54:24.631048Z",
     "iopub.status.busy": "2023-02-27T15:54:24.629665Z",
     "iopub.status.idle": "2023-02-27T15:54:25.487957Z",
     "shell.execute_reply": "2023-02-27T15:54:25.486930Z"
    },
    "papermill": {
     "duration": 0.867187,
     "end_time": "2023-02-27T15:54:25.490773",
     "exception": false,
     "start_time": "2023-02-27T15:54:24.623586",
     "status": "completed"
    },
    "tags": []
   },
   "outputs": [],
   "source": [
    "data = pd.read_csv(\"/kaggle/input/wsnds/WSN-DS.csv\")"
   ]
  },
  {
   "cell_type": "code",
   "execution_count": 3,
   "id": "c8faaf54",
   "metadata": {
    "execution": {
     "iopub.execute_input": "2023-02-27T15:54:25.502205Z",
     "iopub.status.busy": "2023-02-27T15:54:25.501892Z",
     "iopub.status.idle": "2023-02-27T15:54:25.525466Z",
     "shell.execute_reply": "2023-02-27T15:54:25.524385Z"
    },
    "papermill": {
     "duration": 0.032758,
     "end_time": "2023-02-27T15:54:25.528717",
     "exception": false,
     "start_time": "2023-02-27T15:54:25.495959",
     "status": "completed"
    },
    "tags": []
   },
   "outputs": [
    {
     "data": {
      "text/html": [
       "<div>\n",
       "<style scoped>\n",
       "    .dataframe tbody tr th:only-of-type {\n",
       "        vertical-align: middle;\n",
       "    }\n",
       "\n",
       "    .dataframe tbody tr th {\n",
       "        vertical-align: top;\n",
       "    }\n",
       "\n",
       "    .dataframe thead th {\n",
       "        text-align: right;\n",
       "    }\n",
       "</style>\n",
       "<table border=\"1\" class=\"dataframe\">\n",
       "  <thead>\n",
       "    <tr style=\"text-align: right;\">\n",
       "      <th></th>\n",
       "      <th>id</th>\n",
       "      <th>Time</th>\n",
       "      <th>Is_CH</th>\n",
       "      <th>who CH</th>\n",
       "      <th>Dist_To_CH</th>\n",
       "      <th>ADV_S</th>\n",
       "      <th>ADV_R</th>\n",
       "      <th>JOIN_S</th>\n",
       "      <th>JOIN_R</th>\n",
       "      <th>SCH_S</th>\n",
       "      <th>SCH_R</th>\n",
       "      <th>Rank</th>\n",
       "      <th>DATA_S</th>\n",
       "      <th>DATA_R</th>\n",
       "      <th>Data_Sent_To_BS</th>\n",
       "      <th>dist_CH_To_BS</th>\n",
       "      <th>send_code</th>\n",
       "      <th>Expaned Energy</th>\n",
       "      <th>Attack type</th>\n",
       "    </tr>\n",
       "  </thead>\n",
       "  <tbody>\n",
       "    <tr>\n",
       "      <th>0</th>\n",
       "      <td>101000</td>\n",
       "      <td>50</td>\n",
       "      <td>1</td>\n",
       "      <td>101000</td>\n",
       "      <td>0.00000</td>\n",
       "      <td>1</td>\n",
       "      <td>0</td>\n",
       "      <td>0</td>\n",
       "      <td>25</td>\n",
       "      <td>1</td>\n",
       "      <td>0</td>\n",
       "      <td>0</td>\n",
       "      <td>0</td>\n",
       "      <td>1200</td>\n",
       "      <td>48</td>\n",
       "      <td>130.08535</td>\n",
       "      <td>0</td>\n",
       "      <td>2.46940</td>\n",
       "      <td>Normal</td>\n",
       "    </tr>\n",
       "    <tr>\n",
       "      <th>1</th>\n",
       "      <td>101001</td>\n",
       "      <td>50</td>\n",
       "      <td>0</td>\n",
       "      <td>101044</td>\n",
       "      <td>75.32345</td>\n",
       "      <td>0</td>\n",
       "      <td>4</td>\n",
       "      <td>1</td>\n",
       "      <td>0</td>\n",
       "      <td>0</td>\n",
       "      <td>1</td>\n",
       "      <td>2</td>\n",
       "      <td>38</td>\n",
       "      <td>0</td>\n",
       "      <td>0</td>\n",
       "      <td>0.00000</td>\n",
       "      <td>4</td>\n",
       "      <td>0.06957</td>\n",
       "      <td>Normal</td>\n",
       "    </tr>\n",
       "    <tr>\n",
       "      <th>2</th>\n",
       "      <td>101002</td>\n",
       "      <td>50</td>\n",
       "      <td>0</td>\n",
       "      <td>101010</td>\n",
       "      <td>46.95453</td>\n",
       "      <td>0</td>\n",
       "      <td>4</td>\n",
       "      <td>1</td>\n",
       "      <td>0</td>\n",
       "      <td>0</td>\n",
       "      <td>1</td>\n",
       "      <td>19</td>\n",
       "      <td>41</td>\n",
       "      <td>0</td>\n",
       "      <td>0</td>\n",
       "      <td>0.00000</td>\n",
       "      <td>3</td>\n",
       "      <td>0.06898</td>\n",
       "      <td>Normal</td>\n",
       "    </tr>\n",
       "    <tr>\n",
       "      <th>3</th>\n",
       "      <td>101003</td>\n",
       "      <td>50</td>\n",
       "      <td>0</td>\n",
       "      <td>101044</td>\n",
       "      <td>64.85231</td>\n",
       "      <td>0</td>\n",
       "      <td>4</td>\n",
       "      <td>1</td>\n",
       "      <td>0</td>\n",
       "      <td>0</td>\n",
       "      <td>1</td>\n",
       "      <td>16</td>\n",
       "      <td>38</td>\n",
       "      <td>0</td>\n",
       "      <td>0</td>\n",
       "      <td>0.00000</td>\n",
       "      <td>4</td>\n",
       "      <td>0.06673</td>\n",
       "      <td>Normal</td>\n",
       "    </tr>\n",
       "    <tr>\n",
       "      <th>4</th>\n",
       "      <td>101004</td>\n",
       "      <td>50</td>\n",
       "      <td>0</td>\n",
       "      <td>101010</td>\n",
       "      <td>4.83341</td>\n",
       "      <td>0</td>\n",
       "      <td>4</td>\n",
       "      <td>1</td>\n",
       "      <td>0</td>\n",
       "      <td>0</td>\n",
       "      <td>1</td>\n",
       "      <td>25</td>\n",
       "      <td>41</td>\n",
       "      <td>0</td>\n",
       "      <td>0</td>\n",
       "      <td>0.00000</td>\n",
       "      <td>3</td>\n",
       "      <td>0.06534</td>\n",
       "      <td>Normal</td>\n",
       "    </tr>\n",
       "  </tbody>\n",
       "</table>\n",
       "</div>"
      ],
      "text/plain": [
       "       id   Time   Is_CH   who CH   Dist_To_CH   ADV_S   ADV_R   JOIN_S  \\\n",
       "0  101000     50       1   101000      0.00000       1       0        0   \n",
       "1  101001     50       0   101044     75.32345       0       4        1   \n",
       "2  101002     50       0   101010     46.95453       0       4        1   \n",
       "3  101003     50       0   101044     64.85231       0       4        1   \n",
       "4  101004     50       0   101010      4.83341       0       4        1   \n",
       "\n",
       "    JOIN_R   SCH_S   SCH_R  Rank   DATA_S   DATA_R   Data_Sent_To_BS  \\\n",
       "0       25       1       0     0        0     1200                48   \n",
       "1        0       0       1     2       38        0                 0   \n",
       "2        0       0       1    19       41        0                 0   \n",
       "3        0       0       1    16       38        0                 0   \n",
       "4        0       0       1    25       41        0                 0   \n",
       "\n",
       "    dist_CH_To_BS   send_code   Expaned Energy Attack type  \n",
       "0       130.08535            0         2.46940      Normal  \n",
       "1         0.00000            4         0.06957      Normal  \n",
       "2         0.00000            3         0.06898      Normal  \n",
       "3         0.00000            4         0.06673      Normal  \n",
       "4         0.00000            3         0.06534      Normal  "
      ]
     },
     "execution_count": 3,
     "metadata": {},
     "output_type": "execute_result"
    }
   ],
   "source": [
    "data.head()"
   ]
  },
  {
   "cell_type": "code",
   "execution_count": 4,
   "id": "ccaca371",
   "metadata": {
    "execution": {
     "iopub.execute_input": "2023-02-27T15:54:25.540598Z",
     "iopub.status.busy": "2023-02-27T15:54:25.540324Z",
     "iopub.status.idle": "2023-02-27T15:54:25.546094Z",
     "shell.execute_reply": "2023-02-27T15:54:25.545127Z"
    },
    "papermill": {
     "duration": 0.013981,
     "end_time": "2023-02-27T15:54:25.548085",
     "exception": false,
     "start_time": "2023-02-27T15:54:25.534104",
     "status": "completed"
    },
    "tags": []
   },
   "outputs": [
    {
     "data": {
      "text/plain": [
       "(374661, 19)"
      ]
     },
     "execution_count": 4,
     "metadata": {},
     "output_type": "execute_result"
    }
   ],
   "source": [
    "data.shape"
   ]
  },
  {
   "cell_type": "code",
   "execution_count": 5,
   "id": "6996d7bf",
   "metadata": {
    "execution": {
     "iopub.execute_input": "2023-02-27T15:54:25.561167Z",
     "iopub.status.busy": "2023-02-27T15:54:25.559714Z",
     "iopub.status.idle": "2023-02-27T15:54:25.607278Z",
     "shell.execute_reply": "2023-02-27T15:54:25.606137Z"
    },
    "papermill": {
     "duration": 0.057932,
     "end_time": "2023-02-27T15:54:25.611342",
     "exception": false,
     "start_time": "2023-02-27T15:54:25.553410",
     "status": "completed"
    },
    "tags": []
   },
   "outputs": [
    {
     "name": "stdout",
     "output_type": "stream",
     "text": [
      "<class 'pandas.core.frame.DataFrame'>\n",
      "RangeIndex: 374661 entries, 0 to 374660\n",
      "Data columns (total 19 columns):\n",
      " #   Column            Non-Null Count   Dtype  \n",
      "---  ------            --------------   -----  \n",
      " 0    id               374661 non-null  int64  \n",
      " 1    Time             374661 non-null  int64  \n",
      " 2    Is_CH            374661 non-null  int64  \n",
      " 3    who CH           374661 non-null  int64  \n",
      " 4    Dist_To_CH       374661 non-null  float64\n",
      " 5    ADV_S            374661 non-null  int64  \n",
      " 6    ADV_R            374661 non-null  int64  \n",
      " 7    JOIN_S           374661 non-null  int64  \n",
      " 8    JOIN_R           374661 non-null  int64  \n",
      " 9    SCH_S            374661 non-null  int64  \n",
      " 10   SCH_R            374661 non-null  int64  \n",
      " 11  Rank              374661 non-null  int64  \n",
      " 12   DATA_S           374661 non-null  int64  \n",
      " 13   DATA_R           374661 non-null  int64  \n",
      " 14   Data_Sent_To_BS  374661 non-null  int64  \n",
      " 15   dist_CH_To_BS    374661 non-null  float64\n",
      " 16   send_code        374661 non-null  int64  \n",
      " 17  Expaned Energy    374661 non-null  float64\n",
      " 18  Attack type       374661 non-null  object \n",
      "dtypes: float64(3), int64(15), object(1)\n",
      "memory usage: 54.3+ MB\n"
     ]
    }
   ],
   "source": [
    "data.info()"
   ]
  },
  {
   "cell_type": "code",
   "execution_count": 6,
   "id": "161b618a",
   "metadata": {
    "execution": {
     "iopub.execute_input": "2023-02-27T15:54:25.625438Z",
     "iopub.status.busy": "2023-02-27T15:54:25.625148Z",
     "iopub.status.idle": "2023-02-27T15:54:25.650623Z",
     "shell.execute_reply": "2023-02-27T15:54:25.649534Z"
    },
    "papermill": {
     "duration": 0.034537,
     "end_time": "2023-02-27T15:54:25.652927",
     "exception": false,
     "start_time": "2023-02-27T15:54:25.618390",
     "status": "completed"
    },
    "tags": []
   },
   "outputs": [
    {
     "data": {
      "text/plain": [
       "Normal       340066\n",
       "Grayhole      14596\n",
       "Blackhole     10049\n",
       "TDMA           6638\n",
       "Flooding       3312\n",
       "Name: Attack type, dtype: int64"
      ]
     },
     "execution_count": 6,
     "metadata": {},
     "output_type": "execute_result"
    }
   ],
   "source": [
    "data['Attack type'].value_counts()"
   ]
  },
  {
   "cell_type": "code",
   "execution_count": 7,
   "id": "0653d226",
   "metadata": {
    "execution": {
     "iopub.execute_input": "2023-02-27T15:54:25.665412Z",
     "iopub.status.busy": "2023-02-27T15:54:25.665140Z",
     "iopub.status.idle": "2023-02-27T15:54:25.850913Z",
     "shell.execute_reply": "2023-02-27T15:54:25.849770Z"
    },
    "papermill": {
     "duration": 0.194925,
     "end_time": "2023-02-27T15:54:25.853412",
     "exception": false,
     "start_time": "2023-02-27T15:54:25.658487",
     "status": "completed"
    },
    "tags": []
   },
   "outputs": [
    {
     "data": {
      "text/html": [
       "<div>\n",
       "<style scoped>\n",
       "    .dataframe tbody tr th:only-of-type {\n",
       "        vertical-align: middle;\n",
       "    }\n",
       "\n",
       "    .dataframe tbody tr th {\n",
       "        vertical-align: top;\n",
       "    }\n",
       "\n",
       "    .dataframe thead th {\n",
       "        text-align: right;\n",
       "    }\n",
       "</style>\n",
       "<table border=\"1\" class=\"dataframe\">\n",
       "  <thead>\n",
       "    <tr style=\"text-align: right;\">\n",
       "      <th></th>\n",
       "      <th>count</th>\n",
       "      <th>mean</th>\n",
       "      <th>std</th>\n",
       "      <th>min</th>\n",
       "      <th>25%</th>\n",
       "      <th>50%</th>\n",
       "      <th>75%</th>\n",
       "      <th>max</th>\n",
       "    </tr>\n",
       "  </thead>\n",
       "  <tbody>\n",
       "    <tr>\n",
       "      <th>id</th>\n",
       "      <td>374661.0</td>\n",
       "      <td>274969.325879</td>\n",
       "      <td>389898.554898</td>\n",
       "      <td>101000.0</td>\n",
       "      <td>107093.00000</td>\n",
       "      <td>116071.00000</td>\n",
       "      <td>215072.00000</td>\n",
       "      <td>3.402096e+06</td>\n",
       "    </tr>\n",
       "    <tr>\n",
       "      <th>Time</th>\n",
       "      <td>374661.0</td>\n",
       "      <td>1064.748712</td>\n",
       "      <td>899.646164</td>\n",
       "      <td>50.0</td>\n",
       "      <td>353.00000</td>\n",
       "      <td>803.00000</td>\n",
       "      <td>1503.00000</td>\n",
       "      <td>3.600000e+03</td>\n",
       "    </tr>\n",
       "    <tr>\n",
       "      <th>Is_CH</th>\n",
       "      <td>374661.0</td>\n",
       "      <td>0.115766</td>\n",
       "      <td>0.319945</td>\n",
       "      <td>0.0</td>\n",
       "      <td>0.00000</td>\n",
       "      <td>0.00000</td>\n",
       "      <td>0.00000</td>\n",
       "      <td>1.000000e+00</td>\n",
       "    </tr>\n",
       "    <tr>\n",
       "      <th>who CH</th>\n",
       "      <td>374661.0</td>\n",
       "      <td>274980.411108</td>\n",
       "      <td>389911.221735</td>\n",
       "      <td>101000.0</td>\n",
       "      <td>107096.00000</td>\n",
       "      <td>116072.00000</td>\n",
       "      <td>215073.00000</td>\n",
       "      <td>3.402100e+06</td>\n",
       "    </tr>\n",
       "    <tr>\n",
       "      <th>Dist_To_CH</th>\n",
       "      <td>374661.0</td>\n",
       "      <td>22.599380</td>\n",
       "      <td>21.955794</td>\n",
       "      <td>0.0</td>\n",
       "      <td>4.73544</td>\n",
       "      <td>18.37261</td>\n",
       "      <td>33.77600</td>\n",
       "      <td>2.142746e+02</td>\n",
       "    </tr>\n",
       "    <tr>\n",
       "      <th>ADV_S</th>\n",
       "      <td>374661.0</td>\n",
       "      <td>0.267698</td>\n",
       "      <td>2.061148</td>\n",
       "      <td>0.0</td>\n",
       "      <td>0.00000</td>\n",
       "      <td>0.00000</td>\n",
       "      <td>0.00000</td>\n",
       "      <td>9.700000e+01</td>\n",
       "    </tr>\n",
       "    <tr>\n",
       "      <th>ADV_R</th>\n",
       "      <td>374661.0</td>\n",
       "      <td>6.940562</td>\n",
       "      <td>7.044319</td>\n",
       "      <td>0.0</td>\n",
       "      <td>3.00000</td>\n",
       "      <td>5.00000</td>\n",
       "      <td>7.00000</td>\n",
       "      <td>1.170000e+02</td>\n",
       "    </tr>\n",
       "    <tr>\n",
       "      <th>JOIN_S</th>\n",
       "      <td>374661.0</td>\n",
       "      <td>0.779905</td>\n",
       "      <td>0.414311</td>\n",
       "      <td>0.0</td>\n",
       "      <td>1.00000</td>\n",
       "      <td>1.00000</td>\n",
       "      <td>1.00000</td>\n",
       "      <td>1.000000e+00</td>\n",
       "    </tr>\n",
       "    <tr>\n",
       "      <th>JOIN_R</th>\n",
       "      <td>374661.0</td>\n",
       "      <td>0.737493</td>\n",
       "      <td>4.691498</td>\n",
       "      <td>0.0</td>\n",
       "      <td>0.00000</td>\n",
       "      <td>0.00000</td>\n",
       "      <td>0.00000</td>\n",
       "      <td>1.240000e+02</td>\n",
       "    </tr>\n",
       "    <tr>\n",
       "      <th>SCH_S</th>\n",
       "      <td>374661.0</td>\n",
       "      <td>0.288984</td>\n",
       "      <td>2.754746</td>\n",
       "      <td>0.0</td>\n",
       "      <td>0.00000</td>\n",
       "      <td>0.00000</td>\n",
       "      <td>0.00000</td>\n",
       "      <td>9.900000e+01</td>\n",
       "    </tr>\n",
       "    <tr>\n",
       "      <th>SCH_R</th>\n",
       "      <td>374661.0</td>\n",
       "      <td>0.747452</td>\n",
       "      <td>0.434475</td>\n",
       "      <td>0.0</td>\n",
       "      <td>0.00000</td>\n",
       "      <td>1.00000</td>\n",
       "      <td>1.00000</td>\n",
       "      <td>1.000000e+00</td>\n",
       "    </tr>\n",
       "    <tr>\n",
       "      <th>Rank</th>\n",
       "      <td>374661.0</td>\n",
       "      <td>9.687104</td>\n",
       "      <td>14.681901</td>\n",
       "      <td>0.0</td>\n",
       "      <td>1.00000</td>\n",
       "      <td>3.00000</td>\n",
       "      <td>13.00000</td>\n",
       "      <td>9.900000e+01</td>\n",
       "    </tr>\n",
       "    <tr>\n",
       "      <th>DATA_S</th>\n",
       "      <td>374661.0</td>\n",
       "      <td>44.857925</td>\n",
       "      <td>42.574464</td>\n",
       "      <td>0.0</td>\n",
       "      <td>13.00000</td>\n",
       "      <td>35.00000</td>\n",
       "      <td>62.00000</td>\n",
       "      <td>2.410000e+02</td>\n",
       "    </tr>\n",
       "    <tr>\n",
       "      <th>DATA_R</th>\n",
       "      <td>374661.0</td>\n",
       "      <td>73.890045</td>\n",
       "      <td>230.246335</td>\n",
       "      <td>0.0</td>\n",
       "      <td>0.00000</td>\n",
       "      <td>0.00000</td>\n",
       "      <td>0.00000</td>\n",
       "      <td>1.496000e+03</td>\n",
       "    </tr>\n",
       "    <tr>\n",
       "      <th>Data_Sent_To_BS</th>\n",
       "      <td>374661.0</td>\n",
       "      <td>4.569448</td>\n",
       "      <td>19.679155</td>\n",
       "      <td>0.0</td>\n",
       "      <td>0.00000</td>\n",
       "      <td>0.00000</td>\n",
       "      <td>0.00000</td>\n",
       "      <td>2.410000e+02</td>\n",
       "    </tr>\n",
       "    <tr>\n",
       "      <th>dist_CH_To_BS</th>\n",
       "      <td>374661.0</td>\n",
       "      <td>22.562735</td>\n",
       "      <td>50.261604</td>\n",
       "      <td>0.0</td>\n",
       "      <td>0.00000</td>\n",
       "      <td>0.00000</td>\n",
       "      <td>0.00000</td>\n",
       "      <td>2.019349e+02</td>\n",
       "    </tr>\n",
       "    <tr>\n",
       "      <th>send_code</th>\n",
       "      <td>374661.0</td>\n",
       "      <td>2.497957</td>\n",
       "      <td>2.407337</td>\n",
       "      <td>0.0</td>\n",
       "      <td>1.00000</td>\n",
       "      <td>2.00000</td>\n",
       "      <td>4.00000</td>\n",
       "      <td>1.500000e+01</td>\n",
       "    </tr>\n",
       "    <tr>\n",
       "      <th>Expaned Energy</th>\n",
       "      <td>374661.0</td>\n",
       "      <td>0.305661</td>\n",
       "      <td>0.669462</td>\n",
       "      <td>0.0</td>\n",
       "      <td>0.05615</td>\n",
       "      <td>0.09797</td>\n",
       "      <td>0.21776</td>\n",
       "      <td>4.509394e+01</td>\n",
       "    </tr>\n",
       "  </tbody>\n",
       "</table>\n",
       "</div>"
      ],
      "text/plain": [
       "                     count           mean            std       min  \\\n",
       " id               374661.0  274969.325879  389898.554898  101000.0   \n",
       " Time             374661.0    1064.748712     899.646164      50.0   \n",
       " Is_CH            374661.0       0.115766       0.319945       0.0   \n",
       " who CH           374661.0  274980.411108  389911.221735  101000.0   \n",
       " Dist_To_CH       374661.0      22.599380      21.955794       0.0   \n",
       " ADV_S            374661.0       0.267698       2.061148       0.0   \n",
       " ADV_R            374661.0       6.940562       7.044319       0.0   \n",
       " JOIN_S           374661.0       0.779905       0.414311       0.0   \n",
       " JOIN_R           374661.0       0.737493       4.691498       0.0   \n",
       " SCH_S            374661.0       0.288984       2.754746       0.0   \n",
       " SCH_R            374661.0       0.747452       0.434475       0.0   \n",
       "Rank              374661.0       9.687104      14.681901       0.0   \n",
       " DATA_S           374661.0      44.857925      42.574464       0.0   \n",
       " DATA_R           374661.0      73.890045     230.246335       0.0   \n",
       " Data_Sent_To_BS  374661.0       4.569448      19.679155       0.0   \n",
       " dist_CH_To_BS    374661.0      22.562735      50.261604       0.0   \n",
       " send_code        374661.0       2.497957       2.407337       0.0   \n",
       "Expaned Energy    374661.0       0.305661       0.669462       0.0   \n",
       "\n",
       "                           25%           50%           75%           max  \n",
       " id               107093.00000  116071.00000  215072.00000  3.402096e+06  \n",
       " Time                353.00000     803.00000    1503.00000  3.600000e+03  \n",
       " Is_CH                 0.00000       0.00000       0.00000  1.000000e+00  \n",
       " who CH           107096.00000  116072.00000  215073.00000  3.402100e+06  \n",
       " Dist_To_CH            4.73544      18.37261      33.77600  2.142746e+02  \n",
       " ADV_S                 0.00000       0.00000       0.00000  9.700000e+01  \n",
       " ADV_R                 3.00000       5.00000       7.00000  1.170000e+02  \n",
       " JOIN_S                1.00000       1.00000       1.00000  1.000000e+00  \n",
       " JOIN_R                0.00000       0.00000       0.00000  1.240000e+02  \n",
       " SCH_S                 0.00000       0.00000       0.00000  9.900000e+01  \n",
       " SCH_R                 0.00000       1.00000       1.00000  1.000000e+00  \n",
       "Rank                   1.00000       3.00000      13.00000  9.900000e+01  \n",
       " DATA_S               13.00000      35.00000      62.00000  2.410000e+02  \n",
       " DATA_R                0.00000       0.00000       0.00000  1.496000e+03  \n",
       " Data_Sent_To_BS       0.00000       0.00000       0.00000  2.410000e+02  \n",
       " dist_CH_To_BS         0.00000       0.00000       0.00000  2.019349e+02  \n",
       " send_code             1.00000       2.00000       4.00000  1.500000e+01  \n",
       "Expaned Energy         0.05615       0.09797       0.21776  4.509394e+01  "
      ]
     },
     "execution_count": 7,
     "metadata": {},
     "output_type": "execute_result"
    }
   ],
   "source": [
    "data.describe().T"
   ]
  },
  {
   "cell_type": "code",
   "execution_count": 8,
   "id": "fad6e8c0",
   "metadata": {
    "execution": {
     "iopub.execute_input": "2023-02-27T15:54:25.867476Z",
     "iopub.status.busy": "2023-02-27T15:54:25.866627Z",
     "iopub.status.idle": "2023-02-27T15:54:26.042161Z",
     "shell.execute_reply": "2023-02-27T15:54:26.041117Z"
    },
    "papermill": {
     "duration": 0.185191,
     "end_time": "2023-02-27T15:54:26.044850",
     "exception": false,
     "start_time": "2023-02-27T15:54:25.859659",
     "status": "completed"
    },
    "tags": []
   },
   "outputs": [],
   "source": [
    "# using standard scaler for normalizing\n",
    "std_scaler = StandardScaler()\n",
    "def standardization(df,col):\n",
    "  for i in col:\n",
    "    arr = df[i]\n",
    "    arr = np.array(arr)\n",
    "    df[i] = std_scaler.fit_transform(arr.reshape(len(arr),1))\n",
    "  return df\n",
    "\n",
    "numeric_col = data.select_dtypes(include='number').columns\n",
    "data = standardization(data,numeric_col)"
   ]
  },
  {
   "cell_type": "code",
   "execution_count": 9,
   "id": "868a0a81",
   "metadata": {
    "execution": {
     "iopub.execute_input": "2023-02-27T15:54:26.058796Z",
     "iopub.status.busy": "2023-02-27T15:54:26.058479Z",
     "iopub.status.idle": "2023-02-27T15:54:26.085815Z",
     "shell.execute_reply": "2023-02-27T15:54:26.084913Z"
    },
    "papermill": {
     "duration": 0.03678,
     "end_time": "2023-02-27T15:54:26.087996",
     "exception": false,
     "start_time": "2023-02-27T15:54:26.051216",
     "status": "completed"
    },
    "tags": []
   },
   "outputs": [],
   "source": [
    "# label encoding (0,1,2,3,4) m.applylti-class labels (Normal,Grayhole,Blackhole,TDMA,Flooding)\n",
    "    \n",
    "classes = {'Normal':0 ,'Grayhole':1,'Blackhole':2,'TDMA':3,'Flooding':4}\n",
    "\n",
    "data['Attack type'] = data['Attack type'].map( classes ).astype(int)\n"
   ]
  },
  {
   "cell_type": "code",
   "execution_count": 10,
   "id": "f08a545c",
   "metadata": {
    "execution": {
     "iopub.execute_input": "2023-02-27T15:54:26.101359Z",
     "iopub.status.busy": "2023-02-27T15:54:26.101039Z",
     "iopub.status.idle": "2023-02-27T15:54:26.161372Z",
     "shell.execute_reply": "2023-02-27T15:54:26.160304Z"
    },
    "papermill": {
     "duration": 0.069967,
     "end_time": "2023-02-27T15:54:26.163983",
     "exception": false,
     "start_time": "2023-02-27T15:54:26.094016",
     "status": "completed"
    },
    "tags": []
   },
   "outputs": [],
   "source": [
    "X = data.drop(['Attack type'] , axis=1)\n",
    "y = data['Attack type']"
   ]
  },
  {
   "cell_type": "code",
   "execution_count": 11,
   "id": "ce509019",
   "metadata": {
    "execution": {
     "iopub.execute_input": "2023-02-27T15:54:26.177926Z",
     "iopub.status.busy": "2023-02-27T15:54:26.177599Z",
     "iopub.status.idle": "2023-02-27T15:54:26.214208Z",
     "shell.execute_reply": "2023-02-27T15:54:26.213219Z"
    },
    "papermill": {
     "duration": 0.046316,
     "end_time": "2023-02-27T15:54:26.216727",
     "exception": false,
     "start_time": "2023-02-27T15:54:26.170411",
     "status": "completed"
    },
    "tags": []
   },
   "outputs": [],
   "source": [
    "from sklearn.preprocessing import LabelBinarizer\n",
    "\n",
    "y = LabelBinarizer().fit_transform(y)"
   ]
  },
  {
   "cell_type": "code",
   "execution_count": 12,
   "id": "cd687baa",
   "metadata": {
    "execution": {
     "iopub.execute_input": "2023-02-27T15:54:26.230772Z",
     "iopub.status.busy": "2023-02-27T15:54:26.230469Z",
     "iopub.status.idle": "2023-02-27T15:54:26.259946Z",
     "shell.execute_reply": "2023-02-27T15:54:26.258999Z"
    },
    "papermill": {
     "duration": 0.038992,
     "end_time": "2023-02-27T15:54:26.262332",
     "exception": false,
     "start_time": "2023-02-27T15:54:26.223340",
     "status": "completed"
    },
    "tags": []
   },
   "outputs": [],
   "source": [
    "X=np.array(X)\n",
    "y=np.array(y)"
   ]
  },
  {
   "cell_type": "code",
   "execution_count": 13,
   "id": "8c4b745d",
   "metadata": {
    "execution": {
     "iopub.execute_input": "2023-02-27T15:54:26.276603Z",
     "iopub.status.busy": "2023-02-27T15:54:26.276284Z",
     "iopub.status.idle": "2023-02-27T15:54:26.411951Z",
     "shell.execute_reply": "2023-02-27T15:54:26.410904Z"
    },
    "papermill": {
     "duration": 0.145658,
     "end_time": "2023-02-27T15:54:26.414391",
     "exception": false,
     "start_time": "2023-02-27T15:54:26.268733",
     "status": "completed"
    },
    "tags": []
   },
   "outputs": [],
   "source": [
    "# splitting the dataset 67% for training and 33% testing and evaluating\n",
    "X_train, X_temp, y_train, y_temp = train_test_split(X,y, test_size=0.33, random_state=42)\n",
    "\n",
    "X_test, X_val, y_test, y_val = train_test_split(X_temp,y_temp, test_size=0.5, random_state=42)"
   ]
  },
  {
   "cell_type": "code",
   "execution_count": 14,
   "id": "e7b25103",
   "metadata": {
    "execution": {
     "iopub.execute_input": "2023-02-27T15:54:26.429491Z",
     "iopub.status.busy": "2023-02-27T15:54:26.429169Z",
     "iopub.status.idle": "2023-02-27T15:54:26.434726Z",
     "shell.execute_reply": "2023-02-27T15:54:26.433611Z"
    },
    "papermill": {
     "duration": 0.014837,
     "end_time": "2023-02-27T15:54:26.436706",
     "exception": false,
     "start_time": "2023-02-27T15:54:26.421869",
     "status": "completed"
    },
    "tags": []
   },
   "outputs": [],
   "source": [
    "X_train = np.reshape(X_train, (X_train.shape[0], X_train.shape[1], 1))\n",
    "X_test = np.reshape(X_test, (X_test.shape[0], X_test.shape[1], 1))\n",
    "X_val = np.reshape(X_val, (X_val.shape[0], X_val.shape[1], 1))"
   ]
  },
  {
   "cell_type": "code",
   "execution_count": 15,
   "id": "11335f31",
   "metadata": {
    "execution": {
     "iopub.execute_input": "2023-02-27T15:54:26.450679Z",
     "iopub.status.busy": "2023-02-27T15:54:26.450165Z",
     "iopub.status.idle": "2023-02-27T15:54:29.643278Z",
     "shell.execute_reply": "2023-02-27T15:54:29.641145Z"
    },
    "papermill": {
     "duration": 3.207022,
     "end_time": "2023-02-27T15:54:29.649987",
     "exception": false,
     "start_time": "2023-02-27T15:54:26.442965",
     "status": "completed"
    },
    "tags": []
   },
   "outputs": [],
   "source": [
    "model = Sequential()\n",
    "\n",
    "model.add(Convolution1D(128,\n",
    "                 3,\n",
    "                 padding='valid',\n",
    "                 activation='relu',\n",
    "                 strides=1,\n",
    "                 input_shape=(X_train.shape[1], 1)))\n",
    "model.add(MaxPooling1D(pool_size=2))\n",
    "model.add(Dropout(0.5))\n",
    "\n",
    "model.add(LSTM(70))\n",
    "model.add(Dense(5, activation=\"softmax\"))\n"
   ]
  },
  {
   "cell_type": "code",
   "execution_count": 16,
   "id": "6143c96a",
   "metadata": {
    "execution": {
     "iopub.execute_input": "2023-02-27T15:54:29.678392Z",
     "iopub.status.busy": "2023-02-27T15:54:29.677628Z",
     "iopub.status.idle": "2023-02-27T15:54:29.722795Z",
     "shell.execute_reply": "2023-02-27T15:54:29.722093Z"
    },
    "papermill": {
     "duration": 0.086049,
     "end_time": "2023-02-27T15:54:29.748092",
     "exception": false,
     "start_time": "2023-02-27T15:54:29.662043",
     "status": "completed"
    },
    "tags": []
   },
   "outputs": [
    {
     "name": "stdout",
     "output_type": "stream",
     "text": [
      "Model: \"sequential\"\n",
      "_________________________________________________________________\n",
      " Layer (type)                Output Shape              Param #   \n",
      "=================================================================\n",
      " conv1d (Conv1D)             (None, 16, 128)           512       \n",
      "                                                                 \n",
      " max_pooling1d (MaxPooling1D  (None, 8, 128)           0         \n",
      " )                                                               \n",
      "                                                                 \n",
      " dropout (Dropout)           (None, 8, 128)            0         \n",
      "                                                                 \n",
      " lstm (LSTM)                 (None, 70)                55720     \n",
      "                                                                 \n",
      " dense (Dense)               (None, 5)                 355       \n",
      "                                                                 \n",
      "=================================================================\n",
      "Total params: 56,587\n",
      "Trainable params: 56,587\n",
      "Non-trainable params: 0\n",
      "_________________________________________________________________\n"
     ]
    }
   ],
   "source": [
    "model.summary()"
   ]
  },
  {
   "cell_type": "code",
   "execution_count": 17,
   "id": "b06d477c",
   "metadata": {
    "execution": {
     "iopub.execute_input": "2023-02-27T15:54:29.774580Z",
     "iopub.status.busy": "2023-02-27T15:54:29.774129Z",
     "iopub.status.idle": "2023-02-27T15:54:29.796204Z",
     "shell.execute_reply": "2023-02-27T15:54:29.795310Z"
    },
    "papermill": {
     "duration": 0.03771,
     "end_time": "2023-02-27T15:54:29.798857",
     "exception": false,
     "start_time": "2023-02-27T15:54:29.761147",
     "status": "completed"
    },
    "tags": []
   },
   "outputs": [],
   "source": [
    "model.compile(loss=\"categorical_crossentropy\", optimizer=\"adam\",metrics=['accuracy'])"
   ]
  },
  {
   "cell_type": "code",
   "execution_count": 18,
   "id": "0f023646",
   "metadata": {
    "execution": {
     "iopub.execute_input": "2023-02-27T15:54:29.822365Z",
     "iopub.status.busy": "2023-02-27T15:54:29.821931Z",
     "iopub.status.idle": "2023-02-27T15:56:53.830880Z",
     "shell.execute_reply": "2023-02-27T15:56:53.829708Z"
    },
    "papermill": {
     "duration": 144.02382,
     "end_time": "2023-02-27T15:56:53.833987",
     "exception": false,
     "start_time": "2023-02-27T15:54:29.810167",
     "status": "completed"
    },
    "tags": []
   },
   "outputs": [
    {
     "name": "stdout",
     "output_type": "stream",
     "text": [
      "Epoch 1/30\n",
      "503/503 [==============================] - 12s 7ms/step - loss: 0.1990 - accuracy: 0.9396 - val_loss: 0.0718 - val_accuracy: 0.9685\n",
      "Epoch 2/30\n",
      "503/503 [==============================] - 3s 6ms/step - loss: 0.0650 - accuracy: 0.9717 - val_loss: 0.0492 - val_accuracy: 0.9784\n",
      "Epoch 3/30\n",
      "503/503 [==============================] - 3s 6ms/step - loss: 0.0518 - accuracy: 0.9772 - val_loss: 0.0454 - val_accuracy: 0.9779\n",
      "Epoch 4/30\n",
      "503/503 [==============================] - 3s 7ms/step - loss: 0.0471 - accuracy: 0.9782 - val_loss: 0.0413 - val_accuracy: 0.9810\n",
      "Epoch 5/30\n",
      "503/503 [==============================] - 3s 6ms/step - loss: 0.0449 - accuracy: 0.9793 - val_loss: 0.0401 - val_accuracy: 0.9811\n",
      "Epoch 6/30\n",
      "503/503 [==============================] - 3s 6ms/step - loss: 0.0431 - accuracy: 0.9799 - val_loss: 0.0399 - val_accuracy: 0.9807\n",
      "Epoch 7/30\n",
      "503/503 [==============================] - 3s 6ms/step - loss: 0.0422 - accuracy: 0.9799 - val_loss: 0.0389 - val_accuracy: 0.9810\n",
      "Epoch 8/30\n",
      "503/503 [==============================] - 4s 7ms/step - loss: 0.0415 - accuracy: 0.9804 - val_loss: 0.0390 - val_accuracy: 0.9813\n",
      "Epoch 9/30\n",
      "503/503 [==============================] - 3s 6ms/step - loss: 0.0407 - accuracy: 0.9804 - val_loss: 0.0374 - val_accuracy: 0.9819\n",
      "Epoch 10/30\n",
      "503/503 [==============================] - 3s 6ms/step - loss: 0.0401 - accuracy: 0.9806 - val_loss: 0.0371 - val_accuracy: 0.9816\n",
      "Epoch 11/30\n",
      "503/503 [==============================] - 3s 7ms/step - loss: 0.0392 - accuracy: 0.9813 - val_loss: 0.0379 - val_accuracy: 0.9820\n",
      "Epoch 12/30\n",
      "503/503 [==============================] - 3s 6ms/step - loss: 0.0392 - accuracy: 0.9810 - val_loss: 0.0366 - val_accuracy: 0.9817\n",
      "Epoch 13/30\n",
      "503/503 [==============================] - 3s 6ms/step - loss: 0.0387 - accuracy: 0.9817 - val_loss: 0.0363 - val_accuracy: 0.9829\n",
      "Epoch 14/30\n",
      "503/503 [==============================] - 3s 6ms/step - loss: 0.0386 - accuracy: 0.9814 - val_loss: 0.0358 - val_accuracy: 0.9824\n",
      "Epoch 15/30\n",
      "503/503 [==============================] - 3s 6ms/step - loss: 0.0381 - accuracy: 0.9819 - val_loss: 0.0357 - val_accuracy: 0.9831\n",
      "Epoch 16/30\n",
      "503/503 [==============================] - 3s 6ms/step - loss: 0.0379 - accuracy: 0.9818 - val_loss: 0.0356 - val_accuracy: 0.9836\n",
      "Epoch 17/30\n",
      "503/503 [==============================] - 3s 6ms/step - loss: 0.0375 - accuracy: 0.9823 - val_loss: 0.0355 - val_accuracy: 0.9839\n",
      "Epoch 18/30\n",
      "503/503 [==============================] - 4s 7ms/step - loss: 0.0375 - accuracy: 0.9825 - val_loss: 0.0352 - val_accuracy: 0.9843\n",
      "Epoch 19/30\n",
      "503/503 [==============================] - 3s 6ms/step - loss: 0.0372 - accuracy: 0.9831 - val_loss: 0.0347 - val_accuracy: 0.9848\n",
      "Epoch 20/30\n",
      "503/503 [==============================] - 3s 6ms/step - loss: 0.0368 - accuracy: 0.9836 - val_loss: 0.0343 - val_accuracy: 0.9859\n",
      "Epoch 21/30\n",
      "503/503 [==============================] - 3s 6ms/step - loss: 0.0363 - accuracy: 0.9842 - val_loss: 0.0336 - val_accuracy: 0.9861\n",
      "Epoch 22/30\n",
      "503/503 [==============================] - 3s 6ms/step - loss: 0.0362 - accuracy: 0.9847 - val_loss: 0.0335 - val_accuracy: 0.9859\n",
      "Epoch 23/30\n",
      "503/503 [==============================] - 3s 6ms/step - loss: 0.0361 - accuracy: 0.9845 - val_loss: 0.0328 - val_accuracy: 0.9863\n",
      "Epoch 24/30\n",
      "503/503 [==============================] - 3s 6ms/step - loss: 0.0353 - accuracy: 0.9852 - val_loss: 0.0326 - val_accuracy: 0.9870\n",
      "Epoch 25/30\n",
      "503/503 [==============================] - 3s 6ms/step - loss: 0.0349 - accuracy: 0.9854 - val_loss: 0.0318 - val_accuracy: 0.9878\n",
      "Epoch 26/30\n",
      "503/503 [==============================] - 3s 6ms/step - loss: 0.0346 - accuracy: 0.9856 - val_loss: 0.0317 - val_accuracy: 0.9873\n",
      "Epoch 27/30\n",
      "503/503 [==============================] - 3s 6ms/step - loss: 0.0343 - accuracy: 0.9860 - val_loss: 0.0314 - val_accuracy: 0.9875\n",
      "Epoch 28/30\n",
      "503/503 [==============================] - 3s 7ms/step - loss: 0.0338 - accuracy: 0.9863 - val_loss: 0.0312 - val_accuracy: 0.9887\n",
      "Epoch 29/30\n",
      "503/503 [==============================] - 3s 7ms/step - loss: 0.0337 - accuracy: 0.9865 - val_loss: 0.0300 - val_accuracy: 0.9883\n",
      "Epoch 30/30\n",
      "503/503 [==============================] - 3s 6ms/step - loss: 0.0331 - accuracy: 0.9866 - val_loss: 0.0304 - val_accuracy: 0.9886\n"
     ]
    }
   ],
   "source": [
    "history=model.fit(X_train, y_train, epochs=30,verbose=1,batch_size=500,validation_data=(X_val, y_val))"
   ]
  },
  {
   "cell_type": "code",
   "execution_count": 19,
   "id": "32df4c6b",
   "metadata": {
    "execution": {
     "iopub.execute_input": "2023-02-27T15:56:54.012926Z",
     "iopub.status.busy": "2023-02-27T15:56:54.012214Z",
     "iopub.status.idle": "2023-02-27T15:56:55.064301Z",
     "shell.execute_reply": "2023-02-27T15:56:55.063207Z"
    },
    "papermill": {
     "duration": 1.143749,
     "end_time": "2023-02-27T15:56:55.066837",
     "exception": false,
     "start_time": "2023-02-27T15:56:53.923088",
     "status": "completed"
    },
    "tags": []
   },
   "outputs": [
    {
     "name": "stdout",
     "output_type": "stream",
     "text": [
      "124/124 [==============================] - 1s 2ms/step\n"
     ]
    }
   ],
   "source": [
    "y_pred_test = model.predict(X_test, batch_size=500)\n",
    "\n",
    "# For Plot curve\n",
    "y_pred_evaluation_test = to_categorical(np.argmax(y_pred_test, axis=1), 5)\n",
    "\n",
    "# For evaluation\n",
    "y_pred_argmax_test=(np.argmax(y_pred_test, axis=1))\n",
    "\n",
    "y_test_argmax=(np.argmax(y_test, axis=1))"
   ]
  },
  {
   "cell_type": "code",
   "execution_count": 20,
   "id": "aae317ae",
   "metadata": {
    "execution": {
     "iopub.execute_input": "2023-02-27T15:56:55.247773Z",
     "iopub.status.busy": "2023-02-27T15:56:55.247056Z",
     "iopub.status.idle": "2023-02-27T15:56:55.254807Z",
     "shell.execute_reply": "2023-02-27T15:56:55.253770Z"
    },
    "papermill": {
     "duration": 0.100535,
     "end_time": "2023-02-27T15:56:55.257032",
     "exception": false,
     "start_time": "2023-02-27T15:56:55.156497",
     "status": "completed"
    },
    "tags": []
   },
   "outputs": [],
   "source": [
    "# Calculating Area under the curve\n",
    "def AUC(actual_class, pred_class, average = \"micro\"):\n",
    "    \n",
    "    #Making a set of all the unique classes \n",
    "    unique_class = set(actual_class)\n",
    "    roc_auc_dict = {}\n",
    "    for per_class in unique_class:\n",
    "        \n",
    "        #Making a list of all the classes except the current class \n",
    "        other_class = [x for x in unique_class if x != per_class]\n",
    "\n",
    "        #Making the current class with label 1 and all other classes as a label 0\n",
    "        new_actual_class = [0 if x in other_class else 1 for x in actual_class]\n",
    "        new_pred_class = [0 if x in other_class else 1 for x in pred_class]\n",
    "\n",
    "        # Calculating the roc_auc_score\n",
    "        roc_auc = roc_auc_score(new_actual_class, new_pred_class, average = average)\n",
    "        roc_auc_dict[per_class] = roc_auc\n",
    "\n",
    "    return roc_auc_dict"
   ]
  },
  {
   "cell_type": "code",
   "execution_count": 21,
   "id": "994c42bb",
   "metadata": {
    "execution": {
     "iopub.execute_input": "2023-02-27T15:56:55.436714Z",
     "iopub.status.busy": "2023-02-27T15:56:55.436349Z",
     "iopub.status.idle": "2023-02-27T15:56:55.449053Z",
     "shell.execute_reply": "2023-02-27T15:56:55.447959Z"
    },
    "papermill": {
     "duration": 0.104988,
     "end_time": "2023-02-27T15:56:55.451283",
     "exception": false,
     "start_time": "2023-02-27T15:56:55.346295",
     "status": "completed"
    },
    "tags": []
   },
   "outputs": [],
   "source": [
    "def plot_roc_curve(y_test,y_pred):\n",
    "    n_classes=5\n",
    "    fpr = dict()\n",
    "    tpr = dict()\n",
    "    roc_auc = dict()\n",
    "    for i in range(n_classes):\n",
    "        fpr[i], tpr[i], _ = roc_curve(y_test[:, i], y_pred[:, i])\n",
    "        roc_auc[i] = auc(fpr[i], tpr[i])\n",
    "    fpr[\"micro\"], tpr[\"micro\"], _ = roc_curve(y_test.ravel(), y_pred.ravel())\n",
    "    roc_auc[\"micro\"] = auc(fpr[\"micro\"], tpr[\"micro\"])\n",
    "    lw=2\n",
    "    all_fpr = np.unique(np.concatenate([fpr[i] for i in range(n_classes)]))\n",
    "\n",
    "    mean_tpr = np.zeros_like(all_fpr)\n",
    "    for i in range(n_classes):\n",
    "        mean_tpr += np.interp(all_fpr, fpr[i], tpr[i])\n",
    "\n",
    "    mean_tpr /= n_classes\n",
    "\n",
    "    fpr[\"macro\"] = all_fpr\n",
    "    tpr[\"macro\"] = mean_tpr\n",
    "    roc_auc[\"macro\"] = auc(fpr[\"macro\"], tpr[\"macro\"])\n",
    "\n",
    "# Plot all ROC curves\n",
    "    plt.figure(figsize=(10, 10))\n",
    "    plt.plot(fpr[\"micro\"],\n",
    "    tpr[\"micro\"],\n",
    "    label=\"micro-average ROC curve (area = {0:0.2f})\".format(roc_auc[\"micro\"]),\n",
    "    color=\"deeppink\",\n",
    "    linestyle=\":\",\n",
    "    linewidth=4,)\n",
    "\n",
    "    plt.plot(fpr[\"macro\"],\n",
    "    tpr[\"macro\"],\n",
    "    label=\"macro-average ROC curve (area = {0:0.2f})\".format(roc_auc[\"macro\"]),\n",
    "    color=\"navy\",\n",
    "    linestyle=\":\",\n",
    "    linewidth=4,\n",
    ")\n",
    "\n",
    "    colors = cycle([\"aqua\", \"darkorange\", \"cornflowerblue\"])\n",
    "    for i, color in zip(range(n_classes), colors):\n",
    "        plt.plot(\n",
    "           fpr[i],\n",
    "           tpr[i],\n",
    "           color=color,\n",
    "           lw=lw,\n",
    "        label=\"ROC curve of class {0} (area = {1:0.2f})\".format(i, roc_auc[i]),\n",
    "    )\n",
    "\n",
    "    plt.plot([0, 1], [0, 1], \"k--\", lw=lw)\n",
    "    plt.xlim([0.0, 1.0])\n",
    "    plt.ylim([0.0, 1.05])\n",
    "    plt.xlabel(\"False Positive Rate\")\n",
    "    plt.ylabel(\"True Positive Rate\")\n",
    "    plt.title(\"AUC\")\n",
    "    plt.legend(loc=\"lower right\")\n",
    "    plt.show()"
   ]
  },
  {
   "cell_type": "code",
   "execution_count": 22,
   "id": "5a97a74a",
   "metadata": {
    "execution": {
     "iopub.execute_input": "2023-02-27T15:56:55.656175Z",
     "iopub.status.busy": "2023-02-27T15:56:55.655775Z",
     "iopub.status.idle": "2023-02-27T15:56:55.665222Z",
     "shell.execute_reply": "2023-02-27T15:56:55.664134Z"
    },
    "papermill": {
     "duration": 0.118255,
     "end_time": "2023-02-27T15:56:55.667504",
     "exception": false,
     "start_time": "2023-02-27T15:56:55.549249",
     "status": "completed"
    },
    "tags": []
   },
   "outputs": [],
   "source": [
    "def plot_confusion_matrix(cm, classes,\n",
    "                          normalize=False,\n",
    "                          title='Confusion matrix',\n",
    "                          cmap=plt.cm.Blues):\n",
    "    \"\"\"\n",
    "    Prints and plots the confusion matrix.\n",
    "    \"\"\"\n",
    "    if normalize:\n",
    "        cm = cm.astype('float') / cm.sum(axis=1)[:, np.newaxis]\n",
    "        print(\"Normalized confusion matrix\")\n",
    "    else:\n",
    "        print('Confusion matrix, without normalization')\n",
    "\n",
    "    plt.imshow(cm, interpolation='nearest', cmap=cmap)\n",
    "    plt.title(title)\n",
    "    plt.colorbar()\n",
    "    tick_marks = np.arange(len(classes))\n",
    "    plt.xticks(tick_marks, classes, rotation=45)\n",
    "    plt.yticks(tick_marks, classes)\n",
    "\n",
    "    fmt = '.2f' if normalize else 'd'\n",
    "    thresh = cm.max() / 2.\n",
    "    for i, j in itertools.product(range(cm.shape[0]), range(cm.shape[1])):\n",
    "        plt.text(j, i, format(cm[i, j], fmt),\n",
    "                 horizontalalignment=\"center\",\n",
    "                 color=\"white\" if cm[i, j] > thresh else \"black\")\n",
    "\n",
    "    plt.tight_layout()\n",
    "    plt.ylabel('True label')\n",
    "    plt.xlabel('Predicted label')"
   ]
  },
  {
   "cell_type": "code",
   "execution_count": 23,
   "id": "932f6920",
   "metadata": {
    "execution": {
     "iopub.execute_input": "2023-02-27T15:56:55.848576Z",
     "iopub.status.busy": "2023-02-27T15:56:55.848212Z",
     "iopub.status.idle": "2023-02-27T15:57:01.876931Z",
     "shell.execute_reply": "2023-02-27T15:57:01.875744Z"
    },
    "papermill": {
     "duration": 6.121771,
     "end_time": "2023-02-27T15:57:01.879101",
     "exception": false,
     "start_time": "2023-02-27T15:56:55.757330",
     "status": "completed"
    },
    "tags": []
   },
   "outputs": [
    {
     "name": "stdout",
     "output_type": "stream",
     "text": [
      "1932/1932 [==============================] - 6s 3ms/step - loss: 0.0307 - accuracy: 0.9886\n",
      "Test results - Loss: 0.03065304271876812 - Accuracy: 98.85633587837219%\n"
     ]
    }
   ],
   "source": [
    "# predicting target attribute on testing dataset\n",
    "test_results = model.evaluate(X_test, y_test, verbose=1)\n",
    "print(f'Test results - Loss: {test_results[0]} - Accuracy: {test_results[1]*100}%')"
   ]
  },
  {
   "cell_type": "code",
   "execution_count": 24,
   "id": "b952eeb4",
   "metadata": {
    "execution": {
     "iopub.execute_input": "2023-02-27T15:57:02.125806Z",
     "iopub.status.busy": "2023-02-27T15:57:02.125447Z",
     "iopub.status.idle": "2023-02-27T15:57:02.324877Z",
     "shell.execute_reply": "2023-02-27T15:57:02.323701Z"
    },
    "papermill": {
     "duration": 0.354098,
     "end_time": "2023-02-27T15:57:02.327748",
     "exception": false,
     "start_time": "2023-02-27T15:57:01.973650",
     "status": "completed"
    },
    "tags": []
   },
   "outputs": [
    {
     "name": "stdout",
     "output_type": "stream",
     "text": [
      "AUC Score is on Test :  {0: 0.9895885166267437, 1: 0.9278236552648805, 2: 0.9443044863364465, 3: 0.963724178200198, 4: 0.9915328971441424}\n"
     ]
    }
   ],
   "source": [
    "print('AUC Score is on Test : ' , AUC(y_test_argmax, y_pred_argmax_test))"
   ]
  },
  {
   "cell_type": "code",
   "execution_count": 25,
   "id": "cd61a2be",
   "metadata": {
    "execution": {
     "iopub.execute_input": "2023-02-27T15:57:02.519830Z",
     "iopub.status.busy": "2023-02-27T15:57:02.519468Z",
     "iopub.status.idle": "2023-02-27T15:57:02.576522Z",
     "shell.execute_reply": "2023-02-27T15:57:02.574886Z"
    },
    "papermill": {
     "duration": 0.156942,
     "end_time": "2023-02-27T15:57:02.579373",
     "exception": false,
     "start_time": "2023-02-27T15:57:02.422431",
     "status": "completed"
    },
    "tags": []
   },
   "outputs": [
    {
     "name": "stdout",
     "output_type": "stream",
     "text": [
      "Classification Report on Data Test \n",
      "               precision    recall  f1-score   support\n",
      "\n",
      "      Normal       1.00      1.00      1.00     56078\n",
      "    Grayhole       0.91      0.86      0.88      2421\n",
      "   Blackhole       0.82      0.89      0.85      1622\n",
      "        TDMA       1.00      0.93      0.96      1131\n",
      "    Flooding       0.90      0.98      0.94       567\n",
      "\n",
      "    accuracy                           0.99     61819\n",
      "   macro avg       0.92      0.93      0.93     61819\n",
      "weighted avg       0.99      0.99      0.99     61819\n",
      "\n"
     ]
    }
   ],
   "source": [
    "from sklearn.metrics import classification_report\n",
    "\n",
    "target = ['Normal','Grayhole','Blackhole','TDMA','Flooding']\n",
    "\n",
    "print(\"Classification Report on Data Test \\n\" , classification_report(y_test_argmax, y_pred_argmax_test, target_names=target))"
   ]
  },
  {
   "cell_type": "code",
   "execution_count": 26,
   "id": "7e41a7cb",
   "metadata": {
    "execution": {
     "iopub.execute_input": "2023-02-27T15:57:02.805513Z",
     "iopub.status.busy": "2023-02-27T15:57:02.804780Z",
     "iopub.status.idle": "2023-02-27T15:57:03.047209Z",
     "shell.execute_reply": "2023-02-27T15:57:03.046117Z"
    },
    "papermill": {
     "duration": 0.374079,
     "end_time": "2023-02-27T15:57:03.049439",
     "exception": false,
     "start_time": "2023-02-27T15:57:02.675360",
     "status": "completed"
    },
    "tags": []
   },
   "outputs": [
    {
     "data": {
      "image/png": "[encoded data removed]",
      "text/plain": [
       "<Figure size 640x480 with 1 Axes>"
      ]
     },
     "metadata": {},
     "output_type": "display_data"
    }
   ],
   "source": [
    "# Plot of accuracy vs epoch for train and test dataset\n",
    "plt.plot(history.history['accuracy'])\n",
    "plt.plot(history.history['val_accuracy'])\n",
    "plt.title(\"Plot of accuracy vs epoch for train and validation dataset\")\n",
    "plt.ylabel('accuracy')\n",
    "plt.xlabel('epoch')\n",
    "plt.show()"
   ]
  },
  {
   "cell_type": "code",
   "execution_count": 27,
   "id": "95e76360",
   "metadata": {
    "execution": {
     "iopub.execute_input": "2023-02-27T15:57:03.247120Z",
     "iopub.status.busy": "2023-02-27T15:57:03.246728Z",
     "iopub.status.idle": "2023-02-27T15:57:03.531056Z",
     "shell.execute_reply": "2023-02-27T15:57:03.530112Z"
    },
    "papermill": {
     "duration": 0.383911,
     "end_time": "2023-02-27T15:57:03.533857",
     "exception": false,
     "start_time": "2023-02-27T15:57:03.149946",
     "status": "completed"
    },
    "tags": []
   },
   "outputs": [
    {
     "data": {
      "image/png": "[encoded data removed]",
      "text/plain": [
       "<Figure size 640x480 with 1 Axes>"
      ]
     },
     "metadata": {},
     "output_type": "display_data"
    }
   ],
   "source": [
    "# Plot of loss vs epoch for train and test dataset\n",
    "plt.plot(history.history['loss'])\n",
    "plt.plot(history.history['val_loss'])\n",
    "plt.title(\"Plot of loss vs epoch for train and validation dataset\")\n",
    "plt.ylabel('loss')\n",
    "plt.xlabel('epoch')\n",
    "plt.legend(['train', 'test'], loc='upper right')\n",
    "plt.show()"
   ]
  },
  {
   "cell_type": "code",
   "execution_count": 28,
   "id": "e3d1746a",
   "metadata": {
    "execution": {
     "iopub.execute_input": "2023-02-27T15:57:03.828245Z",
     "iopub.status.busy": "2023-02-27T15:57:03.827862Z",
     "iopub.status.idle": "2023-02-27T15:57:04.162992Z",
     "shell.execute_reply": "2023-02-27T15:57:04.162067Z"
    },
    "papermill": {
     "duration": 0.485172,
     "end_time": "2023-02-27T15:57:04.165197",
     "exception": false,
     "start_time": "2023-02-27T15:57:03.680025",
     "status": "completed"
    },
    "tags": []
   },
   "outputs": [
    {
     "name": "stdout",
     "output_type": "stream",
     "text": [
      "Confusion matrix, without normalization\n"
     ]
    },
    {
     "data": {
      "image/png": "[encoded data removed]",
      "text/plain": [
       "<Figure size 700x700 with 2 Axes>"
      ]
     },
     "metadata": {},
     "output_type": "display_data"
    }
   ],
   "source": [
    "# Compute confusion matrix\n",
    "from sklearn.metrics import confusion_matrix\n",
    "\n",
    "cnf_matrix = confusion_matrix(y_test_argmax, y_pred_argmax_test)\n",
    "\n",
    "# Plot non-normalized confusion matrix\n",
    "plt.figure(figsize=(7, 7))\n",
    "plot_confusion_matrix(cnf_matrix, classes=target,\n",
    "                      title='Confusion matrix')\n",
    "plt.show()"
   ]
  },
  {
   "cell_type": "code",
   "execution_count": 29,
   "id": "87dcf4b4",
   "metadata": {
    "execution": {
     "iopub.execute_input": "2023-02-27T15:57:04.359759Z",
     "iopub.status.busy": "2023-02-27T15:57:04.358640Z",
     "iopub.status.idle": "2023-02-27T15:57:04.683819Z",
     "shell.execute_reply": "2023-02-27T15:57:04.682811Z"
    },
    "papermill": {
     "duration": 0.425655,
     "end_time": "2023-02-27T15:57:04.686669",
     "exception": false,
     "start_time": "2023-02-27T15:57:04.261014",
     "status": "completed"
    },
    "tags": []
   },
   "outputs": [
    {
     "data": {
      "image/png": "[encoded data removed]",
      "text/plain": [
       "<Figure size 1000x1000 with 1 Axes>"
      ]
     },
     "metadata": {},
     "output_type": "display_data"
    }
   ],
   "source": [
    "plot_roc_curve(y_test,y_pred_evaluation_test)"
   ]
  },
  {
   "cell_type": "code",
   "execution_count": 30,
   "id": "162cbb0d",
   "metadata": {
    "execution": {
     "iopub.execute_input": "2023-02-27T15:57:04.884496Z",
     "iopub.status.busy": "2023-02-27T15:57:04.884125Z",
     "iopub.status.idle": "2023-02-27T15:57:04.908375Z",
     "shell.execute_reply": "2023-02-27T15:57:04.907437Z"
    },
    "papermill": {
     "duration": 0.12641,
     "end_time": "2023-02-27T15:57:04.910548",
     "exception": false,
     "start_time": "2023-02-27T15:57:04.784138",
     "status": "completed"
    },
    "tags": []
   },
   "outputs": [],
   "source": [
    "model.save_weights(\"model_weights.h5\")"
   ]
  },
  {
   "cell_type": "code",
   "execution_count": 31,
   "id": "a3e2de26",
   "metadata": {
    "execution": {
     "iopub.execute_input": "2023-02-27T15:57:05.106687Z",
     "iopub.status.busy": "2023-02-27T15:57:05.106008Z",
     "iopub.status.idle": "2023-02-27T15:57:05.132786Z",
     "shell.execute_reply": "2023-02-27T15:57:05.131882Z"
    },
    "papermill": {
     "duration": 0.127599,
     "end_time": "2023-02-27T15:57:05.135003",
     "exception": false,
     "start_time": "2023-02-27T15:57:05.007404",
     "status": "completed"
    },
    "tags": []
   },
   "outputs": [],
   "source": [
    "model.save(\"model.h5\")"
   ]
  }
 ],
 "metadata": {
  "kernelspec": {
   "display_name": "Python 3",
   "language": "python",
   "name": "python3"
  },
  "language_info": {
   "codemirror_mode": {
    "name": "ipython",
    "version": 3
   },
   "file_extension": ".py",
   "mimetype": "text/x-python",
   "name": "python",
   "nbconvert_exporter": "python",
   "pygments_lexer": "ipython3",
   "version": "3.7.12"
  },
  "papermill": {
   "default_parameters": {},
   "duration": 180.847732,
   "end_time": "2023-02-27T15:57:08.786948",
   "environment_variables": {},
   "exception": null,
   "input_path": "__notebook__.ipynb",
   "output_path": "__notebook__.ipynb",
   "parameters": {},
   "start_time": "2023-02-27T15:54:07.939216",
   "version": "2.4.0"
  }
 },
 "nbformat": 4,
 "nbformat_minor": 5
}
