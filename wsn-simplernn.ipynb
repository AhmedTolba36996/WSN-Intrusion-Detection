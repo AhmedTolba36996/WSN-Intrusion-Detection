{
 "cells": [
  {
   "cell_type": "code",
   "execution_count": 1,
   "id": "fc7c6933",
   "metadata": {
    "_cell_guid": "b1076dfc-b9ad-4769-8c92-a6c4dae69d19",
    "_uuid": "8f2839f25d086af736a60e9eeb907d3b93b6e0e5",
    "execution": {
     "iopub.execute_input": "2023-02-28T14:24:38.017794Z",
     "iopub.status.busy": "2023-02-28T14:24:38.016630Z",
     "iopub.status.idle": "2023-02-28T14:24:46.747592Z",
     "shell.execute_reply": "2023-02-28T14:24:46.746302Z"
    },
    "papermill": {
     "duration": 8.743051,
     "end_time": "2023-02-28T14:24:46.750828",
     "exception": false,
     "start_time": "2023-02-28T14:24:38.007777",
     "status": "completed"
    },
    "tags": []
   },
   "outputs": [],
   "source": [
    "# importing required libraries\n",
    "import numpy as np\n",
    "import pandas as pd\n",
    "import pickle # saving and loading trained model\n",
    "from os import path\n",
    "\n",
    "# importing required libraries for normalizing data\n",
    "from sklearn import preprocessing\n",
    "\n",
    "from sklearn.preprocessing import (StandardScaler, OrdinalEncoder,LabelEncoder, MinMaxScaler, OneHotEncoder)\n",
    "from sklearn.preprocessing import Normalizer, MaxAbsScaler , RobustScaler, PowerTransformer\n",
    "\n",
    "# importing library for plotting\n",
    "import matplotlib.pyplot as plt\n",
    "import seaborn as sns\n",
    "\n",
    "from sklearn import metrics\n",
    "from sklearn.metrics import accuracy_score # for calculating accuracy of model\n",
    "from sklearn.model_selection import train_test_split # for splitting the dataset for training and testing\n",
    "from sklearn.metrics import classification_report # for generating a classification report of model\n",
    "\n",
    "from sklearn.metrics import precision_score\n",
    "from sklearn.metrics import recall_score\n",
    "from sklearn.metrics import f1_score\n",
    "\n",
    "from sklearn.metrics import roc_auc_score\n",
    "from sklearn.metrics import roc_curve, auc\n",
    "\n",
    "import tensorflow as tf\n",
    "from tensorflow.keras.utils import to_categorical\n",
    "\n",
    "from keras.layers import Dense, Conv1D, MaxPool1D, Flatten, Dropout , Bidirectional , SimpleRNN # importing dense layer\n",
    "from keras.layers import Convolution1D, Dense, Dropout, Flatten, MaxPooling1D\n",
    "from keras.models import Sequential #importing Sequential layer\n",
    "from keras.layers import Input\n",
    "from keras.models import Model\n",
    "from tensorflow.keras import layers\n",
    "# representation of model layers\n",
    "from keras.utils.vis_utils import plot_model\n",
    "\n",
    "import itertools\n",
    "from itertools import cycle"
   ]
  },
  {
   "cell_type": "code",
   "execution_count": 2,
   "id": "28e6b9a7",
   "metadata": {
    "execution": {
     "iopub.execute_input": "2023-02-28T14:24:46.763146Z",
     "iopub.status.busy": "2023-02-28T14:24:46.762536Z",
     "iopub.status.idle": "2023-02-28T14:24:47.655234Z",
     "shell.execute_reply": "2023-02-28T14:24:47.654109Z"
    },
    "papermill": {
     "duration": 0.902299,
     "end_time": "2023-02-28T14:24:47.658425",
     "exception": false,
     "start_time": "2023-02-28T14:24:46.756126",
     "status": "completed"
    },
    "tags": []
   },
   "outputs": [],
   "source": [
    "data = pd.read_csv(\"/kaggle/input/wsnds/WSN-DS.csv\")"
   ]
  },
  {
   "cell_type": "code",
   "execution_count": 3,
   "id": "48c119f7",
   "metadata": {
    "execution": {
     "iopub.execute_input": "2023-02-28T14:24:47.670711Z",
     "iopub.status.busy": "2023-02-28T14:24:47.670400Z",
     "iopub.status.idle": "2023-02-28T14:24:47.696838Z",
     "shell.execute_reply": "2023-02-28T14:24:47.695519Z"
    },
    "papermill": {
     "duration": 0.035512,
     "end_time": "2023-02-28T14:24:47.699328",
     "exception": false,
     "start_time": "2023-02-28T14:24:47.663816",
     "status": "completed"
    },
    "tags": []
   },
   "outputs": [
    {
     "data": {
      "text/html": [
       "<div>\n",
       "<style scoped>\n",
       "    .dataframe tbody tr th:only-of-type {\n",
       "        vertical-align: middle;\n",
       "    }\n",
       "\n",
       "    .dataframe tbody tr th {\n",
       "        vertical-align: top;\n",
       "    }\n",
       "\n",
       "    .dataframe thead th {\n",
       "        text-align: right;\n",
       "    }\n",
       "</style>\n",
       "<table border=\"1\" class=\"dataframe\">\n",
       "  <thead>\n",
       "    <tr style=\"text-align: right;\">\n",
       "      <th></th>\n",
       "      <th>id</th>\n",
       "      <th>Time</th>\n",
       "      <th>Is_CH</th>\n",
       "      <th>who CH</th>\n",
       "      <th>Dist_To_CH</th>\n",
       "      <th>ADV_S</th>\n",
       "      <th>ADV_R</th>\n",
       "      <th>JOIN_S</th>\n",
       "      <th>JOIN_R</th>\n",
       "      <th>SCH_S</th>\n",
       "      <th>SCH_R</th>\n",
       "      <th>Rank</th>\n",
       "      <th>DATA_S</th>\n",
       "      <th>DATA_R</th>\n",
       "      <th>Data_Sent_To_BS</th>\n",
       "      <th>dist_CH_To_BS</th>\n",
       "      <th>send_code</th>\n",
       "      <th>Expaned Energy</th>\n",
       "      <th>Attack type</th>\n",
       "    </tr>\n",
       "  </thead>\n",
       "  <tbody>\n",
       "    <tr>\n",
       "      <th>0</th>\n",
       "      <td>101000</td>\n",
       "      <td>50</td>\n",
       "      <td>1</td>\n",
       "      <td>101000</td>\n",
       "      <td>0.00000</td>\n",
       "      <td>1</td>\n",
       "      <td>0</td>\n",
       "      <td>0</td>\n",
       "      <td>25</td>\n",
       "      <td>1</td>\n",
       "      <td>0</td>\n",
       "      <td>0</td>\n",
       "      <td>0</td>\n",
       "      <td>1200</td>\n",
       "      <td>48</td>\n",
       "      <td>130.08535</td>\n",
       "      <td>0</td>\n",
       "      <td>2.46940</td>\n",
       "      <td>Normal</td>\n",
       "    </tr>\n",
       "    <tr>\n",
       "      <th>1</th>\n",
       "      <td>101001</td>\n",
       "      <td>50</td>\n",
       "      <td>0</td>\n",
       "      <td>101044</td>\n",
       "      <td>75.32345</td>\n",
       "      <td>0</td>\n",
       "      <td>4</td>\n",
       "      <td>1</td>\n",
       "      <td>0</td>\n",
       "      <td>0</td>\n",
       "      <td>1</td>\n",
       "      <td>2</td>\n",
       "      <td>38</td>\n",
       "      <td>0</td>\n",
       "      <td>0</td>\n",
       "      <td>0.00000</td>\n",
       "      <td>4</td>\n",
       "      <td>0.06957</td>\n",
       "      <td>Normal</td>\n",
       "    </tr>\n",
       "    <tr>\n",
       "      <th>2</th>\n",
       "      <td>101002</td>\n",
       "      <td>50</td>\n",
       "      <td>0</td>\n",
       "      <td>101010</td>\n",
       "      <td>46.95453</td>\n",
       "      <td>0</td>\n",
       "      <td>4</td>\n",
       "      <td>1</td>\n",
       "      <td>0</td>\n",
       "      <td>0</td>\n",
       "      <td>1</td>\n",
       "      <td>19</td>\n",
       "      <td>41</td>\n",
       "      <td>0</td>\n",
       "      <td>0</td>\n",
       "      <td>0.00000</td>\n",
       "      <td>3</td>\n",
       "      <td>0.06898</td>\n",
       "      <td>Normal</td>\n",
       "    </tr>\n",
       "    <tr>\n",
       "      <th>3</th>\n",
       "      <td>101003</td>\n",
       "      <td>50</td>\n",
       "      <td>0</td>\n",
       "      <td>101044</td>\n",
       "      <td>64.85231</td>\n",
       "      <td>0</td>\n",
       "      <td>4</td>\n",
       "      <td>1</td>\n",
       "      <td>0</td>\n",
       "      <td>0</td>\n",
       "      <td>1</td>\n",
       "      <td>16</td>\n",
       "      <td>38</td>\n",
       "      <td>0</td>\n",
       "      <td>0</td>\n",
       "      <td>0.00000</td>\n",
       "      <td>4</td>\n",
       "      <td>0.06673</td>\n",
       "      <td>Normal</td>\n",
       "    </tr>\n",
       "    <tr>\n",
       "      <th>4</th>\n",
       "      <td>101004</td>\n",
       "      <td>50</td>\n",
       "      <td>0</td>\n",
       "      <td>101010</td>\n",
       "      <td>4.83341</td>\n",
       "      <td>0</td>\n",
       "      <td>4</td>\n",
       "      <td>1</td>\n",
       "      <td>0</td>\n",
       "      <td>0</td>\n",
       "      <td>1</td>\n",
       "      <td>25</td>\n",
       "      <td>41</td>\n",
       "      <td>0</td>\n",
       "      <td>0</td>\n",
       "      <td>0.00000</td>\n",
       "      <td>3</td>\n",
       "      <td>0.06534</td>\n",
       "      <td>Normal</td>\n",
       "    </tr>\n",
       "  </tbody>\n",
       "</table>\n",
       "</div>"
      ],
      "text/plain": [
       "       id   Time   Is_CH   who CH   Dist_To_CH   ADV_S   ADV_R   JOIN_S  \\\n",
       "0  101000     50       1   101000      0.00000       1       0        0   \n",
       "1  101001     50       0   101044     75.32345       0       4        1   \n",
       "2  101002     50       0   101010     46.95453       0       4        1   \n",
       "3  101003     50       0   101044     64.85231       0       4        1   \n",
       "4  101004     50       0   101010      4.83341       0       4        1   \n",
       "\n",
       "    JOIN_R   SCH_S   SCH_R  Rank   DATA_S   DATA_R   Data_Sent_To_BS  \\\n",
       "0       25       1       0     0        0     1200                48   \n",
       "1        0       0       1     2       38        0                 0   \n",
       "2        0       0       1    19       41        0                 0   \n",
       "3        0       0       1    16       38        0                 0   \n",
       "4        0       0       1    25       41        0                 0   \n",
       "\n",
       "    dist_CH_To_BS   send_code   Expaned Energy Attack type  \n",
       "0       130.08535            0         2.46940      Normal  \n",
       "1         0.00000            4         0.06957      Normal  \n",
       "2         0.00000            3         0.06898      Normal  \n",
       "3         0.00000            4         0.06673      Normal  \n",
       "4         0.00000            3         0.06534      Normal  "
      ]
     },
     "execution_count": 3,
     "metadata": {},
     "output_type": "execute_result"
    }
   ],
   "source": [
    "data.head()"
   ]
  },
  {
   "cell_type": "code",
   "execution_count": 4,
   "id": "0a8f8ba4",
   "metadata": {
    "execution": {
     "iopub.execute_input": "2023-02-28T14:24:47.714509Z",
     "iopub.status.busy": "2023-02-28T14:24:47.712806Z",
     "iopub.status.idle": "2023-02-28T14:24:47.719960Z",
     "shell.execute_reply": "2023-02-28T14:24:47.719035Z"
    },
    "papermill": {
     "duration": 0.016263,
     "end_time": "2023-02-28T14:24:47.722117",
     "exception": false,
     "start_time": "2023-02-28T14:24:47.705854",
     "status": "completed"
    },
    "tags": []
   },
   "outputs": [
    {
     "data": {
      "text/plain": [
       "(374661, 19)"
      ]
     },
     "execution_count": 4,
     "metadata": {},
     "output_type": "execute_result"
    }
   ],
   "source": [
    "data.shape"
   ]
  },
  {
   "cell_type": "code",
   "execution_count": 5,
   "id": "906a6a13",
   "metadata": {
    "execution": {
     "iopub.execute_input": "2023-02-28T14:24:47.734408Z",
     "iopub.status.busy": "2023-02-28T14:24:47.734109Z",
     "iopub.status.idle": "2023-02-28T14:24:47.780559Z",
     "shell.execute_reply": "2023-02-28T14:24:47.778869Z"
    },
    "papermill": {
     "duration": 0.055365,
     "end_time": "2023-02-28T14:24:47.783060",
     "exception": false,
     "start_time": "2023-02-28T14:24:47.727695",
     "status": "completed"
    },
    "tags": []
   },
   "outputs": [
    {
     "name": "stdout",
     "output_type": "stream",
     "text": [
      "<class 'pandas.core.frame.DataFrame'>\n",
      "RangeIndex: 374661 entries, 0 to 374660\n",
      "Data columns (total 19 columns):\n",
      " #   Column            Non-Null Count   Dtype  \n",
      "---  ------            --------------   -----  \n",
      " 0    id               374661 non-null  int64  \n",
      " 1    Time             374661 non-null  int64  \n",
      " 2    Is_CH            374661 non-null  int64  \n",
      " 3    who CH           374661 non-null  int64  \n",
      " 4    Dist_To_CH       374661 non-null  float64\n",
      " 5    ADV_S            374661 non-null  int64  \n",
      " 6    ADV_R            374661 non-null  int64  \n",
      " 7    JOIN_S           374661 non-null  int64  \n",
      " 8    JOIN_R           374661 non-null  int64  \n",
      " 9    SCH_S            374661 non-null  int64  \n",
      " 10   SCH_R            374661 non-null  int64  \n",
      " 11  Rank              374661 non-null  int64  \n",
      " 12   DATA_S           374661 non-null  int64  \n",
      " 13   DATA_R           374661 non-null  int64  \n",
      " 14   Data_Sent_To_BS  374661 non-null  int64  \n",
      " 15   dist_CH_To_BS    374661 non-null  float64\n",
      " 16   send_code        374661 non-null  int64  \n",
      " 17  Expaned Energy    374661 non-null  float64\n",
      " 18  Attack type       374661 non-null  object \n",
      "dtypes: float64(3), int64(15), object(1)\n",
      "memory usage: 54.3+ MB\n"
     ]
    }
   ],
   "source": [
    "data.info()"
   ]
  },
  {
   "cell_type": "code",
   "execution_count": 6,
   "id": "263a2f42",
   "metadata": {
    "execution": {
     "iopub.execute_input": "2023-02-28T14:24:47.796273Z",
     "iopub.status.busy": "2023-02-28T14:24:47.795937Z",
     "iopub.status.idle": "2023-02-28T14:24:47.821361Z",
     "shell.execute_reply": "2023-02-28T14:24:47.820345Z"
    },
    "papermill": {
     "duration": 0.034168,
     "end_time": "2023-02-28T14:24:47.823561",
     "exception": false,
     "start_time": "2023-02-28T14:24:47.789393",
     "status": "completed"
    },
    "tags": []
   },
   "outputs": [
    {
     "data": {
      "text/plain": [
       "Normal       340066\n",
       "Grayhole      14596\n",
       "Blackhole     10049\n",
       "TDMA           6638\n",
       "Flooding       3312\n",
       "Name: Attack type, dtype: int64"
      ]
     },
     "execution_count": 6,
     "metadata": {},
     "output_type": "execute_result"
    }
   ],
   "source": [
    "data['Attack type'].value_counts()"
   ]
  },
  {
   "cell_type": "code",
   "execution_count": 7,
   "id": "767fafc9",
   "metadata": {
    "execution": {
     "iopub.execute_input": "2023-02-28T14:24:47.836473Z",
     "iopub.status.busy": "2023-02-28T14:24:47.836113Z",
     "iopub.status.idle": "2023-02-28T14:24:48.116123Z",
     "shell.execute_reply": "2023-02-28T14:24:48.115093Z"
    },
    "papermill": {
     "duration": 0.289936,
     "end_time": "2023-02-28T14:24:48.119404",
     "exception": false,
     "start_time": "2023-02-28T14:24:47.829468",
     "status": "completed"
    },
    "tags": []
   },
   "outputs": [
    {
     "data": {
      "text/html": [
       "<div>\n",
       "<style scoped>\n",
       "    .dataframe tbody tr th:only-of-type {\n",
       "        vertical-align: middle;\n",
       "    }\n",
       "\n",
       "    .dataframe tbody tr th {\n",
       "        vertical-align: top;\n",
       "    }\n",
       "\n",
       "    .dataframe thead th {\n",
       "        text-align: right;\n",
       "    }\n",
       "</style>\n",
       "<table border=\"1\" class=\"dataframe\">\n",
       "  <thead>\n",
       "    <tr style=\"text-align: right;\">\n",
       "      <th></th>\n",
       "      <th>count</th>\n",
       "      <th>mean</th>\n",
       "      <th>std</th>\n",
       "      <th>min</th>\n",
       "      <th>25%</th>\n",
       "      <th>50%</th>\n",
       "      <th>75%</th>\n",
       "      <th>max</th>\n",
       "    </tr>\n",
       "  </thead>\n",
       "  <tbody>\n",
       "    <tr>\n",
       "      <th>id</th>\n",
       "      <td>374661.0</td>\n",
       "      <td>274969.325879</td>\n",
       "      <td>389898.554898</td>\n",
       "      <td>101000.0</td>\n",
       "      <td>107093.00000</td>\n",
       "      <td>116071.00000</td>\n",
       "      <td>215072.00000</td>\n",
       "      <td>3.402096e+06</td>\n",
       "    </tr>\n",
       "    <tr>\n",
       "      <th>Time</th>\n",
       "      <td>374661.0</td>\n",
       "      <td>1064.748712</td>\n",
       "      <td>899.646164</td>\n",
       "      <td>50.0</td>\n",
       "      <td>353.00000</td>\n",
       "      <td>803.00000</td>\n",
       "      <td>1503.00000</td>\n",
       "      <td>3.600000e+03</td>\n",
       "    </tr>\n",
       "    <tr>\n",
       "      <th>Is_CH</th>\n",
       "      <td>374661.0</td>\n",
       "      <td>0.115766</td>\n",
       "      <td>0.319945</td>\n",
       "      <td>0.0</td>\n",
       "      <td>0.00000</td>\n",
       "      <td>0.00000</td>\n",
       "      <td>0.00000</td>\n",
       "      <td>1.000000e+00</td>\n",
       "    </tr>\n",
       "    <tr>\n",
       "      <th>who CH</th>\n",
       "      <td>374661.0</td>\n",
       "      <td>274980.411108</td>\n",
       "      <td>389911.221735</td>\n",
       "      <td>101000.0</td>\n",
       "      <td>107096.00000</td>\n",
       "      <td>116072.00000</td>\n",
       "      <td>215073.00000</td>\n",
       "      <td>3.402100e+06</td>\n",
       "    </tr>\n",
       "    <tr>\n",
       "      <th>Dist_To_CH</th>\n",
       "      <td>374661.0</td>\n",
       "      <td>22.599380</td>\n",
       "      <td>21.955794</td>\n",
       "      <td>0.0</td>\n",
       "      <td>4.73544</td>\n",
       "      <td>18.37261</td>\n",
       "      <td>33.77600</td>\n",
       "      <td>2.142746e+02</td>\n",
       "    </tr>\n",
       "    <tr>\n",
       "      <th>ADV_S</th>\n",
       "      <td>374661.0</td>\n",
       "      <td>0.267698</td>\n",
       "      <td>2.061148</td>\n",
       "      <td>0.0</td>\n",
       "      <td>0.00000</td>\n",
       "      <td>0.00000</td>\n",
       "      <td>0.00000</td>\n",
       "      <td>9.700000e+01</td>\n",
       "    </tr>\n",
       "    <tr>\n",
       "      <th>ADV_R</th>\n",
       "      <td>374661.0</td>\n",
       "      <td>6.940562</td>\n",
       "      <td>7.044319</td>\n",
       "      <td>0.0</td>\n",
       "      <td>3.00000</td>\n",
       "      <td>5.00000</td>\n",
       "      <td>7.00000</td>\n",
       "      <td>1.170000e+02</td>\n",
       "    </tr>\n",
       "    <tr>\n",
       "      <th>JOIN_S</th>\n",
       "      <td>374661.0</td>\n",
       "      <td>0.779905</td>\n",
       "      <td>0.414311</td>\n",
       "      <td>0.0</td>\n",
       "      <td>1.00000</td>\n",
       "      <td>1.00000</td>\n",
       "      <td>1.00000</td>\n",
       "      <td>1.000000e+00</td>\n",
       "    </tr>\n",
       "    <tr>\n",
       "      <th>JOIN_R</th>\n",
       "      <td>374661.0</td>\n",
       "      <td>0.737493</td>\n",
       "      <td>4.691498</td>\n",
       "      <td>0.0</td>\n",
       "      <td>0.00000</td>\n",
       "      <td>0.00000</td>\n",
       "      <td>0.00000</td>\n",
       "      <td>1.240000e+02</td>\n",
       "    </tr>\n",
       "    <tr>\n",
       "      <th>SCH_S</th>\n",
       "      <td>374661.0</td>\n",
       "      <td>0.288984</td>\n",
       "      <td>2.754746</td>\n",
       "      <td>0.0</td>\n",
       "      <td>0.00000</td>\n",
       "      <td>0.00000</td>\n",
       "      <td>0.00000</td>\n",
       "      <td>9.900000e+01</td>\n",
       "    </tr>\n",
       "    <tr>\n",
       "      <th>SCH_R</th>\n",
       "      <td>374661.0</td>\n",
       "      <td>0.747452</td>\n",
       "      <td>0.434475</td>\n",
       "      <td>0.0</td>\n",
       "      <td>0.00000</td>\n",
       "      <td>1.00000</td>\n",
       "      <td>1.00000</td>\n",
       "      <td>1.000000e+00</td>\n",
       "    </tr>\n",
       "    <tr>\n",
       "      <th>Rank</th>\n",
       "      <td>374661.0</td>\n",
       "      <td>9.687104</td>\n",
       "      <td>14.681901</td>\n",
       "      <td>0.0</td>\n",
       "      <td>1.00000</td>\n",
       "      <td>3.00000</td>\n",
       "      <td>13.00000</td>\n",
       "      <td>9.900000e+01</td>\n",
       "    </tr>\n",
       "    <tr>\n",
       "      <th>DATA_S</th>\n",
       "      <td>374661.0</td>\n",
       "      <td>44.857925</td>\n",
       "      <td>42.574464</td>\n",
       "      <td>0.0</td>\n",
       "      <td>13.00000</td>\n",
       "      <td>35.00000</td>\n",
       "      <td>62.00000</td>\n",
       "      <td>2.410000e+02</td>\n",
       "    </tr>\n",
       "    <tr>\n",
       "      <th>DATA_R</th>\n",
       "      <td>374661.0</td>\n",
       "      <td>73.890045</td>\n",
       "      <td>230.246335</td>\n",
       "      <td>0.0</td>\n",
       "      <td>0.00000</td>\n",
       "      <td>0.00000</td>\n",
       "      <td>0.00000</td>\n",
       "      <td>1.496000e+03</td>\n",
       "    </tr>\n",
       "    <tr>\n",
       "      <th>Data_Sent_To_BS</th>\n",
       "      <td>374661.0</td>\n",
       "      <td>4.569448</td>\n",
       "      <td>19.679155</td>\n",
       "      <td>0.0</td>\n",
       "      <td>0.00000</td>\n",
       "      <td>0.00000</td>\n",
       "      <td>0.00000</td>\n",
       "      <td>2.410000e+02</td>\n",
       "    </tr>\n",
       "    <tr>\n",
       "      <th>dist_CH_To_BS</th>\n",
       "      <td>374661.0</td>\n",
       "      <td>22.562735</td>\n",
       "      <td>50.261604</td>\n",
       "      <td>0.0</td>\n",
       "      <td>0.00000</td>\n",
       "      <td>0.00000</td>\n",
       "      <td>0.00000</td>\n",
       "      <td>2.019349e+02</td>\n",
       "    </tr>\n",
       "    <tr>\n",
       "      <th>send_code</th>\n",
       "      <td>374661.0</td>\n",
       "      <td>2.497957</td>\n",
       "      <td>2.407337</td>\n",
       "      <td>0.0</td>\n",
       "      <td>1.00000</td>\n",
       "      <td>2.00000</td>\n",
       "      <td>4.00000</td>\n",
       "      <td>1.500000e+01</td>\n",
       "    </tr>\n",
       "    <tr>\n",
       "      <th>Expaned Energy</th>\n",
       "      <td>374661.0</td>\n",
       "      <td>0.305661</td>\n",
       "      <td>0.669462</td>\n",
       "      <td>0.0</td>\n",
       "      <td>0.05615</td>\n",
       "      <td>0.09797</td>\n",
       "      <td>0.21776</td>\n",
       "      <td>4.509394e+01</td>\n",
       "    </tr>\n",
       "  </tbody>\n",
       "</table>\n",
       "</div>"
      ],
      "text/plain": [
       "                     count           mean            std       min  \\\n",
       " id               374661.0  274969.325879  389898.554898  101000.0   \n",
       " Time             374661.0    1064.748712     899.646164      50.0   \n",
       " Is_CH            374661.0       0.115766       0.319945       0.0   \n",
       " who CH           374661.0  274980.411108  389911.221735  101000.0   \n",
       " Dist_To_CH       374661.0      22.599380      21.955794       0.0   \n",
       " ADV_S            374661.0       0.267698       2.061148       0.0   \n",
       " ADV_R            374661.0       6.940562       7.044319       0.0   \n",
       " JOIN_S           374661.0       0.779905       0.414311       0.0   \n",
       " JOIN_R           374661.0       0.737493       4.691498       0.0   \n",
       " SCH_S            374661.0       0.288984       2.754746       0.0   \n",
       " SCH_R            374661.0       0.747452       0.434475       0.0   \n",
       "Rank              374661.0       9.687104      14.681901       0.0   \n",
       " DATA_S           374661.0      44.857925      42.574464       0.0   \n",
       " DATA_R           374661.0      73.890045     230.246335       0.0   \n",
       " Data_Sent_To_BS  374661.0       4.569448      19.679155       0.0   \n",
       " dist_CH_To_BS    374661.0      22.562735      50.261604       0.0   \n",
       " send_code        374661.0       2.497957       2.407337       0.0   \n",
       "Expaned Energy    374661.0       0.305661       0.669462       0.0   \n",
       "\n",
       "                           25%           50%           75%           max  \n",
       " id               107093.00000  116071.00000  215072.00000  3.402096e+06  \n",
       " Time                353.00000     803.00000    1503.00000  3.600000e+03  \n",
       " Is_CH                 0.00000       0.00000       0.00000  1.000000e+00  \n",
       " who CH           107096.00000  116072.00000  215073.00000  3.402100e+06  \n",
       " Dist_To_CH            4.73544      18.37261      33.77600  2.142746e+02  \n",
       " ADV_S                 0.00000       0.00000       0.00000  9.700000e+01  \n",
       " ADV_R                 3.00000       5.00000       7.00000  1.170000e+02  \n",
       " JOIN_S                1.00000       1.00000       1.00000  1.000000e+00  \n",
       " JOIN_R                0.00000       0.00000       0.00000  1.240000e+02  \n",
       " SCH_S                 0.00000       0.00000       0.00000  9.900000e+01  \n",
       " SCH_R                 0.00000       1.00000       1.00000  1.000000e+00  \n",
       "Rank                   1.00000       3.00000      13.00000  9.900000e+01  \n",
       " DATA_S               13.00000      35.00000      62.00000  2.410000e+02  \n",
       " DATA_R                0.00000       0.00000       0.00000  1.496000e+03  \n",
       " Data_Sent_To_BS       0.00000       0.00000       0.00000  2.410000e+02  \n",
       " dist_CH_To_BS         0.00000       0.00000       0.00000  2.019349e+02  \n",
       " send_code             1.00000       2.00000       4.00000  1.500000e+01  \n",
       "Expaned Energy         0.05615       0.09797       0.21776  4.509394e+01  "
      ]
     },
     "execution_count": 7,
     "metadata": {},
     "output_type": "execute_result"
    }
   ],
   "source": [
    "data.describe().T"
   ]
  },
  {
   "cell_type": "code",
   "execution_count": 8,
   "id": "ab5dc3e5",
   "metadata": {
    "execution": {
     "iopub.execute_input": "2023-02-28T14:24:48.141943Z",
     "iopub.status.busy": "2023-02-28T14:24:48.141433Z",
     "iopub.status.idle": "2023-02-28T14:24:48.349904Z",
     "shell.execute_reply": "2023-02-28T14:24:48.348687Z"
    },
    "papermill": {
     "duration": 0.223441,
     "end_time": "2023-02-28T14:24:48.353538",
     "exception": false,
     "start_time": "2023-02-28T14:24:48.130097",
     "status": "completed"
    },
    "tags": []
   },
   "outputs": [],
   "source": [
    "# using standard scaler for normalizing\n",
    "std_scaler = StandardScaler()\n",
    "def standardization(df,col):\n",
    "  for i in col:\n",
    "    arr = df[i]\n",
    "    arr = np.array(arr)\n",
    "    df[i] = std_scaler.fit_transform(arr.reshape(len(arr),1))\n",
    "  return df\n",
    "\n",
    "numeric_col = data.select_dtypes(include='number').columns\n",
    "data = standardization(data,numeric_col)"
   ]
  },
  {
   "cell_type": "code",
   "execution_count": 9,
   "id": "4e64bf3e",
   "metadata": {
    "execution": {
     "iopub.execute_input": "2023-02-28T14:24:48.374818Z",
     "iopub.status.busy": "2023-02-28T14:24:48.374326Z",
     "iopub.status.idle": "2023-02-28T14:24:48.419293Z",
     "shell.execute_reply": "2023-02-28T14:24:48.418332Z"
    },
    "papermill": {
     "duration": 0.058066,
     "end_time": "2023-02-28T14:24:48.422011",
     "exception": false,
     "start_time": "2023-02-28T14:24:48.363945",
     "status": "completed"
    },
    "tags": []
   },
   "outputs": [],
   "source": [
    "# label encoding (0,1,2,3,4) m.applylti-class labels (Normal,Grayhole,Blackhole,TDMA,Flooding)\n",
    "    \n",
    "classes = {'Normal':0 ,'Grayhole':1,'Blackhole':2,'TDMA':3,'Flooding':4}\n",
    "\n",
    "data['Attack type'] = data['Attack type'].map( classes ).astype(int)\n"
   ]
  },
  {
   "cell_type": "code",
   "execution_count": 10,
   "id": "aaf00021",
   "metadata": {
    "execution": {
     "iopub.execute_input": "2023-02-28T14:24:48.441908Z",
     "iopub.status.busy": "2023-02-28T14:24:48.441563Z",
     "iopub.status.idle": "2023-02-28T14:24:48.511394Z",
     "shell.execute_reply": "2023-02-28T14:24:48.510216Z"
    },
    "papermill": {
     "duration": 0.083069,
     "end_time": "2023-02-28T14:24:48.514697",
     "exception": false,
     "start_time": "2023-02-28T14:24:48.431628",
     "status": "completed"
    },
    "tags": []
   },
   "outputs": [],
   "source": [
    "X = data.drop(['Attack type'] , axis=1)\n",
    "y = data['Attack type']"
   ]
  },
  {
   "cell_type": "code",
   "execution_count": 11,
   "id": "a46dcf92",
   "metadata": {
    "execution": {
     "iopub.execute_input": "2023-02-28T14:24:48.535867Z",
     "iopub.status.busy": "2023-02-28T14:24:48.535473Z",
     "iopub.status.idle": "2023-02-28T14:24:48.595854Z",
     "shell.execute_reply": "2023-02-28T14:24:48.594773Z"
    },
    "papermill": {
     "duration": 0.074313,
     "end_time": "2023-02-28T14:24:48.598840",
     "exception": false,
     "start_time": "2023-02-28T14:24:48.524527",
     "status": "completed"
    },
    "tags": []
   },
   "outputs": [],
   "source": [
    "from sklearn.preprocessing import LabelBinarizer\n",
    "\n",
    "y = LabelBinarizer().fit_transform(y)"
   ]
  },
  {
   "cell_type": "code",
   "execution_count": 12,
   "id": "adabcd7f",
   "metadata": {
    "execution": {
     "iopub.execute_input": "2023-02-28T14:24:48.613288Z",
     "iopub.status.busy": "2023-02-28T14:24:48.612965Z",
     "iopub.status.idle": "2023-02-28T14:24:48.642710Z",
     "shell.execute_reply": "2023-02-28T14:24:48.641733Z"
    },
    "papermill": {
     "duration": 0.03958,
     "end_time": "2023-02-28T14:24:48.645018",
     "exception": false,
     "start_time": "2023-02-28T14:24:48.605438",
     "status": "completed"
    },
    "tags": []
   },
   "outputs": [],
   "source": [
    "X=np.array(X)\n",
    "y=np.array(y)"
   ]
  },
  {
   "cell_type": "code",
   "execution_count": 13,
   "id": "233cf381",
   "metadata": {
    "execution": {
     "iopub.execute_input": "2023-02-28T14:24:48.659939Z",
     "iopub.status.busy": "2023-02-28T14:24:48.659362Z",
     "iopub.status.idle": "2023-02-28T14:24:48.792698Z",
     "shell.execute_reply": "2023-02-28T14:24:48.791611Z"
    },
    "papermill": {
     "duration": 0.143432,
     "end_time": "2023-02-28T14:24:48.795214",
     "exception": false,
     "start_time": "2023-02-28T14:24:48.651782",
     "status": "completed"
    },
    "tags": []
   },
   "outputs": [],
   "source": [
    "# splitting the dataset 67% for training and 33% testing and evaluating\n",
    "X_train, X_temp, y_train, y_temp = train_test_split(X,y, test_size=0.33, random_state=42)\n",
    "\n",
    "X_test, X_val, y_test, y_val = train_test_split(X_temp,y_temp, test_size=0.5, random_state=42)"
   ]
  },
  {
   "cell_type": "code",
   "execution_count": 14,
   "id": "ebce4d23",
   "metadata": {
    "execution": {
     "iopub.execute_input": "2023-02-28T14:24:48.811466Z",
     "iopub.status.busy": "2023-02-28T14:24:48.810430Z",
     "iopub.status.idle": "2023-02-28T14:24:48.816643Z",
     "shell.execute_reply": "2023-02-28T14:24:48.815530Z"
    },
    "papermill": {
     "duration": 0.016118,
     "end_time": "2023-02-28T14:24:48.818839",
     "exception": false,
     "start_time": "2023-02-28T14:24:48.802721",
     "status": "completed"
    },
    "tags": []
   },
   "outputs": [],
   "source": [
    "X_train = np.reshape(X_train, (X_train.shape[0], X_train.shape[1], 1))\n",
    "X_test = np.reshape(X_test, (X_test.shape[0], X_test.shape[1], 1))\n",
    "X_val = np.reshape(X_val, (X_val.shape[0], X_val.shape[1], 1))"
   ]
  },
  {
   "cell_type": "code",
   "execution_count": 15,
   "id": "774df31b",
   "metadata": {
    "execution": {
     "iopub.execute_input": "2023-02-28T14:24:48.832727Z",
     "iopub.status.busy": "2023-02-28T14:24:48.832441Z",
     "iopub.status.idle": "2023-02-28T14:24:51.636391Z",
     "shell.execute_reply": "2023-02-28T14:24:51.635392Z"
    },
    "papermill": {
     "duration": 2.814142,
     "end_time": "2023-02-28T14:24:51.639129",
     "exception": false,
     "start_time": "2023-02-28T14:24:48.824987",
     "status": "completed"
    },
    "tags": []
   },
   "outputs": [],
   "source": [
    "model = Sequential()\n",
    "model.add(SimpleRNN(100, return_sequences=True, input_shape=(X_train.shape[1], X_train.shape[2])))\n",
    "model.add(Flatten())\n",
    "model.add(Dense(256,activation='relu'))\n",
    "model.add(Dropout(.4))\n",
    "model.add(Dense(5,activation='softmax'))"
   ]
  },
  {
   "cell_type": "code",
   "execution_count": 16,
   "id": "296561a8",
   "metadata": {
    "execution": {
     "iopub.execute_input": "2023-02-28T14:24:51.654058Z",
     "iopub.status.busy": "2023-02-28T14:24:51.653762Z",
     "iopub.status.idle": "2023-02-28T14:24:51.679995Z",
     "shell.execute_reply": "2023-02-28T14:24:51.679196Z"
    },
    "papermill": {
     "duration": 0.04587,
     "end_time": "2023-02-28T14:24:51.691895",
     "exception": false,
     "start_time": "2023-02-28T14:24:51.646025",
     "status": "completed"
    },
    "tags": []
   },
   "outputs": [
    {
     "name": "stdout",
     "output_type": "stream",
     "text": [
      "Model: \"sequential\"\n",
      "_________________________________________________________________\n",
      " Layer (type)                Output Shape              Param #   \n",
      "=================================================================\n",
      " simple_rnn (SimpleRNN)      (None, 18, 100)           10200     \n",
      "                                                                 \n",
      " flatten (Flatten)           (None, 1800)              0         \n",
      "                                                                 \n",
      " dense (Dense)               (None, 256)               461056    \n",
      "                                                                 \n",
      " dropout (Dropout)           (None, 256)               0         \n",
      "                                                                 \n",
      " dense_1 (Dense)             (None, 5)                 1285      \n",
      "                                                                 \n",
      "=================================================================\n",
      "Total params: 472,541\n",
      "Trainable params: 472,541\n",
      "Non-trainable params: 0\n",
      "_________________________________________________________________\n"
     ]
    }
   ],
   "source": [
    "model.summary()"
   ]
  },
  {
   "cell_type": "code",
   "execution_count": 17,
   "id": "54833f0b",
   "metadata": {
    "execution": {
     "iopub.execute_input": "2023-02-28T14:24:51.708360Z",
     "iopub.status.busy": "2023-02-28T14:24:51.708077Z",
     "iopub.status.idle": "2023-02-28T14:24:51.725044Z",
     "shell.execute_reply": "2023-02-28T14:24:51.724139Z"
    },
    "papermill": {
     "duration": 0.027737,
     "end_time": "2023-02-28T14:24:51.727219",
     "exception": false,
     "start_time": "2023-02-28T14:24:51.699482",
     "status": "completed"
    },
    "tags": []
   },
   "outputs": [],
   "source": [
    "model.compile(loss=\"categorical_crossentropy\", optimizer=\"adam\",metrics=['accuracy'])"
   ]
  },
  {
   "cell_type": "code",
   "execution_count": 18,
   "id": "2eb06c6e",
   "metadata": {
    "execution": {
     "iopub.execute_input": "2023-02-28T14:24:51.743222Z",
     "iopub.status.busy": "2023-02-28T14:24:51.742938Z",
     "iopub.status.idle": "2023-02-28T14:29:14.997084Z",
     "shell.execute_reply": "2023-02-28T14:29:14.995710Z"
    },
    "papermill": {
     "duration": 263.265657,
     "end_time": "2023-02-28T14:29:15.000170",
     "exception": false,
     "start_time": "2023-02-28T14:24:51.734513",
     "status": "completed"
    },
    "tags": []
   },
   "outputs": [
    {
     "name": "stdout",
     "output_type": "stream",
     "text": [
      "Epoch 1/30\n",
      "503/503 [==============================] - 13s 18ms/step - loss: 0.0683 - accuracy: 0.9714 - val_loss: 0.0435 - val_accuracy: 0.9797\n",
      "Epoch 2/30\n",
      "503/503 [==============================] - 9s 18ms/step - loss: 0.0438 - accuracy: 0.9805 - val_loss: 0.0403 - val_accuracy: 0.9797\n",
      "Epoch 3/30\n",
      "503/503 [==============================] - 9s 19ms/step - loss: 0.0415 - accuracy: 0.9811 - val_loss: 0.0385 - val_accuracy: 0.9821\n",
      "Epoch 4/30\n",
      "503/503 [==============================] - 8s 16ms/step - loss: 0.0407 - accuracy: 0.9813 - val_loss: 0.0385 - val_accuracy: 0.9817\n",
      "Epoch 5/30\n",
      "503/503 [==============================] - 8s 17ms/step - loss: 0.0398 - accuracy: 0.9815 - val_loss: 0.0372 - val_accuracy: 0.9802\n",
      "Epoch 6/30\n",
      "503/503 [==============================] - 9s 18ms/step - loss: 0.0397 - accuracy: 0.9816 - val_loss: 0.0361 - val_accuracy: 0.9819\n",
      "Epoch 7/30\n",
      "503/503 [==============================] - 8s 17ms/step - loss: 0.0390 - accuracy: 0.9819 - val_loss: 0.0356 - val_accuracy: 0.9818\n",
      "Epoch 8/30\n",
      "503/503 [==============================] - 9s 17ms/step - loss: 0.0393 - accuracy: 0.9817 - val_loss: 0.0378 - val_accuracy: 0.9808\n",
      "Epoch 9/30\n",
      "503/503 [==============================] - 8s 16ms/step - loss: 0.0384 - accuracy: 0.9828 - val_loss: 0.0379 - val_accuracy: 0.9826\n",
      "Epoch 10/30\n",
      "503/503 [==============================] - 9s 18ms/step - loss: 0.0376 - accuracy: 0.9832 - val_loss: 0.0334 - val_accuracy: 0.9867\n",
      "Epoch 11/30\n",
      "503/503 [==============================] - 8s 17ms/step - loss: 0.0365 - accuracy: 0.9848 - val_loss: 0.0348 - val_accuracy: 0.9853\n",
      "Epoch 12/30\n",
      "503/503 [==============================] - 8s 17ms/step - loss: 0.0363 - accuracy: 0.9853 - val_loss: 0.0340 - val_accuracy: 0.9867\n",
      "Epoch 13/30\n",
      "503/503 [==============================] - 8s 16ms/step - loss: 0.0351 - accuracy: 0.9862 - val_loss: 0.0340 - val_accuracy: 0.9849\n",
      "Epoch 14/30\n",
      "503/503 [==============================] - 9s 18ms/step - loss: 0.0377 - accuracy: 0.9833 - val_loss: 0.0342 - val_accuracy: 0.9865\n",
      "Epoch 15/30\n",
      "503/503 [==============================] - 9s 17ms/step - loss: 0.0349 - accuracy: 0.9861 - val_loss: 0.0321 - val_accuracy: 0.9866\n",
      "Epoch 16/30\n",
      "503/503 [==============================] - 9s 17ms/step - loss: 0.0345 - accuracy: 0.9863 - val_loss: 0.0319 - val_accuracy: 0.9871\n",
      "Epoch 17/30\n",
      "503/503 [==============================] - 9s 18ms/step - loss: 0.0338 - accuracy: 0.9869 - val_loss: 0.0314 - val_accuracy: 0.9889\n",
      "Epoch 18/30\n",
      "503/503 [==============================] - 8s 16ms/step - loss: 0.0331 - accuracy: 0.9873 - val_loss: 0.0309 - val_accuracy: 0.9879\n",
      "Epoch 19/30\n",
      "503/503 [==============================] - 8s 16ms/step - loss: 0.0327 - accuracy: 0.9876 - val_loss: 0.0312 - val_accuracy: 0.9886\n",
      "Epoch 20/30\n",
      "503/503 [==============================] - 8s 17ms/step - loss: 0.0322 - accuracy: 0.9884 - val_loss: 0.0312 - val_accuracy: 0.9880\n",
      "Epoch 21/30\n",
      "503/503 [==============================] - 9s 18ms/step - loss: 0.0321 - accuracy: 0.9882 - val_loss: 0.0302 - val_accuracy: 0.9887\n",
      "Epoch 22/30\n",
      "503/503 [==============================] - 8s 16ms/step - loss: 0.0317 - accuracy: 0.9881 - val_loss: 0.0296 - val_accuracy: 0.9890\n",
      "Epoch 23/30\n",
      "503/503 [==============================] - 8s 17ms/step - loss: 0.0308 - accuracy: 0.9884 - val_loss: 0.0298 - val_accuracy: 0.9883\n",
      "Epoch 24/30\n",
      "503/503 [==============================] - 8s 16ms/step - loss: 0.0322 - accuracy: 0.9878 - val_loss: 0.0295 - val_accuracy: 0.9884\n",
      "Epoch 25/30\n",
      "503/503 [==============================] - 10s 19ms/step - loss: 0.0313 - accuracy: 0.9885 - val_loss: 0.0288 - val_accuracy: 0.9894\n",
      "Epoch 26/30\n",
      "503/503 [==============================] - 8s 16ms/step - loss: 0.0314 - accuracy: 0.9884 - val_loss: 0.0289 - val_accuracy: 0.9891\n",
      "Epoch 27/30\n",
      "503/503 [==============================] - 8s 15ms/step - loss: 0.0306 - accuracy: 0.9885 - val_loss: 0.0291 - val_accuracy: 0.9885\n",
      "Epoch 28/30\n",
      "503/503 [==============================] - 9s 18ms/step - loss: 0.0302 - accuracy: 0.9888 - val_loss: 0.0293 - val_accuracy: 0.9886\n",
      "Epoch 29/30\n",
      "503/503 [==============================] - 8s 16ms/step - loss: 0.0300 - accuracy: 0.9888 - val_loss: 0.0282 - val_accuracy: 0.9890\n",
      "Epoch 30/30\n",
      "503/503 [==============================] - 8s 16ms/step - loss: 0.0305 - accuracy: 0.9886 - val_loss: 0.0286 - val_accuracy: 0.9890\n"
     ]
    }
   ],
   "source": [
    "history=model.fit(X_train, y_train, epochs=30,verbose=1,batch_size=500,validation_data=(X_val, y_val))"
   ]
  },
  {
   "cell_type": "code",
   "execution_count": 19,
   "id": "858b9bc0",
   "metadata": {
    "execution": {
     "iopub.execute_input": "2023-02-28T14:29:15.476352Z",
     "iopub.status.busy": "2023-02-28T14:29:15.475936Z",
     "iopub.status.idle": "2023-02-28T14:29:16.156414Z",
     "shell.execute_reply": "2023-02-28T14:29:16.155136Z"
    },
    "papermill": {
     "duration": 0.925282,
     "end_time": "2023-02-28T14:29:16.159186",
     "exception": false,
     "start_time": "2023-02-28T14:29:15.233904",
     "status": "completed"
    },
    "tags": []
   },
   "outputs": [
    {
     "name": "stdout",
     "output_type": "stream",
     "text": [
      "124/124 [==============================] - 1s 3ms/step\n"
     ]
    }
   ],
   "source": [
    "y_pred_test = model.predict(X_test, batch_size=500)\n",
    "\n",
    "# For Plot curve\n",
    "y_pred_evaluation_test = to_categorical(np.argmax(y_pred_test, axis=1), 5)\n",
    "\n",
    "# For evaluation\n",
    "y_pred_argmax_test=(np.argmax(y_pred_test, axis=1))\n",
    "\n",
    "y_test_argmax=(np.argmax(y_test, axis=1))"
   ]
  },
  {
   "cell_type": "code",
   "execution_count": 20,
   "id": "4e08aa79",
   "metadata": {
    "execution": {
     "iopub.execute_input": "2023-02-28T14:29:16.656399Z",
     "iopub.status.busy": "2023-02-28T14:29:16.655251Z",
     "iopub.status.idle": "2023-02-28T14:29:16.662541Z",
     "shell.execute_reply": "2023-02-28T14:29:16.661596Z"
    },
    "papermill": {
     "duration": 0.268327,
     "end_time": "2023-02-28T14:29:16.664735",
     "exception": false,
     "start_time": "2023-02-28T14:29:16.396408",
     "status": "completed"
    },
    "tags": []
   },
   "outputs": [],
   "source": [
    "# Calculating Area under the curve\n",
    "def AUC(actual_class, pred_class, average = \"micro\"):\n",
    "    \n",
    "    #Making a set of all the unique classes \n",
    "    unique_class = set(actual_class)\n",
    "    roc_auc_dict = {}\n",
    "    for per_class in unique_class:\n",
    "        \n",
    "        #Making a list of all the classes except the current class \n",
    "        other_class = [x for x in unique_class if x != per_class]\n",
    "\n",
    "        #Making the current class with label 1 and all other classes as a label 0\n",
    "        new_actual_class = [0 if x in other_class else 1 for x in actual_class]\n",
    "        new_pred_class = [0 if x in other_class else 1 for x in pred_class]\n",
    "\n",
    "        # Calculating the roc_auc_score\n",
    "        roc_auc = roc_auc_score(new_actual_class, new_pred_class, average = average)\n",
    "        roc_auc_dict[per_class] = roc_auc\n",
    "\n",
    "    return roc_auc_dict"
   ]
  },
  {
   "cell_type": "code",
   "execution_count": 21,
   "id": "e4cd2b7f",
   "metadata": {
    "execution": {
     "iopub.execute_input": "2023-02-28T14:29:17.125014Z",
     "iopub.status.busy": "2023-02-28T14:29:17.124650Z",
     "iopub.status.idle": "2023-02-28T14:29:17.138140Z",
     "shell.execute_reply": "2023-02-28T14:29:17.137063Z"
    },
    "papermill": {
     "duration": 0.246548,
     "end_time": "2023-02-28T14:29:17.140463",
     "exception": false,
     "start_time": "2023-02-28T14:29:16.893915",
     "status": "completed"
    },
    "tags": []
   },
   "outputs": [],
   "source": [
    "def plot_roc_curve(y_test,y_pred):\n",
    "    n_classes=5\n",
    "    fpr = dict()\n",
    "    tpr = dict()\n",
    "    roc_auc = dict()\n",
    "    for i in range(n_classes):\n",
    "        fpr[i], tpr[i], _ = roc_curve(y_test[:, i], y_pred[:, i])\n",
    "        roc_auc[i] = auc(fpr[i], tpr[i])\n",
    "    fpr[\"micro\"], tpr[\"micro\"], _ = roc_curve(y_test.ravel(), y_pred.ravel())\n",
    "    roc_auc[\"micro\"] = auc(fpr[\"micro\"], tpr[\"micro\"])\n",
    "    lw=2\n",
    "    all_fpr = np.unique(np.concatenate([fpr[i] for i in range(n_classes)]))\n",
    "\n",
    "    mean_tpr = np.zeros_like(all_fpr)\n",
    "    for i in range(n_classes):\n",
    "        mean_tpr += np.interp(all_fpr, fpr[i], tpr[i])\n",
    "\n",
    "    mean_tpr /= n_classes\n",
    "\n",
    "    fpr[\"macro\"] = all_fpr\n",
    "    tpr[\"macro\"] = mean_tpr\n",
    "    roc_auc[\"macro\"] = auc(fpr[\"macro\"], tpr[\"macro\"])\n",
    "\n",
    "# Plot all ROC curves\n",
    "    plt.figure(figsize=(10, 10))\n",
    "    plt.plot(fpr[\"micro\"],\n",
    "    tpr[\"micro\"],\n",
    "    label=\"micro-average ROC curve (area = {0:0.2f})\".format(roc_auc[\"micro\"]),\n",
    "    color=\"deeppink\",\n",
    "    linestyle=\":\",\n",
    "    linewidth=4,)\n",
    "\n",
    "    plt.plot(fpr[\"macro\"],\n",
    "    tpr[\"macro\"],\n",
    "    label=\"macro-average ROC curve (area = {0:0.2f})\".format(roc_auc[\"macro\"]),\n",
    "    color=\"navy\",\n",
    "    linestyle=\":\",\n",
    "    linewidth=4,\n",
    ")\n",
    "\n",
    "    colors = cycle([\"aqua\", \"darkorange\", \"cornflowerblue\"])\n",
    "    for i, color in zip(range(n_classes), colors):\n",
    "        plt.plot(\n",
    "           fpr[i],\n",
    "           tpr[i],\n",
    "           color=color,\n",
    "           lw=lw,\n",
    "        label=\"ROC curve of class {0} (area = {1:0.2f})\".format(i, roc_auc[i]),\n",
    "    )\n",
    "\n",
    "    plt.plot([0, 1], [0, 1], \"k--\", lw=lw)\n",
    "    plt.xlim([0.0, 1.0])\n",
    "    plt.ylim([0.0, 1.05])\n",
    "    plt.xlabel(\"False Positive Rate\")\n",
    "    plt.ylabel(\"True Positive Rate\")\n",
    "    plt.title(\"AUC SimpleRnn\")\n",
    "    plt.legend(loc=\"lower right\")\n",
    "    plt.show()"
   ]
  },
  {
   "cell_type": "code",
   "execution_count": 22,
   "id": "bdb39fdb",
   "metadata": {
    "execution": {
     "iopub.execute_input": "2023-02-28T14:29:17.606976Z",
     "iopub.status.busy": "2023-02-28T14:29:17.606583Z",
     "iopub.status.idle": "2023-02-28T14:29:17.615932Z",
     "shell.execute_reply": "2023-02-28T14:29:17.614814Z"
    },
    "papermill": {
     "duration": 0.245976,
     "end_time": "2023-02-28T14:29:17.618113",
     "exception": false,
     "start_time": "2023-02-28T14:29:17.372137",
     "status": "completed"
    },
    "tags": []
   },
   "outputs": [],
   "source": [
    "def plot_confusion_matrix(cm, classes,\n",
    "                          normalize=False,\n",
    "                          title='Confusion matrix',\n",
    "                          cmap=plt.cm.Blues):\n",
    "    \"\"\"\n",
    "    Prints and plots the confusion matrix.\n",
    "    \"\"\"\n",
    "    if normalize:\n",
    "        cm = cm.astype('float') / cm.sum(axis=1)[:, np.newaxis]\n",
    "        print(\"Normalized confusion matrix\")\n",
    "    else:\n",
    "        print('Confusion matrix, without normalization')\n",
    "\n",
    "    plt.imshow(cm, interpolation='nearest', cmap=cmap)\n",
    "    plt.title(title)\n",
    "    plt.colorbar()\n",
    "    tick_marks = np.arange(len(classes))\n",
    "    plt.xticks(tick_marks, classes, rotation=45)\n",
    "    plt.yticks(tick_marks, classes)\n",
    "\n",
    "    fmt = '.2f' if normalize else 'd'\n",
    "    thresh = cm.max() / 2.\n",
    "    for i, j in itertools.product(range(cm.shape[0]), range(cm.shape[1])):\n",
    "        plt.text(j, i, format(cm[i, j], fmt),\n",
    "                 horizontalalignment=\"center\",\n",
    "                 color=\"white\" if cm[i, j] > thresh else \"black\")\n",
    "\n",
    "    plt.tight_layout()\n",
    "    plt.ylabel('True label')\n",
    "    plt.xlabel('Predicted label')"
   ]
  },
  {
   "cell_type": "code",
   "execution_count": 23,
   "id": "7240bb34",
   "metadata": {
    "execution": {
     "iopub.execute_input": "2023-02-28T14:29:18.130644Z",
     "iopub.status.busy": "2023-02-28T14:29:18.129341Z",
     "iopub.status.idle": "2023-02-28T14:29:28.432686Z",
     "shell.execute_reply": "2023-02-28T14:29:28.431448Z"
    },
    "papermill": {
     "duration": 10.540982,
     "end_time": "2023-02-28T14:29:28.435056",
     "exception": false,
     "start_time": "2023-02-28T14:29:17.894074",
     "status": "completed"
    },
    "tags": []
   },
   "outputs": [
    {
     "name": "stdout",
     "output_type": "stream",
     "text": [
      "1932/1932 [==============================] - 8s 4ms/step - loss: 0.0294 - accuracy: 0.9888\n",
      "Test results - Loss: 0.029359180480241776 - Accuracy: 98.88060092926025%\n"
     ]
    }
   ],
   "source": [
    "# predicting target attribute on testing dataset\n",
    "test_results = model.evaluate(X_test, y_test, verbose=1)\n",
    "print(f'Test results - Loss: {test_results[0]} - Accuracy: {test_results[1]*100}%')"
   ]
  },
  {
   "cell_type": "code",
   "execution_count": 24,
   "id": "c0cb380e",
   "metadata": {
    "execution": {
     "iopub.execute_input": "2023-02-28T14:29:28.920424Z",
     "iopub.status.busy": "2023-02-28T14:29:28.919392Z",
     "iopub.status.idle": "2023-02-28T14:29:29.124993Z",
     "shell.execute_reply": "2023-02-28T14:29:29.123781Z"
    },
    "papermill": {
     "duration": 0.451396,
     "end_time": "2023-02-28T14:29:29.128162",
     "exception": false,
     "start_time": "2023-02-28T14:29:28.676766",
     "status": "completed"
    },
    "tags": []
   },
   "outputs": [
    {
     "name": "stdout",
     "output_type": "stream",
     "text": [
      "AUC Score is on Test :  {0: 0.9908640234156646, 1: 0.9439209454118332, 2: 0.9297811017819892, 3: 0.9632820915512148, 4: 0.9977302256465931}\n"
     ]
    }
   ],
   "source": [
    "print('AUC Score is on Test : ' , AUC(y_test_argmax, y_pred_argmax_test))"
   ]
  },
  {
   "cell_type": "code",
   "execution_count": 25,
   "id": "9308b698",
   "metadata": {
    "execution": {
     "iopub.execute_input": "2023-02-28T14:29:29.619090Z",
     "iopub.status.busy": "2023-02-28T14:29:29.618721Z",
     "iopub.status.idle": "2023-02-28T14:29:29.678653Z",
     "shell.execute_reply": "2023-02-28T14:29:29.677403Z"
    },
    "papermill": {
     "duration": 0.30713,
     "end_time": "2023-02-28T14:29:29.681898",
     "exception": false,
     "start_time": "2023-02-28T14:29:29.374768",
     "status": "completed"
    },
    "tags": []
   },
   "outputs": [
    {
     "name": "stdout",
     "output_type": "stream",
     "text": [
      "Classification Report on Data Test \n",
      "               precision    recall  f1-score   support\n",
      "\n",
      "      Normal       1.00      1.00      1.00     56078\n",
      "    Grayhole       0.88      0.89      0.89      2421\n",
      "   Blackhole       0.85      0.86      0.86      1622\n",
      "        TDMA       1.00      0.93      0.96      1131\n",
      "    Flooding       0.90      1.00      0.95       567\n",
      "\n",
      "    accuracy                           0.99     61819\n",
      "   macro avg       0.93      0.94      0.93     61819\n",
      "weighted avg       0.99      0.99      0.99     61819\n",
      "\n"
     ]
    }
   ],
   "source": [
    "from sklearn.metrics import classification_report\n",
    "\n",
    "target = ['Normal','Grayhole','Blackhole','TDMA','Flooding']\n",
    "\n",
    "print(\"Classification Report on Data Test \\n\" , classification_report(y_test_argmax, y_pred_argmax_test, target_names=target))"
   ]
  },
  {
   "cell_type": "code",
   "execution_count": 26,
   "id": "43ce3f61",
   "metadata": {
    "execution": {
     "iopub.execute_input": "2023-02-28T14:29:30.217877Z",
     "iopub.status.busy": "2023-02-28T14:29:30.217507Z",
     "iopub.status.idle": "2023-02-28T14:29:30.476503Z",
     "shell.execute_reply": "2023-02-28T14:29:30.475335Z"
    },
    "papermill": {
     "duration": 0.505881,
     "end_time": "2023-02-28T14:29:30.478806",
     "exception": false,
     "start_time": "2023-02-28T14:29:29.972925",
     "status": "completed"
    },
    "tags": []
   },
   "outputs": [
    {
     "data": {
      "image/png": "[encoded data removed]",
      "text/plain": [
       "<Figure size 640x480 with 1 Axes>"
      ]
     },
     "metadata": {},
     "output_type": "display_data"
    }
   ],
   "source": [
    "# Plot of accuracy vs epoch for train and test dataset\n",
    "plt.plot(history.history['accuracy'])\n",
    "plt.plot(history.history['val_accuracy'])\n",
    "plt.title(\" SimpleRnn Accuracy  \")\n",
    "plt.ylabel('accuracy')\n",
    "plt.xlabel('epoch')\n",
    "plt.legend(['train', 'val'], loc='upper right')\n",
    "plt.show()"
   ]
  },
  {
   "cell_type": "code",
   "execution_count": 27,
   "id": "286dbf7e",
   "metadata": {
    "execution": {
     "iopub.execute_input": "2023-02-28T14:29:30.969641Z",
     "iopub.status.busy": "2023-02-28T14:29:30.968913Z",
     "iopub.status.idle": "2023-02-28T14:29:31.200649Z",
     "shell.execute_reply": "2023-02-28T14:29:31.199395Z"
    },
    "papermill": {
     "duration": 0.479275,
     "end_time": "2023-02-28T14:29:31.203210",
     "exception": false,
     "start_time": "2023-02-28T14:29:30.723935",
     "status": "completed"
    },
    "tags": []
   },
   "outputs": [
    {
     "data": {
      "image/png": "[encoded data removed]",
      "text/plain": [
       "<Figure size 640x480 with 1 Axes>"
      ]
     },
     "metadata": {},
     "output_type": "display_data"
    }
   ],
   "source": [
    "# Plot of loss vs epoch for train and test dataset\n",
    "plt.plot(history.history['loss'])\n",
    "plt.plot(history.history['val_loss'])\n",
    "plt.title(\"SimpleRnn Loss\")\n",
    "plt.ylabel('loss')\n",
    "plt.xlabel('epoch')\n",
    "plt.legend(['train', 'val'], loc='upper right')\n",
    "plt.show()"
   ]
  },
  {
   "cell_type": "code",
   "execution_count": 28,
   "id": "92bc0de4",
   "metadata": {
    "execution": {
     "iopub.execute_input": "2023-02-28T14:29:31.695558Z",
     "iopub.status.busy": "2023-02-28T14:29:31.695176Z",
     "iopub.status.idle": "2023-02-28T14:29:32.039358Z",
     "shell.execute_reply": "2023-02-28T14:29:32.038333Z"
    },
    "papermill": {
     "duration": 0.592079,
     "end_time": "2023-02-28T14:29:32.041704",
     "exception": false,
     "start_time": "2023-02-28T14:29:31.449625",
     "status": "completed"
    },
    "tags": []
   },
   "outputs": [
    {
     "name": "stdout",
     "output_type": "stream",
     "text": [
      "Confusion matrix, without normalization\n"
     ]
    },
    {
     "data": {
      "image/png": "[encoded data removed]",
      "text/plain": [
       "<Figure size 700x700 with 2 Axes>"
      ]
     },
     "metadata": {},
     "output_type": "display_data"
    }
   ],
   "source": [
    "# Compute confusion matrix\n",
    "from sklearn.metrics import confusion_matrix\n",
    "\n",
    "cnf_matrix = confusion_matrix(y_test_argmax, y_pred_argmax_test)\n",
    "\n",
    "# Plot non-normalized confusion matrix\n",
    "plt.figure(figsize=(7, 7))\n",
    "plot_confusion_matrix(cnf_matrix, classes=target,\n",
    "                      title='Confusion matrix SimpleRnn')\n",
    "plt.show()"
   ]
  },
  {
   "cell_type": "code",
   "execution_count": 29,
   "id": "04656851",
   "metadata": {
    "execution": {
     "iopub.execute_input": "2023-02-28T14:29:32.597087Z",
     "iopub.status.busy": "2023-02-28T14:29:32.596718Z",
     "iopub.status.idle": "2023-02-28T14:29:32.933479Z",
     "shell.execute_reply": "2023-02-28T14:29:32.932426Z"
    },
    "papermill": {
     "duration": 0.590354,
     "end_time": "2023-02-28T14:29:32.935856",
     "exception": false,
     "start_time": "2023-02-28T14:29:32.345502",
     "status": "completed"
    },
    "tags": []
   },
   "outputs": [
    {
     "data": {
      "image/png": "[encoded data removed]",
      "text/plain": [
       "<Figure size 1000x1000 with 1 Axes>"
      ]
     },
     "metadata": {},
     "output_type": "display_data"
    }
   ],
   "source": [
    "plot_roc_curve(y_test,y_pred_evaluation_test)"
   ]
  },
  {
   "cell_type": "code",
   "execution_count": 30,
   "id": "34a65f4e",
   "metadata": {
    "execution": {
     "iopub.execute_input": "2023-02-28T14:29:33.429446Z",
     "iopub.status.busy": "2023-02-28T14:29:33.428672Z",
     "iopub.status.idle": "2023-02-28T14:29:33.455945Z",
     "shell.execute_reply": "2023-02-28T14:29:33.454952Z"
    },
    "papermill": {
     "duration": 0.278194,
     "end_time": "2023-02-28T14:29:33.458126",
     "exception": false,
     "start_time": "2023-02-28T14:29:33.179932",
     "status": "completed"
    },
    "tags": []
   },
   "outputs": [],
   "source": [
    "model.save_weights(\"simple_rnn_weights.h5\")"
   ]
  },
  {
   "cell_type": "code",
   "execution_count": 31,
   "id": "6e39c174",
   "metadata": {
    "execution": {
     "iopub.execute_input": "2023-02-28T14:29:34.018502Z",
     "iopub.status.busy": "2023-02-28T14:29:34.017460Z",
     "iopub.status.idle": "2023-02-28T14:29:34.060004Z",
     "shell.execute_reply": "2023-02-28T14:29:34.058953Z"
    },
    "papermill": {
     "duration": 0.358975,
     "end_time": "2023-02-28T14:29:34.062527",
     "exception": false,
     "start_time": "2023-02-28T14:29:33.703552",
     "status": "completed"
    },
    "tags": []
   },
   "outputs": [],
   "source": [
    "model.save(\"simple_rnnmodel.h5\")"
   ]
  }
 ],
 "metadata": {
  "kernelspec": {
   "display_name": "Python 3",
   "language": "python",
   "name": "python3"
  },
  "language_info": {
   "codemirror_mode": {
    "name": "ipython",
    "version": 3
   },
   "file_extension": ".py",
   "mimetype": "text/x-python",
   "name": "python",
   "nbconvert_exporter": "python",
   "pygments_lexer": "ipython3",
   "version": "3.7.12"
  },
  "papermill": {
   "default_parameters": {},
   "duration": 309.094457,
   "end_time": "2023-02-28T14:29:37.342363",
   "environment_variables": {},
   "exception": null,
   "input_path": "__notebook__.ipynb",
   "output_path": "__notebook__.ipynb",
   "parameters": {},
   "start_time": "2023-02-28T14:24:28.247906",
   "version": "2.4.0"
  }
 },
 "nbformat": 4,
 "nbformat_minor": 5
}
